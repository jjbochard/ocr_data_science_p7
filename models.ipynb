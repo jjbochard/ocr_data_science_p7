{
 "cells": [
  {
   "cell_type": "code",
   "execution_count": null,
   "id": "9b611872",
   "metadata": {},
   "outputs": [],
   "source": [
    "import pandas as pd\n",
    "import numpy as np\n",
    "from sklearn.preprocessing import OrdinalEncoder\n",
    "from sklearn.impute import SimpleImputer\n",
    "from sklearn.preprocessing import MinMaxScaler\n",
    "import mlflow\n",
    "from sklearn.pipeline import Pipeline\n",
    "from sklearn.compose import ColumnTransformer\n",
    "from sklearn.preprocessing import OneHotEncoder\n",
    "from sklearn.model_selection import train_test_split\n",
    "from typing import List, Tuple, Any, Dict\n",
    "from enum import Enum\n",
    "from sklearn.base import BaseEstimator, TransformerMixin\n",
    "import matplotlib.pyplot as plt\n",
    "import seaborn as sns\n",
    "import os\n",
    "from sklearn.model_selection import (\n",
    "    StratifiedKFold,\n",
    ")\n",
    "\n",
    "from mlflow.models.signature import infer_signature\n",
    "from sklearn.ensemble import RandomForestClassifier\n",
    "from sklearn.linear_model import LogisticRegression\n",
    "from sklearn.metrics import (\n",
    "    accuracy_score,\n",
    "    precision_score,\n",
    "    recall_score,\n",
    "    f1_score,\n",
    "    roc_auc_score,\n",
    "    confusion_matrix,\n",
    "    balanced_accuracy_score,\n",
    ")\n",
    "from sklearn.preprocessing import PolynomialFeatures\n",
    "\n",
    "from sklearn.metrics import classification_report\n",
    "from functools import partial\n",
    "import optuna\n",
    "import lightgbm as lgb\n",
    "\n",
    "HOST = \"127.0.0.1\"\n",
    "PORT = \"8080\"\n",
    "mlflow.set_tracking_uri(uri=f\"http://{HOST}:{PORT}\")\n"
   ]
  },
  {
   "cell_type": "markdown",
   "id": "579338fd",
   "metadata": {
    "editable": true,
    "slideshow": {
     "slide_type": ""
    },
    "tags": []
   },
   "source": [
    "## Import données"
   ]
  },
  {
   "cell_type": "code",
   "execution_count": 14,
   "id": "ec19d2c2",
   "metadata": {},
   "outputs": [
    {
     "name": "stdout",
     "output_type": "stream",
     "text": [
      "(307511, 122)\n"
     ]
    },
    {
     "data": {
      "application/vnd.microsoft.datawrangler.viewer.v0+json": {
       "columns": [
        {
         "name": "index",
         "rawType": "int64",
         "type": "integer"
        },
        {
         "name": "SK_ID_CURR",
         "rawType": "int64",
         "type": "integer"
        },
        {
         "name": "TARGET",
         "rawType": "int64",
         "type": "integer"
        },
        {
         "name": "NAME_CONTRACT_TYPE",
         "rawType": "object",
         "type": "string"
        },
        {
         "name": "CODE_GENDER",
         "rawType": "object",
         "type": "string"
        },
        {
         "name": "FLAG_OWN_CAR",
         "rawType": "object",
         "type": "string"
        },
        {
         "name": "FLAG_OWN_REALTY",
         "rawType": "object",
         "type": "string"
        },
        {
         "name": "CNT_CHILDREN",
         "rawType": "int64",
         "type": "integer"
        },
        {
         "name": "AMT_INCOME_TOTAL",
         "rawType": "float64",
         "type": "float"
        },
        {
         "name": "AMT_CREDIT",
         "rawType": "float64",
         "type": "float"
        },
        {
         "name": "AMT_ANNUITY",
         "rawType": "float64",
         "type": "float"
        },
        {
         "name": "AMT_GOODS_PRICE",
         "rawType": "float64",
         "type": "float"
        },
        {
         "name": "NAME_TYPE_SUITE",
         "rawType": "object",
         "type": "string"
        },
        {
         "name": "NAME_INCOME_TYPE",
         "rawType": "object",
         "type": "string"
        },
        {
         "name": "NAME_EDUCATION_TYPE",
         "rawType": "object",
         "type": "string"
        },
        {
         "name": "NAME_FAMILY_STATUS",
         "rawType": "object",
         "type": "string"
        },
        {
         "name": "NAME_HOUSING_TYPE",
         "rawType": "object",
         "type": "string"
        },
        {
         "name": "REGION_POPULATION_RELATIVE",
         "rawType": "float64",
         "type": "float"
        },
        {
         "name": "DAYS_BIRTH",
         "rawType": "int64",
         "type": "integer"
        },
        {
         "name": "DAYS_EMPLOYED",
         "rawType": "int64",
         "type": "integer"
        },
        {
         "name": "DAYS_REGISTRATION",
         "rawType": "float64",
         "type": "float"
        },
        {
         "name": "DAYS_ID_PUBLISH",
         "rawType": "int64",
         "type": "integer"
        },
        {
         "name": "OWN_CAR_AGE",
         "rawType": "float64",
         "type": "float"
        },
        {
         "name": "FLAG_MOBIL",
         "rawType": "int64",
         "type": "integer"
        },
        {
         "name": "FLAG_EMP_PHONE",
         "rawType": "int64",
         "type": "integer"
        },
        {
         "name": "FLAG_WORK_PHONE",
         "rawType": "int64",
         "type": "integer"
        },
        {
         "name": "FLAG_CONT_MOBILE",
         "rawType": "int64",
         "type": "integer"
        },
        {
         "name": "FLAG_PHONE",
         "rawType": "int64",
         "type": "integer"
        },
        {
         "name": "FLAG_EMAIL",
         "rawType": "int64",
         "type": "integer"
        },
        {
         "name": "OCCUPATION_TYPE",
         "rawType": "object",
         "type": "string"
        },
        {
         "name": "CNT_FAM_MEMBERS",
         "rawType": "float64",
         "type": "float"
        },
        {
         "name": "REGION_RATING_CLIENT",
         "rawType": "int64",
         "type": "integer"
        },
        {
         "name": "REGION_RATING_CLIENT_W_CITY",
         "rawType": "int64",
         "type": "integer"
        },
        {
         "name": "WEEKDAY_APPR_PROCESS_START",
         "rawType": "object",
         "type": "string"
        },
        {
         "name": "HOUR_APPR_PROCESS_START",
         "rawType": "int64",
         "type": "integer"
        },
        {
         "name": "REG_REGION_NOT_LIVE_REGION",
         "rawType": "int64",
         "type": "integer"
        },
        {
         "name": "REG_REGION_NOT_WORK_REGION",
         "rawType": "int64",
         "type": "integer"
        },
        {
         "name": "LIVE_REGION_NOT_WORK_REGION",
         "rawType": "int64",
         "type": "integer"
        },
        {
         "name": "REG_CITY_NOT_LIVE_CITY",
         "rawType": "int64",
         "type": "integer"
        },
        {
         "name": "REG_CITY_NOT_WORK_CITY",
         "rawType": "int64",
         "type": "integer"
        },
        {
         "name": "LIVE_CITY_NOT_WORK_CITY",
         "rawType": "int64",
         "type": "integer"
        },
        {
         "name": "ORGANIZATION_TYPE",
         "rawType": "object",
         "type": "string"
        },
        {
         "name": "EXT_SOURCE_1",
         "rawType": "float64",
         "type": "float"
        },
        {
         "name": "EXT_SOURCE_2",
         "rawType": "float64",
         "type": "float"
        },
        {
         "name": "EXT_SOURCE_3",
         "rawType": "float64",
         "type": "float"
        },
        {
         "name": "APARTMENTS_AVG",
         "rawType": "float64",
         "type": "float"
        },
        {
         "name": "BASEMENTAREA_AVG",
         "rawType": "float64",
         "type": "float"
        },
        {
         "name": "YEARS_BEGINEXPLUATATION_AVG",
         "rawType": "float64",
         "type": "float"
        },
        {
         "name": "YEARS_BUILD_AVG",
         "rawType": "float64",
         "type": "float"
        },
        {
         "name": "COMMONAREA_AVG",
         "rawType": "float64",
         "type": "float"
        },
        {
         "name": "ELEVATORS_AVG",
         "rawType": "float64",
         "type": "float"
        },
        {
         "name": "ENTRANCES_AVG",
         "rawType": "float64",
         "type": "float"
        },
        {
         "name": "FLOORSMAX_AVG",
         "rawType": "float64",
         "type": "float"
        },
        {
         "name": "FLOORSMIN_AVG",
         "rawType": "float64",
         "type": "float"
        },
        {
         "name": "LANDAREA_AVG",
         "rawType": "float64",
         "type": "float"
        },
        {
         "name": "LIVINGAPARTMENTS_AVG",
         "rawType": "float64",
         "type": "float"
        },
        {
         "name": "LIVINGAREA_AVG",
         "rawType": "float64",
         "type": "float"
        },
        {
         "name": "NONLIVINGAPARTMENTS_AVG",
         "rawType": "float64",
         "type": "float"
        },
        {
         "name": "NONLIVINGAREA_AVG",
         "rawType": "float64",
         "type": "float"
        },
        {
         "name": "APARTMENTS_MODE",
         "rawType": "float64",
         "type": "float"
        },
        {
         "name": "BASEMENTAREA_MODE",
         "rawType": "float64",
         "type": "float"
        },
        {
         "name": "YEARS_BEGINEXPLUATATION_MODE",
         "rawType": "float64",
         "type": "float"
        },
        {
         "name": "YEARS_BUILD_MODE",
         "rawType": "float64",
         "type": "float"
        },
        {
         "name": "COMMONAREA_MODE",
         "rawType": "float64",
         "type": "float"
        },
        {
         "name": "ELEVATORS_MODE",
         "rawType": "float64",
         "type": "float"
        },
        {
         "name": "ENTRANCES_MODE",
         "rawType": "float64",
         "type": "float"
        },
        {
         "name": "FLOORSMAX_MODE",
         "rawType": "float64",
         "type": "float"
        },
        {
         "name": "FLOORSMIN_MODE",
         "rawType": "float64",
         "type": "float"
        },
        {
         "name": "LANDAREA_MODE",
         "rawType": "float64",
         "type": "float"
        },
        {
         "name": "LIVINGAPARTMENTS_MODE",
         "rawType": "float64",
         "type": "float"
        },
        {
         "name": "LIVINGAREA_MODE",
         "rawType": "float64",
         "type": "float"
        },
        {
         "name": "NONLIVINGAPARTMENTS_MODE",
         "rawType": "float64",
         "type": "float"
        },
        {
         "name": "NONLIVINGAREA_MODE",
         "rawType": "float64",
         "type": "float"
        },
        {
         "name": "APARTMENTS_MEDI",
         "rawType": "float64",
         "type": "float"
        },
        {
         "name": "BASEMENTAREA_MEDI",
         "rawType": "float64",
         "type": "float"
        },
        {
         "name": "YEARS_BEGINEXPLUATATION_MEDI",
         "rawType": "float64",
         "type": "float"
        },
        {
         "name": "YEARS_BUILD_MEDI",
         "rawType": "float64",
         "type": "float"
        },
        {
         "name": "COMMONAREA_MEDI",
         "rawType": "float64",
         "type": "float"
        },
        {
         "name": "ELEVATORS_MEDI",
         "rawType": "float64",
         "type": "float"
        },
        {
         "name": "ENTRANCES_MEDI",
         "rawType": "float64",
         "type": "float"
        },
        {
         "name": "FLOORSMAX_MEDI",
         "rawType": "float64",
         "type": "float"
        },
        {
         "name": "FLOORSMIN_MEDI",
         "rawType": "float64",
         "type": "float"
        },
        {
         "name": "LANDAREA_MEDI",
         "rawType": "float64",
         "type": "float"
        },
        {
         "name": "LIVINGAPARTMENTS_MEDI",
         "rawType": "float64",
         "type": "float"
        },
        {
         "name": "LIVINGAREA_MEDI",
         "rawType": "float64",
         "type": "float"
        },
        {
         "name": "NONLIVINGAPARTMENTS_MEDI",
         "rawType": "float64",
         "type": "float"
        },
        {
         "name": "NONLIVINGAREA_MEDI",
         "rawType": "float64",
         "type": "float"
        },
        {
         "name": "FONDKAPREMONT_MODE",
         "rawType": "object",
         "type": "unknown"
        },
        {
         "name": "HOUSETYPE_MODE",
         "rawType": "object",
         "type": "unknown"
        },
        {
         "name": "TOTALAREA_MODE",
         "rawType": "float64",
         "type": "float"
        },
        {
         "name": "WALLSMATERIAL_MODE",
         "rawType": "object",
         "type": "unknown"
        },
        {
         "name": "EMERGENCYSTATE_MODE",
         "rawType": "object",
         "type": "unknown"
        },
        {
         "name": "OBS_30_CNT_SOCIAL_CIRCLE",
         "rawType": "float64",
         "type": "float"
        },
        {
         "name": "DEF_30_CNT_SOCIAL_CIRCLE",
         "rawType": "float64",
         "type": "float"
        },
        {
         "name": "OBS_60_CNT_SOCIAL_CIRCLE",
         "rawType": "float64",
         "type": "float"
        },
        {
         "name": "DEF_60_CNT_SOCIAL_CIRCLE",
         "rawType": "float64",
         "type": "float"
        },
        {
         "name": "DAYS_LAST_PHONE_CHANGE",
         "rawType": "float64",
         "type": "float"
        },
        {
         "name": "FLAG_DOCUMENT_2",
         "rawType": "int64",
         "type": "integer"
        },
        {
         "name": "FLAG_DOCUMENT_3",
         "rawType": "int64",
         "type": "integer"
        },
        {
         "name": "FLAG_DOCUMENT_4",
         "rawType": "int64",
         "type": "integer"
        },
        {
         "name": "FLAG_DOCUMENT_5",
         "rawType": "int64",
         "type": "integer"
        },
        {
         "name": "FLAG_DOCUMENT_6",
         "rawType": "int64",
         "type": "integer"
        },
        {
         "name": "FLAG_DOCUMENT_7",
         "rawType": "int64",
         "type": "integer"
        },
        {
         "name": "FLAG_DOCUMENT_8",
         "rawType": "int64",
         "type": "integer"
        },
        {
         "name": "FLAG_DOCUMENT_9",
         "rawType": "int64",
         "type": "integer"
        },
        {
         "name": "FLAG_DOCUMENT_10",
         "rawType": "int64",
         "type": "integer"
        },
        {
         "name": "FLAG_DOCUMENT_11",
         "rawType": "int64",
         "type": "integer"
        },
        {
         "name": "FLAG_DOCUMENT_12",
         "rawType": "int64",
         "type": "integer"
        },
        {
         "name": "FLAG_DOCUMENT_13",
         "rawType": "int64",
         "type": "integer"
        },
        {
         "name": "FLAG_DOCUMENT_14",
         "rawType": "int64",
         "type": "integer"
        },
        {
         "name": "FLAG_DOCUMENT_15",
         "rawType": "int64",
         "type": "integer"
        },
        {
         "name": "FLAG_DOCUMENT_16",
         "rawType": "int64",
         "type": "integer"
        },
        {
         "name": "FLAG_DOCUMENT_17",
         "rawType": "int64",
         "type": "integer"
        },
        {
         "name": "FLAG_DOCUMENT_18",
         "rawType": "int64",
         "type": "integer"
        },
        {
         "name": "FLAG_DOCUMENT_19",
         "rawType": "int64",
         "type": "integer"
        },
        {
         "name": "FLAG_DOCUMENT_20",
         "rawType": "int64",
         "type": "integer"
        },
        {
         "name": "FLAG_DOCUMENT_21",
         "rawType": "int64",
         "type": "integer"
        },
        {
         "name": "AMT_REQ_CREDIT_BUREAU_HOUR",
         "rawType": "float64",
         "type": "float"
        },
        {
         "name": "AMT_REQ_CREDIT_BUREAU_DAY",
         "rawType": "float64",
         "type": "float"
        },
        {
         "name": "AMT_REQ_CREDIT_BUREAU_WEEK",
         "rawType": "float64",
         "type": "float"
        },
        {
         "name": "AMT_REQ_CREDIT_BUREAU_MON",
         "rawType": "float64",
         "type": "float"
        },
        {
         "name": "AMT_REQ_CREDIT_BUREAU_QRT",
         "rawType": "float64",
         "type": "float"
        },
        {
         "name": "AMT_REQ_CREDIT_BUREAU_YEAR",
         "rawType": "float64",
         "type": "float"
        }
       ],
       "conversionMethod": "pd.DataFrame",
       "ref": "115420af-2ee4-4359-84a0-a36a40c68fc4",
       "rows": [
        [
         "0",
         "100002",
         "1",
         "Cash loans",
         "M",
         "N",
         "Y",
         "0",
         "202500.0",
         "406597.5",
         "24700.5",
         "351000.0",
         "Unaccompanied",
         "Working",
         "Secondary / secondary special",
         "Single / not married",
         "House / apartment",
         "0.018801",
         "-9461",
         "-637",
         "-3648.0",
         "-2120",
         null,
         "1",
         "1",
         "0",
         "1",
         "1",
         "0",
         "Laborers",
         "1.0",
         "2",
         "2",
         "WEDNESDAY",
         "10",
         "0",
         "0",
         "0",
         "0",
         "0",
         "0",
         "Business Entity Type 3",
         "0.0830369673913225",
         "0.2629485927471776",
         "0.1393757800997895",
         "0.0247",
         "0.0369",
         "0.9722",
         "0.6192",
         "0.0143",
         "0.0",
         "0.069",
         "0.0833",
         "0.125",
         "0.0369",
         "0.0202",
         "0.019",
         "0.0",
         "0.0",
         "0.0252",
         "0.0383",
         "0.9722",
         "0.6341",
         "0.0144",
         "0.0",
         "0.069",
         "0.0833",
         "0.125",
         "0.0377",
         "0.022",
         "0.0198",
         "0.0",
         "0.0",
         "0.025",
         "0.0369",
         "0.9722",
         "0.6243",
         "0.0144",
         "0.0",
         "0.069",
         "0.0833",
         "0.125",
         "0.0375",
         "0.0205",
         "0.0193",
         "0.0",
         "0.0",
         "reg oper account",
         "block of flats",
         "0.0149",
         "Stone, brick",
         "No",
         "2.0",
         "2.0",
         "2.0",
         "2.0",
         "-1134.0",
         "0",
         "1",
         "0",
         "0",
         "0",
         "0",
         "0",
         "0",
         "0",
         "0",
         "0",
         "0",
         "0",
         "0",
         "0",
         "0",
         "0",
         "0",
         "0",
         "0",
         "0.0",
         "0.0",
         "0.0",
         "0.0",
         "0.0",
         "1.0"
        ],
        [
         "1",
         "100003",
         "0",
         "Cash loans",
         "F",
         "N",
         "N",
         "0",
         "270000.0",
         "1293502.5",
         "35698.5",
         "1129500.0",
         "Family",
         "State servant",
         "Higher education",
         "Married",
         "House / apartment",
         "0.0035409999999999",
         "-16765",
         "-1188",
         "-1186.0",
         "-291",
         null,
         "1",
         "1",
         "0",
         "1",
         "1",
         "0",
         "Core staff",
         "2.0",
         "1",
         "1",
         "MONDAY",
         "11",
         "0",
         "0",
         "0",
         "0",
         "0",
         "0",
         "School",
         "0.3112673113812225",
         "0.6222457752555098",
         null,
         "0.0959",
         "0.0529",
         "0.9851",
         "0.7959999999999999",
         "0.0605",
         "0.08",
         "0.0345",
         "0.2917",
         "0.3333",
         "0.013",
         "0.0773",
         "0.0549",
         "0.0039",
         "0.0098",
         "0.0924",
         "0.0538",
         "0.9851",
         "0.804",
         "0.0497",
         "0.0806",
         "0.0345",
         "0.2917",
         "0.3333",
         "0.0128",
         "0.079",
         "0.0554",
         "0.0",
         "0.0",
         "0.0968",
         "0.0529",
         "0.9851",
         "0.7987",
         "0.0608",
         "0.08",
         "0.0345",
         "0.2917",
         "0.3333",
         "0.0132",
         "0.0787",
         "0.0558",
         "0.0039",
         "0.01",
         "reg oper account",
         "block of flats",
         "0.0714",
         "Block",
         "No",
         "1.0",
         "0.0",
         "1.0",
         "0.0",
         "-828.0",
         "0",
         "1",
         "0",
         "0",
         "0",
         "0",
         "0",
         "0",
         "0",
         "0",
         "0",
         "0",
         "0",
         "0",
         "0",
         "0",
         "0",
         "0",
         "0",
         "0",
         "0.0",
         "0.0",
         "0.0",
         "0.0",
         "0.0",
         "0.0"
        ],
        [
         "2",
         "100004",
         "0",
         "Revolving loans",
         "M",
         "Y",
         "Y",
         "0",
         "67500.0",
         "135000.0",
         "6750.0",
         "135000.0",
         "Unaccompanied",
         "Working",
         "Secondary / secondary special",
         "Single / not married",
         "House / apartment",
         "0.010032",
         "-19046",
         "-225",
         "-4260.0",
         "-2531",
         "26.0",
         "1",
         "1",
         "1",
         "1",
         "1",
         "0",
         "Laborers",
         "1.0",
         "2",
         "2",
         "MONDAY",
         "9",
         "0",
         "0",
         "0",
         "0",
         "0",
         "0",
         "Government",
         null,
         "0.5559120833904428",
         "0.7295666907060153",
         null,
         null,
         null,
         null,
         null,
         null,
         null,
         null,
         null,
         null,
         null,
         null,
         null,
         null,
         null,
         null,
         null,
         null,
         null,
         null,
         null,
         null,
         null,
         null,
         null,
         null,
         null,
         null,
         null,
         null,
         null,
         null,
         null,
         null,
         null,
         null,
         null,
         null,
         null,
         null,
         null,
         null,
         null,
         null,
         null,
         null,
         null,
         "0.0",
         "0.0",
         "0.0",
         "0.0",
         "-815.0",
         "0",
         "0",
         "0",
         "0",
         "0",
         "0",
         "0",
         "0",
         "0",
         "0",
         "0",
         "0",
         "0",
         "0",
         "0",
         "0",
         "0",
         "0",
         "0",
         "0",
         "0.0",
         "0.0",
         "0.0",
         "0.0",
         "0.0",
         "0.0"
        ],
        [
         "3",
         "100006",
         "0",
         "Cash loans",
         "F",
         "N",
         "Y",
         "0",
         "135000.0",
         "312682.5",
         "29686.5",
         "297000.0",
         "Unaccompanied",
         "Working",
         "Secondary / secondary special",
         "Civil marriage",
         "House / apartment",
         "0.008019",
         "-19005",
         "-3039",
         "-9833.0",
         "-2437",
         null,
         "1",
         "1",
         "0",
         "1",
         "0",
         "0",
         "Laborers",
         "2.0",
         "2",
         "2",
         "WEDNESDAY",
         "17",
         "0",
         "0",
         "0",
         "0",
         "0",
         "0",
         "Business Entity Type 3",
         null,
         "0.6504416904014653",
         null,
         null,
         null,
         null,
         null,
         null,
         null,
         null,
         null,
         null,
         null,
         null,
         null,
         null,
         null,
         null,
         null,
         null,
         null,
         null,
         null,
         null,
         null,
         null,
         null,
         null,
         null,
         null,
         null,
         null,
         null,
         null,
         null,
         null,
         null,
         null,
         null,
         null,
         null,
         null,
         null,
         null,
         null,
         null,
         null,
         null,
         null,
         null,
         "2.0",
         "0.0",
         "2.0",
         "0.0",
         "-617.0",
         "0",
         "1",
         "0",
         "0",
         "0",
         "0",
         "0",
         "0",
         "0",
         "0",
         "0",
         "0",
         "0",
         "0",
         "0",
         "0",
         "0",
         "0",
         "0",
         "0",
         null,
         null,
         null,
         null,
         null,
         null
        ],
        [
         "4",
         "100007",
         "0",
         "Cash loans",
         "M",
         "N",
         "Y",
         "0",
         "121500.0",
         "513000.0",
         "21865.5",
         "513000.0",
         "Unaccompanied",
         "Working",
         "Secondary / secondary special",
         "Single / not married",
         "House / apartment",
         "0.028663",
         "-19932",
         "-3038",
         "-4311.0",
         "-3458",
         null,
         "1",
         "1",
         "0",
         "1",
         "0",
         "0",
         "Core staff",
         "1.0",
         "2",
         "2",
         "THURSDAY",
         "11",
         "0",
         "0",
         "0",
         "0",
         "1",
         "1",
         "Religion",
         null,
         "0.3227382869704046",
         null,
         null,
         null,
         null,
         null,
         null,
         null,
         null,
         null,
         null,
         null,
         null,
         null,
         null,
         null,
         null,
         null,
         null,
         null,
         null,
         null,
         null,
         null,
         null,
         null,
         null,
         null,
         null,
         null,
         null,
         null,
         null,
         null,
         null,
         null,
         null,
         null,
         null,
         null,
         null,
         null,
         null,
         null,
         null,
         null,
         null,
         null,
         null,
         "0.0",
         "0.0",
         "0.0",
         "0.0",
         "-1106.0",
         "0",
         "0",
         "0",
         "0",
         "0",
         "0",
         "1",
         "0",
         "0",
         "0",
         "0",
         "0",
         "0",
         "0",
         "0",
         "0",
         "0",
         "0",
         "0",
         "0",
         "0.0",
         "0.0",
         "0.0",
         "0.0",
         "0.0",
         "0.0"
        ]
       ],
       "shape": {
        "columns": 122,
        "rows": 5
       }
      },
      "text/html": [
       "<div>\n",
       "<style scoped>\n",
       "    .dataframe tbody tr th:only-of-type {\n",
       "        vertical-align: middle;\n",
       "    }\n",
       "\n",
       "    .dataframe tbody tr th {\n",
       "        vertical-align: top;\n",
       "    }\n",
       "\n",
       "    .dataframe thead th {\n",
       "        text-align: right;\n",
       "    }\n",
       "</style>\n",
       "<table border=\"1\" class=\"dataframe\">\n",
       "  <thead>\n",
       "    <tr style=\"text-align: right;\">\n",
       "      <th></th>\n",
       "      <th>SK_ID_CURR</th>\n",
       "      <th>TARGET</th>\n",
       "      <th>NAME_CONTRACT_TYPE</th>\n",
       "      <th>CODE_GENDER</th>\n",
       "      <th>FLAG_OWN_CAR</th>\n",
       "      <th>FLAG_OWN_REALTY</th>\n",
       "      <th>CNT_CHILDREN</th>\n",
       "      <th>AMT_INCOME_TOTAL</th>\n",
       "      <th>AMT_CREDIT</th>\n",
       "      <th>AMT_ANNUITY</th>\n",
       "      <th>...</th>\n",
       "      <th>FLAG_DOCUMENT_18</th>\n",
       "      <th>FLAG_DOCUMENT_19</th>\n",
       "      <th>FLAG_DOCUMENT_20</th>\n",
       "      <th>FLAG_DOCUMENT_21</th>\n",
       "      <th>AMT_REQ_CREDIT_BUREAU_HOUR</th>\n",
       "      <th>AMT_REQ_CREDIT_BUREAU_DAY</th>\n",
       "      <th>AMT_REQ_CREDIT_BUREAU_WEEK</th>\n",
       "      <th>AMT_REQ_CREDIT_BUREAU_MON</th>\n",
       "      <th>AMT_REQ_CREDIT_BUREAU_QRT</th>\n",
       "      <th>AMT_REQ_CREDIT_BUREAU_YEAR</th>\n",
       "    </tr>\n",
       "  </thead>\n",
       "  <tbody>\n",
       "    <tr>\n",
       "      <th>0</th>\n",
       "      <td>100002</td>\n",
       "      <td>1</td>\n",
       "      <td>Cash loans</td>\n",
       "      <td>M</td>\n",
       "      <td>N</td>\n",
       "      <td>Y</td>\n",
       "      <td>0</td>\n",
       "      <td>202500.0</td>\n",
       "      <td>406597.5</td>\n",
       "      <td>24700.5</td>\n",
       "      <td>...</td>\n",
       "      <td>0</td>\n",
       "      <td>0</td>\n",
       "      <td>0</td>\n",
       "      <td>0</td>\n",
       "      <td>0.0</td>\n",
       "      <td>0.0</td>\n",
       "      <td>0.0</td>\n",
       "      <td>0.0</td>\n",
       "      <td>0.0</td>\n",
       "      <td>1.0</td>\n",
       "    </tr>\n",
       "    <tr>\n",
       "      <th>1</th>\n",
       "      <td>100003</td>\n",
       "      <td>0</td>\n",
       "      <td>Cash loans</td>\n",
       "      <td>F</td>\n",
       "      <td>N</td>\n",
       "      <td>N</td>\n",
       "      <td>0</td>\n",
       "      <td>270000.0</td>\n",
       "      <td>1293502.5</td>\n",
       "      <td>35698.5</td>\n",
       "      <td>...</td>\n",
       "      <td>0</td>\n",
       "      <td>0</td>\n",
       "      <td>0</td>\n",
       "      <td>0</td>\n",
       "      <td>0.0</td>\n",
       "      <td>0.0</td>\n",
       "      <td>0.0</td>\n",
       "      <td>0.0</td>\n",
       "      <td>0.0</td>\n",
       "      <td>0.0</td>\n",
       "    </tr>\n",
       "    <tr>\n",
       "      <th>2</th>\n",
       "      <td>100004</td>\n",
       "      <td>0</td>\n",
       "      <td>Revolving loans</td>\n",
       "      <td>M</td>\n",
       "      <td>Y</td>\n",
       "      <td>Y</td>\n",
       "      <td>0</td>\n",
       "      <td>67500.0</td>\n",
       "      <td>135000.0</td>\n",
       "      <td>6750.0</td>\n",
       "      <td>...</td>\n",
       "      <td>0</td>\n",
       "      <td>0</td>\n",
       "      <td>0</td>\n",
       "      <td>0</td>\n",
       "      <td>0.0</td>\n",
       "      <td>0.0</td>\n",
       "      <td>0.0</td>\n",
       "      <td>0.0</td>\n",
       "      <td>0.0</td>\n",
       "      <td>0.0</td>\n",
       "    </tr>\n",
       "    <tr>\n",
       "      <th>3</th>\n",
       "      <td>100006</td>\n",
       "      <td>0</td>\n",
       "      <td>Cash loans</td>\n",
       "      <td>F</td>\n",
       "      <td>N</td>\n",
       "      <td>Y</td>\n",
       "      <td>0</td>\n",
       "      <td>135000.0</td>\n",
       "      <td>312682.5</td>\n",
       "      <td>29686.5</td>\n",
       "      <td>...</td>\n",
       "      <td>0</td>\n",
       "      <td>0</td>\n",
       "      <td>0</td>\n",
       "      <td>0</td>\n",
       "      <td>NaN</td>\n",
       "      <td>NaN</td>\n",
       "      <td>NaN</td>\n",
       "      <td>NaN</td>\n",
       "      <td>NaN</td>\n",
       "      <td>NaN</td>\n",
       "    </tr>\n",
       "    <tr>\n",
       "      <th>4</th>\n",
       "      <td>100007</td>\n",
       "      <td>0</td>\n",
       "      <td>Cash loans</td>\n",
       "      <td>M</td>\n",
       "      <td>N</td>\n",
       "      <td>Y</td>\n",
       "      <td>0</td>\n",
       "      <td>121500.0</td>\n",
       "      <td>513000.0</td>\n",
       "      <td>21865.5</td>\n",
       "      <td>...</td>\n",
       "      <td>0</td>\n",
       "      <td>0</td>\n",
       "      <td>0</td>\n",
       "      <td>0</td>\n",
       "      <td>0.0</td>\n",
       "      <td>0.0</td>\n",
       "      <td>0.0</td>\n",
       "      <td>0.0</td>\n",
       "      <td>0.0</td>\n",
       "      <td>0.0</td>\n",
       "    </tr>\n",
       "  </tbody>\n",
       "</table>\n",
       "<p>5 rows × 122 columns</p>\n",
       "</div>"
      ],
      "text/plain": [
       "   SK_ID_CURR  TARGET NAME_CONTRACT_TYPE CODE_GENDER FLAG_OWN_CAR  \\\n",
       "0      100002       1         Cash loans           M            N   \n",
       "1      100003       0         Cash loans           F            N   \n",
       "2      100004       0    Revolving loans           M            Y   \n",
       "3      100006       0         Cash loans           F            N   \n",
       "4      100007       0         Cash loans           M            N   \n",
       "\n",
       "  FLAG_OWN_REALTY  CNT_CHILDREN  AMT_INCOME_TOTAL  AMT_CREDIT  AMT_ANNUITY  \\\n",
       "0               Y             0          202500.0    406597.5      24700.5   \n",
       "1               N             0          270000.0   1293502.5      35698.5   \n",
       "2               Y             0           67500.0    135000.0       6750.0   \n",
       "3               Y             0          135000.0    312682.5      29686.5   \n",
       "4               Y             0          121500.0    513000.0      21865.5   \n",
       "\n",
       "   ...  FLAG_DOCUMENT_18 FLAG_DOCUMENT_19 FLAG_DOCUMENT_20 FLAG_DOCUMENT_21  \\\n",
       "0  ...                 0                0                0                0   \n",
       "1  ...                 0                0                0                0   \n",
       "2  ...                 0                0                0                0   \n",
       "3  ...                 0                0                0                0   \n",
       "4  ...                 0                0                0                0   \n",
       "\n",
       "  AMT_REQ_CREDIT_BUREAU_HOUR AMT_REQ_CREDIT_BUREAU_DAY  \\\n",
       "0                        0.0                       0.0   \n",
       "1                        0.0                       0.0   \n",
       "2                        0.0                       0.0   \n",
       "3                        NaN                       NaN   \n",
       "4                        0.0                       0.0   \n",
       "\n",
       "   AMT_REQ_CREDIT_BUREAU_WEEK  AMT_REQ_CREDIT_BUREAU_MON  \\\n",
       "0                         0.0                        0.0   \n",
       "1                         0.0                        0.0   \n",
       "2                         0.0                        0.0   \n",
       "3                         NaN                        NaN   \n",
       "4                         0.0                        0.0   \n",
       "\n",
       "   AMT_REQ_CREDIT_BUREAU_QRT  AMT_REQ_CREDIT_BUREAU_YEAR  \n",
       "0                        0.0                         1.0  \n",
       "1                        0.0                         0.0  \n",
       "2                        0.0                         0.0  \n",
       "3                        NaN                         NaN  \n",
       "4                        0.0                         0.0  \n",
       "\n",
       "[5 rows x 122 columns]"
      ]
     },
     "execution_count": 14,
     "metadata": {},
     "output_type": "execute_result"
    }
   ],
   "source": [
    "data = pd.read_csv(\"./data/application_train.csv\")\n",
    "\n",
    "print(data.shape)\n",
    "\n",
    "data.head()\n"
   ]
  },
  {
   "cell_type": "code",
   "execution_count": 15,
   "id": "ae9ff058",
   "metadata": {
    "editable": true,
    "slideshow": {
     "slide_type": ""
    },
    "tags": []
   },
   "outputs": [],
   "source": [
    "def _check_most_frequent_values(\n",
    "    df: pd.DataFrame, columns: list, col_type: str\n",
    ") -> None:\n",
    "    \"\"\"Check and warn about multiple most frequent values in categorical columns\"\"\"\n",
    "    for col in columns:\n",
    "        value_counts = df[col].value_counts()\n",
    "        if (value_counts == value_counts.iloc[0]).sum() > 1:\n",
    "            print(\n",
    "                f\"Warning: Multiple most frequent values in {col_type} column {col}\"\n",
    "            )\n",
    "            print(\n",
    "                f\"Values: {list(value_counts[value_counts == value_counts.iloc[0]].index)}\"\n",
    "            )\n",
    "\n",
    "\n",
    "def get_column_types(\n",
    "    df: pd.DataFrame,\n",
    ") -> Tuple[List[str], List[str], List[str]]:\n",
    "    \"\"\"\n",
    "    Identify and categorize column types based on data characteristics.\n",
    "\n",
    "    Args:\n",
    "        df: Input DataFrame\n",
    "\n",
    "    Returns:\n",
    "        Tuple containing lists of numerical, binary and multiclass column names\n",
    "    \"\"\"\n",
    "    numerical_columns = df.select_dtypes(\n",
    "        include=[\"int64\", \"float64\"]\n",
    "    ).columns.tolist()\n",
    "    categorical_columns = df.select_dtypes(\n",
    "        include=[\"object\", \"category\"]\n",
    "    ).columns.tolist()\n",
    "\n",
    "    binary_columns = [\n",
    "        col for col in categorical_columns if df[col].nunique() <= 2\n",
    "    ]\n",
    "    multiclass_columns = [\n",
    "        col for col in categorical_columns if df[col].nunique() > 2\n",
    "    ]\n",
    "\n",
    "    print(f\"Found {len(numerical_columns)} numerical features\")\n",
    "    print(f\"Found {len(binary_columns)} binary features\")\n",
    "    print(f\"Found {len(multiclass_columns)} categorical features\")\n",
    "\n",
    "    return numerical_columns, binary_columns, multiclass_columns\n",
    "\n",
    "\n",
    "class OutlierStrategy(str, Enum):\n",
    "    KEEP = \"keep\"\n",
    "    REPLACE_WITH_NAN = \"replace_with_nan\"\n",
    "    DROP = \"drop\"\n",
    "\n",
    "\n",
    "class OutlierHandler(BaseEstimator, TransformerMixin):\n",
    "    def __init__(\n",
    "        self,\n",
    "        strategy: OutlierStrategy = OutlierStrategy.KEEP,\n",
    "        threshold: float = 0.1,\n",
    "        columns: List[str] = None,\n",
    "    ):\n",
    "        self.strategy = strategy\n",
    "        self.threshold = threshold\n",
    "        self.columns = columns\n",
    "        self.lower_bounds_ = {}\n",
    "        self.upper_bounds_ = {}\n",
    "        self.to_drop_idx_ = None\n",
    "\n",
    "    def fit(self, X, y=None):\n",
    "        X = pd.DataFrame(X)\n",
    "        cols = self.columns or X.select_dtypes(include=[\"number\"]).columns\n",
    "\n",
    "        for column in cols:\n",
    "            quantiles = X[column].quantile([self.threshold, 1 - self.threshold])\n",
    "            self.lower_bounds_[column] = quantiles.iloc[0]\n",
    "            self.upper_bounds_[column] = quantiles.iloc[1]\n",
    "        return self\n",
    "\n",
    "    def transform(self, X):\n",
    "        X = pd.DataFrame(X).copy()\n",
    "        cols = self.columns or X.select_dtypes(include=[\"number\"]).columns\n",
    "\n",
    "        if self.strategy == OutlierStrategy.KEEP:\n",
    "            return X\n",
    "\n",
    "        mask = np.ones(len(X), dtype=bool)\n",
    "\n",
    "        for column in cols:\n",
    "            outlier_mask = (X[column] < self.lower_bounds_[column]) | (\n",
    "                X[column] > self.upper_bounds_[column]\n",
    "            )\n",
    "            if self.strategy == OutlierStrategy.REPLACE_WITH_NAN:\n",
    "                X.loc[outlier_mask, column] = np.nan\n",
    "            elif self.strategy == OutlierStrategy.DROP:\n",
    "                mask &= ~outlier_mask\n",
    "\n",
    "        if self.strategy == OutlierStrategy.DROP:\n",
    "            self.to_drop_idx_ = X.index[~mask]\n",
    "            X = X[mask]\n",
    "\n",
    "        return X\n",
    "\n",
    "\n",
    "class DropMissingColumns(BaseEstimator, TransformerMixin):\n",
    "    def __init__(self, threshold=0.4):\n",
    "        \"\"\"\n",
    "        Drops columns with missing value rate >= threshold.\n",
    "        \"\"\"\n",
    "        self.threshold = threshold\n",
    "        self.cols_to_drop_ = []\n",
    "\n",
    "    def fit(self, X, y=None):\n",
    "        X = pd.DataFrame(X)\n",
    "        missing_ratio = X.isnull().mean()\n",
    "        self.cols_to_drop_ = missing_ratio[\n",
    "            missing_ratio >= self.threshold\n",
    "        ].index.tolist()\n",
    "\n",
    "        if self.cols_to_drop_:\n",
    "            print(\n",
    "                f\"🧹 Dropping {len(self.cols_to_drop_)} column(s) with missing ratio ≥ {self.threshold}:\"\n",
    "            )\n",
    "            for col in self.cols_to_drop_:\n",
    "                print(f\" - {col}\")\n",
    "\n",
    "        return self\n",
    "\n",
    "    def transform(self, X):\n",
    "        return pd.DataFrame(X).drop(columns=self.cols_to_drop_, errors=\"ignore\")\n",
    "\n",
    "    @property\n",
    "    def removed_columns_(self):\n",
    "        return self.cols_to_drop_\n",
    "\n",
    "\n",
    "def create_preprocessing_pipeline(\n",
    "    df: pd.DataFrame,\n",
    "    numerical_cols: List[str],\n",
    "    binary_cols: List[str],\n",
    "    multiclass_cols: List[str],\n",
    "    categorical_strategy: str,\n",
    "    encode_categoricals: bool = True,\n",
    "    polynomial_features: bool = False,\n",
    ") -> ColumnTransformer:\n",
    "    \"\"\"\n",
    "    Creates a preprocessing pipeline for numerical, binary, and multiclass categorical features.\n",
    "\n",
    "    Args:\n",
    "        df (pd.DataFrame): The full dataframe used for checking value consistency if needed.\n",
    "        numerical_cols (List[str]): List of numerical feature column names.\n",
    "        binary_cols (List[str]): List of binary categorical feature column names.\n",
    "        multiclass_cols (List[str]): List of multi-category feature column names.\n",
    "        categorical_strategy (str): Strategy for imputing categorical values (\"most_frequent\", \"constant\", etc.).\n",
    "        encode_categoricals (bool): Whether to encode categorical features.\n",
    "\n",
    "    Returns:\n",
    "        ColumnTransformer: A scikit-learn column transformer pipeline.\n",
    "    \"\"\"\n",
    "\n",
    "    transformers = []\n",
    "\n",
    "    # --- Numerical columns ---\n",
    "    if numerical_cols:\n",
    "        steps = [(\"imputer\", SimpleImputer(strategy=\"median\"))]\n",
    "        if polynomial_features:\n",
    "            steps.append(\n",
    "                (\n",
    "                    \"poly\",\n",
    "                    PolynomialFeatures(\n",
    "                        degree=3, include_bias=False, interaction_only=False\n",
    "                    ),\n",
    "                )\n",
    "            )\n",
    "        steps.append((\"scaler\", MinMaxScaler()))\n",
    "\n",
    "        numerical_pipeline = Pipeline(steps)\n",
    "        transformers.append((\"numerical\", numerical_pipeline, numerical_cols))\n",
    "\n",
    "    # --- Categorical encoding ---\n",
    "    if encode_categoricals:\n",
    "        # --- Binary columns ---\n",
    "        if binary_cols:\n",
    "            if categorical_strategy == \"most_frequent\":\n",
    "                _check_most_frequent_values(df, binary_cols, \"binary\")\n",
    "\n",
    "            binary_pipeline = Pipeline(\n",
    "                [\n",
    "                    (\n",
    "                        \"imputer\",\n",
    "                        SimpleImputer(\n",
    "                            strategy=categorical_strategy,\n",
    "                            fill_value=\"missing\"\n",
    "                            if categorical_strategy == \"constant\"\n",
    "                            else None,\n",
    "                        ),\n",
    "                    ),\n",
    "                    (\"encoder\", OrdinalEncoder()),\n",
    "                ]\n",
    "            )\n",
    "            transformers.append((\"binary\", binary_pipeline, binary_cols))\n",
    "\n",
    "        # --- Multiclass columns ---\n",
    "        if multiclass_cols:\n",
    "            if categorical_strategy == \"most_frequent\":\n",
    "                _check_most_frequent_values(df, multiclass_cols, \"multiclass\")\n",
    "\n",
    "            multiclass_pipeline = Pipeline(\n",
    "                [\n",
    "                    (\n",
    "                        \"imputer\",\n",
    "                        SimpleImputer(\n",
    "                            strategy=categorical_strategy,\n",
    "                            fill_value=\"missing\"\n",
    "                            if categorical_strategy == \"constant\"\n",
    "                            else None,\n",
    "                        ),\n",
    "                    ),\n",
    "                    (\n",
    "                        \"onehot\",\n",
    "                        OneHotEncoder(\n",
    "                            drop=\"first\",\n",
    "                            sparse_output=False,\n",
    "                            handle_unknown=\"ignore\",\n",
    "                        ),\n",
    "                    ),\n",
    "                ]\n",
    "            )\n",
    "            transformers.append(\n",
    "                (\"multiclass\", multiclass_pipeline, multiclass_cols)\n",
    "            )\n",
    "\n",
    "    preprocessor = ColumnTransformer(transformers)\n",
    "    return preprocessor\n",
    "\n",
    "\n",
    "def prepare_data(\n",
    "    df: pd.DataFrame,\n",
    "    target_column: str,\n",
    "    categorical_strategy: str,\n",
    "    outlier_strategy: str,\n",
    "    outlier_threshold: float = 0.1,\n",
    "    test_size: float = 0.2,\n",
    "    random_state: int = 42,\n",
    "    encode_categoricals: bool = True,\n",
    "    drop_missing_columns: bool = True,\n",
    "    missing_col_threshold: float = 0.4,\n",
    "    polynomial_features: bool = False,\n",
    "):\n",
    "    \"\"\"Prepare data for modeling using pipeline approach\"\"\"\n",
    "\n",
    "    X = df.drop(columns=[target_column])\n",
    "    y = df[target_column]\n",
    "\n",
    "    X_train, X_test, y_train, y_test = train_test_split(\n",
    "        X, y, test_size=test_size, random_state=random_state, stratify=y\n",
    "    )\n",
    "\n",
    "    # Manage missing values\n",
    "    if drop_missing_columns:\n",
    "        dropper = DropMissingColumns(threshold=missing_col_threshold)\n",
    "        X_train = dropper.fit_transform(X_train)\n",
    "        X_test = dropper.transform(X_test)\n",
    "\n",
    "    numerical_cols, binary_cols, multiclass_cols = get_column_types(X_train)\n",
    "\n",
    "    if outlier_strategy != OutlierStrategy.KEEP:\n",
    "        outlier_handler = OutlierHandler(\n",
    "            strategy=outlier_strategy,\n",
    "            threshold=outlier_threshold,\n",
    "            columns=numerical_cols,\n",
    "        )\n",
    "        X_train = outlier_handler.fit_transform(X_train)\n",
    "\n",
    "        if (\n",
    "            outlier_strategy == OutlierStrategy.DROP\n",
    "            and outlier_handler.to_drop_idx_ is not None\n",
    "        ):\n",
    "            kept_index = X_train.index\n",
    "            X_train = X_train\n",
    "            y_train = y_train.loc[kept_index]\n",
    "        else:\n",
    "            X_train = X_train\n",
    "\n",
    "    preprocessor = create_preprocessing_pipeline(\n",
    "        X_train,\n",
    "        numerical_cols,\n",
    "        binary_cols,\n",
    "        multiclass_cols,\n",
    "        categorical_strategy=categorical_strategy,\n",
    "        encode_categoricals=encode_categoricals,\n",
    "        polynomial_features=polynomial_features,\n",
    "    )\n",
    "\n",
    "    # X_train_processed = preprocessor.fit_transform(X_train)\n",
    "    # X_test_processed = preprocessor.transform(X_test)\n",
    "\n",
    "    return X_train, X_test, y_train, y_test, preprocessor\n"
   ]
  },
  {
   "cell_type": "markdown",
   "id": "bc3d2ab6",
   "metadata": {
    "editable": true,
    "slideshow": {
     "slide_type": ""
    },
    "tags": []
   },
   "source": [
    "# Test pipeline"
   ]
  },
  {
   "cell_type": "code",
   "execution_count": 16,
   "id": "ecf9bd49",
   "metadata": {},
   "outputs": [
    {
     "name": "stdout",
     "output_type": "stream",
     "text": [
      "\n",
      "Testing combination:\n",
      "Categorical strategy: constant\n",
      "Outlier strategy: OutlierStrategy.KEEP\n",
      "🧹 Dropping 49 column(s) with missing ratio ≥ 0.4:\n",
      " - OWN_CAR_AGE\n",
      " - EXT_SOURCE_1\n",
      " - APARTMENTS_AVG\n",
      " - BASEMENTAREA_AVG\n",
      " - YEARS_BEGINEXPLUATATION_AVG\n",
      " - YEARS_BUILD_AVG\n",
      " - COMMONAREA_AVG\n",
      " - ELEVATORS_AVG\n",
      " - ENTRANCES_AVG\n",
      " - FLOORSMAX_AVG\n",
      " - FLOORSMIN_AVG\n",
      " - LANDAREA_AVG\n",
      " - LIVINGAPARTMENTS_AVG\n",
      " - LIVINGAREA_AVG\n",
      " - NONLIVINGAPARTMENTS_AVG\n",
      " - NONLIVINGAREA_AVG\n",
      " - APARTMENTS_MODE\n",
      " - BASEMENTAREA_MODE\n",
      " - YEARS_BEGINEXPLUATATION_MODE\n",
      " - YEARS_BUILD_MODE\n",
      " - COMMONAREA_MODE\n",
      " - ELEVATORS_MODE\n",
      " - ENTRANCES_MODE\n",
      " - FLOORSMAX_MODE\n",
      " - FLOORSMIN_MODE\n",
      " - LANDAREA_MODE\n",
      " - LIVINGAPARTMENTS_MODE\n",
      " - LIVINGAREA_MODE\n",
      " - NONLIVINGAPARTMENTS_MODE\n",
      " - NONLIVINGAREA_MODE\n",
      " - APARTMENTS_MEDI\n",
      " - BASEMENTAREA_MEDI\n",
      " - YEARS_BEGINEXPLUATATION_MEDI\n",
      " - YEARS_BUILD_MEDI\n",
      " - COMMONAREA_MEDI\n",
      " - ELEVATORS_MEDI\n",
      " - ENTRANCES_MEDI\n",
      " - FLOORSMAX_MEDI\n",
      " - FLOORSMIN_MEDI\n",
      " - LANDAREA_MEDI\n",
      " - LIVINGAPARTMENTS_MEDI\n",
      " - LIVINGAREA_MEDI\n",
      " - NONLIVINGAPARTMENTS_MEDI\n",
      " - NONLIVINGAREA_MEDI\n",
      " - FONDKAPREMONT_MODE\n",
      " - HOUSETYPE_MODE\n",
      " - TOTALAREA_MODE\n",
      " - WALLSMATERIAL_MODE\n",
      " - EMERGENCYSTATE_MODE\n",
      "Found 60 numerical features\n",
      "Found 3 binary features\n",
      "Found 9 categorical features\n",
      "Shapes après transformation:\n",
      "X_train: (246008, 72)\n",
      "X_test: (61503, 72)\n",
      "\n",
      "Testing combination:\n",
      "Categorical strategy: constant\n",
      "Outlier strategy: OutlierStrategy.REPLACE_WITH_NAN\n",
      "🧹 Dropping 49 column(s) with missing ratio ≥ 0.4:\n",
      " - OWN_CAR_AGE\n",
      " - EXT_SOURCE_1\n",
      " - APARTMENTS_AVG\n",
      " - BASEMENTAREA_AVG\n",
      " - YEARS_BEGINEXPLUATATION_AVG\n",
      " - YEARS_BUILD_AVG\n",
      " - COMMONAREA_AVG\n",
      " - ELEVATORS_AVG\n",
      " - ENTRANCES_AVG\n",
      " - FLOORSMAX_AVG\n",
      " - FLOORSMIN_AVG\n",
      " - LANDAREA_AVG\n",
      " - LIVINGAPARTMENTS_AVG\n",
      " - LIVINGAREA_AVG\n",
      " - NONLIVINGAPARTMENTS_AVG\n",
      " - NONLIVINGAREA_AVG\n",
      " - APARTMENTS_MODE\n",
      " - BASEMENTAREA_MODE\n",
      " - YEARS_BEGINEXPLUATATION_MODE\n",
      " - YEARS_BUILD_MODE\n",
      " - COMMONAREA_MODE\n",
      " - ELEVATORS_MODE\n",
      " - ENTRANCES_MODE\n",
      " - FLOORSMAX_MODE\n",
      " - FLOORSMIN_MODE\n",
      " - LANDAREA_MODE\n",
      " - LIVINGAPARTMENTS_MODE\n",
      " - LIVINGAREA_MODE\n",
      " - NONLIVINGAPARTMENTS_MODE\n",
      " - NONLIVINGAREA_MODE\n",
      " - APARTMENTS_MEDI\n",
      " - BASEMENTAREA_MEDI\n",
      " - YEARS_BEGINEXPLUATATION_MEDI\n",
      " - YEARS_BUILD_MEDI\n",
      " - COMMONAREA_MEDI\n",
      " - ELEVATORS_MEDI\n",
      " - ENTRANCES_MEDI\n",
      " - FLOORSMAX_MEDI\n",
      " - FLOORSMIN_MEDI\n",
      " - LANDAREA_MEDI\n",
      " - LIVINGAPARTMENTS_MEDI\n",
      " - LIVINGAREA_MEDI\n",
      " - NONLIVINGAPARTMENTS_MEDI\n",
      " - NONLIVINGAREA_MEDI\n",
      " - FONDKAPREMONT_MODE\n",
      " - HOUSETYPE_MODE\n",
      " - TOTALAREA_MODE\n",
      " - WALLSMATERIAL_MODE\n",
      " - EMERGENCYSTATE_MODE\n",
      "Found 60 numerical features\n",
      "Found 3 binary features\n",
      "Found 9 categorical features\n",
      "Shapes après transformation:\n",
      "X_train: (246008, 72)\n",
      "X_test: (61503, 72)\n",
      "\n",
      "Testing combination:\n",
      "Categorical strategy: constant\n",
      "Outlier strategy: OutlierStrategy.DROP\n",
      "🧹 Dropping 49 column(s) with missing ratio ≥ 0.4:\n",
      " - OWN_CAR_AGE\n",
      " - EXT_SOURCE_1\n",
      " - APARTMENTS_AVG\n",
      " - BASEMENTAREA_AVG\n",
      " - YEARS_BEGINEXPLUATATION_AVG\n",
      " - YEARS_BUILD_AVG\n",
      " - COMMONAREA_AVG\n",
      " - ELEVATORS_AVG\n",
      " - ENTRANCES_AVG\n",
      " - FLOORSMAX_AVG\n",
      " - FLOORSMIN_AVG\n",
      " - LANDAREA_AVG\n",
      " - LIVINGAPARTMENTS_AVG\n",
      " - LIVINGAREA_AVG\n",
      " - NONLIVINGAPARTMENTS_AVG\n",
      " - NONLIVINGAREA_AVG\n",
      " - APARTMENTS_MODE\n",
      " - BASEMENTAREA_MODE\n",
      " - YEARS_BEGINEXPLUATATION_MODE\n",
      " - YEARS_BUILD_MODE\n",
      " - COMMONAREA_MODE\n",
      " - ELEVATORS_MODE\n",
      " - ENTRANCES_MODE\n",
      " - FLOORSMAX_MODE\n",
      " - FLOORSMIN_MODE\n",
      " - LANDAREA_MODE\n",
      " - LIVINGAPARTMENTS_MODE\n",
      " - LIVINGAREA_MODE\n",
      " - NONLIVINGAPARTMENTS_MODE\n",
      " - NONLIVINGAREA_MODE\n",
      " - APARTMENTS_MEDI\n",
      " - BASEMENTAREA_MEDI\n",
      " - YEARS_BEGINEXPLUATATION_MEDI\n",
      " - YEARS_BUILD_MEDI\n",
      " - COMMONAREA_MEDI\n",
      " - ELEVATORS_MEDI\n",
      " - ENTRANCES_MEDI\n",
      " - FLOORSMAX_MEDI\n",
      " - FLOORSMIN_MEDI\n",
      " - LANDAREA_MEDI\n",
      " - LIVINGAPARTMENTS_MEDI\n",
      " - LIVINGAREA_MEDI\n",
      " - NONLIVINGAPARTMENTS_MEDI\n",
      " - NONLIVINGAREA_MEDI\n",
      " - FONDKAPREMONT_MODE\n",
      " - HOUSETYPE_MODE\n",
      " - TOTALAREA_MODE\n",
      " - WALLSMATERIAL_MODE\n",
      " - EMERGENCYSTATE_MODE\n",
      "Found 60 numerical features\n",
      "Found 3 binary features\n",
      "Found 9 categorical features\n",
      "Shapes après transformation:\n",
      "X_train: (63295, 72)\n",
      "X_test: (61503, 72)\n",
      "\n",
      "Testing combination:\n",
      "Categorical strategy: most_frequent\n",
      "Outlier strategy: OutlierStrategy.KEEP\n",
      "🧹 Dropping 49 column(s) with missing ratio ≥ 0.4:\n",
      " - OWN_CAR_AGE\n",
      " - EXT_SOURCE_1\n",
      " - APARTMENTS_AVG\n",
      " - BASEMENTAREA_AVG\n",
      " - YEARS_BEGINEXPLUATATION_AVG\n",
      " - YEARS_BUILD_AVG\n",
      " - COMMONAREA_AVG\n",
      " - ELEVATORS_AVG\n",
      " - ENTRANCES_AVG\n",
      " - FLOORSMAX_AVG\n",
      " - FLOORSMIN_AVG\n",
      " - LANDAREA_AVG\n",
      " - LIVINGAPARTMENTS_AVG\n",
      " - LIVINGAREA_AVG\n",
      " - NONLIVINGAPARTMENTS_AVG\n",
      " - NONLIVINGAREA_AVG\n",
      " - APARTMENTS_MODE\n",
      " - BASEMENTAREA_MODE\n",
      " - YEARS_BEGINEXPLUATATION_MODE\n",
      " - YEARS_BUILD_MODE\n",
      " - COMMONAREA_MODE\n",
      " - ELEVATORS_MODE\n",
      " - ENTRANCES_MODE\n",
      " - FLOORSMAX_MODE\n",
      " - FLOORSMIN_MODE\n",
      " - LANDAREA_MODE\n",
      " - LIVINGAPARTMENTS_MODE\n",
      " - LIVINGAREA_MODE\n",
      " - NONLIVINGAPARTMENTS_MODE\n",
      " - NONLIVINGAREA_MODE\n",
      " - APARTMENTS_MEDI\n",
      " - BASEMENTAREA_MEDI\n",
      " - YEARS_BEGINEXPLUATATION_MEDI\n",
      " - YEARS_BUILD_MEDI\n",
      " - COMMONAREA_MEDI\n",
      " - ELEVATORS_MEDI\n",
      " - ENTRANCES_MEDI\n",
      " - FLOORSMAX_MEDI\n",
      " - FLOORSMIN_MEDI\n",
      " - LANDAREA_MEDI\n",
      " - LIVINGAPARTMENTS_MEDI\n",
      " - LIVINGAREA_MEDI\n",
      " - NONLIVINGAPARTMENTS_MEDI\n",
      " - NONLIVINGAREA_MEDI\n",
      " - FONDKAPREMONT_MODE\n",
      " - HOUSETYPE_MODE\n",
      " - TOTALAREA_MODE\n",
      " - WALLSMATERIAL_MODE\n",
      " - EMERGENCYSTATE_MODE\n",
      "Found 60 numerical features\n",
      "Found 3 binary features\n",
      "Found 9 categorical features\n",
      "Shapes après transformation:\n",
      "X_train: (246008, 72)\n",
      "X_test: (61503, 72)\n",
      "\n",
      "Testing combination:\n",
      "Categorical strategy: most_frequent\n",
      "Outlier strategy: OutlierStrategy.REPLACE_WITH_NAN\n",
      "🧹 Dropping 49 column(s) with missing ratio ≥ 0.4:\n",
      " - OWN_CAR_AGE\n",
      " - EXT_SOURCE_1\n",
      " - APARTMENTS_AVG\n",
      " - BASEMENTAREA_AVG\n",
      " - YEARS_BEGINEXPLUATATION_AVG\n",
      " - YEARS_BUILD_AVG\n",
      " - COMMONAREA_AVG\n",
      " - ELEVATORS_AVG\n",
      " - ENTRANCES_AVG\n",
      " - FLOORSMAX_AVG\n",
      " - FLOORSMIN_AVG\n",
      " - LANDAREA_AVG\n",
      " - LIVINGAPARTMENTS_AVG\n",
      " - LIVINGAREA_AVG\n",
      " - NONLIVINGAPARTMENTS_AVG\n",
      " - NONLIVINGAREA_AVG\n",
      " - APARTMENTS_MODE\n",
      " - BASEMENTAREA_MODE\n",
      " - YEARS_BEGINEXPLUATATION_MODE\n",
      " - YEARS_BUILD_MODE\n",
      " - COMMONAREA_MODE\n",
      " - ELEVATORS_MODE\n",
      " - ENTRANCES_MODE\n",
      " - FLOORSMAX_MODE\n",
      " - FLOORSMIN_MODE\n",
      " - LANDAREA_MODE\n",
      " - LIVINGAPARTMENTS_MODE\n",
      " - LIVINGAREA_MODE\n",
      " - NONLIVINGAPARTMENTS_MODE\n",
      " - NONLIVINGAREA_MODE\n",
      " - APARTMENTS_MEDI\n",
      " - BASEMENTAREA_MEDI\n",
      " - YEARS_BEGINEXPLUATATION_MEDI\n",
      " - YEARS_BUILD_MEDI\n",
      " - COMMONAREA_MEDI\n",
      " - ELEVATORS_MEDI\n",
      " - ENTRANCES_MEDI\n",
      " - FLOORSMAX_MEDI\n",
      " - FLOORSMIN_MEDI\n",
      " - LANDAREA_MEDI\n",
      " - LIVINGAPARTMENTS_MEDI\n",
      " - LIVINGAREA_MEDI\n",
      " - NONLIVINGAPARTMENTS_MEDI\n",
      " - NONLIVINGAREA_MEDI\n",
      " - FONDKAPREMONT_MODE\n",
      " - HOUSETYPE_MODE\n",
      " - TOTALAREA_MODE\n",
      " - WALLSMATERIAL_MODE\n",
      " - EMERGENCYSTATE_MODE\n",
      "Found 60 numerical features\n",
      "Found 3 binary features\n",
      "Found 9 categorical features\n",
      "Shapes après transformation:\n",
      "X_train: (246008, 72)\n",
      "X_test: (61503, 72)\n",
      "\n",
      "Testing combination:\n",
      "Categorical strategy: most_frequent\n",
      "Outlier strategy: OutlierStrategy.DROP\n",
      "🧹 Dropping 49 column(s) with missing ratio ≥ 0.4:\n",
      " - OWN_CAR_AGE\n",
      " - EXT_SOURCE_1\n",
      " - APARTMENTS_AVG\n",
      " - BASEMENTAREA_AVG\n",
      " - YEARS_BEGINEXPLUATATION_AVG\n",
      " - YEARS_BUILD_AVG\n",
      " - COMMONAREA_AVG\n",
      " - ELEVATORS_AVG\n",
      " - ENTRANCES_AVG\n",
      " - FLOORSMAX_AVG\n",
      " - FLOORSMIN_AVG\n",
      " - LANDAREA_AVG\n",
      " - LIVINGAPARTMENTS_AVG\n",
      " - LIVINGAREA_AVG\n",
      " - NONLIVINGAPARTMENTS_AVG\n",
      " - NONLIVINGAREA_AVG\n",
      " - APARTMENTS_MODE\n",
      " - BASEMENTAREA_MODE\n",
      " - YEARS_BEGINEXPLUATATION_MODE\n",
      " - YEARS_BUILD_MODE\n",
      " - COMMONAREA_MODE\n",
      " - ELEVATORS_MODE\n",
      " - ENTRANCES_MODE\n",
      " - FLOORSMAX_MODE\n",
      " - FLOORSMIN_MODE\n",
      " - LANDAREA_MODE\n",
      " - LIVINGAPARTMENTS_MODE\n",
      " - LIVINGAREA_MODE\n",
      " - NONLIVINGAPARTMENTS_MODE\n",
      " - NONLIVINGAREA_MODE\n",
      " - APARTMENTS_MEDI\n",
      " - BASEMENTAREA_MEDI\n",
      " - YEARS_BEGINEXPLUATATION_MEDI\n",
      " - YEARS_BUILD_MEDI\n",
      " - COMMONAREA_MEDI\n",
      " - ELEVATORS_MEDI\n",
      " - ENTRANCES_MEDI\n",
      " - FLOORSMAX_MEDI\n",
      " - FLOORSMIN_MEDI\n",
      " - LANDAREA_MEDI\n",
      " - LIVINGAPARTMENTS_MEDI\n",
      " - LIVINGAREA_MEDI\n",
      " - NONLIVINGAPARTMENTS_MEDI\n",
      " - NONLIVINGAREA_MEDI\n",
      " - FONDKAPREMONT_MODE\n",
      " - HOUSETYPE_MODE\n",
      " - TOTALAREA_MODE\n",
      " - WALLSMATERIAL_MODE\n",
      " - EMERGENCYSTATE_MODE\n",
      "Found 60 numerical features\n",
      "Found 3 binary features\n",
      "Found 9 categorical features\n",
      "Shapes après transformation:\n",
      "X_train: (63295, 72)\n",
      "X_test: (61503, 72)\n",
      "\n",
      "Résumé des tests:\n",
      "--------------------------------------------------\n",
      "\n",
      "Categorical: constant\n",
      "Outlier: OutlierStrategy.KEEP\n",
      "✓ Success\n",
      "  Train shape: (246008, 72)\n",
      "  Test shape: (61503, 72)\n",
      "\n",
      "Categorical: constant\n",
      "Outlier: OutlierStrategy.REPLACE_WITH_NAN\n",
      "✓ Success\n",
      "  Train shape: (246008, 72)\n",
      "  Test shape: (61503, 72)\n",
      "\n",
      "Categorical: constant\n",
      "Outlier: OutlierStrategy.DROP\n",
      "✓ Success\n",
      "  Train shape: (63295, 72)\n",
      "  Test shape: (61503, 72)\n",
      "\n",
      "Categorical: most_frequent\n",
      "Outlier: OutlierStrategy.KEEP\n",
      "✓ Success\n",
      "  Train shape: (246008, 72)\n",
      "  Test shape: (61503, 72)\n",
      "\n",
      "Categorical: most_frequent\n",
      "Outlier: OutlierStrategy.REPLACE_WITH_NAN\n",
      "✓ Success\n",
      "  Train shape: (246008, 72)\n",
      "  Test shape: (61503, 72)\n",
      "\n",
      "Categorical: most_frequent\n",
      "Outlier: OutlierStrategy.DROP\n",
      "✓ Success\n",
      "  Train shape: (63295, 72)\n",
      "  Test shape: (61503, 72)\n"
     ]
    }
   ],
   "source": [
    "categorical_strategies = [\"constant\", \"most_frequent\"]\n",
    "outlier_strategies = [\n",
    "    OutlierStrategy.KEEP,\n",
    "    OutlierStrategy.REPLACE_WITH_NAN,\n",
    "    OutlierStrategy.DROP,\n",
    "]\n",
    "\n",
    "results = {}\n",
    "\n",
    "for cat_strategy in categorical_strategies:\n",
    "    for out_strategy in outlier_strategies:\n",
    "        print(\"\\nTesting combination:\")\n",
    "        print(f\"Categorical strategy: {cat_strategy}\")\n",
    "        print(f\"Outlier strategy: {out_strategy}\")\n",
    "\n",
    "        X_train_proc, X_test_proc, y_train_proc, y_test_proc, preproc = (\n",
    "            prepare_data(\n",
    "                data,\n",
    "                target_column=\"TARGET\",\n",
    "                categorical_strategy=cat_strategy,\n",
    "                outlier_strategy=out_strategy,\n",
    "                outlier_threshold=0.05,\n",
    "                test_size=0.2,\n",
    "                random_state=42,\n",
    "            )\n",
    "        )\n",
    "\n",
    "        results[(cat_strategy, out_strategy)] = {\n",
    "            \"X_train_shape\": X_train_proc.shape,\n",
    "            \"X_test_shape\": X_test_proc.shape,\n",
    "            \"success\": True,\n",
    "        }\n",
    "\n",
    "        print(\"Shapes après transformation:\")\n",
    "        print(f\"X_train: {X_train_proc.shape}\")\n",
    "        print(f\"X_test: {X_test_proc.shape}\")\n",
    "\n",
    "print(\"\\nRésumé des tests:\")\n",
    "print(\"-\" * 50)\n",
    "for (cat_strategy, out_strategy), result in results.items():\n",
    "    print(f\"\\nCategorical: {cat_strategy}\")\n",
    "    print(f\"Outlier: {out_strategy}\")\n",
    "    if result[\"success\"]:\n",
    "        print(\"✓ Success\")\n",
    "        print(f\"  Train shape: {result['X_train_shape']}\")\n",
    "        print(f\"  Test shape: {result['X_test_shape']}\")\n",
    "    else:\n",
    "        print(\"✗ Failed\")\n",
    "        print(f\"  Error: {result['error']}\")\n"
   ]
  },
  {
   "cell_type": "code",
   "execution_count": 17,
   "id": "80493562",
   "metadata": {},
   "outputs": [
    {
     "name": "stdout",
     "output_type": "stream",
     "text": [
      "Found 4 numerical features\n",
      "Found 0 binary features\n",
      "Found 0 categorical features\n"
     ]
    },
    {
     "data": {
      "application/vnd.microsoft.datawrangler.viewer.v0+json": {
       "columns": [
        {
         "name": "index",
         "rawType": "int64",
         "type": "integer"
        },
        {
         "name": "EXT_SOURCE_1",
         "rawType": "float64",
         "type": "float"
        },
        {
         "name": "EXT_SOURCE_2",
         "rawType": "float64",
         "type": "float"
        },
        {
         "name": "EXT_SOURCE_3",
         "rawType": "float64",
         "type": "float"
        },
        {
         "name": "DAYS_BIRTH",
         "rawType": "int64",
         "type": "integer"
        }
       ],
       "conversionMethod": "pd.DataFrame",
       "ref": "65668cfd-3cae-4799-9c7a-821b3ac2a037",
       "rows": [
        [
         "181648",
         "0.38458200387368",
         "0.2895727653642738",
         "0.622922000268356",
         "-12298"
        ],
        [
         "229245",
         null,
         "0.5142611450030571",
         null,
         "-15375"
        ],
        [
         "122525",
         null,
         "0.4869061961268434",
         "0.5989262182569273",
         "-19307"
        ],
        [
         "306311",
         null,
         "0.6757048421402819",
         "0.4543210601605785",
         "-17791"
        ],
        [
         "300658",
         null,
         "0.1545652281584149",
         null,
         "-8486"
        ],
        [
         "201033",
         null,
         "0.627826839482302",
         "0.6430255641096323",
         "-22373"
        ],
        [
         "86445",
         null,
         "0.6417316507636472",
         "0.2636468134452008",
         "-14763"
        ],
        [
         "225267",
         "0.5597189961424922",
         "0.5487858251195121",
         null,
         "-13257"
        ],
        [
         "42927",
         "0.1589596617846179",
         "0.6399247330317751",
         "0.4382813743111921",
         "-9940"
        ],
        [
         "240820",
         null,
         "0.3280761462759954",
         "0.6380435278721609",
         "-21332"
        ],
        [
         "193691",
         "0.0343342445898113",
         "0.6940223764903689",
         null,
         "-9970"
        ],
        [
         "190669",
         "0.5167783302643085",
         "0.3292389467340963",
         null,
         "-13264"
        ],
        [
         "270875",
         "0.7034538696079261",
         "0.6080413930588995",
         "0.7421816117614419",
         "-14319"
        ],
        [
         "97464",
         "0.4609324189790337",
         "0.7229455192120475",
         "0.5762088360175724",
         "-18646"
        ],
        [
         "283993",
         "0.4917739764853701",
         "0.6102488997889228",
         "0.6940926425266661",
         "-13950"
        ],
        [
         "23750",
         null,
         "0.7613517291838071",
         null,
         "-17126"
        ],
        [
         "124306",
         "0.3708702039193129",
         "0.5919519944744336",
         "0.4507472818545589",
         "-16962"
        ],
        [
         "28423",
         null,
         "0.6731889034536185",
         "0.7001838506835805",
         "-15413"
        ],
        [
         "252183",
         null,
         "0.4374241287955937",
         null,
         "-14053"
        ],
        [
         "39941",
         "0.2627852554176854",
         "0.6685730524066269",
         null,
         "-11285"
        ],
        [
         "115584",
         "0.3327009658050156",
         "0.6360560722384354",
         null,
         "-7875"
        ],
        [
         "29456",
         null,
         "0.3301716630634588",
         "0.5442347412142162",
         "-15194"
        ],
        [
         "37475",
         "0.4077505177587751",
         "0.1673316673105274",
         "0.7407990879702335",
         "-16332"
        ],
        [
         "148624",
         null,
         "0.7820482790841764",
         "0.6212263380626669",
         "-19016"
        ],
        [
         "264008",
         null,
         "0.5347806801049",
         "0.7281412993111438",
         "-23023"
        ],
        [
         "279203",
         "0.1953020948715324",
         "0.3194728701645372",
         "0.5919766183185521",
         "-12205"
        ],
        [
         "108065",
         "0.2437834779739189",
         "0.6284704202195868",
         "0.4382813743111921",
         "-10356"
        ],
        [
         "115746",
         null,
         "0.6874217861693647",
         "0.7610263695502636",
         "-12198"
        ],
        [
         "247351",
         null,
         "0.4466033653954006",
         "0.3979463219016906",
         "-15537"
        ],
        [
         "246",
         null,
         "0.7109249275557172",
         null,
         "-17847"
        ],
        [
         "220176",
         null,
         "0.6160943601253089",
         null,
         "-14549"
        ],
        [
         "208124",
         "0.2819872150834946",
         "0.5032601071079322",
         "0.6006575372857061",
         "-14135"
        ],
        [
         "186661",
         null,
         "0.5061900930677599",
         null,
         "-20652"
        ],
        [
         "26068",
         "0.8091959463318587",
         "0.5380542803385404",
         null,
         "-15701"
        ],
        [
         "8119",
         null,
         "0.7454628806819251",
         "0.7675231046555077",
         "-10815"
        ],
        [
         "106587",
         "0.6085681260642803",
         "0.4396909324248586",
         "0.5567274263630174",
         "-13421"
        ],
        [
         "192995",
         null,
         "0.3111876151015247",
         "0.6894791426446275",
         "-23743"
        ],
        [
         "155536",
         null,
         "0.4857590063686145",
         "0.6940926425266661",
         "-12895"
        ],
        [
         "191138",
         null,
         "0.7609899766549443",
         "0.3944954053123993",
         "-22499"
        ],
        [
         "241063",
         null,
         "0.5394236672981013",
         "0.5370699579791587",
         "-12690"
        ],
        [
         "97264",
         "0.6816600962521668",
         "0.3311880555532257",
         "0.266456808245056",
         "-15149"
        ],
        [
         "219829",
         "0.8028933723273193",
         "0.4690823500561954",
         "0.5406544504453575",
         "-14834"
        ],
        [
         "15818",
         null,
         "0.7668892259229388",
         null,
         "-9952"
        ],
        [
         "288043",
         null,
         "0.5835753549364561",
         "0.3409064264152384",
         "-14048"
        ],
        [
         "84776",
         null,
         "0.1277239647374161",
         null,
         "-14363"
        ],
        [
         "73193",
         null,
         "0.6040578257332085",
         "0.6397075677637197",
         "-18868"
        ],
        [
         "189225",
         "0.1894084411004572",
         "0.661216084063734",
         "0.41534714488434",
         "-8959"
        ],
        [
         "232241",
         null,
         "0.3411229075988826",
         "0.5744466170995097",
         "-20887"
        ],
        [
         "177156",
         "0.7308375469517353",
         "0.6568181515380304",
         "0.3927738606031339",
         "-14781"
        ],
        [
         "75434",
         null,
         "0.6772889049207736",
         "0.5082869913916046",
         "-19029"
        ]
       ],
       "shape": {
        "columns": 4,
        "rows": 246008
       }
      },
      "text/html": [
       "<div>\n",
       "<style scoped>\n",
       "    .dataframe tbody tr th:only-of-type {\n",
       "        vertical-align: middle;\n",
       "    }\n",
       "\n",
       "    .dataframe tbody tr th {\n",
       "        vertical-align: top;\n",
       "    }\n",
       "\n",
       "    .dataframe thead th {\n",
       "        text-align: right;\n",
       "    }\n",
       "</style>\n",
       "<table border=\"1\" class=\"dataframe\">\n",
       "  <thead>\n",
       "    <tr style=\"text-align: right;\">\n",
       "      <th></th>\n",
       "      <th>EXT_SOURCE_1</th>\n",
       "      <th>EXT_SOURCE_2</th>\n",
       "      <th>EXT_SOURCE_3</th>\n",
       "      <th>DAYS_BIRTH</th>\n",
       "    </tr>\n",
       "  </thead>\n",
       "  <tbody>\n",
       "    <tr>\n",
       "      <th>181648</th>\n",
       "      <td>0.384582</td>\n",
       "      <td>0.289573</td>\n",
       "      <td>0.622922</td>\n",
       "      <td>-12298</td>\n",
       "    </tr>\n",
       "    <tr>\n",
       "      <th>229245</th>\n",
       "      <td>NaN</td>\n",
       "      <td>0.514261</td>\n",
       "      <td>NaN</td>\n",
       "      <td>-15375</td>\n",
       "    </tr>\n",
       "    <tr>\n",
       "      <th>122525</th>\n",
       "      <td>NaN</td>\n",
       "      <td>0.486906</td>\n",
       "      <td>0.598926</td>\n",
       "      <td>-19307</td>\n",
       "    </tr>\n",
       "    <tr>\n",
       "      <th>306311</th>\n",
       "      <td>NaN</td>\n",
       "      <td>0.675705</td>\n",
       "      <td>0.454321</td>\n",
       "      <td>-17791</td>\n",
       "    </tr>\n",
       "    <tr>\n",
       "      <th>300658</th>\n",
       "      <td>NaN</td>\n",
       "      <td>0.154565</td>\n",
       "      <td>NaN</td>\n",
       "      <td>-8486</td>\n",
       "    </tr>\n",
       "    <tr>\n",
       "      <th>...</th>\n",
       "      <td>...</td>\n",
       "      <td>...</td>\n",
       "      <td>...</td>\n",
       "      <td>...</td>\n",
       "    </tr>\n",
       "    <tr>\n",
       "      <th>31304</th>\n",
       "      <td>NaN</td>\n",
       "      <td>0.549668</td>\n",
       "      <td>NaN</td>\n",
       "      <td>-15374</td>\n",
       "    </tr>\n",
       "    <tr>\n",
       "      <th>121193</th>\n",
       "      <td>NaN</td>\n",
       "      <td>0.569702</td>\n",
       "      <td>0.600658</td>\n",
       "      <td>-19035</td>\n",
       "    </tr>\n",
       "    <tr>\n",
       "      <th>248504</th>\n",
       "      <td>NaN</td>\n",
       "      <td>0.461966</td>\n",
       "      <td>0.683269</td>\n",
       "      <td>-23088</td>\n",
       "    </tr>\n",
       "    <tr>\n",
       "      <th>175469</th>\n",
       "      <td>NaN</td>\n",
       "      <td>0.459173</td>\n",
       "      <td>0.812823</td>\n",
       "      <td>-22148</td>\n",
       "    </tr>\n",
       "    <tr>\n",
       "      <th>285162</th>\n",
       "      <td>0.540639</td>\n",
       "      <td>0.008171</td>\n",
       "      <td>0.676993</td>\n",
       "      <td>-22079</td>\n",
       "    </tr>\n",
       "  </tbody>\n",
       "</table>\n",
       "<p>246008 rows × 4 columns</p>\n",
       "</div>"
      ],
      "text/plain": [
       "        EXT_SOURCE_1  EXT_SOURCE_2  EXT_SOURCE_3  DAYS_BIRTH\n",
       "181648      0.384582      0.289573      0.622922      -12298\n",
       "229245           NaN      0.514261           NaN      -15375\n",
       "122525           NaN      0.486906      0.598926      -19307\n",
       "306311           NaN      0.675705      0.454321      -17791\n",
       "300658           NaN      0.154565           NaN       -8486\n",
       "...              ...           ...           ...         ...\n",
       "31304            NaN      0.549668           NaN      -15374\n",
       "121193           NaN      0.569702      0.600658      -19035\n",
       "248504           NaN      0.461966      0.683269      -23088\n",
       "175469           NaN      0.459173      0.812823      -22148\n",
       "285162      0.540639      0.008171      0.676993      -22079\n",
       "\n",
       "[246008 rows x 4 columns]"
      ]
     },
     "execution_count": 17,
     "metadata": {},
     "output_type": "execute_result"
    }
   ],
   "source": [
    "X_train_proc, X_test_proc, y_train_proc, y_test_proc, preproc = prepare_data(\n",
    "    data[\n",
    "        [\"EXT_SOURCE_1\", \"EXT_SOURCE_2\", \"EXT_SOURCE_3\", \"DAYS_BIRTH\", \"TARGET\"]\n",
    "    ],\n",
    "    target_column=\"TARGET\",\n",
    "    categorical_strategy=\"most_frequent\",\n",
    "    outlier_strategy=\"keep\",\n",
    "    outlier_threshold=0.05,\n",
    "    test_size=0.2,\n",
    "    random_state=42,\n",
    "    encode_categoricals=False,\n",
    "    drop_missing_columns=True,\n",
    "    missing_col_threshold=0.6,\n",
    "    polynomial_features=True,\n",
    ")\n",
    "X_train_proc\n"
   ]
  },
  {
   "cell_type": "markdown",
   "id": "c46a531f",
   "metadata": {},
   "source": [
    "# MLFLOW"
   ]
  },
  {
   "cell_type": "code",
   "execution_count": 18,
   "id": "2622c348",
   "metadata": {},
   "outputs": [],
   "source": [
    "def plot_confusion_matrix_heatmap(cm, labels, title=\"Confusion Matrix\"):\n",
    "    plt.figure(figsize=(6, 4))\n",
    "    sns.heatmap(\n",
    "        cm,\n",
    "        annot=True,\n",
    "        fmt=\"d\",\n",
    "        cmap=\"Blues\",\n",
    "        xticklabels=labels,\n",
    "        yticklabels=labels,\n",
    "    )\n",
    "    plt.xlabel(\"Predicted\")\n",
    "    plt.ylabel(\"Actual\")\n",
    "    plt.title(title)\n",
    "    plt.tight_layout()\n",
    "    img_path = \"confusion_matrix_heatmap.png\"\n",
    "    plt.savefig(img_path)\n",
    "    plt.close()\n",
    "    return img_path\n",
    "\n",
    "\n",
    "def evaluate_model(y_true, y_pred, y_proba):\n",
    "    cm = confusion_matrix(y_true, y_pred)\n",
    "    metrics = {\n",
    "        \"accuracy\": accuracy_score(y_true, y_pred),\n",
    "        \"balanced_accuracy\": balanced_accuracy_score(y_true, y_pred),\n",
    "        \"precision\": precision_score(y_true, y_pred),\n",
    "        \"recall\": recall_score(y_true, y_pred),\n",
    "        \"f1\": f1_score(y_true, y_pred),\n",
    "        \"roc_auc\": roc_auc_score(y_true, y_proba),\n",
    "        \"combined_score\": 0.7 * recall_score(y_true, y_pred)\n",
    "        + 0.3 * precision_score(y_true, y_pred),\n",
    "    }\n",
    "    return metrics, cm\n",
    "\n",
    "\n",
    "def log_mlflow_models(\n",
    "    df: pd.DataFrame, pipeline: Any, artifact_path: str\n",
    ") -> None:\n",
    "    \"\"\"\n",
    "    Logs a trained scikit-learn pipeline to MLflow, including input signature and example.\n",
    "\n",
    "    Args:\n",
    "        df (pd.DataFrame): Input features used to infer the model signature and create an input example.\n",
    "        pipeline (Any): Trained scikit-learn pipeline to log.\n",
    "        artifact_path (str): Path in the MLflow run where the model will be saved (e.g., \"model\", \"model_final\").\n",
    "\n",
    "    Returns:\n",
    "        None\n",
    "    \"\"\"\n",
    "\n",
    "    signature = infer_signature(df, pipeline.predict(df))\n",
    "    input_example = df.dropna().iloc[:5]\n",
    "\n",
    "    mlflow.sklearn.log_model(\n",
    "        pipeline,\n",
    "        artifact_path=artifact_path,\n",
    "        signature=signature,\n",
    "        input_example=input_example,\n",
    "    )\n"
   ]
  },
  {
   "cell_type": "code",
   "execution_count": 33,
   "id": "e903f6f3",
   "metadata": {},
   "outputs": [],
   "source": [
    "def run_experiment(\n",
    "    model_name,\n",
    "    model_class,\n",
    "    param_space_fn,\n",
    "    dataset_name,\n",
    "    X_train,\n",
    "    X_test,\n",
    "    y_train,\n",
    "    y_test,\n",
    "    preprocessor,\n",
    "    cv=5,\n",
    "    n_trials=30,\n",
    "):\n",
    "    experiment_name = f\"{model_name}\"\n",
    "    mlflow.set_experiment(experiment_name)\n",
    "\n",
    "    with mlflow.start_run(run_name=f\"{model_name}__{dataset_name}__study_run\"):\n",
    "        mlflow.set_tag(\"model_type\", model_name)\n",
    "        mlflow.set_tag(\"dataset\", dataset_name)\n",
    "        mlflow.set_tag(\"experiment_level\", \"test\")\n",
    "\n",
    "        def objective(trial):\n",
    "            trial_params = param_space_fn(trial)\n",
    "            threshold = trial.suggest_float(\"threshold\", 0.1, 0.5, step=0.01)\n",
    "\n",
    "            with mlflow.start_run(nested=True):\n",
    "                mlflow.set_tag(\"model_type\", model_name)\n",
    "                mlflow.set_tag(\"dataset\", dataset_name)\n",
    "                mlflow.set_tag(\"experiment_level\", \"trial\")\n",
    "                mlflow.set_tag(\"trial_number\", trial.number)\n",
    "                mlflow.log_param(\"threshold\", threshold)\n",
    "                mlflow.log_param(\"cv_folds\", cv)\n",
    "                mlflow.log_param(\"dataset_name\", dataset_name)\n",
    "                mlflow.log_param(\"n_trials\", n_trials)\n",
    "\n",
    "                for param_name, param_value in trial_params.items():\n",
    "                    if param_name == \"classifier__class_weight\" and isinstance(\n",
    "                        param_value, dict\n",
    "                    ):\n",
    "                        mlflow.log_param(\"pos_weight\", param_value.get(1))\n",
    "                    else:\n",
    "                        clean_name = param_name.replace(\"classifier__\", \"\")\n",
    "                        mlflow.log_param(clean_name, param_value)\n",
    "\n",
    "                pipeline = Pipeline(\n",
    "                    [\n",
    "                        (\"preprocessing\", preprocessor),\n",
    "                        (\"classifier\", model_class(random_state=42, n_jobs=1)),\n",
    "                    ]\n",
    "                )\n",
    "                pipeline.set_params(**trial_params)\n",
    "\n",
    "                kf = StratifiedKFold(n_splits=cv, shuffle=True, random_state=42)\n",
    "                recall_scores = []\n",
    "                precision_scores = []\n",
    "                accuracy_scores = []\n",
    "                f1_scores = []\n",
    "                balanced_accuracy_scores = []\n",
    "                roc_auc_scores = []\n",
    "\n",
    "                for fold_idx, (train_idx, val_idx) in enumerate(\n",
    "                    kf.split(X_train, y_train)\n",
    "                ):\n",
    "                    X_tr, X_val = X_train.iloc[train_idx], X_train.iloc[val_idx]\n",
    "                    y_tr, y_val = y_train.iloc[train_idx], y_train.iloc[val_idx]\n",
    "\n",
    "                    pipeline.fit(X_tr, y_tr)\n",
    "                    y_proba = pipeline.predict_proba(X_val)[:, 1]\n",
    "                    y_pred = (y_proba > threshold).astype(int)\n",
    "\n",
    "                    recall = recall_score(y_val, y_pred)\n",
    "                    precision = precision_score(y_val, y_pred)\n",
    "                    accuracy = accuracy_score(y_val, y_pred)\n",
    "                    f1 = f1_score(y_val, y_pred)\n",
    "                    balanced_accuracy = balanced_accuracy_score(y_val, y_pred)\n",
    "                    roc_auc = roc_auc_score(y_val, y_proba)\n",
    "\n",
    "                    recall_scores.append(recall)\n",
    "                    precision_scores.append(precision)\n",
    "                    accuracy_scores.append(accuracy)\n",
    "                    f1_scores.append(f1)\n",
    "                    balanced_accuracy_scores.append(balanced_accuracy)\n",
    "                    roc_auc_scores.append(roc_auc)\n",
    "\n",
    "                    # # Optuna pruner: report step-wise performance\n",
    "                    # trial.report(f1, step=fold_idx)\n",
    "\n",
    "                    # if trial.should_prune():\n",
    "                    #     mlflow.log_param(\"pruned_at_step\", fold_idx)\n",
    "                    #     mlflow.log_metric(\"partial_f1\", f1)\n",
    "                    #     print(\n",
    "                    #         f\"⏹️ Trial {trial.number} pruned at fold {fold_idx} (f1={f1:.4f})\"\n",
    "                    #     )\n",
    "                    #     raise optuna.exceptions.TrialPruned()\n",
    "\n",
    "                avg_recall = np.mean(recall_scores)\n",
    "                avg_precision = np.mean(precision_scores)\n",
    "                avg_accuracy = np.mean(accuracy_scores)\n",
    "                avg_f1 = np.mean(f1_scores)\n",
    "                avg_balanced_accuracy = np.mean(balanced_accuracy_scores)\n",
    "                avg_roc_auc = np.mean(roc_auc_scores)\n",
    "\n",
    "                mlflow.log_metric(\"recall\", avg_recall)\n",
    "                mlflow.log_metric(\"precision\", avg_precision)\n",
    "                mlflow.log_metric(\"accuracy\", avg_accuracy)\n",
    "                mlflow.log_metric(\"f1\", avg_f1)\n",
    "                mlflow.log_metric(\"balanced_accuracy\", avg_balanced_accuracy)\n",
    "\n",
    "                combined_score = 0.8 * avg_recall + 0.2 * avg_precision\n",
    "                mlflow.log_metric(\"combined_score\", combined_score)\n",
    "                mlflow.log_metric(\"roc_auc\", avg_roc_auc)\n",
    "\n",
    "                log_mlflow_models(\n",
    "                    X_train,\n",
    "                    pipeline,\n",
    "                    \"model\",\n",
    "                )\n",
    "\n",
    "                return combined_score\n",
    "\n",
    "        # pruner=optuna.pruners.MedianPruner(n_startup_trials=5)\n",
    "        study = optuna.create_study(direction=\"maximize\")\n",
    "        study.optimize(objective, n_trials=n_trials, n_jobs=1)\n",
    "\n",
    "        best_params = study.best_params\n",
    "        best_threshold = best_params.pop(\"threshold\")\n",
    "        solver_penalty = study.best_params.get(\"solver_penalty\")\n",
    "        class_weight = study.best_params.get(\"positive_class_weight\")\n",
    "\n",
    "        if solver_penalty:\n",
    "            solver, penalty = solver_penalty.split(\"__\")\n",
    "        best_params = {\n",
    "            k: v for k, v in best_params.items() if k.startswith(\"classifier__\")\n",
    "        }\n",
    "        # Récupère les paramètres globaux\n",
    "\n",
    "        mlflow.log_param(\"cv_folds\", cv)\n",
    "        mlflow.log_param(\"dataset_name\", dataset_name)\n",
    "        mlflow.log_param(\"n_trials\", n_trials)\n",
    "        mlflow.log_param(\"threshold\", best_threshold)\n",
    "        for param_name, param_value in best_params.items():\n",
    "            clean_name = param_name.replace(\"classifier__\", \"\")\n",
    "            mlflow.log_param(clean_name, param_value)\n",
    "        if model_class == LogisticRegression:\n",
    "            mlflow.log_param(\"solver\", solver)\n",
    "            mlflow.log_param(\"penalty\", penalty)\n",
    "        mlflow.log_param(\"pos_weight\", class_weight)\n",
    "\n",
    "        pipeline = Pipeline(\n",
    "            [\n",
    "                (\"preprocessing\", preprocessor),\n",
    "                (\"classifier\", model_class(random_state=42, n_jobs=1)),\n",
    "            ]\n",
    "        )\n",
    "        pipeline.set_params(**best_params)\n",
    "        pipeline.fit(X_train, y_train)\n",
    "\n",
    "        y_proba = pipeline.predict_proba(X_test)[:, 1]\n",
    "        y_pred = (y_proba > best_threshold).astype(int)\n",
    "\n",
    "        metrics, cm = evaluate_model(y_test, y_pred, y_proba)\n",
    "        for key, value in metrics.items():\n",
    "            mlflow.log_metric(key, value)\n",
    "\n",
    "        img_path = plot_confusion_matrix_heatmap(\n",
    "            cm, labels=[0, 1], title=experiment_name\n",
    "        )\n",
    "        mlflow.log_artifact(img_path)\n",
    "        os.remove(img_path)\n",
    "\n",
    "        report_str = classification_report(y_test, y_pred)\n",
    "        report_path_txt = \"classification_report.txt\"\n",
    "        with open(report_path_txt, \"w\") as f:\n",
    "            f.write(report_str)\n",
    "        mlflow.log_artifact(report_path_txt)\n",
    "        os.remove(report_path_txt)\n",
    "\n",
    "        log_mlflow_models(\n",
    "            X_train,\n",
    "            pipeline,\n",
    "            \"model_final\",\n",
    "        )\n"
   ]
  },
  {
   "cell_type": "markdown",
   "id": "a15785ff",
   "metadata": {},
   "source": [
    "# Param space"
   ]
  },
  {
   "cell_type": "code",
   "execution_count": 20,
   "id": "6e34ac54",
   "metadata": {},
   "outputs": [],
   "source": [
    "def xgboost_param_space(\n",
    "    trial: optuna.trial.Trial,\n",
    "    n_estimators_range: Tuple[int, int],\n",
    "    max_depth_range: Tuple[int, int],\n",
    "    learning_rate_range: Tuple[float, float],\n",
    "    subsample_range: Tuple[float, float],\n",
    "    colsample_bytree_range: Tuple[float, float],\n",
    "    gamma_range: Tuple[float, float],\n",
    "    reg_alpha_range: Tuple[float, float],\n",
    "    reg_lambda_range: Tuple[float, float],\n",
    "    scale_pos_weight_range: Tuple[float, float],\n",
    ") -> Dict[str, Any]:\n",
    "    \"\"\"\n",
    "    Suggests a hyperparameter configuration for an XGBoost classifier using Optuna.\n",
    "\n",
    "    Args:\n",
    "        trial: Optuna trial object used to sample hyperparameters.\n",
    "        n_estimators_range: Range for the number of boosting rounds.\n",
    "        max_depth_range: Range for maximum tree depth.\n",
    "        learning_rate_range: Range for learning rate (log scale recommended).\n",
    "        subsample_range: Range for row subsampling.\n",
    "        colsample_bytree_range: Range for feature subsampling.\n",
    "        gamma_range: Range for minimum loss reduction to split a node.\n",
    "        reg_alpha_range: L1 regularization term.\n",
    "        reg_lambda_range: L2 regularization term.\n",
    "        scale_pos_weight_range: Range for the ratio of negative to positive samples (class imbalance correction).\n",
    "\n",
    "    Returns:\n",
    "        A dictionary of hyperparameters for a scikit-learn Pipeline using XGBClassifier.\n",
    "    \"\"\"\n",
    "    params = {\n",
    "        \"classifier__n_estimators\": trial.suggest_int(\n",
    "            \"classifier__n_estimators\", *n_estimators_range\n",
    "        ),\n",
    "        \"classifier__max_depth\": trial.suggest_int(\n",
    "            \"classifier__max_depth\", *max_depth_range\n",
    "        ),\n",
    "        \"classifier__learning_rate\": trial.suggest_float(\n",
    "            \"classifier__learning_rate\", *learning_rate_range, log=True\n",
    "        ),\n",
    "        \"classifier__subsample\": trial.suggest_float(\n",
    "            \"classifier__subsample\", *subsample_range\n",
    "        ),\n",
    "        \"classifier__colsample_bytree\": trial.suggest_float(\n",
    "            \"classifier__colsample_bytree\", *colsample_bytree_range\n",
    "        ),\n",
    "        \"classifier__gamma\": trial.suggest_float(\n",
    "            \"classifier__gamma\", *gamma_range\n",
    "        ),\n",
    "        \"classifier__reg_alpha\": trial.suggest_float(\n",
    "            \"classifier__reg_alpha\", *reg_alpha_range\n",
    "        ),\n",
    "        \"classifier__reg_lambda\": trial.suggest_float(\n",
    "            \"classifier__reg_lambda\", *reg_lambda_range\n",
    "        ),\n",
    "        \"classifier__scale_pos_weight\": trial.suggest_float(\n",
    "            \"classifier__scale_pos_weight\", *scale_pos_weight_range\n",
    "        ),\n",
    "    }\n",
    "    return params\n"
   ]
  },
  {
   "cell_type": "markdown",
   "id": "ba74354f",
   "metadata": {},
   "source": [
    "# Run"
   ]
  },
  {
   "cell_type": "markdown",
   "id": "bfe89403",
   "metadata": {},
   "source": [
    "## Logistic  Regression\n"
   ]
  },
  {
   "cell_type": "code",
   "execution_count": 21,
   "id": "7cea94a0",
   "metadata": {},
   "outputs": [],
   "source": [
    "def logistic_regression_param_space(\n",
    "    trial: optuna.trial.Trial,\n",
    "    class_weight_range: Tuple[float, float],\n",
    "    max_iter_range: Tuple[int, int],\n",
    "    tol_range: Tuple[float, float],\n",
    "    C_range: Tuple[float, float],\n",
    "    l1_ratio_range: Tuple[float, float],\n",
    ") -> Dict[str, Any]:\n",
    "    \"\"\"\n",
    "    Suggests a hyperparameter configuration for a LogisticRegression classifier using Optuna.\n",
    "\n",
    "    Args:\n",
    "        trial: Optuna trial object used to sample hyperparameters.\n",
    "        class_weight_range: Range for the positive class weight (e.g., (1, 100)).\n",
    "        max_iter_range: Range for the maximum number of iterations.\n",
    "        tol_range: Range for solver tolerance (log scale recommended).\n",
    "        C_range: Range for the inverse of regularization strength (log scale).\n",
    "        l1_ratio_range: Range for L1 mixing ratio (only used if penalty='elasticnet').\n",
    "\n",
    "    Returns:\n",
    "        A dictionary of hyperparameters with keys prefixed by 'classifier__', ready to be passed to a scikit-learn Pipeline.\n",
    "    \"\"\"\n",
    "    valid_combos = [\n",
    "        \"liblinear__l1\",\n",
    "        \"liblinear__l2\",\n",
    "        \"lbfgs__l2\",\n",
    "        \"saga__l1\",\n",
    "        \"saga__l2\",\n",
    "        \"saga__elasticnet\",\n",
    "    ]\n",
    "    combo = trial.suggest_categorical(\"solver_penalty\", valid_combos)\n",
    "    solver, penalty = combo.split(\"__\")\n",
    "\n",
    "    pos_weight = trial.suggest_float(\n",
    "        \"positive_class_weight\", *class_weight_range\n",
    "    )\n",
    "    class_weight = {0: 1, 1: pos_weight}\n",
    "\n",
    "    params = {\n",
    "        \"classifier__solver\": solver,\n",
    "        \"classifier__penalty\": penalty,\n",
    "        \"classifier__max_iter\": trial.suggest_int(\n",
    "            \"classifier__max_iter\", *max_iter_range\n",
    "        ),\n",
    "        \"classifier__tol\": trial.suggest_float(\n",
    "            \"classifier__tol\", *tol_range, log=True\n",
    "        ),\n",
    "        \"classifier__class_weight\": class_weight,\n",
    "    }\n",
    "\n",
    "    if penalty is not None:\n",
    "        params[\"classifier__C\"] = trial.suggest_float(\n",
    "            \"classifier__C\", *C_range, log=True\n",
    "        )\n",
    "\n",
    "    if penalty == \"elasticnet\":\n",
    "        params[\"classifier__l1_ratio\"] = trial.suggest_float(\n",
    "            \"classifier__l1_ratio\", *l1_ratio_range\n",
    "        )\n",
    "\n",
    "    return params\n",
    "\n",
    "\n",
    "lr_param_space = partial(\n",
    "    logistic_regression_param_space,\n",
    "    class_weight_range=(1, 100),\n",
    "    max_iter_range=(100, 300),\n",
    "    tol_range=(1e-4, 1e-2),\n",
    "    C_range=(0.01, 10),\n",
    "    l1_ratio_range=(0.0, 1.0),\n",
    ")\n"
   ]
  },
  {
   "cell_type": "code",
   "execution_count": 22,
   "id": "643962e9",
   "metadata": {},
   "outputs": [
    {
     "name": "stdout",
     "output_type": "stream",
     "text": [
      "🧹 Dropping 41 column(s) with missing ratio ≥ 0.5:\n",
      " - OWN_CAR_AGE\n",
      " - EXT_SOURCE_1\n",
      " - APARTMENTS_AVG\n",
      " - BASEMENTAREA_AVG\n",
      " - YEARS_BUILD_AVG\n",
      " - COMMONAREA_AVG\n",
      " - ELEVATORS_AVG\n",
      " - ENTRANCES_AVG\n",
      " - FLOORSMIN_AVG\n",
      " - LANDAREA_AVG\n",
      " - LIVINGAPARTMENTS_AVG\n",
      " - LIVINGAREA_AVG\n",
      " - NONLIVINGAPARTMENTS_AVG\n",
      " - NONLIVINGAREA_AVG\n",
      " - APARTMENTS_MODE\n",
      " - BASEMENTAREA_MODE\n",
      " - YEARS_BUILD_MODE\n",
      " - COMMONAREA_MODE\n",
      " - ELEVATORS_MODE\n",
      " - ENTRANCES_MODE\n",
      " - FLOORSMIN_MODE\n",
      " - LANDAREA_MODE\n",
      " - LIVINGAPARTMENTS_MODE\n",
      " - LIVINGAREA_MODE\n",
      " - NONLIVINGAPARTMENTS_MODE\n",
      " - NONLIVINGAREA_MODE\n",
      " - APARTMENTS_MEDI\n",
      " - BASEMENTAREA_MEDI\n",
      " - YEARS_BUILD_MEDI\n",
      " - COMMONAREA_MEDI\n",
      " - ELEVATORS_MEDI\n",
      " - ENTRANCES_MEDI\n",
      " - FLOORSMIN_MEDI\n",
      " - LANDAREA_MEDI\n",
      " - LIVINGAPARTMENTS_MEDI\n",
      " - LIVINGAREA_MEDI\n",
      " - NONLIVINGAPARTMENTS_MEDI\n",
      " - NONLIVINGAREA_MEDI\n",
      " - FONDKAPREMONT_MODE\n",
      " - HOUSETYPE_MODE\n",
      " - WALLSMATERIAL_MODE\n",
      "Found 67 numerical features\n",
      "Found 4 binary features\n",
      "Found 9 categorical features\n"
     ]
    },
    {
     "name": "stderr",
     "output_type": "stream",
     "text": [
      "[I 2025-05-08 17:20:46,419] A new study created in memory with name: no-name-feec3b71-cf4e-4226-860f-01c7c01447c0\n",
      "/Users/jeremy/code/ocr/p7_pret_a_depenser/venv/lib/python3.12/site-packages/sklearn/linear_model/_logistic.py:1271: UserWarning: 'n_jobs' > 1 does not have any effect when 'solver' is set to 'liblinear'. Got 'n_jobs' = 2.\n",
      "  warnings.warn(\n",
      "/Users/jeremy/code/ocr/p7_pret_a_depenser/venv/lib/python3.12/site-packages/sklearn/linear_model/_logistic.py:1271: UserWarning: 'n_jobs' > 1 does not have any effect when 'solver' is set to 'liblinear'. Got 'n_jobs' = 2.\n",
      "  warnings.warn(\n",
      "/Users/jeremy/code/ocr/p7_pret_a_depenser/venv/lib/python3.12/site-packages/sklearn/linear_model/_logistic.py:1271: UserWarning: 'n_jobs' > 1 does not have any effect when 'solver' is set to 'liblinear'. Got 'n_jobs' = 2.\n",
      "  warnings.warn(\n",
      "/Users/jeremy/code/ocr/p7_pret_a_depenser/venv/lib/python3.12/site-packages/sklearn/linear_model/_logistic.py:1271: UserWarning: 'n_jobs' > 1 does not have any effect when 'solver' is set to 'liblinear'. Got 'n_jobs' = 2.\n",
      "  warnings.warn(\n",
      "/Users/jeremy/code/ocr/p7_pret_a_depenser/venv/lib/python3.12/site-packages/sklearn/linear_model/_logistic.py:1271: UserWarning: 'n_jobs' > 1 does not have any effect when 'solver' is set to 'liblinear'. Got 'n_jobs' = 2.\n",
      "  warnings.warn(\n",
      "[I 2025-05-08 17:21:03,958] Trial 0 finished with value: 0.8160500084049103 and parameters: {'solver_penalty': 'liblinear__l2', 'positive_class_weight': 75.27809140575872, 'classifier__max_iter': 219, 'classifier__tol': 0.009424595824117364, 'classifier__C': 0.02367591651201649, 'threshold': 0.38}. Best is trial 0 with value: 0.8160500084049103.\n"
     ]
    },
    {
     "name": "stdout",
     "output_type": "stream",
     "text": [
      "🏃 View run vaunted-wolf-202 at: http://127.0.0.1:8080/#/experiments/579090426674828470/runs/68e330edaf154ff899074f6ef0e5caf5\n",
      "🧪 View experiment at: http://127.0.0.1:8080/#/experiments/579090426674828470\n"
     ]
    },
    {
     "name": "stderr",
     "output_type": "stream",
     "text": [
      "/Users/jeremy/code/ocr/p7_pret_a_depenser/venv/lib/python3.12/site-packages/sklearn/linear_model/_sag.py:348: ConvergenceWarning: The max_iter was reached which means the coef_ did not converge\n",
      "  warnings.warn(\n",
      "/Users/jeremy/code/ocr/p7_pret_a_depenser/venv/lib/python3.12/site-packages/sklearn/linear_model/_sag.py:348: ConvergenceWarning: The max_iter was reached which means the coef_ did not converge\n",
      "  warnings.warn(\n",
      "/Users/jeremy/code/ocr/p7_pret_a_depenser/venv/lib/python3.12/site-packages/sklearn/linear_model/_sag.py:348: ConvergenceWarning: The max_iter was reached which means the coef_ did not converge\n",
      "  warnings.warn(\n",
      "/Users/jeremy/code/ocr/p7_pret_a_depenser/venv/lib/python3.12/site-packages/sklearn/linear_model/_sag.py:348: ConvergenceWarning: The max_iter was reached which means the coef_ did not converge\n",
      "  warnings.warn(\n",
      "/Users/jeremy/code/ocr/p7_pret_a_depenser/venv/lib/python3.12/site-packages/sklearn/linear_model/_sag.py:348: ConvergenceWarning: The max_iter was reached which means the coef_ did not converge\n",
      "  warnings.warn(\n",
      "[I 2025-05-08 17:24:12,089] Trial 1 finished with value: 0.7847562346138246 and parameters: {'solver_penalty': 'saga__l1', 'positive_class_weight': 68.59983341023863, 'classifier__max_iter': 134, 'classifier__tol': 0.00705112661923377, 'classifier__C': 0.16863825214590725, 'threshold': 0.23}. Best is trial 0 with value: 0.8160500084049103.\n"
     ]
    },
    {
     "name": "stdout",
     "output_type": "stream",
     "text": [
      "🏃 View run dazzling-koi-576 at: http://127.0.0.1:8080/#/experiments/579090426674828470/runs/c08f268d1fce430798c78646d25d1c8a\n",
      "🧪 View experiment at: http://127.0.0.1:8080/#/experiments/579090426674828470\n"
     ]
    },
    {
     "name": "stderr",
     "output_type": "stream",
     "text": [
      "/Users/jeremy/code/ocr/p7_pret_a_depenser/venv/lib/python3.12/site-packages/sklearn/linear_model/_sag.py:348: ConvergenceWarning: The max_iter was reached which means the coef_ did not converge\n",
      "  warnings.warn(\n",
      "/Users/jeremy/code/ocr/p7_pret_a_depenser/venv/lib/python3.12/site-packages/sklearn/linear_model/_sag.py:348: ConvergenceWarning: The max_iter was reached which means the coef_ did not converge\n",
      "  warnings.warn(\n",
      "/Users/jeremy/code/ocr/p7_pret_a_depenser/venv/lib/python3.12/site-packages/sklearn/linear_model/_sag.py:348: ConvergenceWarning: The max_iter was reached which means the coef_ did not converge\n",
      "  warnings.warn(\n",
      "/Users/jeremy/code/ocr/p7_pret_a_depenser/venv/lib/python3.12/site-packages/sklearn/linear_model/_sag.py:348: ConvergenceWarning: The max_iter was reached which means the coef_ did not converge\n",
      "  warnings.warn(\n",
      "/Users/jeremy/code/ocr/p7_pret_a_depenser/venv/lib/python3.12/site-packages/sklearn/linear_model/_sag.py:348: ConvergenceWarning: The max_iter was reached which means the coef_ did not converge\n",
      "  warnings.warn(\n",
      "[I 2025-05-08 17:27:22,126] Trial 2 finished with value: 0.6325934007018018 and parameters: {'solver_penalty': 'saga__l2', 'positive_class_weight': 53.85226301332476, 'classifier__max_iter': 229, 'classifier__tol': 0.00026380870494884364, 'classifier__C': 0.04463000374297966, 'threshold': 0.19}. Best is trial 0 with value: 0.8160500084049103.\n"
     ]
    },
    {
     "name": "stdout",
     "output_type": "stream",
     "text": [
      "🏃 View run hilarious-grub-937 at: http://127.0.0.1:8080/#/experiments/579090426674828470/runs/8e9542459aef4e40a969702dfd0e7cd8\n",
      "🧪 View experiment at: http://127.0.0.1:8080/#/experiments/579090426674828470\n"
     ]
    },
    {
     "name": "stderr",
     "output_type": "stream",
     "text": [
      "/Users/jeremy/code/ocr/p7_pret_a_depenser/venv/lib/python3.12/site-packages/sklearn/linear_model/_logistic.py:1271: UserWarning: 'n_jobs' > 1 does not have any effect when 'solver' is set to 'liblinear'. Got 'n_jobs' = 2.\n",
      "  warnings.warn(\n",
      "/Users/jeremy/code/ocr/p7_pret_a_depenser/venv/lib/python3.12/site-packages/sklearn/linear_model/_logistic.py:1271: UserWarning: 'n_jobs' > 1 does not have any effect when 'solver' is set to 'liblinear'. Got 'n_jobs' = 2.\n",
      "  warnings.warn(\n",
      "/Users/jeremy/code/ocr/p7_pret_a_depenser/venv/lib/python3.12/site-packages/sklearn/linear_model/_logistic.py:1271: UserWarning: 'n_jobs' > 1 does not have any effect when 'solver' is set to 'liblinear'. Got 'n_jobs' = 2.\n",
      "  warnings.warn(\n",
      "/Users/jeremy/code/ocr/p7_pret_a_depenser/venv/lib/python3.12/site-packages/sklearn/linear_model/_logistic.py:1271: UserWarning: 'n_jobs' > 1 does not have any effect when 'solver' is set to 'liblinear'. Got 'n_jobs' = 2.\n",
      "  warnings.warn(\n",
      "/Users/jeremy/code/ocr/p7_pret_a_depenser/venv/lib/python3.12/site-packages/sklearn/linear_model/_logistic.py:1271: UserWarning: 'n_jobs' > 1 does not have any effect when 'solver' is set to 'liblinear'. Got 'n_jobs' = 2.\n",
      "  warnings.warn(\n",
      "[I 2025-05-08 17:27:41,009] Trial 3 finished with value: 0.5446776806464679 and parameters: {'solver_penalty': 'liblinear__l2', 'positive_class_weight': 1.8295040009262657, 'classifier__max_iter': 100, 'classifier__tol': 0.00017413097931206538, 'classifier__C': 0.046411279469258396, 'threshold': 0.14}. Best is trial 0 with value: 0.8160500084049103.\n"
     ]
    },
    {
     "name": "stdout",
     "output_type": "stream",
     "text": [
      "🏃 View run adorable-dove-239 at: http://127.0.0.1:8080/#/experiments/579090426674828470/runs/381e62bb9bfe4d55927dce13e91334f3\n",
      "🧪 View experiment at: http://127.0.0.1:8080/#/experiments/579090426674828470\n"
     ]
    },
    {
     "name": "stderr",
     "output_type": "stream",
     "text": [
      "[I 2025-05-08 17:27:59,830] Trial 4 finished with value: 0.8161085287889263 and parameters: {'solver_penalty': 'lbfgs__l2', 'positive_class_weight': 18.875860163364145, 'classifier__max_iter': 280, 'classifier__tol': 0.001262164458140034, 'classifier__C': 0.044384142471275076, 'threshold': 0.1}. Best is trial 4 with value: 0.8161085287889263.\n"
     ]
    },
    {
     "name": "stdout",
     "output_type": "stream",
     "text": [
      "🏃 View run gifted-snipe-963 at: http://127.0.0.1:8080/#/experiments/579090426674828470/runs/f6392c09efc94d08840ef108be9e4803\n",
      "🧪 View experiment at: http://127.0.0.1:8080/#/experiments/579090426674828470\n"
     ]
    },
    {
     "name": "stderr",
     "output_type": "stream",
     "text": [
      "[I 2025-05-08 17:28:24,399] Trial 5 finished with value: 0.36649114103367586 and parameters: {'solver_penalty': 'saga__l2', 'positive_class_weight': 3.7724351430333343, 'classifier__max_iter': 179, 'classifier__tol': 0.0034831754453284606, 'classifier__C': 0.01873803164975516, 'threshold': 0.33999999999999997}. Best is trial 4 with value: 0.8161085287889263.\n"
     ]
    },
    {
     "name": "stdout",
     "output_type": "stream",
     "text": [
      "🏃 View run fun-carp-30 at: http://127.0.0.1:8080/#/experiments/579090426674828470/runs/4b239526471c428797032b5e189aed8f\n",
      "🧪 View experiment at: http://127.0.0.1:8080/#/experiments/579090426674828470\n"
     ]
    },
    {
     "name": "stderr",
     "output_type": "stream",
     "text": [
      "/Users/jeremy/code/ocr/p7_pret_a_depenser/venv/lib/python3.12/site-packages/sklearn/linear_model/_logistic.py:1271: UserWarning: 'n_jobs' > 1 does not have any effect when 'solver' is set to 'liblinear'. Got 'n_jobs' = 2.\n",
      "  warnings.warn(\n",
      "/Users/jeremy/code/ocr/p7_pret_a_depenser/venv/lib/python3.12/site-packages/sklearn/linear_model/_logistic.py:1271: UserWarning: 'n_jobs' > 1 does not have any effect when 'solver' is set to 'liblinear'. Got 'n_jobs' = 2.\n",
      "  warnings.warn(\n",
      "/Users/jeremy/code/ocr/p7_pret_a_depenser/venv/lib/python3.12/site-packages/sklearn/linear_model/_logistic.py:1271: UserWarning: 'n_jobs' > 1 does not have any effect when 'solver' is set to 'liblinear'. Got 'n_jobs' = 2.\n",
      "  warnings.warn(\n",
      "/Users/jeremy/code/ocr/p7_pret_a_depenser/venv/lib/python3.12/site-packages/sklearn/linear_model/_logistic.py:1271: UserWarning: 'n_jobs' > 1 does not have any effect when 'solver' is set to 'liblinear'. Got 'n_jobs' = 2.\n",
      "  warnings.warn(\n",
      "/Users/jeremy/code/ocr/p7_pret_a_depenser/venv/lib/python3.12/site-packages/sklearn/linear_model/_logistic.py:1271: UserWarning: 'n_jobs' > 1 does not have any effect when 'solver' is set to 'liblinear'. Got 'n_jobs' = 2.\n",
      "  warnings.warn(\n",
      "[I 2025-05-08 17:28:50,048] Trial 6 finished with value: 0.8161458163978155 and parameters: {'solver_penalty': 'liblinear__l1', 'positive_class_weight': 60.31843919303913, 'classifier__max_iter': 222, 'classifier__tol': 0.0024381060808598537, 'classifier__C': 0.02087077363285046, 'threshold': 0.11}. Best is trial 6 with value: 0.8161458163978155.\n"
     ]
    },
    {
     "name": "stdout",
     "output_type": "stream",
     "text": [
      "🏃 View run unequaled-colt-311 at: http://127.0.0.1:8080/#/experiments/579090426674828470/runs/9bc9414e9dac407d8d6a006ec1ec8258\n",
      "🧪 View experiment at: http://127.0.0.1:8080/#/experiments/579090426674828470\n"
     ]
    },
    {
     "name": "stderr",
     "output_type": "stream",
     "text": [
      "/Users/jeremy/code/ocr/p7_pret_a_depenser/venv/lib/python3.12/site-packages/sklearn/linear_model/_sag.py:348: ConvergenceWarning: The max_iter was reached which means the coef_ did not converge\n",
      "  warnings.warn(\n",
      "/Users/jeremy/code/ocr/p7_pret_a_depenser/venv/lib/python3.12/site-packages/sklearn/linear_model/_sag.py:348: ConvergenceWarning: The max_iter was reached which means the coef_ did not converge\n",
      "  warnings.warn(\n",
      "/Users/jeremy/code/ocr/p7_pret_a_depenser/venv/lib/python3.12/site-packages/sklearn/linear_model/_sag.py:348: ConvergenceWarning: The max_iter was reached which means the coef_ did not converge\n",
      "  warnings.warn(\n",
      "/Users/jeremy/code/ocr/p7_pret_a_depenser/venv/lib/python3.12/site-packages/sklearn/linear_model/_sag.py:348: ConvergenceWarning: The max_iter was reached which means the coef_ did not converge\n",
      "  warnings.warn(\n",
      "/Users/jeremy/code/ocr/p7_pret_a_depenser/venv/lib/python3.12/site-packages/sklearn/linear_model/_sag.py:348: ConvergenceWarning: The max_iter was reached which means the coef_ did not converge\n",
      "  warnings.warn(\n",
      "[I 2025-05-08 17:32:39,072] Trial 7 finished with value: 0.7618996141216764 and parameters: {'solver_penalty': 'saga__l2', 'positive_class_weight': 73.63121520297534, 'classifier__max_iter': 273, 'classifier__tol': 0.00027158919495352834, 'classifier__C': 0.043581946734786985, 'threshold': 0.22}. Best is trial 6 with value: 0.8161458163978155.\n"
     ]
    },
    {
     "name": "stdout",
     "output_type": "stream",
     "text": [
      "🏃 View run sincere-grub-33 at: http://127.0.0.1:8080/#/experiments/579090426674828470/runs/9c220c7eb51a4626a60d9675a3e3d038\n",
      "🧪 View experiment at: http://127.0.0.1:8080/#/experiments/579090426674828470\n"
     ]
    },
    {
     "name": "stderr",
     "output_type": "stream",
     "text": [
      "/Users/jeremy/code/ocr/p7_pret_a_depenser/venv/lib/python3.12/site-packages/sklearn/linear_model/_logistic.py:1271: UserWarning: 'n_jobs' > 1 does not have any effect when 'solver' is set to 'liblinear'. Got 'n_jobs' = 2.\n",
      "  warnings.warn(\n",
      "/Users/jeremy/code/ocr/p7_pret_a_depenser/venv/lib/python3.12/site-packages/sklearn/linear_model/_logistic.py:1271: UserWarning: 'n_jobs' > 1 does not have any effect when 'solver' is set to 'liblinear'. Got 'n_jobs' = 2.\n",
      "  warnings.warn(\n",
      "/Users/jeremy/code/ocr/p7_pret_a_depenser/venv/lib/python3.12/site-packages/sklearn/linear_model/_logistic.py:1271: UserWarning: 'n_jobs' > 1 does not have any effect when 'solver' is set to 'liblinear'. Got 'n_jobs' = 2.\n",
      "  warnings.warn(\n",
      "/Users/jeremy/code/ocr/p7_pret_a_depenser/venv/lib/python3.12/site-packages/sklearn/linear_model/_logistic.py:1271: UserWarning: 'n_jobs' > 1 does not have any effect when 'solver' is set to 'liblinear'. Got 'n_jobs' = 2.\n",
      "  warnings.warn(\n",
      "/Users/jeremy/code/ocr/p7_pret_a_depenser/venv/lib/python3.12/site-packages/sklearn/linear_model/_logistic.py:1271: UserWarning: 'n_jobs' > 1 does not have any effect when 'solver' is set to 'liblinear'. Got 'n_jobs' = 2.\n",
      "  warnings.warn(\n",
      "[I 2025-05-08 17:32:59,123] Trial 8 finished with value: 0.8161150973878043 and parameters: {'solver_penalty': 'liblinear__l2', 'positive_class_weight': 93.3864559105265, 'classifier__max_iter': 272, 'classifier__tol': 0.0003278096609715369, 'classifier__C': 0.014414924849348922, 'threshold': 0.38}. Best is trial 6 with value: 0.8161458163978155.\n"
     ]
    },
    {
     "name": "stdout",
     "output_type": "stream",
     "text": [
      "🏃 View run calm-horse-323 at: http://127.0.0.1:8080/#/experiments/579090426674828470/runs/e25df1943b9c46fcbfcc417cb6a94754\n",
      "🧪 View experiment at: http://127.0.0.1:8080/#/experiments/579090426674828470\n"
     ]
    },
    {
     "name": "stderr",
     "output_type": "stream",
     "text": [
      "[I 2025-05-08 17:33:19,011] Trial 9 finished with value: 0.8152067824048318 and parameters: {'solver_penalty': 'lbfgs__l2', 'positive_class_weight': 34.66899248936894, 'classifier__max_iter': 119, 'classifier__tol': 0.006563736553417774, 'classifier__C': 3.131812726002029, 'threshold': 0.29000000000000004}. Best is trial 6 with value: 0.8161458163978155.\n"
     ]
    },
    {
     "name": "stdout",
     "output_type": "stream",
     "text": [
      "🏃 View run welcoming-hawk-822 at: http://127.0.0.1:8080/#/experiments/579090426674828470/runs/c26e4ae4bd1b49df93aeb9c445db3daa\n",
      "🧪 View experiment at: http://127.0.0.1:8080/#/experiments/579090426674828470\n"
     ]
    },
    {
     "name": "stderr",
     "output_type": "stream",
     "text": [
      "/Users/jeremy/code/ocr/p7_pret_a_depenser/venv/lib/python3.12/site-packages/sklearn/linear_model/_logistic.py:1271: UserWarning: 'n_jobs' > 1 does not have any effect when 'solver' is set to 'liblinear'. Got 'n_jobs' = 2.\n",
      "  warnings.warn(\n",
      "/Users/jeremy/code/ocr/p7_pret_a_depenser/venv/lib/python3.12/site-packages/sklearn/linear_model/_logistic.py:1271: UserWarning: 'n_jobs' > 1 does not have any effect when 'solver' is set to 'liblinear'. Got 'n_jobs' = 2.\n",
      "  warnings.warn(\n",
      "/Users/jeremy/code/ocr/p7_pret_a_depenser/venv/lib/python3.12/site-packages/sklearn/linear_model/_logistic.py:1271: UserWarning: 'n_jobs' > 1 does not have any effect when 'solver' is set to 'liblinear'. Got 'n_jobs' = 2.\n",
      "  warnings.warn(\n",
      "/Users/jeremy/code/ocr/p7_pret_a_depenser/venv/lib/python3.12/site-packages/sklearn/linear_model/_logistic.py:1271: UserWarning: 'n_jobs' > 1 does not have any effect when 'solver' is set to 'liblinear'. Got 'n_jobs' = 2.\n",
      "  warnings.warn(\n",
      "/Users/jeremy/code/ocr/p7_pret_a_depenser/venv/lib/python3.12/site-packages/sklearn/linear_model/_logistic.py:1271: UserWarning: 'n_jobs' > 1 does not have any effect when 'solver' is set to 'liblinear'. Got 'n_jobs' = 2.\n",
      "  warnings.warn(\n",
      "[I 2025-05-08 17:34:17,149] Trial 10 finished with value: 0.8065406231671688 and parameters: {'solver_penalty': 'liblinear__l1', 'positive_class_weight': 43.36173257975757, 'classifier__max_iter': 171, 'classifier__tol': 0.001299841338869746, 'classifier__C': 1.0997018329030088, 'threshold': 0.48}. Best is trial 6 with value: 0.8161458163978155.\n"
     ]
    },
    {
     "name": "stdout",
     "output_type": "stream",
     "text": [
      "🏃 View run luxuriant-sheep-97 at: http://127.0.0.1:8080/#/experiments/579090426674828470/runs/1d6788f1736b41d4b52f732387402ee2\n",
      "🧪 View experiment at: http://127.0.0.1:8080/#/experiments/579090426674828470\n"
     ]
    },
    {
     "name": "stderr",
     "output_type": "stream",
     "text": [
      "/Users/jeremy/code/ocr/p7_pret_a_depenser/venv/lib/python3.12/site-packages/sklearn/linear_model/_logistic.py:1271: UserWarning: 'n_jobs' > 1 does not have any effect when 'solver' is set to 'liblinear'. Got 'n_jobs' = 2.\n",
      "  warnings.warn(\n",
      "/Users/jeremy/code/ocr/p7_pret_a_depenser/venv/lib/python3.12/site-packages/sklearn/linear_model/_logistic.py:1271: UserWarning: 'n_jobs' > 1 does not have any effect when 'solver' is set to 'liblinear'. Got 'n_jobs' = 2.\n",
      "  warnings.warn(\n",
      "/Users/jeremy/code/ocr/p7_pret_a_depenser/venv/lib/python3.12/site-packages/sklearn/linear_model/_logistic.py:1271: UserWarning: 'n_jobs' > 1 does not have any effect when 'solver' is set to 'liblinear'. Got 'n_jobs' = 2.\n",
      "  warnings.warn(\n",
      "/Users/jeremy/code/ocr/p7_pret_a_depenser/venv/lib/python3.12/site-packages/sklearn/linear_model/_logistic.py:1271: UserWarning: 'n_jobs' > 1 does not have any effect when 'solver' is set to 'liblinear'. Got 'n_jobs' = 2.\n",
      "  warnings.warn(\n",
      "/Users/jeremy/code/ocr/p7_pret_a_depenser/venv/lib/python3.12/site-packages/sklearn/linear_model/_logistic.py:1271: UserWarning: 'n_jobs' > 1 does not have any effect when 'solver' is set to 'liblinear'. Got 'n_jobs' = 2.\n",
      "  warnings.warn(\n",
      "[I 2025-05-08 17:34:58,420] Trial 11 finished with value: 0.8161210796351662 and parameters: {'solver_penalty': 'liblinear__l1', 'positive_class_weight': 98.68390783273335, 'classifier__max_iter': 247, 'classifier__tol': 0.000540831411815111, 'classifier__C': 0.01052865338329766, 'threshold': 0.43000000000000005}. Best is trial 6 with value: 0.8161458163978155.\n"
     ]
    },
    {
     "name": "stdout",
     "output_type": "stream",
     "text": [
      "🏃 View run classy-fowl-712 at: http://127.0.0.1:8080/#/experiments/579090426674828470/runs/fed1cce89f6a44a3a8881e6a96515bca\n",
      "🧪 View experiment at: http://127.0.0.1:8080/#/experiments/579090426674828470\n"
     ]
    },
    {
     "name": "stderr",
     "output_type": "stream",
     "text": [
      "/Users/jeremy/code/ocr/p7_pret_a_depenser/venv/lib/python3.12/site-packages/sklearn/linear_model/_logistic.py:1271: UserWarning: 'n_jobs' > 1 does not have any effect when 'solver' is set to 'liblinear'. Got 'n_jobs' = 2.\n",
      "  warnings.warn(\n",
      "/Users/jeremy/code/ocr/p7_pret_a_depenser/venv/lib/python3.12/site-packages/sklearn/linear_model/_logistic.py:1271: UserWarning: 'n_jobs' > 1 does not have any effect when 'solver' is set to 'liblinear'. Got 'n_jobs' = 2.\n",
      "  warnings.warn(\n",
      "/Users/jeremy/code/ocr/p7_pret_a_depenser/venv/lib/python3.12/site-packages/sklearn/linear_model/_logistic.py:1271: UserWarning: 'n_jobs' > 1 does not have any effect when 'solver' is set to 'liblinear'. Got 'n_jobs' = 2.\n",
      "  warnings.warn(\n",
      "/Users/jeremy/code/ocr/p7_pret_a_depenser/venv/lib/python3.12/site-packages/sklearn/linear_model/_logistic.py:1271: UserWarning: 'n_jobs' > 1 does not have any effect when 'solver' is set to 'liblinear'. Got 'n_jobs' = 2.\n",
      "  warnings.warn(\n",
      "/Users/jeremy/code/ocr/p7_pret_a_depenser/venv/lib/python3.12/site-packages/sklearn/linear_model/_logistic.py:1271: UserWarning: 'n_jobs' > 1 does not have any effect when 'solver' is set to 'liblinear'. Got 'n_jobs' = 2.\n",
      "  warnings.warn(\n",
      "[I 2025-05-08 17:35:19,446] Trial 12 finished with value: 0.8154426904364 and parameters: {'solver_penalty': 'liblinear__l1', 'positive_class_weight': 91.82564222052022, 'classifier__max_iter': 230, 'classifier__tol': 0.002287756904363146, 'classifier__C': 0.18692587181786002, 'threshold': 0.48}. Best is trial 6 with value: 0.8161458163978155.\n"
     ]
    },
    {
     "name": "stdout",
     "output_type": "stream",
     "text": [
      "🏃 View run placid-cub-681 at: http://127.0.0.1:8080/#/experiments/579090426674828470/runs/6579235c3eba492f8dc728390991099b\n",
      "🧪 View experiment at: http://127.0.0.1:8080/#/experiments/579090426674828470\n"
     ]
    },
    {
     "name": "stderr",
     "output_type": "stream",
     "text": [
      "/Users/jeremy/code/ocr/p7_pret_a_depenser/venv/lib/python3.12/site-packages/sklearn/linear_model/_sag.py:348: ConvergenceWarning: The max_iter was reached which means the coef_ did not converge\n",
      "  warnings.warn(\n",
      "/Users/jeremy/code/ocr/p7_pret_a_depenser/venv/lib/python3.12/site-packages/sklearn/linear_model/_sag.py:348: ConvergenceWarning: The max_iter was reached which means the coef_ did not converge\n",
      "  warnings.warn(\n",
      "/Users/jeremy/code/ocr/p7_pret_a_depenser/venv/lib/python3.12/site-packages/sklearn/linear_model/_sag.py:348: ConvergenceWarning: The max_iter was reached which means the coef_ did not converge\n",
      "  warnings.warn(\n",
      "/Users/jeremy/code/ocr/p7_pret_a_depenser/venv/lib/python3.12/site-packages/sklearn/linear_model/_sag.py:348: ConvergenceWarning: The max_iter was reached which means the coef_ did not converge\n",
      "  warnings.warn(\n",
      "/Users/jeremy/code/ocr/p7_pret_a_depenser/venv/lib/python3.12/site-packages/sklearn/linear_model/_sag.py:348: ConvergenceWarning: The max_iter was reached which means the coef_ did not converge\n",
      "  warnings.warn(\n",
      "[I 2025-05-08 17:40:45,039] Trial 13 finished with value: 0.6997902586690317 and parameters: {'solver_penalty': 'saga__elasticnet', 'positive_class_weight': 98.91000537949003, 'classifier__max_iter': 252, 'classifier__tol': 0.0006637135043063524, 'classifier__C': 0.8137920272384012, 'classifier__l1_ratio': 0.1829748745148425, 'threshold': 0.4}. Best is trial 6 with value: 0.8161458163978155.\n"
     ]
    },
    {
     "name": "stdout",
     "output_type": "stream",
     "text": [
      "🏃 View run rebellious-ram-939 at: http://127.0.0.1:8080/#/experiments/579090426674828470/runs/e14494971b1747b390d86e8c22d83b5c\n",
      "🧪 View experiment at: http://127.0.0.1:8080/#/experiments/579090426674828470\n"
     ]
    },
    {
     "name": "stderr",
     "output_type": "stream",
     "text": [
      "/Users/jeremy/code/ocr/p7_pret_a_depenser/venv/lib/python3.12/site-packages/sklearn/linear_model/_logistic.py:1271: UserWarning: 'n_jobs' > 1 does not have any effect when 'solver' is set to 'liblinear'. Got 'n_jobs' = 2.\n",
      "  warnings.warn(\n",
      "/Users/jeremy/code/ocr/p7_pret_a_depenser/venv/lib/python3.12/site-packages/sklearn/linear_model/_logistic.py:1271: UserWarning: 'n_jobs' > 1 does not have any effect when 'solver' is set to 'liblinear'. Got 'n_jobs' = 2.\n",
      "  warnings.warn(\n",
      "/Users/jeremy/code/ocr/p7_pret_a_depenser/venv/lib/python3.12/site-packages/sklearn/linear_model/_logistic.py:1271: UserWarning: 'n_jobs' > 1 does not have any effect when 'solver' is set to 'liblinear'. Got 'n_jobs' = 2.\n",
      "  warnings.warn(\n",
      "/Users/jeremy/code/ocr/p7_pret_a_depenser/venv/lib/python3.12/site-packages/sklearn/linear_model/_logistic.py:1271: UserWarning: 'n_jobs' > 1 does not have any effect when 'solver' is set to 'liblinear'. Got 'n_jobs' = 2.\n",
      "  warnings.warn(\n",
      "/Users/jeremy/code/ocr/p7_pret_a_depenser/venv/lib/python3.12/site-packages/sklearn/linear_model/_logistic.py:1271: UserWarning: 'n_jobs' > 1 does not have any effect when 'solver' is set to 'liblinear'. Got 'n_jobs' = 2.\n",
      "  warnings.warn(\n",
      "[I 2025-05-08 17:41:27,477] Trial 14 finished with value: 0.8161147688349291 and parameters: {'solver_penalty': 'liblinear__l1', 'positive_class_weight': 58.076135508452296, 'classifier__max_iter': 189, 'classifier__tol': 0.0006080129495526598, 'classifier__C': 0.0116082014292787, 'threshold': 0.29000000000000004}. Best is trial 6 with value: 0.8161458163978155.\n"
     ]
    },
    {
     "name": "stdout",
     "output_type": "stream",
     "text": [
      "🏃 View run nosy-turtle-252 at: http://127.0.0.1:8080/#/experiments/579090426674828470/runs/e292187c5d9747479f5ed7abfa7ef8c9\n",
      "🧪 View experiment at: http://127.0.0.1:8080/#/experiments/579090426674828470\n"
     ]
    },
    {
     "name": "stderr",
     "output_type": "stream",
     "text": [
      "/Users/jeremy/code/ocr/p7_pret_a_depenser/venv/lib/python3.12/site-packages/sklearn/linear_model/_logistic.py:1271: UserWarning: 'n_jobs' > 1 does not have any effect when 'solver' is set to 'liblinear'. Got 'n_jobs' = 2.\n",
      "  warnings.warn(\n",
      "/Users/jeremy/code/ocr/p7_pret_a_depenser/venv/lib/python3.12/site-packages/sklearn/linear_model/_logistic.py:1271: UserWarning: 'n_jobs' > 1 does not have any effect when 'solver' is set to 'liblinear'. Got 'n_jobs' = 2.\n",
      "  warnings.warn(\n",
      "/Users/jeremy/code/ocr/p7_pret_a_depenser/venv/lib/python3.12/site-packages/sklearn/linear_model/_logistic.py:1271: UserWarning: 'n_jobs' > 1 does not have any effect when 'solver' is set to 'liblinear'. Got 'n_jobs' = 2.\n",
      "  warnings.warn(\n",
      "/Users/jeremy/code/ocr/p7_pret_a_depenser/venv/lib/python3.12/site-packages/sklearn/linear_model/_logistic.py:1271: UserWarning: 'n_jobs' > 1 does not have any effect when 'solver' is set to 'liblinear'. Got 'n_jobs' = 2.\n",
      "  warnings.warn(\n",
      "/Users/jeremy/code/ocr/p7_pret_a_depenser/venv/lib/python3.12/site-packages/sklearn/linear_model/_logistic.py:1271: UserWarning: 'n_jobs' > 1 does not have any effect when 'solver' is set to 'liblinear'. Got 'n_jobs' = 2.\n",
      "  warnings.warn(\n",
      "[I 2025-05-08 17:41:51,651] Trial 15 finished with value: 0.8157922064242211 and parameters: {'solver_penalty': 'liblinear__l1', 'positive_class_weight': 79.9250335011487, 'classifier__max_iter': 246, 'classifier__tol': 0.002432009381183368, 'classifier__C': 0.11261867820260266, 'threshold': 0.43000000000000005}. Best is trial 6 with value: 0.8161458163978155.\n"
     ]
    },
    {
     "name": "stdout",
     "output_type": "stream",
     "text": [
      "🏃 View run righteous-roo-645 at: http://127.0.0.1:8080/#/experiments/579090426674828470/runs/c410070c4a3b4fec9ad55bfd194f63ad\n",
      "🧪 View experiment at: http://127.0.0.1:8080/#/experiments/579090426674828470\n"
     ]
    },
    {
     "name": "stderr",
     "output_type": "stream",
     "text": [
      "/Users/jeremy/code/ocr/p7_pret_a_depenser/venv/lib/python3.12/site-packages/sklearn/linear_model/_logistic.py:1271: UserWarning: 'n_jobs' > 1 does not have any effect when 'solver' is set to 'liblinear'. Got 'n_jobs' = 2.\n",
      "  warnings.warn(\n",
      "/Users/jeremy/code/ocr/p7_pret_a_depenser/venv/lib/python3.12/site-packages/sklearn/linear_model/_logistic.py:1271: UserWarning: 'n_jobs' > 1 does not have any effect when 'solver' is set to 'liblinear'. Got 'n_jobs' = 2.\n",
      "  warnings.warn(\n",
      "/Users/jeremy/code/ocr/p7_pret_a_depenser/venv/lib/python3.12/site-packages/sklearn/linear_model/_logistic.py:1271: UserWarning: 'n_jobs' > 1 does not have any effect when 'solver' is set to 'liblinear'. Got 'n_jobs' = 2.\n",
      "  warnings.warn(\n",
      "/Users/jeremy/code/ocr/p7_pret_a_depenser/venv/lib/python3.12/site-packages/sklearn/linear_model/_logistic.py:1271: UserWarning: 'n_jobs' > 1 does not have any effect when 'solver' is set to 'liblinear'. Got 'n_jobs' = 2.\n",
      "  warnings.warn(\n",
      "/Users/jeremy/code/ocr/p7_pret_a_depenser/venv/lib/python3.12/site-packages/sklearn/linear_model/_logistic.py:1271: UserWarning: 'n_jobs' > 1 does not have any effect when 'solver' is set to 'liblinear'. Got 'n_jobs' = 2.\n",
      "  warnings.warn(\n",
      "[I 2025-05-08 17:43:09,753] Trial 16 finished with value: 0.8161124693712944 and parameters: {'solver_penalty': 'liblinear__l1', 'positive_class_weight': 31.389538071587616, 'classifier__max_iter': 203, 'classifier__tol': 0.0006780908059445819, 'classifier__C': 0.38142522374380805, 'threshold': 0.16}. Best is trial 6 with value: 0.8161458163978155.\n"
     ]
    },
    {
     "name": "stdout",
     "output_type": "stream",
     "text": [
      "🏃 View run resilient-mink-410 at: http://127.0.0.1:8080/#/experiments/579090426674828470/runs/df40e3a765f74d92862c59da8ddddc01\n",
      "🧪 View experiment at: http://127.0.0.1:8080/#/experiments/579090426674828470\n"
     ]
    },
    {
     "name": "stderr",
     "output_type": "stream",
     "text": [
      "/Users/jeremy/code/ocr/p7_pret_a_depenser/venv/lib/python3.12/site-packages/sklearn/linear_model/_sag.py:348: ConvergenceWarning: The max_iter was reached which means the coef_ did not converge\n",
      "  warnings.warn(\n",
      "/Users/jeremy/code/ocr/p7_pret_a_depenser/venv/lib/python3.12/site-packages/sklearn/linear_model/_sag.py:348: ConvergenceWarning: The max_iter was reached which means the coef_ did not converge\n",
      "  warnings.warn(\n",
      "/Users/jeremy/code/ocr/p7_pret_a_depenser/venv/lib/python3.12/site-packages/sklearn/linear_model/_sag.py:348: ConvergenceWarning: The max_iter was reached which means the coef_ did not converge\n",
      "  warnings.warn(\n",
      "/Users/jeremy/code/ocr/p7_pret_a_depenser/venv/lib/python3.12/site-packages/sklearn/linear_model/_sag.py:348: ConvergenceWarning: The max_iter was reached which means the coef_ did not converge\n",
      "  warnings.warn(\n",
      "/Users/jeremy/code/ocr/p7_pret_a_depenser/venv/lib/python3.12/site-packages/sklearn/linear_model/_sag.py:348: ConvergenceWarning: The max_iter was reached which means the coef_ did not converge\n",
      "  warnings.warn(\n",
      "[I 2025-05-08 17:48:33,120] Trial 17 finished with value: 0.6703030452795475 and parameters: {'solver_penalty': 'saga__l1', 'positive_class_weight': 61.67197127589943, 'classifier__max_iter': 248, 'classifier__tol': 0.002047961891867144, 'classifier__C': 6.294770228583062, 'threshold': 0.25}. Best is trial 6 with value: 0.8161458163978155.\n"
     ]
    },
    {
     "name": "stdout",
     "output_type": "stream",
     "text": [
      "🏃 View run indecisive-goose-194 at: http://127.0.0.1:8080/#/experiments/579090426674828470/runs/c38f57088e74490d9897e3d4ba82de6c\n",
      "🧪 View experiment at: http://127.0.0.1:8080/#/experiments/579090426674828470\n"
     ]
    },
    {
     "name": "stderr",
     "output_type": "stream",
     "text": [
      "/Users/jeremy/code/ocr/p7_pret_a_depenser/venv/lib/python3.12/site-packages/sklearn/linear_model/_sag.py:348: ConvergenceWarning: The max_iter was reached which means the coef_ did not converge\n",
      "  warnings.warn(\n",
      "/Users/jeremy/code/ocr/p7_pret_a_depenser/venv/lib/python3.12/site-packages/sklearn/linear_model/_sag.py:348: ConvergenceWarning: The max_iter was reached which means the coef_ did not converge\n",
      "  warnings.warn(\n",
      "/Users/jeremy/code/ocr/p7_pret_a_depenser/venv/lib/python3.12/site-packages/sklearn/linear_model/_sag.py:348: ConvergenceWarning: The max_iter was reached which means the coef_ did not converge\n",
      "  warnings.warn(\n",
      "/Users/jeremy/code/ocr/p7_pret_a_depenser/venv/lib/python3.12/site-packages/sklearn/linear_model/_sag.py:348: ConvergenceWarning: The max_iter was reached which means the coef_ did not converge\n",
      "  warnings.warn(\n",
      "/Users/jeremy/code/ocr/p7_pret_a_depenser/venv/lib/python3.12/site-packages/sklearn/linear_model/_sag.py:348: ConvergenceWarning: The max_iter was reached which means the coef_ did not converge\n",
      "  warnings.warn(\n",
      "[I 2025-05-08 17:55:10,753] Trial 18 finished with value: 0.7748732933840198 and parameters: {'solver_penalty': 'saga__elasticnet', 'positive_class_weight': 83.58161996471621, 'classifier__max_iter': 293, 'classifier__tol': 0.00012187963310784157, 'classifier__C': 0.08351680821364096, 'classifier__l1_ratio': 0.9391307413851608, 'threshold': 0.33}. Best is trial 6 with value: 0.8161458163978155.\n"
     ]
    },
    {
     "name": "stdout",
     "output_type": "stream",
     "text": [
      "🏃 View run unequaled-kite-593 at: http://127.0.0.1:8080/#/experiments/579090426674828470/runs/73a9f8b362b84852bd1aadc0aaece7a0\n",
      "🧪 View experiment at: http://127.0.0.1:8080/#/experiments/579090426674828470\n"
     ]
    },
    {
     "name": "stderr",
     "output_type": "stream",
     "text": [
      "/Users/jeremy/code/ocr/p7_pret_a_depenser/venv/lib/python3.12/site-packages/sklearn/linear_model/_logistic.py:1271: UserWarning: 'n_jobs' > 1 does not have any effect when 'solver' is set to 'liblinear'. Got 'n_jobs' = 2.\n",
      "  warnings.warn(\n",
      "/Users/jeremy/code/ocr/p7_pret_a_depenser/venv/lib/python3.12/site-packages/sklearn/linear_model/_logistic.py:1271: UserWarning: 'n_jobs' > 1 does not have any effect when 'solver' is set to 'liblinear'. Got 'n_jobs' = 2.\n",
      "  warnings.warn(\n",
      "/Users/jeremy/code/ocr/p7_pret_a_depenser/venv/lib/python3.12/site-packages/sklearn/linear_model/_logistic.py:1271: UserWarning: 'n_jobs' > 1 does not have any effect when 'solver' is set to 'liblinear'. Got 'n_jobs' = 2.\n",
      "  warnings.warn(\n",
      "/Users/jeremy/code/ocr/p7_pret_a_depenser/venv/lib/python3.12/site-packages/sklearn/linear_model/_logistic.py:1271: UserWarning: 'n_jobs' > 1 does not have any effect when 'solver' is set to 'liblinear'. Got 'n_jobs' = 2.\n",
      "  warnings.warn(\n",
      "/Users/jeremy/code/ocr/p7_pret_a_depenser/venv/lib/python3.12/site-packages/sklearn/linear_model/_logistic.py:1271: UserWarning: 'n_jobs' > 1 does not have any effect when 'solver' is set to 'liblinear'. Got 'n_jobs' = 2.\n",
      "  warnings.warn(\n",
      "[I 2025-05-08 17:55:31,333] Trial 19 finished with value: 0.8136019471371361 and parameters: {'solver_penalty': 'liblinear__l1', 'positive_class_weight': 48.84247318885505, 'classifier__max_iter': 153, 'classifier__tol': 0.004034369826881938, 'classifier__C': 0.010372882314584275, 'threshold': 0.44000000000000006}. Best is trial 6 with value: 0.8161458163978155.\n"
     ]
    },
    {
     "name": "stdout",
     "output_type": "stream",
     "text": [
      "🏃 View run powerful-newt-316 at: http://127.0.0.1:8080/#/experiments/579090426674828470/runs/252af8f3fd6a45719491bdd00f8cdd75\n",
      "🧪 View experiment at: http://127.0.0.1:8080/#/experiments/579090426674828470\n"
     ]
    },
    {
     "name": "stderr",
     "output_type": "stream",
     "text": [
      "/Users/jeremy/code/ocr/p7_pret_a_depenser/venv/lib/python3.12/site-packages/sklearn/linear_model/_logistic.py:1271: UserWarning: 'n_jobs' > 1 does not have any effect when 'solver' is set to 'liblinear'. Got 'n_jobs' = 2.\n",
      "  warnings.warn(\n",
      "/Users/jeremy/code/ocr/p7_pret_a_depenser/venv/lib/python3.12/site-packages/sklearn/linear_model/_logistic.py:1271: UserWarning: 'n_jobs' > 1 does not have any effect when 'solver' is set to 'liblinear'. Got 'n_jobs' = 2.\n",
      "  warnings.warn(\n",
      "/Users/jeremy/code/ocr/p7_pret_a_depenser/venv/lib/python3.12/site-packages/sklearn/linear_model/_logistic.py:1271: UserWarning: 'n_jobs' > 1 does not have any effect when 'solver' is set to 'liblinear'. Got 'n_jobs' = 2.\n",
      "  warnings.warn(\n",
      "/Users/jeremy/code/ocr/p7_pret_a_depenser/venv/lib/python3.12/site-packages/sklearn/linear_model/_logistic.py:1271: UserWarning: 'n_jobs' > 1 does not have any effect when 'solver' is set to 'liblinear'. Got 'n_jobs' = 2.\n",
      "  warnings.warn(\n",
      "/Users/jeremy/code/ocr/p7_pret_a_depenser/venv/lib/python3.12/site-packages/sklearn/linear_model/_logistic.py:1271: UserWarning: 'n_jobs' > 1 does not have any effect when 'solver' is set to 'liblinear'. Got 'n_jobs' = 2.\n",
      "  warnings.warn(\n",
      "[I 2025-05-08 17:56:34,120] Trial 20 finished with value: 0.8161458163978155 and parameters: {'solver_penalty': 'liblinear__l1', 'positive_class_weight': 88.65828597590667, 'classifier__max_iter': 209, 'classifier__tol': 0.00046007119876903844, 'classifier__C': 0.023340520010300722, 'threshold': 0.1}. Best is trial 6 with value: 0.8161458163978155.\n"
     ]
    },
    {
     "name": "stdout",
     "output_type": "stream",
     "text": [
      "🏃 View run peaceful-dog-466 at: http://127.0.0.1:8080/#/experiments/579090426674828470/runs/b56a79ab109d4b17b6193512cb690d0d\n",
      "🧪 View experiment at: http://127.0.0.1:8080/#/experiments/579090426674828470\n"
     ]
    },
    {
     "name": "stderr",
     "output_type": "stream",
     "text": [
      "/Users/jeremy/code/ocr/p7_pret_a_depenser/venv/lib/python3.12/site-packages/sklearn/linear_model/_logistic.py:1271: UserWarning: 'n_jobs' > 1 does not have any effect when 'solver' is set to 'liblinear'. Got 'n_jobs' = 2.\n",
      "  warnings.warn(\n",
      "/Users/jeremy/code/ocr/p7_pret_a_depenser/venv/lib/python3.12/site-packages/sklearn/linear_model/_logistic.py:1271: UserWarning: 'n_jobs' > 1 does not have any effect when 'solver' is set to 'liblinear'. Got 'n_jobs' = 2.\n",
      "  warnings.warn(\n",
      "/Users/jeremy/code/ocr/p7_pret_a_depenser/venv/lib/python3.12/site-packages/sklearn/linear_model/_logistic.py:1271: UserWarning: 'n_jobs' > 1 does not have any effect when 'solver' is set to 'liblinear'. Got 'n_jobs' = 2.\n",
      "  warnings.warn(\n",
      "/Users/jeremy/code/ocr/p7_pret_a_depenser/venv/lib/python3.12/site-packages/sklearn/linear_model/_logistic.py:1271: UserWarning: 'n_jobs' > 1 does not have any effect when 'solver' is set to 'liblinear'. Got 'n_jobs' = 2.\n",
      "  warnings.warn(\n",
      "/Users/jeremy/code/ocr/p7_pret_a_depenser/venv/lib/python3.12/site-packages/sklearn/linear_model/_logistic.py:1271: UserWarning: 'n_jobs' > 1 does not have any effect when 'solver' is set to 'liblinear'. Got 'n_jobs' = 2.\n",
      "  warnings.warn(\n",
      "[I 2025-05-08 17:57:31,497] Trial 21 finished with value: 0.8161458163978155 and parameters: {'solver_penalty': 'liblinear__l1', 'positive_class_weight': 88.24367104069887, 'classifier__max_iter': 207, 'classifier__tol': 0.00045015247124735033, 'classifier__C': 0.026095035725941275, 'threshold': 0.1}. Best is trial 6 with value: 0.8161458163978155.\n"
     ]
    },
    {
     "name": "stdout",
     "output_type": "stream",
     "text": [
      "🏃 View run polite-skink-196 at: http://127.0.0.1:8080/#/experiments/579090426674828470/runs/93a10c100dd84fbe99f4fd37484152fa\n",
      "🧪 View experiment at: http://127.0.0.1:8080/#/experiments/579090426674828470\n"
     ]
    },
    {
     "name": "stderr",
     "output_type": "stream",
     "text": [
      "/Users/jeremy/code/ocr/p7_pret_a_depenser/venv/lib/python3.12/site-packages/sklearn/linear_model/_logistic.py:1271: UserWarning: 'n_jobs' > 1 does not have any effect when 'solver' is set to 'liblinear'. Got 'n_jobs' = 2.\n",
      "  warnings.warn(\n",
      "/Users/jeremy/code/ocr/p7_pret_a_depenser/venv/lib/python3.12/site-packages/sklearn/linear_model/_logistic.py:1271: UserWarning: 'n_jobs' > 1 does not have any effect when 'solver' is set to 'liblinear'. Got 'n_jobs' = 2.\n",
      "  warnings.warn(\n",
      "/Users/jeremy/code/ocr/p7_pret_a_depenser/venv/lib/python3.12/site-packages/sklearn/linear_model/_logistic.py:1271: UserWarning: 'n_jobs' > 1 does not have any effect when 'solver' is set to 'liblinear'. Got 'n_jobs' = 2.\n",
      "  warnings.warn(\n",
      "/Users/jeremy/code/ocr/p7_pret_a_depenser/venv/lib/python3.12/site-packages/sklearn/linear_model/_logistic.py:1271: UserWarning: 'n_jobs' > 1 does not have any effect when 'solver' is set to 'liblinear'. Got 'n_jobs' = 2.\n",
      "  warnings.warn(\n",
      "/Users/jeremy/code/ocr/p7_pret_a_depenser/venv/lib/python3.12/site-packages/sklearn/linear_model/_logistic.py:1271: UserWarning: 'n_jobs' > 1 does not have any effect when 'solver' is set to 'liblinear'. Got 'n_jobs' = 2.\n",
      "  warnings.warn(\n",
      "[I 2025-05-08 17:58:40,851] Trial 22 finished with value: 0.8161458163978155 and parameters: {'solver_penalty': 'liblinear__l1', 'positive_class_weight': 85.46485728862096, 'classifier__max_iter': 210, 'classifier__tol': 0.00036195470242528357, 'classifier__C': 0.07651336951625051, 'threshold': 0.1}. Best is trial 6 with value: 0.8161458163978155.\n"
     ]
    },
    {
     "name": "stdout",
     "output_type": "stream",
     "text": [
      "🏃 View run classy-calf-714 at: http://127.0.0.1:8080/#/experiments/579090426674828470/runs/34ffec16e5e340e5bae5d01bfe4b017d\n",
      "🧪 View experiment at: http://127.0.0.1:8080/#/experiments/579090426674828470\n"
     ]
    },
    {
     "name": "stderr",
     "output_type": "stream",
     "text": [
      "/Users/jeremy/code/ocr/p7_pret_a_depenser/venv/lib/python3.12/site-packages/sklearn/linear_model/_logistic.py:1271: UserWarning: 'n_jobs' > 1 does not have any effect when 'solver' is set to 'liblinear'. Got 'n_jobs' = 2.\n",
      "  warnings.warn(\n",
      "/Users/jeremy/code/ocr/p7_pret_a_depenser/venv/lib/python3.12/site-packages/sklearn/linear_model/_logistic.py:1271: UserWarning: 'n_jobs' > 1 does not have any effect when 'solver' is set to 'liblinear'. Got 'n_jobs' = 2.\n",
      "  warnings.warn(\n",
      "/Users/jeremy/code/ocr/p7_pret_a_depenser/venv/lib/python3.12/site-packages/sklearn/linear_model/_logistic.py:1271: UserWarning: 'n_jobs' > 1 does not have any effect when 'solver' is set to 'liblinear'. Got 'n_jobs' = 2.\n",
      "  warnings.warn(\n",
      "/Users/jeremy/code/ocr/p7_pret_a_depenser/venv/lib/python3.12/site-packages/sklearn/linear_model/_logistic.py:1271: UserWarning: 'n_jobs' > 1 does not have any effect when 'solver' is set to 'liblinear'. Got 'n_jobs' = 2.\n",
      "  warnings.warn(\n",
      "/Users/jeremy/code/ocr/p7_pret_a_depenser/venv/lib/python3.12/site-packages/sklearn/linear_model/_logistic.py:1271: UserWarning: 'n_jobs' > 1 does not have any effect when 'solver' is set to 'liblinear'. Got 'n_jobs' = 2.\n",
      "  warnings.warn(\n",
      "[I 2025-05-08 17:59:10,574] Trial 23 finished with value: 0.8161458163978155 and parameters: {'solver_penalty': 'liblinear__l1', 'positive_class_weight': 64.72200839489528, 'classifier__max_iter': 165, 'classifier__tol': 0.0012767320737596612, 'classifier__C': 0.025657532958980555, 'threshold': 0.15000000000000002}. Best is trial 6 with value: 0.8161458163978155.\n"
     ]
    },
    {
     "name": "stdout",
     "output_type": "stream",
     "text": [
      "🏃 View run thoughtful-gull-576 at: http://127.0.0.1:8080/#/experiments/579090426674828470/runs/6c80a73d426949d394716f36e0b6abca\n",
      "🧪 View experiment at: http://127.0.0.1:8080/#/experiments/579090426674828470\n"
     ]
    },
    {
     "name": "stderr",
     "output_type": "stream",
     "text": [
      "/Users/jeremy/code/ocr/p7_pret_a_depenser/venv/lib/python3.12/site-packages/sklearn/linear_model/_logistic.py:1271: UserWarning: 'n_jobs' > 1 does not have any effect when 'solver' is set to 'liblinear'. Got 'n_jobs' = 2.\n",
      "  warnings.warn(\n",
      "/Users/jeremy/code/ocr/p7_pret_a_depenser/venv/lib/python3.12/site-packages/sklearn/linear_model/_logistic.py:1271: UserWarning: 'n_jobs' > 1 does not have any effect when 'solver' is set to 'liblinear'. Got 'n_jobs' = 2.\n",
      "  warnings.warn(\n",
      "/Users/jeremy/code/ocr/p7_pret_a_depenser/venv/lib/python3.12/site-packages/sklearn/linear_model/_logistic.py:1271: UserWarning: 'n_jobs' > 1 does not have any effect when 'solver' is set to 'liblinear'. Got 'n_jobs' = 2.\n",
      "  warnings.warn(\n",
      "/Users/jeremy/code/ocr/p7_pret_a_depenser/venv/lib/python3.12/site-packages/sklearn/linear_model/_logistic.py:1271: UserWarning: 'n_jobs' > 1 does not have any effect when 'solver' is set to 'liblinear'. Got 'n_jobs' = 2.\n",
      "  warnings.warn(\n",
      "/Users/jeremy/code/ocr/p7_pret_a_depenser/venv/lib/python3.12/site-packages/sklearn/linear_model/_logistic.py:1271: UserWarning: 'n_jobs' > 1 does not have any effect when 'solver' is set to 'liblinear'. Got 'n_jobs' = 2.\n",
      "  warnings.warn(\n",
      "[I 2025-05-08 17:59:48,480] Trial 24 finished with value: 0.8161458163978155 and parameters: {'solver_penalty': 'liblinear__l1', 'positive_class_weight': 88.1557466578755, 'classifier__max_iter': 193, 'classifier__tol': 0.0009688129364693687, 'classifier__C': 0.026504973875513545, 'threshold': 0.13}. Best is trial 6 with value: 0.8161458163978155.\n"
     ]
    },
    {
     "name": "stdout",
     "output_type": "stream",
     "text": [
      "🏃 View run bustling-newt-36 at: http://127.0.0.1:8080/#/experiments/579090426674828470/runs/8b75ca8cfedb40e0be1403a88b707028\n",
      "🧪 View experiment at: http://127.0.0.1:8080/#/experiments/579090426674828470\n"
     ]
    },
    {
     "name": "stderr",
     "output_type": "stream",
     "text": [
      "/Users/jeremy/code/ocr/p7_pret_a_depenser/venv/lib/python3.12/site-packages/sklearn/linear_model/_logistic.py:1271: UserWarning: 'n_jobs' > 1 does not have any effect when 'solver' is set to 'liblinear'. Got 'n_jobs' = 2.\n",
      "  warnings.warn(\n",
      "/Users/jeremy/code/ocr/p7_pret_a_depenser/venv/lib/python3.12/site-packages/sklearn/linear_model/_logistic.py:1271: UserWarning: 'n_jobs' > 1 does not have any effect when 'solver' is set to 'liblinear'. Got 'n_jobs' = 2.\n",
      "  warnings.warn(\n",
      "/Users/jeremy/code/ocr/p7_pret_a_depenser/venv/lib/python3.12/site-packages/sklearn/linear_model/_logistic.py:1271: UserWarning: 'n_jobs' > 1 does not have any effect when 'solver' is set to 'liblinear'. Got 'n_jobs' = 2.\n",
      "  warnings.warn(\n",
      "/Users/jeremy/code/ocr/p7_pret_a_depenser/venv/lib/python3.12/site-packages/sklearn/linear_model/_logistic.py:1271: UserWarning: 'n_jobs' > 1 does not have any effect when 'solver' is set to 'liblinear'. Got 'n_jobs' = 2.\n",
      "  warnings.warn(\n",
      "/Users/jeremy/code/ocr/p7_pret_a_depenser/venv/lib/python3.12/site-packages/sklearn/linear_model/_logistic.py:1271: UserWarning: 'n_jobs' > 1 does not have any effect when 'solver' is set to 'liblinear'. Got 'n_jobs' = 2.\n",
      "  warnings.warn(\n",
      "[I 2025-05-08 18:02:10,219] Trial 25 finished with value: 0.8161468009721939 and parameters: {'solver_penalty': 'liblinear__l1', 'positive_class_weight': 72.30745049568824, 'classifier__max_iter': 216, 'classifier__tol': 0.00043353307778173445, 'classifier__C': 0.34974079344847664, 'threshold': 0.19}. Best is trial 25 with value: 0.8161468009721939.\n"
     ]
    },
    {
     "name": "stdout",
     "output_type": "stream",
     "text": [
      "🏃 View run gifted-ram-221 at: http://127.0.0.1:8080/#/experiments/579090426674828470/runs/78892307746d43df8de1098a56729a30\n",
      "🧪 View experiment at: http://127.0.0.1:8080/#/experiments/579090426674828470\n"
     ]
    },
    {
     "name": "stderr",
     "output_type": "stream",
     "text": [
      "[I 2025-05-08 18:02:36,637] Trial 26 finished with value: 0.8161460132950807 and parameters: {'solver_penalty': 'lbfgs__l2', 'positive_class_weight': 70.23752162449007, 'classifier__max_iter': 231, 'classifier__tol': 0.00020366019044843118, 'classifier__C': 0.44114648507851545, 'threshold': 0.19}. Best is trial 25 with value: 0.8161468009721939.\n"
     ]
    },
    {
     "name": "stdout",
     "output_type": "stream",
     "text": [
      "🏃 View run learned-lynx-673 at: http://127.0.0.1:8080/#/experiments/579090426674828470/runs/910c1d18d12f491f9d232b9e07e28270\n",
      "🧪 View experiment at: http://127.0.0.1:8080/#/experiments/579090426674828470\n"
     ]
    },
    {
     "name": "stderr",
     "output_type": "stream",
     "text": [
      "[I 2025-05-08 18:03:00,552] Trial 27 finished with value: 0.8161458163978155 and parameters: {'solver_penalty': 'lbfgs__l2', 'positive_class_weight': 69.60171402669354, 'classifier__max_iter': 230, 'classifier__tol': 0.00017725798676093674, 'classifier__C': 0.5371331406384289, 'threshold': 0.18}. Best is trial 25 with value: 0.8161468009721939.\n"
     ]
    },
    {
     "name": "stdout",
     "output_type": "stream",
     "text": [
      "🏃 View run honorable-fox-397 at: http://127.0.0.1:8080/#/experiments/579090426674828470/runs/1cb14983caa7492f95bed1ed15746bba\n",
      "🧪 View experiment at: http://127.0.0.1:8080/#/experiments/579090426674828470\n"
     ]
    },
    {
     "name": "stderr",
     "output_type": "stream",
     "text": [
      "[I 2025-05-08 18:03:28,978] Trial 28 finished with value: 0.8161492956615869 and parameters: {'solver_penalty': 'lbfgs__l2', 'positive_class_weight': 48.42436926035391, 'classifier__max_iter': 259, 'classifier__tol': 0.00011706644533153366, 'classifier__C': 1.2278071166987328, 'threshold': 0.2}. Best is trial 28 with value: 0.8161492956615869.\n"
     ]
    },
    {
     "name": "stdout",
     "output_type": "stream",
     "text": [
      "🏃 View run gentle-eel-345 at: http://127.0.0.1:8080/#/experiments/579090426674828470/runs/421311dc069d4aabbe540315ecb5c120\n",
      "🧪 View experiment at: http://127.0.0.1:8080/#/experiments/579090426674828470\n"
     ]
    },
    {
     "name": "stderr",
     "output_type": "stream",
     "text": [
      "[I 2025-05-08 18:03:53,326] Trial 29 finished with value: 0.8160870886545237 and parameters: {'solver_penalty': 'lbfgs__l2', 'positive_class_weight': 42.64209245641346, 'classifier__max_iter': 258, 'classifier__tol': 0.00013028247465705976, 'classifier__C': 1.6187277598893888, 'threshold': 0.25}. Best is trial 28 with value: 0.8161492956615869.\n"
     ]
    },
    {
     "name": "stdout",
     "output_type": "stream",
     "text": [
      "🏃 View run mysterious-wren-735 at: http://127.0.0.1:8080/#/experiments/579090426674828470/runs/4c1e57a6313346268402c62241c0e015\n",
      "🧪 View experiment at: http://127.0.0.1:8080/#/experiments/579090426674828470\n",
      "🏃 View run LogisticRegression_v2__application_train_managed_outliers_mising_cols__study_run at: http://127.0.0.1:8080/#/experiments/579090426674828470/runs/d363fffcb68d43c7b19d7b9cf68d078f\n",
      "🧪 View experiment at: http://127.0.0.1:8080/#/experiments/579090426674828470\n"
     ]
    }
   ],
   "source": [
    "X_train, X_test, y_train, y_test, preproc = prepare_data(\n",
    "    data,\n",
    "    target_column=\"TARGET\",\n",
    "    categorical_strategy=\"most_frequent\",\n",
    "    outlier_strategy=\"replace_with_nan\",\n",
    "    outlier_threshold=0.05,\n",
    "    test_size=0.2,\n",
    "    random_state=42,\n",
    "    encode_categoricals=True,\n",
    "    drop_missing_columns=True,\n",
    "    missing_col_threshold=0.5,\n",
    "    polynomial_features=False,\n",
    ")\n",
    "\n",
    "run_experiment(\n",
    "    model_name=\"LogisticRegression_v2\",\n",
    "    model_class=LogisticRegression,\n",
    "    param_space_fn=lr_param_space,\n",
    "    dataset_name=\"application_train_managed_outliers_mising_cols\",\n",
    "    X_train=X_train,\n",
    "    X_test=X_test,\n",
    "    y_train=y_train,\n",
    "    y_test=y_test,\n",
    "    preprocessor=preproc,\n",
    "    cv=5,\n",
    "    n_trials=30,\n",
    ")\n"
   ]
  },
  {
   "cell_type": "code",
   "execution_count": 23,
   "id": "9617fd28",
   "metadata": {},
   "outputs": [
    {
     "name": "stdout",
     "output_type": "stream",
     "text": [
      "🧹 Dropping 1 column(s) with missing ratio ≥ 0.5:\n",
      " - EXT_SOURCE_1\n",
      "Found 3 numerical features\n",
      "Found 0 binary features\n",
      "Found 0 categorical features\n"
     ]
    },
    {
     "name": "stderr",
     "output_type": "stream",
     "text": [
      "[I 2025-05-08 18:04:04,580] A new study created in memory with name: no-name-a9501c76-c901-4326-9705-4478a2b2c6aa\n",
      "/Users/jeremy/code/ocr/p7_pret_a_depenser/venv/lib/python3.12/site-packages/sklearn/linear_model/_sag.py:348: ConvergenceWarning: The max_iter was reached which means the coef_ did not converge\n",
      "  warnings.warn(\n",
      "/Users/jeremy/code/ocr/p7_pret_a_depenser/venv/lib/python3.12/site-packages/sklearn/linear_model/_sag.py:348: ConvergenceWarning: The max_iter was reached which means the coef_ did not converge\n",
      "  warnings.warn(\n",
      "/Users/jeremy/code/ocr/p7_pret_a_depenser/venv/lib/python3.12/site-packages/sklearn/linear_model/_sag.py:348: ConvergenceWarning: The max_iter was reached which means the coef_ did not converge\n",
      "  warnings.warn(\n",
      "/Users/jeremy/code/ocr/p7_pret_a_depenser/venv/lib/python3.12/site-packages/sklearn/metrics/_classification.py:1565: UndefinedMetricWarning: Precision is ill-defined and being set to 0.0 due to no predicted samples. Use `zero_division` parameter to control this behavior.\n",
      "  _warn_prf(average, modifier, f\"{metric.capitalize()} is\", len(result))\n",
      "/Users/jeremy/code/ocr/p7_pret_a_depenser/venv/lib/python3.12/site-packages/sklearn/linear_model/_sag.py:348: ConvergenceWarning: The max_iter was reached which means the coef_ did not converge\n",
      "  warnings.warn(\n",
      "/Users/jeremy/code/ocr/p7_pret_a_depenser/venv/lib/python3.12/site-packages/sklearn/linear_model/_sag.py:348: ConvergenceWarning: The max_iter was reached which means the coef_ did not converge\n",
      "  warnings.warn(\n",
      "[I 2025-05-08 18:04:59,210] Trial 0 finished with value: 0.6356962964966312 and parameters: {'solver_penalty': 'saga__elasticnet', 'positive_class_weight': 35.15493939800958, 'classifier__max_iter': 199, 'classifier__tol': 0.00027616323427928483, 'classifier__C': 0.09789395814667179, 'classifier__l1_ratio': 0.964429288270654, 'threshold': 0.48}. Best is trial 0 with value: 0.6356962964966312.\n"
     ]
    },
    {
     "name": "stdout",
     "output_type": "stream",
     "text": [
      "🏃 View run classy-goose-795 at: http://127.0.0.1:8080/#/experiments/579090426674828470/runs/72e751d499ae4d9d894d8e4ebecbf207\n",
      "🧪 View experiment at: http://127.0.0.1:8080/#/experiments/579090426674828470\n"
     ]
    },
    {
     "name": "stderr",
     "output_type": "stream",
     "text": [
      "[I 2025-05-08 18:05:03,508] Trial 1 finished with value: 0.8070177191074539 and parameters: {'solver_penalty': 'lbfgs__l2', 'positive_class_weight': 38.41049077824202, 'classifier__max_iter': 280, 'classifier__tol': 0.00011962411244648284, 'classifier__C': 0.10706978679235937, 'threshold': 0.49}. Best is trial 1 with value: 0.8070177191074539.\n"
     ]
    },
    {
     "name": "stdout",
     "output_type": "stream",
     "text": [
      "🏃 View run melodic-rat-747 at: http://127.0.0.1:8080/#/experiments/579090426674828470/runs/6c894e39ba414429b29b4f130f029326\n",
      "🧪 View experiment at: http://127.0.0.1:8080/#/experiments/579090426674828470\n"
     ]
    },
    {
     "name": "stderr",
     "output_type": "stream",
     "text": [
      "/Users/jeremy/code/ocr/p7_pret_a_depenser/venv/lib/python3.12/site-packages/sklearn/linear_model/_logistic.py:1271: UserWarning: 'n_jobs' > 1 does not have any effect when 'solver' is set to 'liblinear'. Got 'n_jobs' = 2.\n",
      "  warnings.warn(\n",
      "/Users/jeremy/code/ocr/p7_pret_a_depenser/venv/lib/python3.12/site-packages/sklearn/linear_model/_logistic.py:1271: UserWarning: 'n_jobs' > 1 does not have any effect when 'solver' is set to 'liblinear'. Got 'n_jobs' = 2.\n",
      "  warnings.warn(\n",
      "/Users/jeremy/code/ocr/p7_pret_a_depenser/venv/lib/python3.12/site-packages/sklearn/linear_model/_logistic.py:1271: UserWarning: 'n_jobs' > 1 does not have any effect when 'solver' is set to 'liblinear'. Got 'n_jobs' = 2.\n",
      "  warnings.warn(\n",
      "/Users/jeremy/code/ocr/p7_pret_a_depenser/venv/lib/python3.12/site-packages/sklearn/linear_model/_logistic.py:1271: UserWarning: 'n_jobs' > 1 does not have any effect when 'solver' is set to 'liblinear'. Got 'n_jobs' = 2.\n",
      "  warnings.warn(\n",
      "/Users/jeremy/code/ocr/p7_pret_a_depenser/venv/lib/python3.12/site-packages/sklearn/linear_model/_logistic.py:1271: UserWarning: 'n_jobs' > 1 does not have any effect when 'solver' is set to 'liblinear'. Got 'n_jobs' = 2.\n",
      "  warnings.warn(\n",
      "[I 2025-05-08 18:05:10,276] Trial 2 finished with value: 0.8161458163978155 and parameters: {'solver_penalty': 'liblinear__l1', 'positive_class_weight': 89.02430342387945, 'classifier__max_iter': 118, 'classifier__tol': 0.0021495014163028098, 'classifier__C': 0.29774511259148406, 'threshold': 0.21000000000000002}. Best is trial 2 with value: 0.8161458163978155.\n"
     ]
    },
    {
     "name": "stdout",
     "output_type": "stream",
     "text": [
      "🏃 View run agreeable-fox-520 at: http://127.0.0.1:8080/#/experiments/579090426674828470/runs/281363781abc4c9a8e1275b39df8ba50\n",
      "🧪 View experiment at: http://127.0.0.1:8080/#/experiments/579090426674828470\n"
     ]
    },
    {
     "name": "stderr",
     "output_type": "stream",
     "text": [
      "/Users/jeremy/code/ocr/p7_pret_a_depenser/venv/lib/python3.12/site-packages/sklearn/linear_model/_logistic.py:1271: UserWarning: 'n_jobs' > 1 does not have any effect when 'solver' is set to 'liblinear'. Got 'n_jobs' = 2.\n",
      "  warnings.warn(\n",
      "/Users/jeremy/code/ocr/p7_pret_a_depenser/venv/lib/python3.12/site-packages/sklearn/linear_model/_logistic.py:1271: UserWarning: 'n_jobs' > 1 does not have any effect when 'solver' is set to 'liblinear'. Got 'n_jobs' = 2.\n",
      "  warnings.warn(\n",
      "/Users/jeremy/code/ocr/p7_pret_a_depenser/venv/lib/python3.12/site-packages/sklearn/linear_model/_logistic.py:1271: UserWarning: 'n_jobs' > 1 does not have any effect when 'solver' is set to 'liblinear'. Got 'n_jobs' = 2.\n",
      "  warnings.warn(\n",
      "/Users/jeremy/code/ocr/p7_pret_a_depenser/venv/lib/python3.12/site-packages/sklearn/linear_model/_logistic.py:1271: UserWarning: 'n_jobs' > 1 does not have any effect when 'solver' is set to 'liblinear'. Got 'n_jobs' = 2.\n",
      "  warnings.warn(\n",
      "/Users/jeremy/code/ocr/p7_pret_a_depenser/venv/lib/python3.12/site-packages/sklearn/linear_model/_logistic.py:1271: UserWarning: 'n_jobs' > 1 does not have any effect when 'solver' is set to 'liblinear'. Got 'n_jobs' = 2.\n",
      "  warnings.warn(\n",
      "[I 2025-05-08 18:05:18,097] Trial 3 finished with value: 0.8159226395151495 and parameters: {'solver_penalty': 'liblinear__l1', 'positive_class_weight': 32.85583912001472, 'classifier__max_iter': 254, 'classifier__tol': 0.005235526421299742, 'classifier__C': 0.010340345755691068, 'threshold': 0.28}. Best is trial 2 with value: 0.8161458163978155.\n"
     ]
    },
    {
     "name": "stdout",
     "output_type": "stream",
     "text": [
      "🏃 View run merciful-loon-531 at: http://127.0.0.1:8080/#/experiments/579090426674828470/runs/05c83d587b51443ea581da21acd8bc97\n",
      "🧪 View experiment at: http://127.0.0.1:8080/#/experiments/579090426674828470\n"
     ]
    },
    {
     "name": "stderr",
     "output_type": "stream",
     "text": [
      "[I 2025-05-08 18:05:22,786] Trial 4 finished with value: 0.7646346908663554 and parameters: {'solver_penalty': 'saga__l2', 'positive_class_weight': 3.8423927335357138, 'classifier__max_iter': 249, 'classifier__tol': 0.005060261248221017, 'classifier__C': 0.16039291699464867, 'threshold': 0.14}. Best is trial 2 with value: 0.8161458163978155.\n"
     ]
    },
    {
     "name": "stdout",
     "output_type": "stream",
     "text": [
      "🏃 View run orderly-shrew-755 at: http://127.0.0.1:8080/#/experiments/579090426674828470/runs/6fa74117e9c047ca95e911dd70175f36\n",
      "🧪 View experiment at: http://127.0.0.1:8080/#/experiments/579090426674828470\n"
     ]
    },
    {
     "name": "stderr",
     "output_type": "stream",
     "text": [
      "/Users/jeremy/code/ocr/p7_pret_a_depenser/venv/lib/python3.12/site-packages/sklearn/linear_model/_logistic.py:1271: UserWarning: 'n_jobs' > 1 does not have any effect when 'solver' is set to 'liblinear'. Got 'n_jobs' = 2.\n",
      "  warnings.warn(\n",
      "/Users/jeremy/code/ocr/p7_pret_a_depenser/venv/lib/python3.12/site-packages/sklearn/linear_model/_logistic.py:1271: UserWarning: 'n_jobs' > 1 does not have any effect when 'solver' is set to 'liblinear'. Got 'n_jobs' = 2.\n",
      "  warnings.warn(\n",
      "/Users/jeremy/code/ocr/p7_pret_a_depenser/venv/lib/python3.12/site-packages/sklearn/linear_model/_logistic.py:1271: UserWarning: 'n_jobs' > 1 does not have any effect when 'solver' is set to 'liblinear'. Got 'n_jobs' = 2.\n",
      "  warnings.warn(\n",
      "/Users/jeremy/code/ocr/p7_pret_a_depenser/venv/lib/python3.12/site-packages/sklearn/linear_model/_logistic.py:1271: UserWarning: 'n_jobs' > 1 does not have any effect when 'solver' is set to 'liblinear'. Got 'n_jobs' = 2.\n",
      "  warnings.warn(\n",
      "/Users/jeremy/code/ocr/p7_pret_a_depenser/venv/lib/python3.12/site-packages/sklearn/linear_model/_logistic.py:1271: UserWarning: 'n_jobs' > 1 does not have any effect when 'solver' is set to 'liblinear'. Got 'n_jobs' = 2.\n",
      "  warnings.warn(\n",
      "[I 2025-05-08 18:05:26,563] Trial 5 finished with value: 0.8104788800887806 and parameters: {'solver_penalty': 'liblinear__l2', 'positive_class_weight': 19.88813996533406, 'classifier__max_iter': 225, 'classifier__tol': 0.0011761646727873282, 'classifier__C': 0.07969704379408894, 'threshold': 0.31}. Best is trial 2 with value: 0.8161458163978155.\n"
     ]
    },
    {
     "name": "stdout",
     "output_type": "stream",
     "text": [
      "🏃 View run mercurial-frog-800 at: http://127.0.0.1:8080/#/experiments/579090426674828470/runs/6eae89838fe84482b0f190537e3fe338\n",
      "🧪 View experiment at: http://127.0.0.1:8080/#/experiments/579090426674828470\n"
     ]
    },
    {
     "name": "stderr",
     "output_type": "stream",
     "text": [
      "/Users/jeremy/code/ocr/p7_pret_a_depenser/venv/lib/python3.12/site-packages/sklearn/linear_model/_logistic.py:1271: UserWarning: 'n_jobs' > 1 does not have any effect when 'solver' is set to 'liblinear'. Got 'n_jobs' = 2.\n",
      "  warnings.warn(\n",
      "/Users/jeremy/code/ocr/p7_pret_a_depenser/venv/lib/python3.12/site-packages/sklearn/linear_model/_logistic.py:1271: UserWarning: 'n_jobs' > 1 does not have any effect when 'solver' is set to 'liblinear'. Got 'n_jobs' = 2.\n",
      "  warnings.warn(\n",
      "/Users/jeremy/code/ocr/p7_pret_a_depenser/venv/lib/python3.12/site-packages/sklearn/linear_model/_logistic.py:1271: UserWarning: 'n_jobs' > 1 does not have any effect when 'solver' is set to 'liblinear'. Got 'n_jobs' = 2.\n",
      "  warnings.warn(\n",
      "/Users/jeremy/code/ocr/p7_pret_a_depenser/venv/lib/python3.12/site-packages/sklearn/linear_model/_logistic.py:1271: UserWarning: 'n_jobs' > 1 does not have any effect when 'solver' is set to 'liblinear'. Got 'n_jobs' = 2.\n",
      "  warnings.warn(\n",
      "/Users/jeremy/code/ocr/p7_pret_a_depenser/venv/lib/python3.12/site-packages/sklearn/linear_model/_logistic.py:1271: UserWarning: 'n_jobs' > 1 does not have any effect when 'solver' is set to 'liblinear'. Got 'n_jobs' = 2.\n",
      "  warnings.warn(\n",
      "[I 2025-05-08 18:05:32,374] Trial 6 finished with value: 0.8161051152237395 and parameters: {'solver_penalty': 'liblinear__l2', 'positive_class_weight': 33.00219194844441, 'classifier__max_iter': 152, 'classifier__tol': 0.00018366697485021002, 'classifier__C': 7.5924165573572235, 'threshold': 0.23}. Best is trial 2 with value: 0.8161458163978155.\n"
     ]
    },
    {
     "name": "stdout",
     "output_type": "stream",
     "text": [
      "🏃 View run incongruous-bass-330 at: http://127.0.0.1:8080/#/experiments/579090426674828470/runs/3c34de0e7c7b4134b1978cb2e5ecbab7\n",
      "🧪 View experiment at: http://127.0.0.1:8080/#/experiments/579090426674828470\n"
     ]
    },
    {
     "name": "stderr",
     "output_type": "stream",
     "text": [
      "/Users/jeremy/code/ocr/p7_pret_a_depenser/venv/lib/python3.12/site-packages/sklearn/linear_model/_logistic.py:1271: UserWarning: 'n_jobs' > 1 does not have any effect when 'solver' is set to 'liblinear'. Got 'n_jobs' = 2.\n",
      "  warnings.warn(\n",
      "/Users/jeremy/code/ocr/p7_pret_a_depenser/venv/lib/python3.12/site-packages/sklearn/linear_model/_logistic.py:1271: UserWarning: 'n_jobs' > 1 does not have any effect when 'solver' is set to 'liblinear'. Got 'n_jobs' = 2.\n",
      "  warnings.warn(\n",
      "/Users/jeremy/code/ocr/p7_pret_a_depenser/venv/lib/python3.12/site-packages/sklearn/linear_model/_logistic.py:1271: UserWarning: 'n_jobs' > 1 does not have any effect when 'solver' is set to 'liblinear'. Got 'n_jobs' = 2.\n",
      "  warnings.warn(\n",
      "/Users/jeremy/code/ocr/p7_pret_a_depenser/venv/lib/python3.12/site-packages/sklearn/linear_model/_logistic.py:1271: UserWarning: 'n_jobs' > 1 does not have any effect when 'solver' is set to 'liblinear'. Got 'n_jobs' = 2.\n",
      "  warnings.warn(\n",
      "/Users/jeremy/code/ocr/p7_pret_a_depenser/venv/lib/python3.12/site-packages/sklearn/linear_model/_logistic.py:1271: UserWarning: 'n_jobs' > 1 does not have any effect when 'solver' is set to 'liblinear'. Got 'n_jobs' = 2.\n",
      "  warnings.warn(\n",
      "[I 2025-05-08 18:05:39,048] Trial 7 finished with value: 0.8161472604542902 and parameters: {'solver_penalty': 'liblinear__l1', 'positive_class_weight': 74.63693224745766, 'classifier__max_iter': 277, 'classifier__tol': 0.006432102604706401, 'classifier__C': 0.027744899105623413, 'threshold': 0.42000000000000004}. Best is trial 7 with value: 0.8161472604542902.\n"
     ]
    },
    {
     "name": "stdout",
     "output_type": "stream",
     "text": [
      "🏃 View run resilient-dolphin-25 at: http://127.0.0.1:8080/#/experiments/579090426674828470/runs/8458784cac8b480bbb49fd9425dd368a\n",
      "🧪 View experiment at: http://127.0.0.1:8080/#/experiments/579090426674828470\n"
     ]
    },
    {
     "name": "stderr",
     "output_type": "stream",
     "text": [
      "/Users/jeremy/code/ocr/p7_pret_a_depenser/venv/lib/python3.12/site-packages/sklearn/linear_model/_logistic.py:1271: UserWarning: 'n_jobs' > 1 does not have any effect when 'solver' is set to 'liblinear'. Got 'n_jobs' = 2.\n",
      "  warnings.warn(\n",
      "/Users/jeremy/code/ocr/p7_pret_a_depenser/venv/lib/python3.12/site-packages/sklearn/linear_model/_logistic.py:1271: UserWarning: 'n_jobs' > 1 does not have any effect when 'solver' is set to 'liblinear'. Got 'n_jobs' = 2.\n",
      "  warnings.warn(\n",
      "/Users/jeremy/code/ocr/p7_pret_a_depenser/venv/lib/python3.12/site-packages/sklearn/linear_model/_logistic.py:1271: UserWarning: 'n_jobs' > 1 does not have any effect when 'solver' is set to 'liblinear'. Got 'n_jobs' = 2.\n",
      "  warnings.warn(\n",
      "/Users/jeremy/code/ocr/p7_pret_a_depenser/venv/lib/python3.12/site-packages/sklearn/linear_model/_logistic.py:1271: UserWarning: 'n_jobs' > 1 does not have any effect when 'solver' is set to 'liblinear'. Got 'n_jobs' = 2.\n",
      "  warnings.warn(\n",
      "/Users/jeremy/code/ocr/p7_pret_a_depenser/venv/lib/python3.12/site-packages/sklearn/linear_model/_logistic.py:1271: UserWarning: 'n_jobs' > 1 does not have any effect when 'solver' is set to 'liblinear'. Got 'n_jobs' = 2.\n",
      "  warnings.warn(\n",
      "[I 2025-05-08 18:05:43,210] Trial 8 finished with value: 0.8161471948200898 and parameters: {'solver_penalty': 'liblinear__l2', 'positive_class_weight': 19.49006502144734, 'classifier__max_iter': 170, 'classifier__tol': 0.00010397621701891894, 'classifier__C': 0.07255474232058078, 'threshold': 0.16}. Best is trial 7 with value: 0.8161472604542902.\n"
     ]
    },
    {
     "name": "stdout",
     "output_type": "stream",
     "text": [
      "🏃 View run capricious-koi-226 at: http://127.0.0.1:8080/#/experiments/579090426674828470/runs/4a0c9e03b6624fed9c1d5db136349195\n",
      "🧪 View experiment at: http://127.0.0.1:8080/#/experiments/579090426674828470\n"
     ]
    },
    {
     "name": "stderr",
     "output_type": "stream",
     "text": [
      "/Users/jeremy/code/ocr/p7_pret_a_depenser/venv/lib/python3.12/site-packages/sklearn/linear_model/_sag.py:348: ConvergenceWarning: The max_iter was reached which means the coef_ did not converge\n",
      "  warnings.warn(\n",
      "/Users/jeremy/code/ocr/p7_pret_a_depenser/venv/lib/python3.12/site-packages/sklearn/linear_model/_sag.py:348: ConvergenceWarning: The max_iter was reached which means the coef_ did not converge\n",
      "  warnings.warn(\n",
      "/Users/jeremy/code/ocr/p7_pret_a_depenser/venv/lib/python3.12/site-packages/sklearn/linear_model/_sag.py:348: ConvergenceWarning: The max_iter was reached which means the coef_ did not converge\n",
      "  warnings.warn(\n",
      "/Users/jeremy/code/ocr/p7_pret_a_depenser/venv/lib/python3.12/site-packages/sklearn/linear_model/_sag.py:348: ConvergenceWarning: The max_iter was reached which means the coef_ did not converge\n",
      "  warnings.warn(\n",
      "/Users/jeremy/code/ocr/p7_pret_a_depenser/venv/lib/python3.12/site-packages/sklearn/linear_model/_sag.py:348: ConvergenceWarning: The max_iter was reached which means the coef_ did not converge\n",
      "  warnings.warn(\n",
      "[I 2025-05-08 18:06:53,184] Trial 9 finished with value: 0.8002179393544074 and parameters: {'solver_penalty': 'saga__elasticnet', 'positive_class_weight': 40.86607549219745, 'classifier__max_iter': 256, 'classifier__tol': 0.00013683721766704498, 'classifier__C': 0.2531853192334051, 'classifier__l1_ratio': 0.65525314871031, 'threshold': 0.2}. Best is trial 7 with value: 0.8161472604542902.\n"
     ]
    },
    {
     "name": "stdout",
     "output_type": "stream",
     "text": [
      "🏃 View run nervous-sloth-654 at: http://127.0.0.1:8080/#/experiments/579090426674828470/runs/ff59fe77fb2a48dbb66010ef4aebf4ea\n",
      "🧪 View experiment at: http://127.0.0.1:8080/#/experiments/579090426674828470\n"
     ]
    },
    {
     "name": "stderr",
     "output_type": "stream",
     "text": [
      "/Users/jeremy/code/ocr/p7_pret_a_depenser/venv/lib/python3.12/site-packages/sklearn/linear_model/_sag.py:348: ConvergenceWarning: The max_iter was reached which means the coef_ did not converge\n",
      "  warnings.warn(\n",
      "/Users/jeremy/code/ocr/p7_pret_a_depenser/venv/lib/python3.12/site-packages/sklearn/linear_model/_sag.py:348: ConvergenceWarning: The max_iter was reached which means the coef_ did not converge\n",
      "  warnings.warn(\n",
      "/Users/jeremy/code/ocr/p7_pret_a_depenser/venv/lib/python3.12/site-packages/sklearn/linear_model/_sag.py:348: ConvergenceWarning: The max_iter was reached which means the coef_ did not converge\n",
      "  warnings.warn(\n",
      "/Users/jeremy/code/ocr/p7_pret_a_depenser/venv/lib/python3.12/site-packages/sklearn/linear_model/_sag.py:348: ConvergenceWarning: The max_iter was reached which means the coef_ did not converge\n",
      "  warnings.warn(\n",
      "/Users/jeremy/code/ocr/p7_pret_a_depenser/venv/lib/python3.12/site-packages/sklearn/linear_model/_sag.py:348: ConvergenceWarning: The max_iter was reached which means the coef_ did not converge\n",
      "  warnings.warn(\n",
      "[I 2025-05-08 18:08:04,947] Trial 10 finished with value: 0.8040859763099663 and parameters: {'solver_penalty': 'saga__l1', 'positive_class_weight': 74.77990569633742, 'classifier__max_iter': 299, 'classifier__tol': 0.00848337193759063, 'classifier__C': 0.012046736134188446, 'threshold': 0.39}. Best is trial 7 with value: 0.8161472604542902.\n"
     ]
    },
    {
     "name": "stdout",
     "output_type": "stream",
     "text": [
      "🏃 View run amazing-penguin-100 at: http://127.0.0.1:8080/#/experiments/579090426674828470/runs/1aa2589b1f4241bab9fcbecff6d0a7ce\n",
      "🧪 View experiment at: http://127.0.0.1:8080/#/experiments/579090426674828470\n"
     ]
    },
    {
     "name": "stderr",
     "output_type": "stream",
     "text": [
      "/Users/jeremy/code/ocr/p7_pret_a_depenser/venv/lib/python3.12/site-packages/sklearn/linear_model/_logistic.py:1271: UserWarning: 'n_jobs' > 1 does not have any effect when 'solver' is set to 'liblinear'. Got 'n_jobs' = 2.\n",
      "  warnings.warn(\n",
      "/Users/jeremy/code/ocr/p7_pret_a_depenser/venv/lib/python3.12/site-packages/sklearn/linear_model/_logistic.py:1271: UserWarning: 'n_jobs' > 1 does not have any effect when 'solver' is set to 'liblinear'. Got 'n_jobs' = 2.\n",
      "  warnings.warn(\n",
      "/Users/jeremy/code/ocr/p7_pret_a_depenser/venv/lib/python3.12/site-packages/sklearn/linear_model/_logistic.py:1271: UserWarning: 'n_jobs' > 1 does not have any effect when 'solver' is set to 'liblinear'. Got 'n_jobs' = 2.\n",
      "  warnings.warn(\n",
      "/Users/jeremy/code/ocr/p7_pret_a_depenser/venv/lib/python3.12/site-packages/sklearn/linear_model/_logistic.py:1271: UserWarning: 'n_jobs' > 1 does not have any effect when 'solver' is set to 'liblinear'. Got 'n_jobs' = 2.\n",
      "  warnings.warn(\n",
      "/Users/jeremy/code/ocr/p7_pret_a_depenser/venv/lib/python3.12/site-packages/sklearn/linear_model/_logistic.py:1271: UserWarning: 'n_jobs' > 1 does not have any effect when 'solver' is set to 'liblinear'. Got 'n_jobs' = 2.\n",
      "  warnings.warn(\n",
      "[I 2025-05-08 18:08:08,476] Trial 11 finished with value: 0.8161458163978155 and parameters: {'solver_penalty': 'liblinear__l2', 'positive_class_weight': 62.94892906271454, 'classifier__max_iter': 188, 'classifier__tol': 0.00046966021353083624, 'classifier__C': 0.025364824244295203, 'threshold': 0.11}. Best is trial 7 with value: 0.8161472604542902.\n"
     ]
    },
    {
     "name": "stdout",
     "output_type": "stream",
     "text": [
      "🏃 View run capable-eel-583 at: http://127.0.0.1:8080/#/experiments/579090426674828470/runs/23a55f55cd7c45d6be1b71de33d2ed47\n",
      "🧪 View experiment at: http://127.0.0.1:8080/#/experiments/579090426674828470\n"
     ]
    },
    {
     "name": "stderr",
     "output_type": "stream",
     "text": [
      "/Users/jeremy/code/ocr/p7_pret_a_depenser/venv/lib/python3.12/site-packages/sklearn/linear_model/_logistic.py:1271: UserWarning: 'n_jobs' > 1 does not have any effect when 'solver' is set to 'liblinear'. Got 'n_jobs' = 2.\n",
      "  warnings.warn(\n",
      "/Users/jeremy/code/ocr/p7_pret_a_depenser/venv/lib/python3.12/site-packages/sklearn/linear_model/_logistic.py:1271: UserWarning: 'n_jobs' > 1 does not have any effect when 'solver' is set to 'liblinear'. Got 'n_jobs' = 2.\n",
      "  warnings.warn(\n",
      "/Users/jeremy/code/ocr/p7_pret_a_depenser/venv/lib/python3.12/site-packages/sklearn/linear_model/_logistic.py:1271: UserWarning: 'n_jobs' > 1 does not have any effect when 'solver' is set to 'liblinear'. Got 'n_jobs' = 2.\n",
      "  warnings.warn(\n",
      "/Users/jeremy/code/ocr/p7_pret_a_depenser/venv/lib/python3.12/site-packages/sklearn/linear_model/_logistic.py:1271: UserWarning: 'n_jobs' > 1 does not have any effect when 'solver' is set to 'liblinear'. Got 'n_jobs' = 2.\n",
      "  warnings.warn(\n",
      "/Users/jeremy/code/ocr/p7_pret_a_depenser/venv/lib/python3.12/site-packages/sklearn/linear_model/_logistic.py:1271: UserWarning: 'n_jobs' > 1 does not have any effect when 'solver' is set to 'liblinear'. Got 'n_jobs' = 2.\n",
      "  warnings.warn(\n",
      "[I 2025-05-08 18:08:33,194] Trial 12 finished with value: 0.8161458163978155 and parameters: {'solver_penalty': 'liblinear__l1', 'positive_class_weight': 99.29939481518292, 'classifier__max_iter': 161, 'classifier__tol': 0.0006420403879883595, 'classifier__C': 1.3875852538928752, 'threshold': 0.39}. Best is trial 7 with value: 0.8161472604542902.\n"
     ]
    },
    {
     "name": "stdout",
     "output_type": "stream",
     "text": [
      "🏃 View run upset-roo-468 at: http://127.0.0.1:8080/#/experiments/579090426674828470/runs/2f82be4f141d49cd9a60e0b83a6753b3\n",
      "🧪 View experiment at: http://127.0.0.1:8080/#/experiments/579090426674828470\n"
     ]
    },
    {
     "name": "stderr",
     "output_type": "stream",
     "text": [
      "/Users/jeremy/code/ocr/p7_pret_a_depenser/venv/lib/python3.12/site-packages/sklearn/linear_model/_sag.py:348: ConvergenceWarning: The max_iter was reached which means the coef_ did not converge\n",
      "  warnings.warn(\n",
      "/Users/jeremy/code/ocr/p7_pret_a_depenser/venv/lib/python3.12/site-packages/sklearn/linear_model/_sag.py:348: ConvergenceWarning: The max_iter was reached which means the coef_ did not converge\n",
      "  warnings.warn(\n",
      "/Users/jeremy/code/ocr/p7_pret_a_depenser/venv/lib/python3.12/site-packages/sklearn/linear_model/_sag.py:348: ConvergenceWarning: The max_iter was reached which means the coef_ did not converge\n",
      "  warnings.warn(\n",
      "/Users/jeremy/code/ocr/p7_pret_a_depenser/venv/lib/python3.12/site-packages/sklearn/linear_model/_sag.py:348: ConvergenceWarning: The max_iter was reached which means the coef_ did not converge\n",
      "  warnings.warn(\n",
      "/Users/jeremy/code/ocr/p7_pret_a_depenser/venv/lib/python3.12/site-packages/sklearn/linear_model/_sag.py:348: ConvergenceWarning: The max_iter was reached which means the coef_ did not converge\n",
      "  warnings.warn(\n",
      "[I 2025-05-08 18:09:01,056] Trial 13 finished with value: 0.7604825358350231 and parameters: {'solver_penalty': 'saga__l1', 'positive_class_weight': 58.55928232475615, 'classifier__max_iter': 110, 'classifier__tol': 0.0020928788229440964, 'classifier__C': 0.03346048165057614, 'threshold': 0.39}. Best is trial 7 with value: 0.8161472604542902.\n"
     ]
    },
    {
     "name": "stdout",
     "output_type": "stream",
     "text": [
      "🏃 View run awesome-ape-256 at: http://127.0.0.1:8080/#/experiments/579090426674828470/runs/7c7a05fefed34fb487435d03b1690e17\n",
      "🧪 View experiment at: http://127.0.0.1:8080/#/experiments/579090426674828470\n"
     ]
    },
    {
     "name": "stderr",
     "output_type": "stream",
     "text": [
      "/Users/jeremy/code/ocr/p7_pret_a_depenser/venv/lib/python3.12/site-packages/sklearn/linear_model/_sag.py:348: ConvergenceWarning: The max_iter was reached which means the coef_ did not converge\n",
      "  warnings.warn(\n",
      "/Users/jeremy/code/ocr/p7_pret_a_depenser/venv/lib/python3.12/site-packages/sklearn/linear_model/_sag.py:348: ConvergenceWarning: The max_iter was reached which means the coef_ did not converge\n",
      "  warnings.warn(\n",
      "/Users/jeremy/code/ocr/p7_pret_a_depenser/venv/lib/python3.12/site-packages/sklearn/linear_model/_sag.py:348: ConvergenceWarning: The max_iter was reached which means the coef_ did not converge\n",
      "  warnings.warn(\n",
      "/Users/jeremy/code/ocr/p7_pret_a_depenser/venv/lib/python3.12/site-packages/sklearn/linear_model/_sag.py:348: ConvergenceWarning: The max_iter was reached which means the coef_ did not converge\n",
      "  warnings.warn(\n",
      "/Users/jeremy/code/ocr/p7_pret_a_depenser/venv/lib/python3.12/site-packages/sklearn/linear_model/_sag.py:348: ConvergenceWarning: The max_iter was reached which means the coef_ did not converge\n",
      "  warnings.warn(\n",
      "[I 2025-05-08 18:09:34,507] Trial 14 finished with value: 0.5846024365733253 and parameters: {'solver_penalty': 'saga__l2', 'positive_class_weight': 75.74772935650897, 'classifier__max_iter': 169, 'classifier__tol': 0.002034001591256998, 'classifier__C': 0.9055627368384964, 'threshold': 0.33999999999999997}. Best is trial 7 with value: 0.8161472604542902.\n"
     ]
    },
    {
     "name": "stdout",
     "output_type": "stream",
     "text": [
      "🏃 View run grandiose-bass-280 at: http://127.0.0.1:8080/#/experiments/579090426674828470/runs/631c79916cf54d81ae955ab1cadcba29\n",
      "🧪 View experiment at: http://127.0.0.1:8080/#/experiments/579090426674828470\n"
     ]
    },
    {
     "name": "stderr",
     "output_type": "stream",
     "text": [
      "[I 2025-05-08 18:09:38,447] Trial 15 finished with value: 0.42896149001802014 and parameters: {'solver_penalty': 'lbfgs__l2', 'positive_class_weight': 7.131970243039762, 'classifier__max_iter': 227, 'classifier__tol': 0.00034357090994817943, 'classifier__C': 0.03782797271758524, 'threshold': 0.43000000000000005}. Best is trial 7 with value: 0.8161472604542902.\n"
     ]
    },
    {
     "name": "stdout",
     "output_type": "stream",
     "text": [
      "🏃 View run worried-goat-195 at: http://127.0.0.1:8080/#/experiments/579090426674828470/runs/1b47b014f2d7401088448afef188a145\n",
      "🧪 View experiment at: http://127.0.0.1:8080/#/experiments/579090426674828470\n"
     ]
    },
    {
     "name": "stderr",
     "output_type": "stream",
     "text": [
      "/Users/jeremy/code/ocr/p7_pret_a_depenser/venv/lib/python3.12/site-packages/sklearn/linear_model/_logistic.py:1271: UserWarning: 'n_jobs' > 1 does not have any effect when 'solver' is set to 'liblinear'. Got 'n_jobs' = 2.\n",
      "  warnings.warn(\n",
      "/Users/jeremy/code/ocr/p7_pret_a_depenser/venv/lib/python3.12/site-packages/sklearn/linear_model/_logistic.py:1271: UserWarning: 'n_jobs' > 1 does not have any effect when 'solver' is set to 'liblinear'. Got 'n_jobs' = 2.\n",
      "  warnings.warn(\n",
      "/Users/jeremy/code/ocr/p7_pret_a_depenser/venv/lib/python3.12/site-packages/sklearn/linear_model/_logistic.py:1271: UserWarning: 'n_jobs' > 1 does not have any effect when 'solver' is set to 'liblinear'. Got 'n_jobs' = 2.\n",
      "  warnings.warn(\n",
      "/Users/jeremy/code/ocr/p7_pret_a_depenser/venv/lib/python3.12/site-packages/sklearn/linear_model/_logistic.py:1271: UserWarning: 'n_jobs' > 1 does not have any effect when 'solver' is set to 'liblinear'. Got 'n_jobs' = 2.\n",
      "  warnings.warn(\n",
      "/Users/jeremy/code/ocr/p7_pret_a_depenser/venv/lib/python3.12/site-packages/sklearn/linear_model/_logistic.py:1271: UserWarning: 'n_jobs' > 1 does not have any effect when 'solver' is set to 'liblinear'. Got 'n_jobs' = 2.\n",
      "  warnings.warn(\n",
      "[I 2025-05-08 18:09:43,000] Trial 16 finished with value: 0.8161462758372184 and parameters: {'solver_penalty': 'liblinear__l2', 'positive_class_weight': 19.032575079380297, 'classifier__max_iter': 138, 'classifier__tol': 0.0009444708547285972, 'classifier__C': 0.6234608801791225, 'threshold': 0.15000000000000002}. Best is trial 7 with value: 0.8161472604542902.\n"
     ]
    },
    {
     "name": "stdout",
     "output_type": "stream",
     "text": [
      "🏃 View run stately-hen-304 at: http://127.0.0.1:8080/#/experiments/579090426674828470/runs/0d3c9094314a44d5b4e849317a682cf2\n",
      "🧪 View experiment at: http://127.0.0.1:8080/#/experiments/579090426674828470\n"
     ]
    },
    {
     "name": "stderr",
     "output_type": "stream",
     "text": [
      "/Users/jeremy/code/ocr/p7_pret_a_depenser/venv/lib/python3.12/site-packages/sklearn/linear_model/_logistic.py:1271: UserWarning: 'n_jobs' > 1 does not have any effect when 'solver' is set to 'liblinear'. Got 'n_jobs' = 2.\n",
      "  warnings.warn(\n",
      "/Users/jeremy/code/ocr/p7_pret_a_depenser/venv/lib/python3.12/site-packages/sklearn/linear_model/_logistic.py:1271: UserWarning: 'n_jobs' > 1 does not have any effect when 'solver' is set to 'liblinear'. Got 'n_jobs' = 2.\n",
      "  warnings.warn(\n",
      "/Users/jeremy/code/ocr/p7_pret_a_depenser/venv/lib/python3.12/site-packages/sklearn/linear_model/_logistic.py:1271: UserWarning: 'n_jobs' > 1 does not have any effect when 'solver' is set to 'liblinear'. Got 'n_jobs' = 2.\n",
      "  warnings.warn(\n",
      "/Users/jeremy/code/ocr/p7_pret_a_depenser/venv/lib/python3.12/site-packages/sklearn/linear_model/_logistic.py:1271: UserWarning: 'n_jobs' > 1 does not have any effect when 'solver' is set to 'liblinear'. Got 'n_jobs' = 2.\n",
      "  warnings.warn(\n",
      "/Users/jeremy/code/ocr/p7_pret_a_depenser/venv/lib/python3.12/site-packages/sklearn/linear_model/_logistic.py:1271: UserWarning: 'n_jobs' > 1 does not have any effect when 'solver' is set to 'liblinear'. Got 'n_jobs' = 2.\n",
      "  warnings.warn(\n",
      "[I 2025-05-08 18:09:47,607] Trial 17 finished with value: 0.8161458163978155 and parameters: {'solver_penalty': 'liblinear__l1', 'positive_class_weight': 50.3350002274488, 'classifier__max_iter': 219, 'classifier__tol': 0.009964234206109866, 'classifier__C': 0.050248102961820154, 'threshold': 0.29000000000000004}. Best is trial 7 with value: 0.8161472604542902.\n"
     ]
    },
    {
     "name": "stdout",
     "output_type": "stream",
     "text": [
      "🏃 View run painted-hound-693 at: http://127.0.0.1:8080/#/experiments/579090426674828470/runs/64ad006e9ddf4a8b80c7e0a9a9b22f15\n",
      "🧪 View experiment at: http://127.0.0.1:8080/#/experiments/579090426674828470\n"
     ]
    },
    {
     "name": "stderr",
     "output_type": "stream",
     "text": [
      "/Users/jeremy/code/ocr/p7_pret_a_depenser/venv/lib/python3.12/site-packages/sklearn/linear_model/_logistic.py:1271: UserWarning: 'n_jobs' > 1 does not have any effect when 'solver' is set to 'liblinear'. Got 'n_jobs' = 2.\n",
      "  warnings.warn(\n",
      "/Users/jeremy/code/ocr/p7_pret_a_depenser/venv/lib/python3.12/site-packages/sklearn/linear_model/_logistic.py:1271: UserWarning: 'n_jobs' > 1 does not have any effect when 'solver' is set to 'liblinear'. Got 'n_jobs' = 2.\n",
      "  warnings.warn(\n",
      "/Users/jeremy/code/ocr/p7_pret_a_depenser/venv/lib/python3.12/site-packages/sklearn/linear_model/_logistic.py:1271: UserWarning: 'n_jobs' > 1 does not have any effect when 'solver' is set to 'liblinear'. Got 'n_jobs' = 2.\n",
      "  warnings.warn(\n",
      "/Users/jeremy/code/ocr/p7_pret_a_depenser/venv/lib/python3.12/site-packages/sklearn/linear_model/_logistic.py:1271: UserWarning: 'n_jobs' > 1 does not have any effect when 'solver' is set to 'liblinear'. Got 'n_jobs' = 2.\n",
      "  warnings.warn(\n",
      "/Users/jeremy/code/ocr/p7_pret_a_depenser/venv/lib/python3.12/site-packages/sklearn/linear_model/_logistic.py:1271: UserWarning: 'n_jobs' > 1 does not have any effect when 'solver' is set to 'liblinear'. Got 'n_jobs' = 2.\n",
      "  warnings.warn(\n",
      "[I 2025-05-08 18:09:50,866] Trial 18 finished with value: 0.8161458163978155 and parameters: {'solver_penalty': 'liblinear__l2', 'positive_class_weight': 76.51682974506639, 'classifier__max_iter': 182, 'classifier__tol': 0.0037849808087193153, 'classifier__C': 0.025047653693754987, 'threshold': 0.33999999999999997}. Best is trial 7 with value: 0.8161472604542902.\n"
     ]
    },
    {
     "name": "stdout",
     "output_type": "stream",
     "text": [
      "🏃 View run marvelous-kite-168 at: http://127.0.0.1:8080/#/experiments/579090426674828470/runs/700379fe84364dd18898a78bda8ab819\n",
      "🧪 View experiment at: http://127.0.0.1:8080/#/experiments/579090426674828470\n"
     ]
    },
    {
     "name": "stderr",
     "output_type": "stream",
     "text": [
      "/Users/jeremy/code/ocr/p7_pret_a_depenser/venv/lib/python3.12/site-packages/sklearn/linear_model/_logistic.py:1271: UserWarning: 'n_jobs' > 1 does not have any effect when 'solver' is set to 'liblinear'. Got 'n_jobs' = 2.\n",
      "  warnings.warn(\n",
      "/Users/jeremy/code/ocr/p7_pret_a_depenser/venv/lib/python3.12/site-packages/sklearn/linear_model/_logistic.py:1271: UserWarning: 'n_jobs' > 1 does not have any effect when 'solver' is set to 'liblinear'. Got 'n_jobs' = 2.\n",
      "  warnings.warn(\n",
      "/Users/jeremy/code/ocr/p7_pret_a_depenser/venv/lib/python3.12/site-packages/sklearn/linear_model/_logistic.py:1271: UserWarning: 'n_jobs' > 1 does not have any effect when 'solver' is set to 'liblinear'. Got 'n_jobs' = 2.\n",
      "  warnings.warn(\n",
      "/Users/jeremy/code/ocr/p7_pret_a_depenser/venv/lib/python3.12/site-packages/sklearn/linear_model/_logistic.py:1271: UserWarning: 'n_jobs' > 1 does not have any effect when 'solver' is set to 'liblinear'. Got 'n_jobs' = 2.\n",
      "  warnings.warn(\n",
      "/Users/jeremy/code/ocr/p7_pret_a_depenser/venv/lib/python3.12/site-packages/sklearn/linear_model/_logistic.py:1271: UserWarning: 'n_jobs' > 1 does not have any effect when 'solver' is set to 'liblinear'. Got 'n_jobs' = 2.\n",
      "  warnings.warn(\n",
      "[I 2025-05-08 18:10:49,046] Trial 19 finished with value: 0.8159610386909272 and parameters: {'solver_penalty': 'liblinear__l1', 'positive_class_weight': 63.02813362420033, 'classifier__max_iter': 129, 'classifier__tol': 0.0011431007339598107, 'classifier__C': 2.606595518954715, 'threshold': 0.44000000000000006}. Best is trial 7 with value: 0.8161472604542902.\n"
     ]
    },
    {
     "name": "stdout",
     "output_type": "stream",
     "text": [
      "🏃 View run capable-flea-284 at: http://127.0.0.1:8080/#/experiments/579090426674828470/runs/28c30c59ae634bb9ba54b474fbaa5328\n",
      "🧪 View experiment at: http://127.0.0.1:8080/#/experiments/579090426674828470\n"
     ]
    },
    {
     "name": "stderr",
     "output_type": "stream",
     "text": [
      "/Users/jeremy/code/ocr/p7_pret_a_depenser/venv/lib/python3.12/site-packages/sklearn/linear_model/_sag.py:348: ConvergenceWarning: The max_iter was reached which means the coef_ did not converge\n",
      "  warnings.warn(\n",
      "/Users/jeremy/code/ocr/p7_pret_a_depenser/venv/lib/python3.12/site-packages/sklearn/linear_model/_sag.py:348: ConvergenceWarning: The max_iter was reached which means the coef_ did not converge\n",
      "  warnings.warn(\n",
      "/Users/jeremy/code/ocr/p7_pret_a_depenser/venv/lib/python3.12/site-packages/sklearn/linear_model/_sag.py:348: ConvergenceWarning: The max_iter was reached which means the coef_ did not converge\n",
      "  warnings.warn(\n",
      "/Users/jeremy/code/ocr/p7_pret_a_depenser/venv/lib/python3.12/site-packages/sklearn/linear_model/_sag.py:348: ConvergenceWarning: The max_iter was reached which means the coef_ did not converge\n",
      "  warnings.warn(\n",
      "/Users/jeremy/code/ocr/p7_pret_a_depenser/venv/lib/python3.12/site-packages/sklearn/linear_model/_sag.py:348: ConvergenceWarning: The max_iter was reached which means the coef_ did not converge\n",
      "  warnings.warn(\n",
      "[I 2025-05-08 18:11:50,805] Trial 20 finished with value: 0.4469457854202922 and parameters: {'solver_penalty': 'saga__l1', 'positive_class_weight': 19.684809385820603, 'classifier__max_iter': 281, 'classifier__tol': 0.0002652493718633339, 'classifier__C': 0.015513650422575824, 'threshold': 0.25}. Best is trial 7 with value: 0.8161472604542902.\n"
     ]
    },
    {
     "name": "stdout",
     "output_type": "stream",
     "text": [
      "🏃 View run calm-hen-998 at: http://127.0.0.1:8080/#/experiments/579090426674828470/runs/139efe91862d453c9688507955576ad8\n",
      "🧪 View experiment at: http://127.0.0.1:8080/#/experiments/579090426674828470\n"
     ]
    },
    {
     "name": "stderr",
     "output_type": "stream",
     "text": [
      "/Users/jeremy/code/ocr/p7_pret_a_depenser/venv/lib/python3.12/site-packages/sklearn/linear_model/_logistic.py:1271: UserWarning: 'n_jobs' > 1 does not have any effect when 'solver' is set to 'liblinear'. Got 'n_jobs' = 2.\n",
      "  warnings.warn(\n",
      "/Users/jeremy/code/ocr/p7_pret_a_depenser/venv/lib/python3.12/site-packages/sklearn/linear_model/_logistic.py:1271: UserWarning: 'n_jobs' > 1 does not have any effect when 'solver' is set to 'liblinear'. Got 'n_jobs' = 2.\n",
      "  warnings.warn(\n",
      "/Users/jeremy/code/ocr/p7_pret_a_depenser/venv/lib/python3.12/site-packages/sklearn/linear_model/_logistic.py:1271: UserWarning: 'n_jobs' > 1 does not have any effect when 'solver' is set to 'liblinear'. Got 'n_jobs' = 2.\n",
      "  warnings.warn(\n",
      "/Users/jeremy/code/ocr/p7_pret_a_depenser/venv/lib/python3.12/site-packages/sklearn/linear_model/_logistic.py:1271: UserWarning: 'n_jobs' > 1 does not have any effect when 'solver' is set to 'liblinear'. Got 'n_jobs' = 2.\n",
      "  warnings.warn(\n",
      "/Users/jeremy/code/ocr/p7_pret_a_depenser/venv/lib/python3.12/site-packages/sklearn/linear_model/_logistic.py:1271: UserWarning: 'n_jobs' > 1 does not have any effect when 'solver' is set to 'liblinear'. Got 'n_jobs' = 2.\n",
      "  warnings.warn(\n",
      "[I 2025-05-08 18:11:55,163] Trial 21 finished with value: 0.8161462758372184 and parameters: {'solver_penalty': 'liblinear__l2', 'positive_class_weight': 19.115998125670863, 'classifier__max_iter': 147, 'classifier__tol': 0.000687787787359321, 'classifier__C': 0.35893502807053956, 'threshold': 0.15000000000000002}. Best is trial 7 with value: 0.8161472604542902.\n"
     ]
    },
    {
     "name": "stdout",
     "output_type": "stream",
     "text": [
      "🏃 View run languid-boar-326 at: http://127.0.0.1:8080/#/experiments/579090426674828470/runs/6b799cc6c9fc4421a1a20b0472c4a66d\n",
      "🧪 View experiment at: http://127.0.0.1:8080/#/experiments/579090426674828470\n"
     ]
    },
    {
     "name": "stderr",
     "output_type": "stream",
     "text": [
      "/Users/jeremy/code/ocr/p7_pret_a_depenser/venv/lib/python3.12/site-packages/sklearn/linear_model/_logistic.py:1271: UserWarning: 'n_jobs' > 1 does not have any effect when 'solver' is set to 'liblinear'. Got 'n_jobs' = 2.\n",
      "  warnings.warn(\n",
      "/Users/jeremy/code/ocr/p7_pret_a_depenser/venv/lib/python3.12/site-packages/sklearn/linear_model/_logistic.py:1271: UserWarning: 'n_jobs' > 1 does not have any effect when 'solver' is set to 'liblinear'. Got 'n_jobs' = 2.\n",
      "  warnings.warn(\n",
      "/Users/jeremy/code/ocr/p7_pret_a_depenser/venv/lib/python3.12/site-packages/sklearn/linear_model/_logistic.py:1271: UserWarning: 'n_jobs' > 1 does not have any effect when 'solver' is set to 'liblinear'. Got 'n_jobs' = 2.\n",
      "  warnings.warn(\n",
      "/Users/jeremy/code/ocr/p7_pret_a_depenser/venv/lib/python3.12/site-packages/sklearn/linear_model/_logistic.py:1271: UserWarning: 'n_jobs' > 1 does not have any effect when 'solver' is set to 'liblinear'. Got 'n_jobs' = 2.\n",
      "  warnings.warn(\n",
      "/Users/jeremy/code/ocr/p7_pret_a_depenser/venv/lib/python3.12/site-packages/sklearn/linear_model/_logistic.py:1271: UserWarning: 'n_jobs' > 1 does not have any effect when 'solver' is set to 'liblinear'. Got 'n_jobs' = 2.\n",
      "  warnings.warn(\n",
      "[I 2025-05-08 18:11:59,659] Trial 22 finished with value: 0.8157301963988427 and parameters: {'solver_penalty': 'liblinear__l2', 'positive_class_weight': 14.698395929562736, 'classifier__max_iter': 133, 'classifier__tol': 0.0028794521258135196, 'classifier__C': 0.7415771512811742, 'threshold': 0.16}. Best is trial 7 with value: 0.8161472604542902.\n"
     ]
    },
    {
     "name": "stdout",
     "output_type": "stream",
     "text": [
      "🏃 View run worried-grub-528 at: http://127.0.0.1:8080/#/experiments/579090426674828470/runs/a2b97103d91844cab027704a29bb60c8\n",
      "🧪 View experiment at: http://127.0.0.1:8080/#/experiments/579090426674828470\n"
     ]
    },
    {
     "name": "stderr",
     "output_type": "stream",
     "text": [
      "/Users/jeremy/code/ocr/p7_pret_a_depenser/venv/lib/python3.12/site-packages/sklearn/linear_model/_logistic.py:1271: UserWarning: 'n_jobs' > 1 does not have any effect when 'solver' is set to 'liblinear'. Got 'n_jobs' = 2.\n",
      "  warnings.warn(\n",
      "/Users/jeremy/code/ocr/p7_pret_a_depenser/venv/lib/python3.12/site-packages/sklearn/linear_model/_logistic.py:1271: UserWarning: 'n_jobs' > 1 does not have any effect when 'solver' is set to 'liblinear'. Got 'n_jobs' = 2.\n",
      "  warnings.warn(\n",
      "/Users/jeremy/code/ocr/p7_pret_a_depenser/venv/lib/python3.12/site-packages/sklearn/linear_model/_logistic.py:1271: UserWarning: 'n_jobs' > 1 does not have any effect when 'solver' is set to 'liblinear'. Got 'n_jobs' = 2.\n",
      "  warnings.warn(\n",
      "/Users/jeremy/code/ocr/p7_pret_a_depenser/venv/lib/python3.12/site-packages/sklearn/linear_model/_logistic.py:1271: UserWarning: 'n_jobs' > 1 does not have any effect when 'solver' is set to 'liblinear'. Got 'n_jobs' = 2.\n",
      "  warnings.warn(\n",
      "/Users/jeremy/code/ocr/p7_pret_a_depenser/venv/lib/python3.12/site-packages/sklearn/linear_model/_logistic.py:1271: UserWarning: 'n_jobs' > 1 does not have any effect when 'solver' is set to 'liblinear'. Got 'n_jobs' = 2.\n",
      "  warnings.warn(\n",
      "[I 2025-05-08 18:12:04,066] Trial 23 finished with value: 0.8161458163978155 and parameters: {'solver_penalty': 'liblinear__l2', 'positive_class_weight': 47.559278408507154, 'classifier__max_iter': 144, 'classifier__tol': 0.0008217963088574632, 'classifier__C': 0.497066475731099, 'threshold': 0.11}. Best is trial 7 with value: 0.8161472604542902.\n"
     ]
    },
    {
     "name": "stdout",
     "output_type": "stream",
     "text": [
      "🏃 View run glamorous-fawn-83 at: http://127.0.0.1:8080/#/experiments/579090426674828470/runs/58ac8a2e0dae472f847cd0f67a8ab225\n",
      "🧪 View experiment at: http://127.0.0.1:8080/#/experiments/579090426674828470\n"
     ]
    },
    {
     "name": "stderr",
     "output_type": "stream",
     "text": [
      "/Users/jeremy/code/ocr/p7_pret_a_depenser/venv/lib/python3.12/site-packages/sklearn/linear_model/_logistic.py:1271: UserWarning: 'n_jobs' > 1 does not have any effect when 'solver' is set to 'liblinear'. Got 'n_jobs' = 2.\n",
      "  warnings.warn(\n",
      "/Users/jeremy/code/ocr/p7_pret_a_depenser/venv/lib/python3.12/site-packages/sklearn/linear_model/_logistic.py:1271: UserWarning: 'n_jobs' > 1 does not have any effect when 'solver' is set to 'liblinear'. Got 'n_jobs' = 2.\n",
      "  warnings.warn(\n",
      "/Users/jeremy/code/ocr/p7_pret_a_depenser/venv/lib/python3.12/site-packages/sklearn/linear_model/_logistic.py:1271: UserWarning: 'n_jobs' > 1 does not have any effect when 'solver' is set to 'liblinear'. Got 'n_jobs' = 2.\n",
      "  warnings.warn(\n",
      "/Users/jeremy/code/ocr/p7_pret_a_depenser/venv/lib/python3.12/site-packages/sklearn/linear_model/_logistic.py:1271: UserWarning: 'n_jobs' > 1 does not have any effect when 'solver' is set to 'liblinear'. Got 'n_jobs' = 2.\n",
      "  warnings.warn(\n",
      "/Users/jeremy/code/ocr/p7_pret_a_depenser/venv/lib/python3.12/site-packages/sklearn/linear_model/_logistic.py:1271: UserWarning: 'n_jobs' > 1 does not have any effect when 'solver' is set to 'liblinear'. Got 'n_jobs' = 2.\n",
      "  warnings.warn(\n",
      "[I 2025-05-08 18:12:08,095] Trial 24 finished with value: 0.8161467353033037 and parameters: {'solver_penalty': 'liblinear__l2', 'positive_class_weight': 24.069702531917063, 'classifier__max_iter': 102, 'classifier__tol': 0.001486423588950695, 'classifier__C': 0.1956645152563514, 'threshold': 0.19}. Best is trial 7 with value: 0.8161472604542902.\n"
     ]
    },
    {
     "name": "stdout",
     "output_type": "stream",
     "text": [
      "🏃 View run skittish-gnu-122 at: http://127.0.0.1:8080/#/experiments/579090426674828470/runs/f60b0f5036464027b3b324716317be6d\n",
      "🧪 View experiment at: http://127.0.0.1:8080/#/experiments/579090426674828470\n"
     ]
    },
    {
     "name": "stderr",
     "output_type": "stream",
     "text": [
      "/Users/jeremy/code/ocr/p7_pret_a_depenser/venv/lib/python3.12/site-packages/sklearn/linear_model/_sag.py:348: ConvergenceWarning: The max_iter was reached which means the coef_ did not converge\n",
      "  warnings.warn(\n",
      "/Users/jeremy/code/ocr/p7_pret_a_depenser/venv/lib/python3.12/site-packages/sklearn/linear_model/_sag.py:348: ConvergenceWarning: The max_iter was reached which means the coef_ did not converge\n",
      "  warnings.warn(\n",
      "/Users/jeremy/code/ocr/p7_pret_a_depenser/venv/lib/python3.12/site-packages/sklearn/linear_model/_sag.py:348: ConvergenceWarning: The max_iter was reached which means the coef_ did not converge\n",
      "  warnings.warn(\n",
      "/Users/jeremy/code/ocr/p7_pret_a_depenser/venv/lib/python3.12/site-packages/sklearn/linear_model/_sag.py:348: ConvergenceWarning: The max_iter was reached which means the coef_ did not converge\n",
      "  warnings.warn(\n",
      "/Users/jeremy/code/ocr/p7_pret_a_depenser/venv/lib/python3.12/site-packages/sklearn/metrics/_classification.py:1565: UndefinedMetricWarning: Precision is ill-defined and being set to 0.0 due to no predicted samples. Use `zero_division` parameter to control this behavior.\n",
      "  _warn_prf(average, modifier, f\"{metric.capitalize()} is\", len(result))\n",
      "/Users/jeremy/code/ocr/p7_pret_a_depenser/venv/lib/python3.12/site-packages/sklearn/linear_model/_sag.py:348: ConvergenceWarning: The max_iter was reached which means the coef_ did not converge\n",
      "  warnings.warn(\n",
      "[I 2025-05-08 18:12:42,532] Trial 25 finished with value: 0.5237399710874934 and parameters: {'solver_penalty': 'saga__l2', 'positive_class_weight': 26.762236992230285, 'classifier__max_iter': 173, 'classifier__tol': 0.006471012892797077, 'classifier__C': 0.06100846118109804, 'threshold': 0.19}. Best is trial 7 with value: 0.8161472604542902.\n"
     ]
    },
    {
     "name": "stdout",
     "output_type": "stream",
     "text": [
      "🏃 View run bittersweet-slug-709 at: http://127.0.0.1:8080/#/experiments/579090426674828470/runs/e9e846da2250470ba2646fdc95df9675\n",
      "🧪 View experiment at: http://127.0.0.1:8080/#/experiments/579090426674828470\n"
     ]
    },
    {
     "name": "stderr",
     "output_type": "stream",
     "text": [
      "[I 2025-05-08 18:12:46,308] Trial 26 finished with value: 0.8161458163978155 and parameters: {'solver_penalty': 'lbfgs__l2', 'positive_class_weight': 86.83458988069798, 'classifier__max_iter': 207, 'classifier__tol': 0.0016725636808954058, 'classifier__C': 0.17445876175229644, 'threshold': 0.25}. Best is trial 7 with value: 0.8161472604542902.\n"
     ]
    },
    {
     "name": "stdout",
     "output_type": "stream",
     "text": [
      "🏃 View run resilient-mule-628 at: http://127.0.0.1:8080/#/experiments/579090426674828470/runs/8e40510444904099a307cfd0d666d6ce\n",
      "🧪 View experiment at: http://127.0.0.1:8080/#/experiments/579090426674828470\n"
     ]
    },
    {
     "name": "stderr",
     "output_type": "stream",
     "text": [
      "[I 2025-05-08 18:12:54,507] Trial 27 finished with value: 0.8094513519672096 and parameters: {'solver_penalty': 'saga__elasticnet', 'positive_class_weight': 9.326497012822784, 'classifier__max_iter': 100, 'classifier__tol': 0.003359296555652349, 'classifier__C': 0.12966217156811327, 'classifier__l1_ratio': 0.014035292424570689, 'threshold': 0.18}. Best is trial 7 with value: 0.8161472604542902.\n"
     ]
    },
    {
     "name": "stdout",
     "output_type": "stream",
     "text": [
      "🏃 View run learned-deer-327 at: http://127.0.0.1:8080/#/experiments/579090426674828470/runs/4ec5f160181847a8b37626b146eb2216\n",
      "🧪 View experiment at: http://127.0.0.1:8080/#/experiments/579090426674828470\n"
     ]
    },
    {
     "name": "stderr",
     "output_type": "stream",
     "text": [
      "/Users/jeremy/code/ocr/p7_pret_a_depenser/venv/lib/python3.12/site-packages/sklearn/linear_model/_logistic.py:1271: UserWarning: 'n_jobs' > 1 does not have any effect when 'solver' is set to 'liblinear'. Got 'n_jobs' = 2.\n",
      "  warnings.warn(\n",
      "/Users/jeremy/code/ocr/p7_pret_a_depenser/venv/lib/python3.12/site-packages/sklearn/linear_model/_logistic.py:1271: UserWarning: 'n_jobs' > 1 does not have any effect when 'solver' is set to 'liblinear'. Got 'n_jobs' = 2.\n",
      "  warnings.warn(\n",
      "/Users/jeremy/code/ocr/p7_pret_a_depenser/venv/lib/python3.12/site-packages/sklearn/linear_model/_logistic.py:1271: UserWarning: 'n_jobs' > 1 does not have any effect when 'solver' is set to 'liblinear'. Got 'n_jobs' = 2.\n",
      "  warnings.warn(\n",
      "/Users/jeremy/code/ocr/p7_pret_a_depenser/venv/lib/python3.12/site-packages/sklearn/linear_model/_logistic.py:1271: UserWarning: 'n_jobs' > 1 does not have any effect when 'solver' is set to 'liblinear'. Got 'n_jobs' = 2.\n",
      "  warnings.warn(\n",
      "/Users/jeremy/code/ocr/p7_pret_a_depenser/venv/lib/python3.12/site-packages/sklearn/linear_model/_logistic.py:1271: UserWarning: 'n_jobs' > 1 does not have any effect when 'solver' is set to 'liblinear'. Got 'n_jobs' = 2.\n",
      "  warnings.warn(\n",
      "[I 2025-05-08 18:13:29,713] Trial 28 finished with value: 0.8161458163978155 and parameters: {'solver_penalty': 'liblinear__l1', 'positive_class_weight': 45.01902412729113, 'classifier__max_iter': 234, 'classifier__tol': 0.00047321398011669413, 'classifier__C': 0.018936845494739472, 'threshold': 0.1}. Best is trial 7 with value: 0.8161472604542902.\n"
     ]
    },
    {
     "name": "stdout",
     "output_type": "stream",
     "text": [
      "🏃 View run thundering-bear-830 at: http://127.0.0.1:8080/#/experiments/579090426674828470/runs/e6e15d0732984e94b0c1e09cbbdd3f78\n",
      "🧪 View experiment at: http://127.0.0.1:8080/#/experiments/579090426674828470\n"
     ]
    },
    {
     "name": "stderr",
     "output_type": "stream",
     "text": [
      "/Users/jeremy/code/ocr/p7_pret_a_depenser/venv/lib/python3.12/site-packages/sklearn/linear_model/_sag.py:348: ConvergenceWarning: The max_iter was reached which means the coef_ did not converge\n",
      "  warnings.warn(\n",
      "/Users/jeremy/code/ocr/p7_pret_a_depenser/venv/lib/python3.12/site-packages/sklearn/linear_model/_sag.py:348: ConvergenceWarning: The max_iter was reached which means the coef_ did not converge\n",
      "  warnings.warn(\n",
      "/Users/jeremy/code/ocr/p7_pret_a_depenser/venv/lib/python3.12/site-packages/sklearn/linear_model/_sag.py:348: ConvergenceWarning: The max_iter was reached which means the coef_ did not converge\n",
      "  warnings.warn(\n",
      "/Users/jeremy/code/ocr/p7_pret_a_depenser/venv/lib/python3.12/site-packages/sklearn/linear_model/_sag.py:348: ConvergenceWarning: The max_iter was reached which means the coef_ did not converge\n",
      "  warnings.warn(\n",
      "/Users/jeremy/code/ocr/p7_pret_a_depenser/venv/lib/python3.12/site-packages/sklearn/linear_model/_sag.py:348: ConvergenceWarning: The max_iter was reached which means the coef_ did not converge\n",
      "  warnings.warn(\n",
      "[I 2025-05-08 18:14:20,392] Trial 29 finished with value: 0.640622306784919 and parameters: {'solver_penalty': 'saga__elasticnet', 'positive_class_weight': 26.063744560637495, 'classifier__max_iter': 207, 'classifier__tol': 0.0002060960682548401, 'classifier__C': 0.07501685333694649, 'classifier__l1_ratio': 0.09163143188100564, 'threshold': 0.45000000000000007}. Best is trial 7 with value: 0.8161472604542902.\n"
     ]
    },
    {
     "name": "stdout",
     "output_type": "stream",
     "text": [
      "🏃 View run learned-fowl-338 at: http://127.0.0.1:8080/#/experiments/579090426674828470/runs/76e319d8022a493ba1f4d0811a4abd77\n",
      "🧪 View experiment at: http://127.0.0.1:8080/#/experiments/579090426674828470\n"
     ]
    },
    {
     "name": "stderr",
     "output_type": "stream",
     "text": [
      "/Users/jeremy/code/ocr/p7_pret_a_depenser/venv/lib/python3.12/site-packages/sklearn/metrics/_classification.py:1565: UndefinedMetricWarning: Precision is ill-defined and being set to 0.0 due to no predicted samples. Use `zero_division` parameter to control this behavior.\n",
      "  _warn_prf(average, modifier, f\"{metric.capitalize()} is\", len(result))\n",
      "/Users/jeremy/code/ocr/p7_pret_a_depenser/venv/lib/python3.12/site-packages/sklearn/metrics/_classification.py:1565: UndefinedMetricWarning: Precision is ill-defined and being set to 0.0 due to no predicted samples. Use `zero_division` parameter to control this behavior.\n",
      "  _warn_prf(average, modifier, f\"{metric.capitalize()} is\", len(result))\n",
      "/Users/jeremy/code/ocr/p7_pret_a_depenser/venv/lib/python3.12/site-packages/sklearn/metrics/_classification.py:1565: UndefinedMetricWarning: Precision is ill-defined and being set to 0.0 in labels with no predicted samples. Use `zero_division` parameter to control this behavior.\n",
      "  _warn_prf(average, modifier, f\"{metric.capitalize()} is\", len(result))\n",
      "/Users/jeremy/code/ocr/p7_pret_a_depenser/venv/lib/python3.12/site-packages/sklearn/metrics/_classification.py:1565: UndefinedMetricWarning: Precision is ill-defined and being set to 0.0 in labels with no predicted samples. Use `zero_division` parameter to control this behavior.\n",
      "  _warn_prf(average, modifier, f\"{metric.capitalize()} is\", len(result))\n",
      "/Users/jeremy/code/ocr/p7_pret_a_depenser/venv/lib/python3.12/site-packages/sklearn/metrics/_classification.py:1565: UndefinedMetricWarning: Precision is ill-defined and being set to 0.0 in labels with no predicted samples. Use `zero_division` parameter to control this behavior.\n",
      "  _warn_prf(average, modifier, f\"{metric.capitalize()} is\", len(result))\n"
     ]
    },
    {
     "name": "stdout",
     "output_type": "stream",
     "text": [
      "🏃 View run LogisticRegression_v2__application_train_poly_managed_outliers_mising_cols__study_run at: http://127.0.0.1:8080/#/experiments/579090426674828470/runs/bef7f1abb6fd43c0bed2be7aca0ebe2e\n",
      "🧪 View experiment at: http://127.0.0.1:8080/#/experiments/579090426674828470\n"
     ]
    }
   ],
   "source": [
    "X_train, X_test, y_train, y_test, preproc = prepare_data(\n",
    "    data[\n",
    "        [\"EXT_SOURCE_1\", \"EXT_SOURCE_2\", \"EXT_SOURCE_3\", \"DAYS_BIRTH\", \"TARGET\"]\n",
    "    ],\n",
    "    target_column=\"TARGET\",\n",
    "    categorical_strategy=\"most_frequent\",\n",
    "    outlier_strategy=\"replace_with_nan\",\n",
    "    outlier_threshold=0.05,\n",
    "    test_size=0.2,\n",
    "    random_state=42,\n",
    "    encode_categoricals=True,\n",
    "    drop_missing_columns=True,\n",
    "    missing_col_threshold=0.5,\n",
    "    polynomial_features=True,\n",
    ")\n",
    "\n",
    "\n",
    "run_experiment(\n",
    "    model_name=\"LogisticRegression_v2\",\n",
    "    model_class=LogisticRegression,\n",
    "    param_space_fn=lr_param_space,\n",
    "    dataset_name=\"application_train_poly_managed_outliers_mising_cols\",\n",
    "    X_train=X_train,\n",
    "    X_test=X_test,\n",
    "    y_train=y_train,\n",
    "    y_test=y_test,\n",
    "    preprocessor=preproc,\n",
    "    cv=5,\n",
    "    n_trials=30,\n",
    ")\n"
   ]
  },
  {
   "cell_type": "code",
   "execution_count": 24,
   "id": "9b5ed9a3",
   "metadata": {},
   "outputs": [
    {
     "name": "stdout",
     "output_type": "stream",
     "text": [
      "🧹 Dropping 41 column(s) with missing ratio ≥ 0.5:\n",
      " - OWN_CAR_AGE\n",
      " - EXT_SOURCE_1\n",
      " - APARTMENTS_AVG\n",
      " - BASEMENTAREA_AVG\n",
      " - YEARS_BUILD_AVG\n",
      " - COMMONAREA_AVG\n",
      " - ELEVATORS_AVG\n",
      " - ENTRANCES_AVG\n",
      " - FLOORSMIN_AVG\n",
      " - LANDAREA_AVG\n",
      " - LIVINGAPARTMENTS_AVG\n",
      " - LIVINGAREA_AVG\n",
      " - NONLIVINGAPARTMENTS_AVG\n",
      " - NONLIVINGAREA_AVG\n",
      " - APARTMENTS_MODE\n",
      " - BASEMENTAREA_MODE\n",
      " - YEARS_BUILD_MODE\n",
      " - COMMONAREA_MODE\n",
      " - ELEVATORS_MODE\n",
      " - ENTRANCES_MODE\n",
      " - FLOORSMIN_MODE\n",
      " - LANDAREA_MODE\n",
      " - LIVINGAPARTMENTS_MODE\n",
      " - LIVINGAREA_MODE\n",
      " - NONLIVINGAPARTMENTS_MODE\n",
      " - NONLIVINGAREA_MODE\n",
      " - APARTMENTS_MEDI\n",
      " - BASEMENTAREA_MEDI\n",
      " - YEARS_BUILD_MEDI\n",
      " - COMMONAREA_MEDI\n",
      " - ELEVATORS_MEDI\n",
      " - ENTRANCES_MEDI\n",
      " - FLOORSMIN_MEDI\n",
      " - LANDAREA_MEDI\n",
      " - LIVINGAPARTMENTS_MEDI\n",
      " - LIVINGAREA_MEDI\n",
      " - NONLIVINGAPARTMENTS_MEDI\n",
      " - NONLIVINGAREA_MEDI\n",
      " - FONDKAPREMONT_MODE\n",
      " - HOUSETYPE_MODE\n",
      " - WALLSMATERIAL_MODE\n",
      "Found 71 numerical features\n",
      "Found 4 binary features\n",
      "Found 9 categorical features\n"
     ]
    },
    {
     "name": "stderr",
     "output_type": "stream",
     "text": [
      "[I 2025-05-08 18:14:23,779] A new study created in memory with name: no-name-9dad4dcb-d9fc-4326-8808-26b26bcdb34f\n",
      "/Users/jeremy/code/ocr/p7_pret_a_depenser/venv/lib/python3.12/site-packages/sklearn/linear_model/_logistic.py:1271: UserWarning: 'n_jobs' > 1 does not have any effect when 'solver' is set to 'liblinear'. Got 'n_jobs' = 2.\n",
      "  warnings.warn(\n",
      "/Users/jeremy/code/ocr/p7_pret_a_depenser/venv/lib/python3.12/site-packages/sklearn/linear_model/_logistic.py:1271: UserWarning: 'n_jobs' > 1 does not have any effect when 'solver' is set to 'liblinear'. Got 'n_jobs' = 2.\n",
      "  warnings.warn(\n",
      "/Users/jeremy/code/ocr/p7_pret_a_depenser/venv/lib/python3.12/site-packages/sklearn/linear_model/_logistic.py:1271: UserWarning: 'n_jobs' > 1 does not have any effect when 'solver' is set to 'liblinear'. Got 'n_jobs' = 2.\n",
      "  warnings.warn(\n",
      "/Users/jeremy/code/ocr/p7_pret_a_depenser/venv/lib/python3.12/site-packages/sklearn/linear_model/_logistic.py:1271: UserWarning: 'n_jobs' > 1 does not have any effect when 'solver' is set to 'liblinear'. Got 'n_jobs' = 2.\n",
      "  warnings.warn(\n",
      "/Users/jeremy/code/ocr/p7_pret_a_depenser/venv/lib/python3.12/site-packages/sklearn/linear_model/_logistic.py:1271: UserWarning: 'n_jobs' > 1 does not have any effect when 'solver' is set to 'liblinear'. Got 'n_jobs' = 2.\n",
      "  warnings.warn(\n",
      "[I 2025-05-08 18:14:44,443] Trial 0 finished with value: 0.8158604068660228 and parameters: {'solver_penalty': 'liblinear__l1', 'positive_class_weight': 52.61278804145748, 'classifier__max_iter': 267, 'classifier__tol': 0.003948745923383017, 'classifier__C': 0.05924972164895547, 'threshold': 0.32}. Best is trial 0 with value: 0.8158604068660228.\n"
     ]
    },
    {
     "name": "stdout",
     "output_type": "stream",
     "text": [
      "🏃 View run colorful-dolphin-874 at: http://127.0.0.1:8080/#/experiments/579090426674828470/runs/2b768a26e624483c8dca1566fd2db710\n",
      "🧪 View experiment at: http://127.0.0.1:8080/#/experiments/579090426674828470\n"
     ]
    },
    {
     "name": "stderr",
     "output_type": "stream",
     "text": [
      "/Users/jeremy/code/ocr/p7_pret_a_depenser/venv/lib/python3.12/site-packages/sklearn/linear_model/_logistic.py:1271: UserWarning: 'n_jobs' > 1 does not have any effect when 'solver' is set to 'liblinear'. Got 'n_jobs' = 2.\n",
      "  warnings.warn(\n",
      "/Users/jeremy/code/ocr/p7_pret_a_depenser/venv/lib/python3.12/site-packages/sklearn/linear_model/_logistic.py:1271: UserWarning: 'n_jobs' > 1 does not have any effect when 'solver' is set to 'liblinear'. Got 'n_jobs' = 2.\n",
      "  warnings.warn(\n",
      "/Users/jeremy/code/ocr/p7_pret_a_depenser/venv/lib/python3.12/site-packages/sklearn/linear_model/_logistic.py:1271: UserWarning: 'n_jobs' > 1 does not have any effect when 'solver' is set to 'liblinear'. Got 'n_jobs' = 2.\n",
      "  warnings.warn(\n",
      "/Users/jeremy/code/ocr/p7_pret_a_depenser/venv/lib/python3.12/site-packages/sklearn/linear_model/_logistic.py:1271: UserWarning: 'n_jobs' > 1 does not have any effect when 'solver' is set to 'liblinear'. Got 'n_jobs' = 2.\n",
      "  warnings.warn(\n",
      "/Users/jeremy/code/ocr/p7_pret_a_depenser/venv/lib/python3.12/site-packages/sklearn/linear_model/_logistic.py:1271: UserWarning: 'n_jobs' > 1 does not have any effect when 'solver' is set to 'liblinear'. Got 'n_jobs' = 2.\n",
      "  warnings.warn(\n",
      "[I 2025-05-08 18:19:43,247] Trial 1 finished with value: 0.8161467353113083 and parameters: {'solver_penalty': 'liblinear__l1', 'positive_class_weight': 79.71316824680582, 'classifier__max_iter': 232, 'classifier__tol': 0.0001173442964559351, 'classifier__C': 0.17726641933196757, 'threshold': 0.19}. Best is trial 1 with value: 0.8161467353113083.\n"
     ]
    },
    {
     "name": "stdout",
     "output_type": "stream",
     "text": [
      "🏃 View run incongruous-cat-483 at: http://127.0.0.1:8080/#/experiments/579090426674828470/runs/5a6ee9f7c30a4262bf81a581b06c9560\n",
      "🧪 View experiment at: http://127.0.0.1:8080/#/experiments/579090426674828470\n"
     ]
    },
    {
     "name": "stderr",
     "output_type": "stream",
     "text": [
      "/Users/jeremy/code/ocr/p7_pret_a_depenser/venv/lib/python3.12/site-packages/sklearn/linear_model/_sag.py:348: ConvergenceWarning: The max_iter was reached which means the coef_ did not converge\n",
      "  warnings.warn(\n",
      "/Users/jeremy/code/ocr/p7_pret_a_depenser/venv/lib/python3.12/site-packages/sklearn/linear_model/_sag.py:348: ConvergenceWarning: The max_iter was reached which means the coef_ did not converge\n",
      "  warnings.warn(\n",
      "/Users/jeremy/code/ocr/p7_pret_a_depenser/venv/lib/python3.12/site-packages/sklearn/linear_model/_sag.py:348: ConvergenceWarning: The max_iter was reached which means the coef_ did not converge\n",
      "  warnings.warn(\n",
      "/Users/jeremy/code/ocr/p7_pret_a_depenser/venv/lib/python3.12/site-packages/sklearn/linear_model/_sag.py:348: ConvergenceWarning: The max_iter was reached which means the coef_ did not converge\n",
      "  warnings.warn(\n",
      "/Users/jeremy/code/ocr/p7_pret_a_depenser/venv/lib/python3.12/site-packages/sklearn/linear_model/_sag.py:348: ConvergenceWarning: The max_iter was reached which means the coef_ did not converge\n",
      "  warnings.warn(\n",
      "[I 2025-05-08 18:24:45,389] Trial 2 finished with value: 0.7814594645117338 and parameters: {'solver_penalty': 'saga__l1', 'positive_class_weight': 85.12661980377865, 'classifier__max_iter': 223, 'classifier__tol': 0.008229742688123884, 'classifier__C': 0.023027285642691474, 'threshold': 0.21000000000000002}. Best is trial 1 with value: 0.8161467353113083.\n"
     ]
    },
    {
     "name": "stdout",
     "output_type": "stream",
     "text": [
      "🏃 View run nosy-trout-118 at: http://127.0.0.1:8080/#/experiments/579090426674828470/runs/8639e47207304aef878b7fc22844fcdb\n",
      "🧪 View experiment at: http://127.0.0.1:8080/#/experiments/579090426674828470\n"
     ]
    },
    {
     "name": "stderr",
     "output_type": "stream",
     "text": [
      "/Users/jeremy/code/ocr/p7_pret_a_depenser/venv/lib/python3.12/site-packages/sklearn/linear_model/_logistic.py:1271: UserWarning: 'n_jobs' > 1 does not have any effect when 'solver' is set to 'liblinear'. Got 'n_jobs' = 2.\n",
      "  warnings.warn(\n",
      "/Users/jeremy/code/ocr/p7_pret_a_depenser/venv/lib/python3.12/site-packages/sklearn/linear_model/_logistic.py:1271: UserWarning: 'n_jobs' > 1 does not have any effect when 'solver' is set to 'liblinear'. Got 'n_jobs' = 2.\n",
      "  warnings.warn(\n",
      "/Users/jeremy/code/ocr/p7_pret_a_depenser/venv/lib/python3.12/site-packages/sklearn/linear_model/_logistic.py:1271: UserWarning: 'n_jobs' > 1 does not have any effect when 'solver' is set to 'liblinear'. Got 'n_jobs' = 2.\n",
      "  warnings.warn(\n",
      "/Users/jeremy/code/ocr/p7_pret_a_depenser/venv/lib/python3.12/site-packages/sklearn/linear_model/_logistic.py:1271: UserWarning: 'n_jobs' > 1 does not have any effect when 'solver' is set to 'liblinear'. Got 'n_jobs' = 2.\n",
      "  warnings.warn(\n",
      "/Users/jeremy/code/ocr/p7_pret_a_depenser/venv/lib/python3.12/site-packages/sklearn/linear_model/_logistic.py:1271: UserWarning: 'n_jobs' > 1 does not have any effect when 'solver' is set to 'liblinear'. Got 'n_jobs' = 2.\n",
      "  warnings.warn(\n",
      "[I 2025-05-08 18:25:02,776] Trial 3 finished with value: 0.8161463414927653 and parameters: {'solver_penalty': 'liblinear__l1', 'positive_class_weight': 82.36019004774091, 'classifier__max_iter': 171, 'classifier__tol': 0.009949625161707755, 'classifier__C': 0.25927768205920493, 'threshold': 0.14}. Best is trial 1 with value: 0.8161467353113083.\n"
     ]
    },
    {
     "name": "stdout",
     "output_type": "stream",
     "text": [
      "🏃 View run redolent-cub-851 at: http://127.0.0.1:8080/#/experiments/579090426674828470/runs/0f4111168e5b4312b9af14b532f5c115\n",
      "🧪 View experiment at: http://127.0.0.1:8080/#/experiments/579090426674828470\n"
     ]
    },
    {
     "name": "stderr",
     "output_type": "stream",
     "text": [
      "[I 2025-05-08 18:25:22,837] Trial 4 finished with value: 0.8161458163978155 and parameters: {'solver_penalty': 'lbfgs__l2', 'positive_class_weight': 83.10507423270737, 'classifier__max_iter': 278, 'classifier__tol': 0.006003323003139463, 'classifier__C': 0.04205275931054834, 'threshold': 0.28}. Best is trial 1 with value: 0.8161467353113083.\n"
     ]
    },
    {
     "name": "stdout",
     "output_type": "stream",
     "text": [
      "🏃 View run trusting-moth-437 at: http://127.0.0.1:8080/#/experiments/579090426674828470/runs/1ede4a734b4f46b09ea62e55c1c88f41\n",
      "🧪 View experiment at: http://127.0.0.1:8080/#/experiments/579090426674828470\n"
     ]
    },
    {
     "name": "stderr",
     "output_type": "stream",
     "text": [
      "[I 2025-05-08 18:25:44,201] Trial 5 finished with value: 0.8094238503265585 and parameters: {'solver_penalty': 'lbfgs__l2', 'positive_class_weight': 38.51049101218031, 'classifier__max_iter': 231, 'classifier__tol': 0.00034857333143365295, 'classifier__C': 1.0044297896480527, 'threshold': 0.43000000000000005}. Best is trial 1 with value: 0.8161467353113083.\n"
     ]
    },
    {
     "name": "stdout",
     "output_type": "stream",
     "text": [
      "🏃 View run overjoyed-elk-120 at: http://127.0.0.1:8080/#/experiments/579090426674828470/runs/03f3576c46c847638bbdfc7ab5cdab87\n",
      "🧪 View experiment at: http://127.0.0.1:8080/#/experiments/579090426674828470\n"
     ]
    },
    {
     "name": "stderr",
     "output_type": "stream",
     "text": [
      "/Users/jeremy/code/ocr/p7_pret_a_depenser/venv/lib/python3.12/site-packages/sklearn/linear_model/_logistic.py:1271: UserWarning: 'n_jobs' > 1 does not have any effect when 'solver' is set to 'liblinear'. Got 'n_jobs' = 2.\n",
      "  warnings.warn(\n",
      "/Users/jeremy/code/ocr/p7_pret_a_depenser/venv/lib/python3.12/site-packages/sklearn/linear_model/_logistic.py:1271: UserWarning: 'n_jobs' > 1 does not have any effect when 'solver' is set to 'liblinear'. Got 'n_jobs' = 2.\n",
      "  warnings.warn(\n",
      "/Users/jeremy/code/ocr/p7_pret_a_depenser/venv/lib/python3.12/site-packages/sklearn/linear_model/_logistic.py:1271: UserWarning: 'n_jobs' > 1 does not have any effect when 'solver' is set to 'liblinear'. Got 'n_jobs' = 2.\n",
      "  warnings.warn(\n",
      "/Users/jeremy/code/ocr/p7_pret_a_depenser/venv/lib/python3.12/site-packages/sklearn/linear_model/_logistic.py:1271: UserWarning: 'n_jobs' > 1 does not have any effect when 'solver' is set to 'liblinear'. Got 'n_jobs' = 2.\n",
      "  warnings.warn(\n",
      "/Users/jeremy/code/ocr/p7_pret_a_depenser/venv/lib/python3.12/site-packages/sklearn/linear_model/_logistic.py:1271: UserWarning: 'n_jobs' > 1 does not have any effect when 'solver' is set to 'liblinear'. Got 'n_jobs' = 2.\n",
      "  warnings.warn(\n",
      "[I 2025-05-08 18:26:06,511] Trial 6 finished with value: 0.8109362594675693 and parameters: {'solver_penalty': 'liblinear__l2', 'positive_class_weight': 30.03805180237654, 'classifier__max_iter': 135, 'classifier__tol': 0.0003263715316762506, 'classifier__C': 0.04292346664090696, 'threshold': 0.35}. Best is trial 1 with value: 0.8161467353113083.\n"
     ]
    },
    {
     "name": "stdout",
     "output_type": "stream",
     "text": [
      "🏃 View run sneaky-vole-205 at: http://127.0.0.1:8080/#/experiments/579090426674828470/runs/b846d14e3d114a0d95d5f67f42659fb8\n",
      "🧪 View experiment at: http://127.0.0.1:8080/#/experiments/579090426674828470\n"
     ]
    },
    {
     "name": "stderr",
     "output_type": "stream",
     "text": [
      "[I 2025-05-08 18:26:25,733] Trial 7 finished with value: 0.8158709688445753 and parameters: {'solver_penalty': 'lbfgs__l2', 'positive_class_weight': 94.4331874586464, 'classifier__max_iter': 278, 'classifier__tol': 0.00189625325818474, 'classifier__C': 0.05387737339874811, 'threshold': 0.48}. Best is trial 1 with value: 0.8161467353113083.\n"
     ]
    },
    {
     "name": "stdout",
     "output_type": "stream",
     "text": [
      "🏃 View run skittish-smelt-933 at: http://127.0.0.1:8080/#/experiments/579090426674828470/runs/ae4bf3028dbc4fd584d5578657863724\n",
      "🧪 View experiment at: http://127.0.0.1:8080/#/experiments/579090426674828470\n"
     ]
    },
    {
     "name": "stderr",
     "output_type": "stream",
     "text": [
      "/Users/jeremy/code/ocr/p7_pret_a_depenser/venv/lib/python3.12/site-packages/sklearn/linear_model/_logistic.py:1271: UserWarning: 'n_jobs' > 1 does not have any effect when 'solver' is set to 'liblinear'. Got 'n_jobs' = 2.\n",
      "  warnings.warn(\n",
      "/Users/jeremy/code/ocr/p7_pret_a_depenser/venv/lib/python3.12/site-packages/sklearn/linear_model/_logistic.py:1271: UserWarning: 'n_jobs' > 1 does not have any effect when 'solver' is set to 'liblinear'. Got 'n_jobs' = 2.\n",
      "  warnings.warn(\n",
      "/Users/jeremy/code/ocr/p7_pret_a_depenser/venv/lib/python3.12/site-packages/sklearn/linear_model/_logistic.py:1271: UserWarning: 'n_jobs' > 1 does not have any effect when 'solver' is set to 'liblinear'. Got 'n_jobs' = 2.\n",
      "  warnings.warn(\n",
      "/Users/jeremy/code/ocr/p7_pret_a_depenser/venv/lib/python3.12/site-packages/sklearn/linear_model/_logistic.py:1271: UserWarning: 'n_jobs' > 1 does not have any effect when 'solver' is set to 'liblinear'. Got 'n_jobs' = 2.\n",
      "  warnings.warn(\n",
      "/Users/jeremy/code/ocr/p7_pret_a_depenser/venv/lib/python3.12/site-packages/sklearn/linear_model/_logistic.py:1271: UserWarning: 'n_jobs' > 1 does not have any effect when 'solver' is set to 'liblinear'. Got 'n_jobs' = 2.\n",
      "  warnings.warn(\n",
      "[I 2025-05-08 18:27:05,077] Trial 8 finished with value: 0.8146925880327164 and parameters: {'solver_penalty': 'liblinear__l1', 'positive_class_weight': 17.192445415649743, 'classifier__max_iter': 219, 'classifier__tol': 0.005650732208961106, 'classifier__C': 4.111691897557642, 'threshold': 0.17}. Best is trial 1 with value: 0.8161467353113083.\n"
     ]
    },
    {
     "name": "stdout",
     "output_type": "stream",
     "text": [
      "🏃 View run casual-newt-941 at: http://127.0.0.1:8080/#/experiments/579090426674828470/runs/6863ff7d350b482688f5ac989edf3f21\n",
      "🧪 View experiment at: http://127.0.0.1:8080/#/experiments/579090426674828470\n"
     ]
    },
    {
     "name": "stderr",
     "output_type": "stream",
     "text": [
      "[I 2025-05-08 18:27:24,542] Trial 9 finished with value: 0.8150573151666858 and parameters: {'solver_penalty': 'lbfgs__l2', 'positive_class_weight': 62.68446475970236, 'classifier__max_iter': 154, 'classifier__tol': 0.0007220009805031511, 'classifier__C': 0.03625572331587008, 'threshold': 0.43000000000000005}. Best is trial 1 with value: 0.8161467353113083.\n"
     ]
    },
    {
     "name": "stdout",
     "output_type": "stream",
     "text": [
      "🏃 View run abundant-cat-108 at: http://127.0.0.1:8080/#/experiments/579090426674828470/runs/52abb17959784582840a0db3c408cd8c\n",
      "🧪 View experiment at: http://127.0.0.1:8080/#/experiments/579090426674828470\n"
     ]
    },
    {
     "name": "stderr",
     "output_type": "stream",
     "text": [
      "/Users/jeremy/code/ocr/p7_pret_a_depenser/venv/lib/python3.12/site-packages/sklearn/linear_model/_sag.py:348: ConvergenceWarning: The max_iter was reached which means the coef_ did not converge\n",
      "  warnings.warn(\n",
      "/Users/jeremy/code/ocr/p7_pret_a_depenser/venv/lib/python3.12/site-packages/sklearn/linear_model/_sag.py:348: ConvergenceWarning: The max_iter was reached which means the coef_ did not converge\n",
      "  warnings.warn(\n",
      "/Users/jeremy/code/ocr/p7_pret_a_depenser/venv/lib/python3.12/site-packages/sklearn/linear_model/_sag.py:348: ConvergenceWarning: The max_iter was reached which means the coef_ did not converge\n",
      "  warnings.warn(\n",
      "/Users/jeremy/code/ocr/p7_pret_a_depenser/venv/lib/python3.12/site-packages/sklearn/linear_model/_sag.py:348: ConvergenceWarning: The max_iter was reached which means the coef_ did not converge\n",
      "  warnings.warn(\n",
      "/Users/jeremy/code/ocr/p7_pret_a_depenser/venv/lib/python3.12/site-packages/sklearn/linear_model/_sag.py:348: ConvergenceWarning: The max_iter was reached which means the coef_ did not converge\n",
      "  warnings.warn(\n",
      "[I 2025-05-08 18:30:04,123] Trial 10 finished with value: 0.7985666323575635 and parameters: {'solver_penalty': 'saga__elasticnet', 'positive_class_weight': 66.0918867758399, 'classifier__max_iter': 111, 'classifier__tol': 0.00012547666137273684, 'classifier__C': 0.2973861310043387, 'classifier__l1_ratio': 0.3964319375067312, 'threshold': 0.1}. Best is trial 1 with value: 0.8161467353113083.\n"
     ]
    },
    {
     "name": "stdout",
     "output_type": "stream",
     "text": [
      "🏃 View run fortunate-quail-565 at: http://127.0.0.1:8080/#/experiments/579090426674828470/runs/1c9f341df74445e5a29cae0be0f3c925\n",
      "🧪 View experiment at: http://127.0.0.1:8080/#/experiments/579090426674828470\n"
     ]
    },
    {
     "name": "stderr",
     "output_type": "stream",
     "text": [
      "/Users/jeremy/code/ocr/p7_pret_a_depenser/venv/lib/python3.12/site-packages/sklearn/linear_model/_logistic.py:1271: UserWarning: 'n_jobs' > 1 does not have any effect when 'solver' is set to 'liblinear'. Got 'n_jobs' = 2.\n",
      "  warnings.warn(\n",
      "/Users/jeremy/code/ocr/p7_pret_a_depenser/venv/lib/python3.12/site-packages/sklearn/linear_model/_logistic.py:1271: UserWarning: 'n_jobs' > 1 does not have any effect when 'solver' is set to 'liblinear'. Got 'n_jobs' = 2.\n",
      "  warnings.warn(\n",
      "/Users/jeremy/code/ocr/p7_pret_a_depenser/venv/lib/python3.12/site-packages/sklearn/linear_model/_logistic.py:1271: UserWarning: 'n_jobs' > 1 does not have any effect when 'solver' is set to 'liblinear'. Got 'n_jobs' = 2.\n",
      "  warnings.warn(\n",
      "/Users/jeremy/code/ocr/p7_pret_a_depenser/venv/lib/python3.12/site-packages/sklearn/linear_model/_logistic.py:1271: UserWarning: 'n_jobs' > 1 does not have any effect when 'solver' is set to 'liblinear'. Got 'n_jobs' = 2.\n",
      "  warnings.warn(\n",
      "/Users/jeremy/code/ocr/p7_pret_a_depenser/venv/lib/python3.12/site-packages/sklearn/linear_model/_logistic.py:1271: UserWarning: 'n_jobs' > 1 does not have any effect when 'solver' is set to 'liblinear'. Got 'n_jobs' = 2.\n",
      "  warnings.warn(\n",
      "[I 2025-05-08 18:30:39,135] Trial 11 finished with value: 0.816146275858565 and parameters: {'solver_penalty': 'liblinear__l1', 'positive_class_weight': 78.08071751680879, 'classifier__max_iter': 181, 'classifier__tol': 0.0016651623637513374, 'classifier__C': 0.31204235422243687, 'threshold': 0.1}. Best is trial 1 with value: 0.8161467353113083.\n"
     ]
    },
    {
     "name": "stdout",
     "output_type": "stream",
     "text": [
      "🏃 View run classy-perch-312 at: http://127.0.0.1:8080/#/experiments/579090426674828470/runs/d559b3353e9f4186b6b1b84d18cfe9fd\n",
      "🧪 View experiment at: http://127.0.0.1:8080/#/experiments/579090426674828470\n"
     ]
    },
    {
     "name": "stderr",
     "output_type": "stream",
     "text": [
      "/Users/jeremy/code/ocr/p7_pret_a_depenser/venv/lib/python3.12/site-packages/sklearn/linear_model/_sag.py:348: ConvergenceWarning: The max_iter was reached which means the coef_ did not converge\n",
      "  warnings.warn(\n",
      "/Users/jeremy/code/ocr/p7_pret_a_depenser/venv/lib/python3.12/site-packages/sklearn/linear_model/_sag.py:348: ConvergenceWarning: The max_iter was reached which means the coef_ did not converge\n",
      "  warnings.warn(\n",
      "/Users/jeremy/code/ocr/p7_pret_a_depenser/venv/lib/python3.12/site-packages/sklearn/linear_model/_sag.py:348: ConvergenceWarning: The max_iter was reached which means the coef_ did not converge\n",
      "  warnings.warn(\n",
      "/Users/jeremy/code/ocr/p7_pret_a_depenser/venv/lib/python3.12/site-packages/sklearn/linear_model/_sag.py:348: ConvergenceWarning: The max_iter was reached which means the coef_ did not converge\n",
      "  warnings.warn(\n",
      "/Users/jeremy/code/ocr/p7_pret_a_depenser/venv/lib/python3.12/site-packages/sklearn/linear_model/_sag.py:348: ConvergenceWarning: The max_iter was reached which means the coef_ did not converge\n",
      "  warnings.warn(\n",
      "[I 2025-05-08 18:33:18,284] Trial 12 finished with value: 0.7443464097793124 and parameters: {'solver_penalty': 'saga__l2', 'positive_class_weight': 95.77172931903682, 'classifier__max_iter': 183, 'classifier__tol': 0.00011409249017151078, 'classifier__C': 1.0974816243373562, 'threshold': 0.19}. Best is trial 1 with value: 0.8161467353113083.\n"
     ]
    },
    {
     "name": "stdout",
     "output_type": "stream",
     "text": [
      "🏃 View run serious-hawk-835 at: http://127.0.0.1:8080/#/experiments/579090426674828470/runs/dd7d1e1b517145909664fb63039d521b\n",
      "🧪 View experiment at: http://127.0.0.1:8080/#/experiments/579090426674828470\n"
     ]
    },
    {
     "name": "stderr",
     "output_type": "stream",
     "text": [
      "/Users/jeremy/code/ocr/p7_pret_a_depenser/venv/lib/python3.12/site-packages/sklearn/linear_model/_logistic.py:1271: UserWarning: 'n_jobs' > 1 does not have any effect when 'solver' is set to 'liblinear'. Got 'n_jobs' = 2.\n",
      "  warnings.warn(\n",
      "/Users/jeremy/code/ocr/p7_pret_a_depenser/venv/lib/python3.12/site-packages/sklearn/linear_model/_logistic.py:1271: UserWarning: 'n_jobs' > 1 does not have any effect when 'solver' is set to 'liblinear'. Got 'n_jobs' = 2.\n",
      "  warnings.warn(\n",
      "/Users/jeremy/code/ocr/p7_pret_a_depenser/venv/lib/python3.12/site-packages/sklearn/linear_model/_logistic.py:1271: UserWarning: 'n_jobs' > 1 does not have any effect when 'solver' is set to 'liblinear'. Got 'n_jobs' = 2.\n",
      "  warnings.warn(\n",
      "/Users/jeremy/code/ocr/p7_pret_a_depenser/venv/lib/python3.12/site-packages/sklearn/linear_model/_logistic.py:1271: UserWarning: 'n_jobs' > 1 does not have any effect when 'solver' is set to 'liblinear'. Got 'n_jobs' = 2.\n",
      "  warnings.warn(\n",
      "/Users/jeremy/code/ocr/p7_pret_a_depenser/venv/lib/python3.12/site-packages/sklearn/linear_model/_logistic.py:1271: UserWarning: 'n_jobs' > 1 does not have any effect when 'solver' is set to 'liblinear'. Got 'n_jobs' = 2.\n",
      "  warnings.warn(\n",
      "[I 2025-05-08 18:34:31,169] Trial 13 finished with value: 0.8161481795385841 and parameters: {'solver_penalty': 'liblinear__l1', 'positive_class_weight': 69.4116609952529, 'classifier__max_iter': 246, 'classifier__tol': 0.0005282041315206512, 'classifier__C': 0.1529241320285082, 'threshold': 0.24000000000000002}. Best is trial 13 with value: 0.8161481795385841.\n"
     ]
    },
    {
     "name": "stdout",
     "output_type": "stream",
     "text": [
      "🏃 View run learned-swan-54 at: http://127.0.0.1:8080/#/experiments/579090426674828470/runs/ad7f011501c647dc8c509f2214d75db6\n",
      "🧪 View experiment at: http://127.0.0.1:8080/#/experiments/579090426674828470\n"
     ]
    },
    {
     "name": "stderr",
     "output_type": "stream",
     "text": [
      "/Users/jeremy/code/ocr/p7_pret_a_depenser/venv/lib/python3.12/site-packages/sklearn/linear_model/_logistic.py:1271: UserWarning: 'n_jobs' > 1 does not have any effect when 'solver' is set to 'liblinear'. Got 'n_jobs' = 2.\n",
      "  warnings.warn(\n",
      "/Users/jeremy/code/ocr/p7_pret_a_depenser/venv/lib/python3.12/site-packages/sklearn/linear_model/_logistic.py:1271: UserWarning: 'n_jobs' > 1 does not have any effect when 'solver' is set to 'liblinear'. Got 'n_jobs' = 2.\n",
      "  warnings.warn(\n",
      "/Users/jeremy/code/ocr/p7_pret_a_depenser/venv/lib/python3.12/site-packages/sklearn/linear_model/_logistic.py:1271: UserWarning: 'n_jobs' > 1 does not have any effect when 'solver' is set to 'liblinear'. Got 'n_jobs' = 2.\n",
      "  warnings.warn(\n",
      "/Users/jeremy/code/ocr/p7_pret_a_depenser/venv/lib/python3.12/site-packages/sklearn/linear_model/_logistic.py:1271: UserWarning: 'n_jobs' > 1 does not have any effect when 'solver' is set to 'liblinear'. Got 'n_jobs' = 2.\n",
      "  warnings.warn(\n",
      "/Users/jeremy/code/ocr/p7_pret_a_depenser/venv/lib/python3.12/site-packages/sklearn/linear_model/_logistic.py:1271: UserWarning: 'n_jobs' > 1 does not have any effect when 'solver' is set to 'liblinear'. Got 'n_jobs' = 2.\n",
      "  warnings.warn(\n",
      "[I 2025-05-08 18:35:19,805] Trial 14 finished with value: 0.8161479825719297 and parameters: {'solver_penalty': 'liblinear__l1', 'positive_class_weight': 64.27775254340226, 'classifier__max_iter': 254, 'classifier__tol': 0.00034730430336525815, 'classifier__C': 0.01074861815864113, 'threshold': 0.25}. Best is trial 13 with value: 0.8161481795385841.\n"
     ]
    },
    {
     "name": "stdout",
     "output_type": "stream",
     "text": [
      "🏃 View run monumental-gull-334 at: http://127.0.0.1:8080/#/experiments/579090426674828470/runs/16416eac02f2429b9d2b77a26a9ad84d\n",
      "🧪 View experiment at: http://127.0.0.1:8080/#/experiments/579090426674828470\n"
     ]
    },
    {
     "name": "stderr",
     "output_type": "stream",
     "text": [
      "/Users/jeremy/code/ocr/p7_pret_a_depenser/venv/lib/python3.12/site-packages/sklearn/linear_model/_logistic.py:1271: UserWarning: 'n_jobs' > 1 does not have any effect when 'solver' is set to 'liblinear'. Got 'n_jobs' = 2.\n",
      "  warnings.warn(\n",
      "/Users/jeremy/code/ocr/p7_pret_a_depenser/venv/lib/python3.12/site-packages/sklearn/linear_model/_logistic.py:1271: UserWarning: 'n_jobs' > 1 does not have any effect when 'solver' is set to 'liblinear'. Got 'n_jobs' = 2.\n",
      "  warnings.warn(\n",
      "/Users/jeremy/code/ocr/p7_pret_a_depenser/venv/lib/python3.12/site-packages/sklearn/linear_model/_logistic.py:1271: UserWarning: 'n_jobs' > 1 does not have any effect when 'solver' is set to 'liblinear'. Got 'n_jobs' = 2.\n",
      "  warnings.warn(\n",
      "/Users/jeremy/code/ocr/p7_pret_a_depenser/venv/lib/python3.12/site-packages/sklearn/linear_model/_logistic.py:1271: UserWarning: 'n_jobs' > 1 does not have any effect when 'solver' is set to 'liblinear'. Got 'n_jobs' = 2.\n",
      "  warnings.warn(\n",
      "/Users/jeremy/code/ocr/p7_pret_a_depenser/venv/lib/python3.12/site-packages/sklearn/linear_model/_logistic.py:1271: UserWarning: 'n_jobs' > 1 does not have any effect when 'solver' is set to 'liblinear'. Got 'n_jobs' = 2.\n",
      "  warnings.warn(\n",
      "[I 2025-05-08 18:35:40,502] Trial 15 finished with value: 0.8161090541240954 and parameters: {'solver_penalty': 'liblinear__l2', 'positive_class_weight': 60.06586412333933, 'classifier__max_iter': 250, 'classifier__tol': 0.00043753204854317645, 'classifier__C': 0.013761652843346565, 'threshold': 0.25}. Best is trial 13 with value: 0.8161481795385841.\n"
     ]
    },
    {
     "name": "stdout",
     "output_type": "stream",
     "text": [
      "🏃 View run dazzling-shrew-65 at: http://127.0.0.1:8080/#/experiments/579090426674828470/runs/89bbbabe11fa4f1da11bdd26d37e0978\n",
      "🧪 View experiment at: http://127.0.0.1:8080/#/experiments/579090426674828470\n"
     ]
    },
    {
     "name": "stderr",
     "output_type": "stream",
     "text": [
      "/Users/jeremy/code/ocr/p7_pret_a_depenser/venv/lib/python3.12/site-packages/sklearn/linear_model/_sag.py:348: ConvergenceWarning: The max_iter was reached which means the coef_ did not converge\n",
      "  warnings.warn(\n",
      "/Users/jeremy/code/ocr/p7_pret_a_depenser/venv/lib/python3.12/site-packages/sklearn/linear_model/_sag.py:348: ConvergenceWarning: The max_iter was reached which means the coef_ did not converge\n",
      "  warnings.warn(\n",
      "/Users/jeremy/code/ocr/p7_pret_a_depenser/venv/lib/python3.12/site-packages/sklearn/linear_model/_sag.py:348: ConvergenceWarning: The max_iter was reached which means the coef_ did not converge\n",
      "  warnings.warn(\n",
      "/Users/jeremy/code/ocr/p7_pret_a_depenser/venv/lib/python3.12/site-packages/sklearn/linear_model/_sag.py:348: ConvergenceWarning: The max_iter was reached which means the coef_ did not converge\n",
      "  warnings.warn(\n",
      "/Users/jeremy/code/ocr/p7_pret_a_depenser/venv/lib/python3.12/site-packages/sklearn/linear_model/_sag.py:348: ConvergenceWarning: The max_iter was reached which means the coef_ did not converge\n",
      "  warnings.warn(\n",
      "[I 2025-05-08 18:39:51,297] Trial 16 finished with value: 0.6423257446794138 and parameters: {'solver_penalty': 'saga__l2', 'positive_class_weight': 39.89307620738532, 'classifier__max_iter': 299, 'classifier__tol': 0.0007466513689959463, 'classifier__C': 0.010940739893628003, 'threshold': 0.25}. Best is trial 13 with value: 0.8161481795385841.\n"
     ]
    },
    {
     "name": "stdout",
     "output_type": "stream",
     "text": [
      "🏃 View run hilarious-sow-514 at: http://127.0.0.1:8080/#/experiments/579090426674828470/runs/ca88481cd501462ab240c1308ed39fdb\n",
      "🧪 View experiment at: http://127.0.0.1:8080/#/experiments/579090426674828470\n"
     ]
    },
    {
     "name": "stderr",
     "output_type": "stream",
     "text": [
      "[I 2025-05-08 18:40:41,919] Trial 17 finished with value: 0.3272595689389925 and parameters: {'solver_penalty': 'saga__l1', 'positive_class_weight': 3.7233427740537195, 'classifier__max_iter': 252, 'classifier__tol': 0.0002041019372459659, 'classifier__C': 0.10759702862109555, 'threshold': 0.36}. Best is trial 13 with value: 0.8161481795385841.\n"
     ]
    },
    {
     "name": "stdout",
     "output_type": "stream",
     "text": [
      "🏃 View run shivering-crab-178 at: http://127.0.0.1:8080/#/experiments/579090426674828470/runs/41d9d00ed1e7449c834e09f03cd92840\n",
      "🧪 View experiment at: http://127.0.0.1:8080/#/experiments/579090426674828470\n"
     ]
    },
    {
     "name": "stderr",
     "output_type": "stream",
     "text": [
      "/Users/jeremy/code/ocr/p7_pret_a_depenser/venv/lib/python3.12/site-packages/sklearn/linear_model/_sag.py:348: ConvergenceWarning: The max_iter was reached which means the coef_ did not converge\n",
      "  warnings.warn(\n",
      "/Users/jeremy/code/ocr/p7_pret_a_depenser/venv/lib/python3.12/site-packages/sklearn/linear_model/_sag.py:348: ConvergenceWarning: The max_iter was reached which means the coef_ did not converge\n",
      "  warnings.warn(\n",
      "/Users/jeremy/code/ocr/p7_pret_a_depenser/venv/lib/python3.12/site-packages/sklearn/linear_model/_sag.py:348: ConvergenceWarning: The max_iter was reached which means the coef_ did not converge\n",
      "  warnings.warn(\n",
      "/Users/jeremy/code/ocr/p7_pret_a_depenser/venv/lib/python3.12/site-packages/sklearn/linear_model/_sag.py:348: ConvergenceWarning: The max_iter was reached which means the coef_ did not converge\n",
      "  warnings.warn(\n",
      "/Users/jeremy/code/ocr/p7_pret_a_depenser/venv/lib/python3.12/site-packages/sklearn/linear_model/_sag.py:348: ConvergenceWarning: The max_iter was reached which means the coef_ did not converge\n",
      "  warnings.warn(\n",
      "[I 2025-05-08 18:45:17,390] Trial 18 finished with value: 0.7297489917276769 and parameters: {'solver_penalty': 'saga__elasticnet', 'positive_class_weight': 67.23761340617494, 'classifier__max_iter': 205, 'classifier__tol': 0.0013870866259377455, 'classifier__C': 1.4583726497491858, 'classifier__l1_ratio': 0.9459902528734156, 'threshold': 0.25}. Best is trial 13 with value: 0.8161481795385841.\n"
     ]
    },
    {
     "name": "stdout",
     "output_type": "stream",
     "text": [
      "🏃 View run wistful-shark-885 at: http://127.0.0.1:8080/#/experiments/579090426674828470/runs/f3cd426269d548788a5584e3c487d692\n",
      "🧪 View experiment at: http://127.0.0.1:8080/#/experiments/579090426674828470\n"
     ]
    },
    {
     "name": "stderr",
     "output_type": "stream",
     "text": [
      "/Users/jeremy/code/ocr/p7_pret_a_depenser/venv/lib/python3.12/site-packages/sklearn/linear_model/_logistic.py:1271: UserWarning: 'n_jobs' > 1 does not have any effect when 'solver' is set to 'liblinear'. Got 'n_jobs' = 2.\n",
      "  warnings.warn(\n",
      "/Users/jeremy/code/ocr/p7_pret_a_depenser/venv/lib/python3.12/site-packages/sklearn/linear_model/_logistic.py:1271: UserWarning: 'n_jobs' > 1 does not have any effect when 'solver' is set to 'liblinear'. Got 'n_jobs' = 2.\n",
      "  warnings.warn(\n",
      "/Users/jeremy/code/ocr/p7_pret_a_depenser/venv/lib/python3.12/site-packages/sklearn/linear_model/_logistic.py:1271: UserWarning: 'n_jobs' > 1 does not have any effect when 'solver' is set to 'liblinear'. Got 'n_jobs' = 2.\n",
      "  warnings.warn(\n",
      "/Users/jeremy/code/ocr/p7_pret_a_depenser/venv/lib/python3.12/site-packages/sklearn/linear_model/_logistic.py:1271: UserWarning: 'n_jobs' > 1 does not have any effect when 'solver' is set to 'liblinear'. Got 'n_jobs' = 2.\n",
      "  warnings.warn(\n",
      "/Users/jeremy/code/ocr/p7_pret_a_depenser/venv/lib/python3.12/site-packages/sklearn/linear_model/_logistic.py:1271: UserWarning: 'n_jobs' > 1 does not have any effect when 'solver' is set to 'liblinear'. Got 'n_jobs' = 2.\n",
      "  warnings.warn(\n",
      "[I 2025-05-08 18:47:44,700] Trial 19 finished with value: 0.8157410732177075 and parameters: {'solver_penalty': 'liblinear__l1', 'positive_class_weight': 48.75876981833293, 'classifier__max_iter': 297, 'classifier__tol': 0.0005263191918502491, 'classifier__C': 4.161205052116344, 'threshold': 0.30000000000000004}. Best is trial 13 with value: 0.8161481795385841.\n"
     ]
    },
    {
     "name": "stdout",
     "output_type": "stream",
     "text": [
      "🏃 View run exultant-ox-815 at: http://127.0.0.1:8080/#/experiments/579090426674828470/runs/b3e022cb72cc44e0bc0cf84cdb64c805\n",
      "🧪 View experiment at: http://127.0.0.1:8080/#/experiments/579090426674828470\n"
     ]
    },
    {
     "name": "stderr",
     "output_type": "stream",
     "text": [
      "/Users/jeremy/code/ocr/p7_pret_a_depenser/venv/lib/python3.12/site-packages/sklearn/linear_model/_logistic.py:1271: UserWarning: 'n_jobs' > 1 does not have any effect when 'solver' is set to 'liblinear'. Got 'n_jobs' = 2.\n",
      "  warnings.warn(\n",
      "/Users/jeremy/code/ocr/p7_pret_a_depenser/venv/lib/python3.12/site-packages/sklearn/linear_model/_logistic.py:1271: UserWarning: 'n_jobs' > 1 does not have any effect when 'solver' is set to 'liblinear'. Got 'n_jobs' = 2.\n",
      "  warnings.warn(\n",
      "/Users/jeremy/code/ocr/p7_pret_a_depenser/venv/lib/python3.12/site-packages/sklearn/linear_model/_logistic.py:1271: UserWarning: 'n_jobs' > 1 does not have any effect when 'solver' is set to 'liblinear'. Got 'n_jobs' = 2.\n",
      "  warnings.warn(\n",
      "/Users/jeremy/code/ocr/p7_pret_a_depenser/venv/lib/python3.12/site-packages/sklearn/linear_model/_logistic.py:1271: UserWarning: 'n_jobs' > 1 does not have any effect when 'solver' is set to 'liblinear'. Got 'n_jobs' = 2.\n",
      "  warnings.warn(\n",
      "/Users/jeremy/code/ocr/p7_pret_a_depenser/venv/lib/python3.12/site-packages/sklearn/linear_model/_logistic.py:1271: UserWarning: 'n_jobs' > 1 does not have any effect when 'solver' is set to 'liblinear'. Got 'n_jobs' = 2.\n",
      "  warnings.warn(\n",
      "[I 2025-05-08 18:49:25,160] Trial 20 finished with value: 0.8158615279879107 and parameters: {'solver_penalty': 'liblinear__l1', 'positive_class_weight': 72.51892174882926, 'classifier__max_iter': 247, 'classifier__tol': 0.0002221017517191498, 'classifier__C': 0.09555275069712647, 'threshold': 0.39}. Best is trial 13 with value: 0.8161481795385841.\n"
     ]
    },
    {
     "name": "stdout",
     "output_type": "stream",
     "text": [
      "🏃 View run big-slug-983 at: http://127.0.0.1:8080/#/experiments/579090426674828470/runs/2f7dfb0ce98f47b5b8bf3e27cbaa504d\n",
      "🧪 View experiment at: http://127.0.0.1:8080/#/experiments/579090426674828470\n"
     ]
    },
    {
     "name": "stderr",
     "output_type": "stream",
     "text": [
      "/Users/jeremy/code/ocr/p7_pret_a_depenser/venv/lib/python3.12/site-packages/sklearn/linear_model/_logistic.py:1271: UserWarning: 'n_jobs' > 1 does not have any effect when 'solver' is set to 'liblinear'. Got 'n_jobs' = 2.\n",
      "  warnings.warn(\n",
      "/Users/jeremy/code/ocr/p7_pret_a_depenser/venv/lib/python3.12/site-packages/sklearn/linear_model/_logistic.py:1271: UserWarning: 'n_jobs' > 1 does not have any effect when 'solver' is set to 'liblinear'. Got 'n_jobs' = 2.\n",
      "  warnings.warn(\n",
      "/Users/jeremy/code/ocr/p7_pret_a_depenser/venv/lib/python3.12/site-packages/sklearn/linear_model/_logistic.py:1271: UserWarning: 'n_jobs' > 1 does not have any effect when 'solver' is set to 'liblinear'. Got 'n_jobs' = 2.\n",
      "  warnings.warn(\n",
      "/Users/jeremy/code/ocr/p7_pret_a_depenser/venv/lib/python3.12/site-packages/sklearn/linear_model/_logistic.py:1271: UserWarning: 'n_jobs' > 1 does not have any effect when 'solver' is set to 'liblinear'. Got 'n_jobs' = 2.\n",
      "  warnings.warn(\n",
      "/Users/jeremy/code/ocr/p7_pret_a_depenser/venv/lib/python3.12/site-packages/sklearn/linear_model/_logistic.py:1271: UserWarning: 'n_jobs' > 1 does not have any effect when 'solver' is set to 'liblinear'. Got 'n_jobs' = 2.\n",
      "  warnings.warn(\n",
      "[I 2025-05-08 18:53:24,826] Trial 21 finished with value: 0.8161506746363849 and parameters: {'solver_penalty': 'liblinear__l1', 'positive_class_weight': 52.91223765930975, 'classifier__max_iter': 238, 'classifier__tol': 0.00020612291615086805, 'classifier__C': 0.15270941836911636, 'threshold': 0.22}. Best is trial 21 with value: 0.8161506746363849.\n"
     ]
    },
    {
     "name": "stdout",
     "output_type": "stream",
     "text": [
      "🏃 View run powerful-moth-890 at: http://127.0.0.1:8080/#/experiments/579090426674828470/runs/7797b266ec6a4461a3b86c0492334f66\n",
      "🧪 View experiment at: http://127.0.0.1:8080/#/experiments/579090426674828470\n"
     ]
    },
    {
     "name": "stderr",
     "output_type": "stream",
     "text": [
      "/Users/jeremy/code/ocr/p7_pret_a_depenser/venv/lib/python3.12/site-packages/sklearn/linear_model/_logistic.py:1271: UserWarning: 'n_jobs' > 1 does not have any effect when 'solver' is set to 'liblinear'. Got 'n_jobs' = 2.\n",
      "  warnings.warn(\n",
      "/Users/jeremy/code/ocr/p7_pret_a_depenser/venv/lib/python3.12/site-packages/sklearn/linear_model/_logistic.py:1271: UserWarning: 'n_jobs' > 1 does not have any effect when 'solver' is set to 'liblinear'. Got 'n_jobs' = 2.\n",
      "  warnings.warn(\n",
      "/Users/jeremy/code/ocr/p7_pret_a_depenser/venv/lib/python3.12/site-packages/sklearn/linear_model/_logistic.py:1271: UserWarning: 'n_jobs' > 1 does not have any effect when 'solver' is set to 'liblinear'. Got 'n_jobs' = 2.\n",
      "  warnings.warn(\n",
      "/Users/jeremy/code/ocr/p7_pret_a_depenser/venv/lib/python3.12/site-packages/sklearn/linear_model/_logistic.py:1271: UserWarning: 'n_jobs' > 1 does not have any effect when 'solver' is set to 'liblinear'. Got 'n_jobs' = 2.\n",
      "  warnings.warn(\n",
      "/Users/jeremy/code/ocr/p7_pret_a_depenser/venv/lib/python3.12/site-packages/sklearn/linear_model/_logistic.py:1271: UserWarning: 'n_jobs' > 1 does not have any effect when 'solver' is set to 'liblinear'. Got 'n_jobs' = 2.\n",
      "  warnings.warn(\n",
      "[I 2025-05-08 19:00:22,742] Trial 22 finished with value: 0.8160718993936715 and parameters: {'solver_penalty': 'liblinear__l1', 'positive_class_weight': 51.711463422991805, 'classifier__max_iter': 203, 'classifier__tol': 0.0002521209327103034, 'classifier__C': 0.5583173787563078, 'threshold': 0.23}. Best is trial 21 with value: 0.8161506746363849.\n"
     ]
    },
    {
     "name": "stdout",
     "output_type": "stream",
     "text": [
      "🏃 View run thoughtful-calf-254 at: http://127.0.0.1:8080/#/experiments/579090426674828470/runs/13daab7383f74fa480d41398055083a7\n",
      "🧪 View experiment at: http://127.0.0.1:8080/#/experiments/579090426674828470\n"
     ]
    },
    {
     "name": "stderr",
     "output_type": "stream",
     "text": [
      "/Users/jeremy/code/ocr/p7_pret_a_depenser/venv/lib/python3.12/site-packages/sklearn/linear_model/_logistic.py:1271: UserWarning: 'n_jobs' > 1 does not have any effect when 'solver' is set to 'liblinear'. Got 'n_jobs' = 2.\n",
      "  warnings.warn(\n",
      "/Users/jeremy/code/ocr/p7_pret_a_depenser/venv/lib/python3.12/site-packages/sklearn/linear_model/_logistic.py:1271: UserWarning: 'n_jobs' > 1 does not have any effect when 'solver' is set to 'liblinear'. Got 'n_jobs' = 2.\n",
      "  warnings.warn(\n",
      "/Users/jeremy/code/ocr/p7_pret_a_depenser/venv/lib/python3.12/site-packages/sklearn/linear_model/_logistic.py:1271: UserWarning: 'n_jobs' > 1 does not have any effect when 'solver' is set to 'liblinear'. Got 'n_jobs' = 2.\n",
      "  warnings.warn(\n",
      "/Users/jeremy/code/ocr/p7_pret_a_depenser/venv/lib/python3.12/site-packages/sklearn/linear_model/_logistic.py:1271: UserWarning: 'n_jobs' > 1 does not have any effect when 'solver' is set to 'liblinear'. Got 'n_jobs' = 2.\n",
      "  warnings.warn(\n",
      "/Users/jeremy/code/ocr/p7_pret_a_depenser/venv/lib/python3.12/site-packages/sklearn/linear_model/_logistic.py:1271: UserWarning: 'n_jobs' > 1 does not have any effect when 'solver' is set to 'liblinear'. Got 'n_jobs' = 2.\n",
      "  warnings.warn(\n",
      "[I 2025-05-08 19:03:28,685] Trial 23 finished with value: 0.8161462758345503 and parameters: {'solver_penalty': 'liblinear__l1', 'positive_class_weight': 56.85678136817351, 'classifier__max_iter': 266, 'classifier__tol': 0.00017469636974426083, 'classifier__C': 0.10418632544065426, 'threshold': 0.15000000000000002}. Best is trial 21 with value: 0.8161506746363849.\n"
     ]
    },
    {
     "name": "stdout",
     "output_type": "stream",
     "text": [
      "🏃 View run carefree-bass-295 at: http://127.0.0.1:8080/#/experiments/579090426674828470/runs/aec61bcf15c54d048636ae3556c7c320\n",
      "🧪 View experiment at: http://127.0.0.1:8080/#/experiments/579090426674828470\n"
     ]
    },
    {
     "name": "stderr",
     "output_type": "stream",
     "text": [
      "/Users/jeremy/code/ocr/p7_pret_a_depenser/venv/lib/python3.12/site-packages/sklearn/linear_model/_logistic.py:1271: UserWarning: 'n_jobs' > 1 does not have any effect when 'solver' is set to 'liblinear'. Got 'n_jobs' = 2.\n",
      "  warnings.warn(\n",
      "/Users/jeremy/code/ocr/p7_pret_a_depenser/venv/lib/python3.12/site-packages/sklearn/linear_model/_logistic.py:1271: UserWarning: 'n_jobs' > 1 does not have any effect when 'solver' is set to 'liblinear'. Got 'n_jobs' = 2.\n",
      "  warnings.warn(\n",
      "/Users/jeremy/code/ocr/p7_pret_a_depenser/venv/lib/python3.12/site-packages/sklearn/linear_model/_logistic.py:1271: UserWarning: 'n_jobs' > 1 does not have any effect when 'solver' is set to 'liblinear'. Got 'n_jobs' = 2.\n",
      "  warnings.warn(\n",
      "/Users/jeremy/code/ocr/p7_pret_a_depenser/venv/lib/python3.12/site-packages/sklearn/linear_model/_logistic.py:1271: UserWarning: 'n_jobs' > 1 does not have any effect when 'solver' is set to 'liblinear'. Got 'n_jobs' = 2.\n",
      "  warnings.warn(\n",
      "/Users/jeremy/code/ocr/p7_pret_a_depenser/venv/lib/python3.12/site-packages/sklearn/linear_model/_logistic.py:1271: UserWarning: 'n_jobs' > 1 does not have any effect when 'solver' is set to 'liblinear'. Got 'n_jobs' = 2.\n",
      "  warnings.warn(\n",
      "[I 2025-05-08 19:04:29,302] Trial 24 finished with value: 0.8157467497657891 and parameters: {'solver_penalty': 'liblinear__l1', 'positive_class_weight': 40.2644689688278, 'classifier__max_iter': 245, 'classifier__tol': 0.000615370787053484, 'classifier__C': 0.550331315027004, 'threshold': 0.27}. Best is trial 21 with value: 0.8161506746363849.\n"
     ]
    },
    {
     "name": "stdout",
     "output_type": "stream",
     "text": [
      "🏃 View run redolent-panda-236 at: http://127.0.0.1:8080/#/experiments/579090426674828470/runs/7f2a9db4bece452eb4226653746aafbb\n",
      "🧪 View experiment at: http://127.0.0.1:8080/#/experiments/579090426674828470\n"
     ]
    },
    {
     "name": "stderr",
     "output_type": "stream",
     "text": [
      "/Users/jeremy/code/ocr/p7_pret_a_depenser/venv/lib/python3.12/site-packages/sklearn/linear_model/_logistic.py:1271: UserWarning: 'n_jobs' > 1 does not have any effect when 'solver' is set to 'liblinear'. Got 'n_jobs' = 2.\n",
      "  warnings.warn(\n",
      "/Users/jeremy/code/ocr/p7_pret_a_depenser/venv/lib/python3.12/site-packages/sklearn/linear_model/_logistic.py:1271: UserWarning: 'n_jobs' > 1 does not have any effect when 'solver' is set to 'liblinear'. Got 'n_jobs' = 2.\n",
      "  warnings.warn(\n",
      "/Users/jeremy/code/ocr/p7_pret_a_depenser/venv/lib/python3.12/site-packages/sklearn/linear_model/_logistic.py:1271: UserWarning: 'n_jobs' > 1 does not have any effect when 'solver' is set to 'liblinear'. Got 'n_jobs' = 2.\n",
      "  warnings.warn(\n",
      "/Users/jeremy/code/ocr/p7_pret_a_depenser/venv/lib/python3.12/site-packages/sklearn/linear_model/_logistic.py:1271: UserWarning: 'n_jobs' > 1 does not have any effect when 'solver' is set to 'liblinear'. Got 'n_jobs' = 2.\n",
      "  warnings.warn(\n",
      "/Users/jeremy/code/ocr/p7_pret_a_depenser/venv/lib/python3.12/site-packages/sklearn/linear_model/_logistic.py:1271: UserWarning: 'n_jobs' > 1 does not have any effect when 'solver' is set to 'liblinear'. Got 'n_jobs' = 2.\n",
      "  warnings.warn(\n",
      "[I 2025-05-08 19:05:00,823] Trial 25 finished with value: 0.8161120095293525 and parameters: {'solver_penalty': 'liblinear__l1', 'positive_class_weight': 71.71097452812114, 'classifier__max_iter': 210, 'classifier__tol': 0.0009804643567052468, 'classifier__C': 0.020390155610556224, 'threshold': 0.31}. Best is trial 21 with value: 0.8161506746363849.\n"
     ]
    },
    {
     "name": "stdout",
     "output_type": "stream",
     "text": [
      "🏃 View run overjoyed-grouse-679 at: http://127.0.0.1:8080/#/experiments/579090426674828470/runs/7b5f9663db314d0c9b1b483be189269a\n",
      "🧪 View experiment at: http://127.0.0.1:8080/#/experiments/579090426674828470\n"
     ]
    },
    {
     "name": "stderr",
     "output_type": "stream",
     "text": [
      "/Users/jeremy/code/ocr/p7_pret_a_depenser/venv/lib/python3.12/site-packages/sklearn/linear_model/_sag.py:348: ConvergenceWarning: The max_iter was reached which means the coef_ did not converge\n",
      "  warnings.warn(\n",
      "/Users/jeremy/code/ocr/p7_pret_a_depenser/venv/lib/python3.12/site-packages/sklearn/linear_model/_sag.py:348: ConvergenceWarning: The max_iter was reached which means the coef_ did not converge\n",
      "  warnings.warn(\n",
      "/Users/jeremy/code/ocr/p7_pret_a_depenser/venv/lib/python3.12/site-packages/sklearn/linear_model/_sag.py:348: ConvergenceWarning: The max_iter was reached which means the coef_ did not converge\n",
      "  warnings.warn(\n",
      "/Users/jeremy/code/ocr/p7_pret_a_depenser/venv/lib/python3.12/site-packages/sklearn/linear_model/_sag.py:348: ConvergenceWarning: The max_iter was reached which means the coef_ did not converge\n",
      "  warnings.warn(\n",
      "/Users/jeremy/code/ocr/p7_pret_a_depenser/venv/lib/python3.12/site-packages/sklearn/linear_model/_sag.py:348: ConvergenceWarning: The max_iter was reached which means the coef_ did not converge\n",
      "  warnings.warn(\n",
      "[I 2025-05-08 19:10:58,868] Trial 26 finished with value: 0.6701649451076173 and parameters: {'solver_penalty': 'saga__elasticnet', 'positive_class_weight': 47.23877680951412, 'classifier__max_iter': 270, 'classifier__tol': 0.00037684807915649136, 'classifier__C': 2.2966023529267923, 'classifier__l1_ratio': 0.08358349320114522, 'threshold': 0.21000000000000002}. Best is trial 21 with value: 0.8161506746363849.\n"
     ]
    },
    {
     "name": "stdout",
     "output_type": "stream",
     "text": [
      "🏃 View run salty-eel-856 at: http://127.0.0.1:8080/#/experiments/579090426674828470/runs/286fe8b3480d431585357079f272ccb0\n",
      "🧪 View experiment at: http://127.0.0.1:8080/#/experiments/579090426674828470\n"
     ]
    },
    {
     "name": "stderr",
     "output_type": "stream",
     "text": [
      "/Users/jeremy/code/ocr/p7_pret_a_depenser/venv/lib/python3.12/site-packages/sklearn/linear_model/_logistic.py:1271: UserWarning: 'n_jobs' > 1 does not have any effect when 'solver' is set to 'liblinear'. Got 'n_jobs' = 2.\n",
      "  warnings.warn(\n",
      "/Users/jeremy/code/ocr/p7_pret_a_depenser/venv/lib/python3.12/site-packages/sklearn/linear_model/_logistic.py:1271: UserWarning: 'n_jobs' > 1 does not have any effect when 'solver' is set to 'liblinear'. Got 'n_jobs' = 2.\n",
      "  warnings.warn(\n",
      "/Users/jeremy/code/ocr/p7_pret_a_depenser/venv/lib/python3.12/site-packages/sklearn/linear_model/_logistic.py:1271: UserWarning: 'n_jobs' > 1 does not have any effect when 'solver' is set to 'liblinear'. Got 'n_jobs' = 2.\n",
      "  warnings.warn(\n",
      "/Users/jeremy/code/ocr/p7_pret_a_depenser/venv/lib/python3.12/site-packages/sklearn/linear_model/_logistic.py:1271: UserWarning: 'n_jobs' > 1 does not have any effect when 'solver' is set to 'liblinear'. Got 'n_jobs' = 2.\n",
      "  warnings.warn(\n",
      "/Users/jeremy/code/ocr/p7_pret_a_depenser/venv/lib/python3.12/site-packages/sklearn/linear_model/_logistic.py:1271: UserWarning: 'n_jobs' > 1 does not have any effect when 'solver' is set to 'liblinear'. Got 'n_jobs' = 2.\n",
      "  warnings.warn(\n",
      "[I 2025-05-08 19:11:27,340] Trial 27 finished with value: 0.8128278335848453 and parameters: {'solver_penalty': 'liblinear__l2', 'positive_class_weight': 24.57535819360223, 'classifier__max_iter': 239, 'classifier__tol': 0.00028667627667853753, 'classifier__C': 0.16014433177302023, 'threshold': 0.28}. Best is trial 21 with value: 0.8161506746363849.\n"
     ]
    },
    {
     "name": "stdout",
     "output_type": "stream",
     "text": [
      "🏃 View run unruly-conch-299 at: http://127.0.0.1:8080/#/experiments/579090426674828470/runs/1d7324672d254a479db75e30d541aee7\n",
      "🧪 View experiment at: http://127.0.0.1:8080/#/experiments/579090426674828470\n"
     ]
    },
    {
     "name": "stderr",
     "output_type": "stream",
     "text": [
      "/Users/jeremy/code/ocr/p7_pret_a_depenser/venv/lib/python3.12/site-packages/sklearn/linear_model/_sag.py:348: ConvergenceWarning: The max_iter was reached which means the coef_ did not converge\n",
      "  warnings.warn(\n",
      "/Users/jeremy/code/ocr/p7_pret_a_depenser/venv/lib/python3.12/site-packages/sklearn/linear_model/_sag.py:348: ConvergenceWarning: The max_iter was reached which means the coef_ did not converge\n",
      "  warnings.warn(\n",
      "/Users/jeremy/code/ocr/p7_pret_a_depenser/venv/lib/python3.12/site-packages/sklearn/linear_model/_sag.py:348: ConvergenceWarning: The max_iter was reached which means the coef_ did not converge\n",
      "  warnings.warn(\n",
      "/Users/jeremy/code/ocr/p7_pret_a_depenser/venv/lib/python3.12/site-packages/sklearn/linear_model/_sag.py:348: ConvergenceWarning: The max_iter was reached which means the coef_ did not converge\n",
      "  warnings.warn(\n",
      "/Users/jeremy/code/ocr/p7_pret_a_depenser/venv/lib/python3.12/site-packages/sklearn/linear_model/_sag.py:348: ConvergenceWarning: The max_iter was reached which means the coef_ did not converge\n",
      "  warnings.warn(\n",
      "[I 2025-05-08 19:17:22,620] Trial 28 finished with value: 0.7437367044815095 and parameters: {'solver_penalty': 'saga__l1', 'positive_class_weight': 70.34216489666085, 'classifier__max_iter': 260, 'classifier__tol': 0.0001780410989660625, 'classifier__C': 0.4885308285828133, 'threshold': 0.22}. Best is trial 21 with value: 0.8161506746363849.\n"
     ]
    },
    {
     "name": "stdout",
     "output_type": "stream",
     "text": [
      "🏃 View run capricious-worm-399 at: http://127.0.0.1:8080/#/experiments/579090426674828470/runs/6603d757d10748948f76e5eba883f81a\n",
      "🧪 View experiment at: http://127.0.0.1:8080/#/experiments/579090426674828470\n"
     ]
    },
    {
     "name": "stderr",
     "output_type": "stream",
     "text": [
      "/Users/jeremy/code/ocr/p7_pret_a_depenser/venv/lib/python3.12/site-packages/sklearn/linear_model/_logistic.py:1271: UserWarning: 'n_jobs' > 1 does not have any effect when 'solver' is set to 'liblinear'. Got 'n_jobs' = 2.\n",
      "  warnings.warn(\n",
      "/Users/jeremy/code/ocr/p7_pret_a_depenser/venv/lib/python3.12/site-packages/sklearn/linear_model/_logistic.py:1271: UserWarning: 'n_jobs' > 1 does not have any effect when 'solver' is set to 'liblinear'. Got 'n_jobs' = 2.\n",
      "  warnings.warn(\n",
      "/Users/jeremy/code/ocr/p7_pret_a_depenser/venv/lib/python3.12/site-packages/sklearn/linear_model/_logistic.py:1271: UserWarning: 'n_jobs' > 1 does not have any effect when 'solver' is set to 'liblinear'. Got 'n_jobs' = 2.\n",
      "  warnings.warn(\n",
      "/Users/jeremy/code/ocr/p7_pret_a_depenser/venv/lib/python3.12/site-packages/sklearn/linear_model/_logistic.py:1271: UserWarning: 'n_jobs' > 1 does not have any effect when 'solver' is set to 'liblinear'. Got 'n_jobs' = 2.\n",
      "  warnings.warn(\n",
      "/Users/jeremy/code/ocr/p7_pret_a_depenser/venv/lib/python3.12/site-packages/sklearn/linear_model/_logistic.py:1271: UserWarning: 'n_jobs' > 1 does not have any effect when 'solver' is set to 'liblinear'. Got 'n_jobs' = 2.\n",
      "  warnings.warn(\n",
      "[I 2025-05-08 19:17:48,622] Trial 29 finished with value: 0.8157180082709857 and parameters: {'solver_penalty': 'liblinear__l1', 'positive_class_weight': 56.42508915326846, 'classifier__max_iter': 287, 'classifier__tol': 0.002736138039970028, 'classifier__C': 7.939823021412841, 'threshold': 0.35}. Best is trial 21 with value: 0.8161506746363849.\n"
     ]
    },
    {
     "name": "stdout",
     "output_type": "stream",
     "text": [
      "🏃 View run dazzling-goat-372 at: http://127.0.0.1:8080/#/experiments/579090426674828470/runs/4ea5f0f8dec44c82911d2d365ad69288\n",
      "🧪 View experiment at: http://127.0.0.1:8080/#/experiments/579090426674828470\n",
      "🏃 View run LogisticRegression_v2__application_train_feat_engineer_managed_outliers_mising_cols__study_run at: http://127.0.0.1:8080/#/experiments/579090426674828470/runs/c30992d21a664cfdbb235289e4df351b\n",
      "🧪 View experiment at: http://127.0.0.1:8080/#/experiments/579090426674828470\n"
     ]
    }
   ],
   "source": [
    "data_feat_engineer = data.copy()\n",
    "\n",
    "data_feat_engineer[\"CREDIT_INCOME_PERCENT\"] = (\n",
    "    data_feat_engineer[\"AMT_CREDIT\"] / data_feat_engineer[\"AMT_INCOME_TOTAL\"]\n",
    ")\n",
    "data_feat_engineer[\"ANNUITY_INCOME_PERCENT\"] = (\n",
    "    data_feat_engineer[\"AMT_ANNUITY\"] / data_feat_engineer[\"AMT_INCOME_TOTAL\"]\n",
    ")\n",
    "data_feat_engineer[\"CREDIT_TERM\"] = (\n",
    "    data_feat_engineer[\"AMT_ANNUITY\"] / data_feat_engineer[\"AMT_CREDIT\"]\n",
    ")\n",
    "data_feat_engineer[\"DAYS_EMPLOYED_PERCENT\"] = (\n",
    "    data_feat_engineer[\"DAYS_EMPLOYED\"] / data_feat_engineer[\"DAYS_BIRTH\"]\n",
    ")\n",
    "\n",
    "X_train, X_test, y_train, y_test, preproc = prepare_data(\n",
    "    data_feat_engineer,\n",
    "    target_column=\"TARGET\",\n",
    "    categorical_strategy=\"most_frequent\",\n",
    "    outlier_strategy=\"replace_with_nan\",\n",
    "    outlier_threshold=0.05,\n",
    "    test_size=0.2,\n",
    "    random_state=42,\n",
    "    encode_categoricals=True,\n",
    "    drop_missing_columns=True,\n",
    "    missing_col_threshold=0.5,\n",
    "    polynomial_features=False,\n",
    ")\n",
    "\n",
    "\n",
    "run_experiment(\n",
    "    model_name=\"LogisticRegression_v2\",\n",
    "    model_class=LogisticRegression,\n",
    "    param_space_fn=lr_param_space,\n",
    "    dataset_name=\"application_train_feat_engineer_managed_outliers_mising_cols\",\n",
    "    X_train=X_train,\n",
    "    X_test=X_test,\n",
    "    y_train=y_train,\n",
    "    y_test=y_test,\n",
    "    preprocessor=preproc,\n",
    "    cv=5,\n",
    "    n_trials=30,\n",
    ")\n"
   ]
  },
  {
   "cell_type": "markdown",
   "id": "8cf8d963",
   "metadata": {},
   "source": [
    "## Random Forest"
   ]
  },
  {
   "cell_type": "code",
   "execution_count": 25,
   "id": "da79303b",
   "metadata": {},
   "outputs": [],
   "source": [
    "def random_forest_param_space(\n",
    "    trial: optuna.trial.Trial,\n",
    "    class_weight_range: Tuple[float, float],\n",
    "    n_estimators_range: Tuple[int, int],\n",
    "    max_depth_range: Tuple[int, int],\n",
    "    min_samples_split_range: Tuple[int, int],\n",
    "    min_samples_leaf_range: Tuple[int, int],\n",
    "    max_features_range: Tuple,\n",
    "    bootstrap_range: Tuple,\n",
    ") -> Dict[str, Any]:\n",
    "    \"\"\"\n",
    "    Suggests a hyperparameter configuration for a RandomForestClassifier using Optuna.\n",
    "\n",
    "    Args:\n",
    "        trial: Optuna trial object used to sample hyperparameters.\n",
    "        class_weight_range: Range for the positive class weight (e.g., (1, 100)).\n",
    "        n_estimators_range: Range for the number of trees.\n",
    "        max_depth_range: Range for tree depth.\n",
    "        min_samples_split_range: Range for the minimum number of samples to split an internal node.\n",
    "        min_samples_leaf_range: Range for the minimum number of samples at a leaf node.\n",
    "\n",
    "    Returns:\n",
    "        A dictionary of hyperparameters for a scikit-learn Pipeline.\n",
    "    \"\"\"\n",
    "    pos_weight = trial.suggest_float(\n",
    "        \"positive_class_weight\", *class_weight_range\n",
    "    )\n",
    "    class_weight = {0: 1, 1: pos_weight}\n",
    "\n",
    "    params = {\n",
    "        \"classifier__n_estimators\": trial.suggest_int(\n",
    "            \"classifier__n_estimators\", *n_estimators_range\n",
    "        ),\n",
    "        \"classifier__max_depth\": trial.suggest_int(\n",
    "            \"classifier__max_depth\", *max_depth_range\n",
    "        ),\n",
    "        \"classifier__min_samples_split\": trial.suggest_int(\n",
    "            \"classifier__min_samples_split\", *min_samples_split_range\n",
    "        ),\n",
    "        \"classifier__min_samples_leaf\": trial.suggest_int(\n",
    "            \"classifier__min_samples_leaf\", *min_samples_leaf_range\n",
    "        ),\n",
    "        \"classifier__max_features\": trial.suggest_categorical(\n",
    "            \"classifier__max_features\", max_features_range\n",
    "        ),\n",
    "        \"classifier__bootstrap\": trial.suggest_categorical(\n",
    "            \"classifier__bootstrap\", bootstrap_range\n",
    "        ),\n",
    "        \"classifier__class_weight\": class_weight,\n",
    "    }\n",
    "    return params\n",
    "\n",
    "\n",
    "rf_param_space = partial(\n",
    "    random_forest_param_space,\n",
    "    class_weight_range=(1, 100),\n",
    "    n_estimators_range=(20, 100),\n",
    "    max_depth_range=(3, 8),\n",
    "    min_samples_split_range=(2, 10),\n",
    "    min_samples_leaf_range=(1, 10),\n",
    "    max_features_range=[\"sqrt\"],\n",
    "    bootstrap_range=[True],\n",
    ")\n"
   ]
  },
  {
   "cell_type": "code",
   "execution_count": 26,
   "id": "d5a5c8a2",
   "metadata": {},
   "outputs": [
    {
     "name": "stdout",
     "output_type": "stream",
     "text": [
      "🧹 Dropping 41 column(s) with missing ratio ≥ 0.5:\n",
      " - OWN_CAR_AGE\n",
      " - EXT_SOURCE_1\n",
      " - APARTMENTS_AVG\n",
      " - BASEMENTAREA_AVG\n",
      " - YEARS_BUILD_AVG\n",
      " - COMMONAREA_AVG\n",
      " - ELEVATORS_AVG\n",
      " - ENTRANCES_AVG\n",
      " - FLOORSMIN_AVG\n",
      " - LANDAREA_AVG\n",
      " - LIVINGAPARTMENTS_AVG\n",
      " - LIVINGAREA_AVG\n",
      " - NONLIVINGAPARTMENTS_AVG\n",
      " - NONLIVINGAREA_AVG\n",
      " - APARTMENTS_MODE\n",
      " - BASEMENTAREA_MODE\n",
      " - YEARS_BUILD_MODE\n",
      " - COMMONAREA_MODE\n",
      " - ELEVATORS_MODE\n",
      " - ENTRANCES_MODE\n",
      " - FLOORSMIN_MODE\n",
      " - LANDAREA_MODE\n",
      " - LIVINGAPARTMENTS_MODE\n",
      " - LIVINGAREA_MODE\n",
      " - NONLIVINGAPARTMENTS_MODE\n",
      " - NONLIVINGAREA_MODE\n",
      " - APARTMENTS_MEDI\n",
      " - BASEMENTAREA_MEDI\n",
      " - YEARS_BUILD_MEDI\n",
      " - COMMONAREA_MEDI\n",
      " - ELEVATORS_MEDI\n",
      " - ENTRANCES_MEDI\n",
      " - FLOORSMIN_MEDI\n",
      " - LANDAREA_MEDI\n",
      " - LIVINGAPARTMENTS_MEDI\n",
      " - LIVINGAREA_MEDI\n",
      " - NONLIVINGAPARTMENTS_MEDI\n",
      " - NONLIVINGAREA_MEDI\n",
      " - FONDKAPREMONT_MODE\n",
      " - HOUSETYPE_MODE\n",
      " - WALLSMATERIAL_MODE\n",
      "Found 67 numerical features\n",
      "Found 4 binary features\n",
      "Found 9 categorical features\n"
     ]
    },
    {
     "name": "stderr",
     "output_type": "stream",
     "text": [
      "2025/05/08 19:17:58 INFO mlflow.tracking.fluent: Experiment with name 'RandomForestClassifier_v2' does not exist. Creating a new experiment.\n",
      "[I 2025-05-08 19:17:58,544] A new study created in memory with name: no-name-9df3b84a-c81b-4e16-b6f0-5258c9aef4e8\n",
      "[I 2025-05-08 19:18:32,891] Trial 0 finished with value: 0.8161458163978155 and parameters: {'positive_class_weight': 73.158598707212, 'classifier__n_estimators': 92, 'classifier__max_depth': 4, 'classifier__min_samples_split': 5, 'classifier__min_samples_leaf': 1, 'classifier__max_features': 'sqrt', 'classifier__bootstrap': True, 'threshold': 0.12000000000000001}. Best is trial 0 with value: 0.8161458163978155.\n"
     ]
    },
    {
     "name": "stdout",
     "output_type": "stream",
     "text": [
      "🏃 View run enchanting-finch-839 at: http://127.0.0.1:8080/#/experiments/928276634314426691/runs/298076c30fef4ac697ccc9006c1d33de\n",
      "🧪 View experiment at: http://127.0.0.1:8080/#/experiments/928276634314426691\n"
     ]
    },
    {
     "name": "stderr",
     "output_type": "stream",
     "text": [
      "[I 2025-05-08 19:18:54,988] Trial 1 finished with value: 0.8161458163978155 and parameters: {'positive_class_weight': 17.021426650421997, 'classifier__n_estimators': 46, 'classifier__max_depth': 3, 'classifier__min_samples_split': 7, 'classifier__min_samples_leaf': 8, 'classifier__max_features': 'sqrt', 'classifier__bootstrap': True, 'threshold': 0.33}. Best is trial 0 with value: 0.8161458163978155.\n"
     ]
    },
    {
     "name": "stdout",
     "output_type": "stream",
     "text": [
      "🏃 View run agreeable-elk-867 at: http://127.0.0.1:8080/#/experiments/928276634314426691/runs/52ff586c8ca64435a7f8f722f599f8dd\n",
      "🧪 View experiment at: http://127.0.0.1:8080/#/experiments/928276634314426691\n"
     ]
    },
    {
     "name": "stderr",
     "output_type": "stream",
     "text": [
      "[I 2025-05-08 19:19:34,950] Trial 2 finished with value: 0.8161458163978155 and parameters: {'positive_class_weight': 51.06943671682048, 'classifier__n_estimators': 78, 'classifier__max_depth': 7, 'classifier__min_samples_split': 3, 'classifier__min_samples_leaf': 5, 'classifier__max_features': 'sqrt', 'classifier__bootstrap': True, 'threshold': 0.11}. Best is trial 0 with value: 0.8161458163978155.\n"
     ]
    },
    {
     "name": "stdout",
     "output_type": "stream",
     "text": [
      "🏃 View run skillful-stoat-113 at: http://127.0.0.1:8080/#/experiments/928276634314426691/runs/0a343cec6b994587b3abbe46f48b3241\n",
      "🧪 View experiment at: http://127.0.0.1:8080/#/experiments/928276634314426691\n"
     ]
    },
    {
     "name": "stderr",
     "output_type": "stream",
     "text": [
      "[I 2025-05-08 19:20:04,610] Trial 3 finished with value: 0.8161458163978155 and parameters: {'positive_class_weight': 26.643855625055927, 'classifier__n_estimators': 52, 'classifier__max_depth': 6, 'classifier__min_samples_split': 8, 'classifier__min_samples_leaf': 6, 'classifier__max_features': 'sqrt', 'classifier__bootstrap': True, 'threshold': 0.29000000000000004}. Best is trial 0 with value: 0.8161458163978155.\n"
     ]
    },
    {
     "name": "stdout",
     "output_type": "stream",
     "text": [
      "🏃 View run resilient-hare-841 at: http://127.0.0.1:8080/#/experiments/928276634314426691/runs/5ed07e219a49478bb0ab51dca471fd5e\n",
      "🧪 View experiment at: http://127.0.0.1:8080/#/experiments/928276634314426691\n"
     ]
    },
    {
     "name": "stderr",
     "output_type": "stream",
     "text": [
      "[I 2025-05-08 19:20:30,557] Trial 4 finished with value: 0.8161458163978155 and parameters: {'positive_class_weight': 46.92652318224698, 'classifier__n_estimators': 34, 'classifier__max_depth': 7, 'classifier__min_samples_split': 7, 'classifier__min_samples_leaf': 6, 'classifier__max_features': 'sqrt', 'classifier__bootstrap': True, 'threshold': 0.21000000000000002}. Best is trial 0 with value: 0.8161458163978155.\n"
     ]
    },
    {
     "name": "stdout",
     "output_type": "stream",
     "text": [
      "🏃 View run wise-grub-955 at: http://127.0.0.1:8080/#/experiments/928276634314426691/runs/6b9a1d3fe527443a918c05cc3e7fde46\n",
      "🧪 View experiment at: http://127.0.0.1:8080/#/experiments/928276634314426691\n"
     ]
    },
    {
     "name": "stderr",
     "output_type": "stream",
     "text": [
      "[I 2025-05-08 19:21:05,903] Trial 5 finished with value: 0.8161458163978155 and parameters: {'positive_class_weight': 34.139562806075034, 'classifier__n_estimators': 99, 'classifier__max_depth': 4, 'classifier__min_samples_split': 7, 'classifier__min_samples_leaf': 4, 'classifier__max_features': 'sqrt', 'classifier__bootstrap': True, 'threshold': 0.5}. Best is trial 0 with value: 0.8161458163978155.\n"
     ]
    },
    {
     "name": "stdout",
     "output_type": "stream",
     "text": [
      "🏃 View run upset-foal-25 at: http://127.0.0.1:8080/#/experiments/928276634314426691/runs/7e6dc124121b4fa4ad0d98f50cb6ff59\n",
      "🧪 View experiment at: http://127.0.0.1:8080/#/experiments/928276634314426691\n"
     ]
    },
    {
     "name": "stderr",
     "output_type": "stream",
     "text": [
      "[I 2025-05-08 19:21:45,130] Trial 6 finished with value: 0.8161458163978155 and parameters: {'positive_class_weight': 85.90830521466395, 'classifier__n_estimators': 84, 'classifier__max_depth': 6, 'classifier__min_samples_split': 9, 'classifier__min_samples_leaf': 10, 'classifier__max_features': 'sqrt', 'classifier__bootstrap': True, 'threshold': 0.19}. Best is trial 0 with value: 0.8161458163978155.\n"
     ]
    },
    {
     "name": "stdout",
     "output_type": "stream",
     "text": [
      "🏃 View run overjoyed-owl-498 at: http://127.0.0.1:8080/#/experiments/928276634314426691/runs/4d944490f4be4d4a8bd17bcf2dbfd23e\n",
      "🧪 View experiment at: http://127.0.0.1:8080/#/experiments/928276634314426691\n"
     ]
    },
    {
     "name": "stderr",
     "output_type": "stream",
     "text": [
      "[I 2025-05-08 19:22:07,983] Trial 7 finished with value: 0.8161356925831864 and parameters: {'positive_class_weight': 12.110170282339004, 'classifier__n_estimators': 28, 'classifier__max_depth': 6, 'classifier__min_samples_split': 4, 'classifier__min_samples_leaf': 4, 'classifier__max_features': 'sqrt', 'classifier__bootstrap': True, 'threshold': 0.29000000000000004}. Best is trial 0 with value: 0.8161458163978155.\n"
     ]
    },
    {
     "name": "stdout",
     "output_type": "stream",
     "text": [
      "🏃 View run exultant-sow-142 at: http://127.0.0.1:8080/#/experiments/928276634314426691/runs/22fa90b746f8402b923637baad454e39\n",
      "🧪 View experiment at: http://127.0.0.1:8080/#/experiments/928276634314426691\n"
     ]
    },
    {
     "name": "stderr",
     "output_type": "stream",
     "text": [
      "[I 2025-05-08 19:22:51,699] Trial 8 finished with value: 0.8161458163978155 and parameters: {'positive_class_weight': 63.245910339226164, 'classifier__n_estimators': 87, 'classifier__max_depth': 7, 'classifier__min_samples_split': 4, 'classifier__min_samples_leaf': 8, 'classifier__max_features': 'sqrt', 'classifier__bootstrap': True, 'threshold': 0.26}. Best is trial 0 with value: 0.8161458163978155.\n"
     ]
    },
    {
     "name": "stdout",
     "output_type": "stream",
     "text": [
      "🏃 View run colorful-jay-52 at: http://127.0.0.1:8080/#/experiments/928276634314426691/runs/abda21b139d94f7a97496b3cc16a7872\n",
      "🧪 View experiment at: http://127.0.0.1:8080/#/experiments/928276634314426691\n"
     ]
    },
    {
     "name": "stderr",
     "output_type": "stream",
     "text": [
      "[I 2025-05-08 19:23:21,011] Trial 9 finished with value: 0.8161458163978155 and parameters: {'positive_class_weight': 12.63333958709192, 'classifier__n_estimators': 49, 'classifier__max_depth': 6, 'classifier__min_samples_split': 10, 'classifier__min_samples_leaf': 4, 'classifier__max_features': 'sqrt', 'classifier__bootstrap': True, 'threshold': 0.22}. Best is trial 0 with value: 0.8161458163978155.\n"
     ]
    },
    {
     "name": "stdout",
     "output_type": "stream",
     "text": [
      "🏃 View run industrious-cow-553 at: http://127.0.0.1:8080/#/experiments/928276634314426691/runs/6f4537c2fbd7470b969a2454e0ce5462\n",
      "🧪 View experiment at: http://127.0.0.1:8080/#/experiments/928276634314426691\n"
     ]
    },
    {
     "name": "stderr",
     "output_type": "stream",
     "text": [
      "[I 2025-05-08 19:23:50,086] Trial 10 finished with value: 0.8161458163978155 and parameters: {'positive_class_weight': 90.67526869337568, 'classifier__n_estimators': 68, 'classifier__max_depth': 4, 'classifier__min_samples_split': 2, 'classifier__min_samples_leaf': 1, 'classifier__max_features': 'sqrt', 'classifier__bootstrap': True, 'threshold': 0.1}. Best is trial 0 with value: 0.8161458163978155.\n"
     ]
    },
    {
     "name": "stdout",
     "output_type": "stream",
     "text": [
      "🏃 View run wistful-tern-879 at: http://127.0.0.1:8080/#/experiments/928276634314426691/runs/ee916ba1b4194451b72beec81c405da2\n",
      "🧪 View experiment at: http://127.0.0.1:8080/#/experiments/928276634314426691\n"
     ]
    },
    {
     "name": "stderr",
     "output_type": "stream",
     "text": [
      "[I 2025-05-08 19:24:11,728] Trial 11 finished with value: 0.8161458163978155 and parameters: {'positive_class_weight': 73.30580190620489, 'classifier__n_estimators': 42, 'classifier__max_depth': 3, 'classifier__min_samples_split': 5, 'classifier__min_samples_leaf': 1, 'classifier__max_features': 'sqrt', 'classifier__bootstrap': True, 'threshold': 0.37}. Best is trial 0 with value: 0.8161458163978155.\n"
     ]
    },
    {
     "name": "stdout",
     "output_type": "stream",
     "text": [
      "🏃 View run shivering-duck-9 at: http://127.0.0.1:8080/#/experiments/928276634314426691/runs/55f44ab87e1e48e38a30bb4a6b0b8cd6\n",
      "🧪 View experiment at: http://127.0.0.1:8080/#/experiments/928276634314426691\n"
     ]
    },
    {
     "name": "stderr",
     "output_type": "stream",
     "text": [
      "[I 2025-05-08 19:24:37,535] Trial 12 finished with value: 0.8161458163978155 and parameters: {'positive_class_weight': 72.43570021846946, 'classifier__n_estimators': 67, 'classifier__max_depth': 3, 'classifier__min_samples_split': 5, 'classifier__min_samples_leaf': 8, 'classifier__max_features': 'sqrt', 'classifier__bootstrap': True, 'threshold': 0.37}. Best is trial 0 with value: 0.8161458163978155.\n"
     ]
    },
    {
     "name": "stdout",
     "output_type": "stream",
     "text": [
      "🏃 View run rumbling-snipe-850 at: http://127.0.0.1:8080/#/experiments/928276634314426691/runs/252866378f0f48b0a79cb0d488d612e8\n",
      "🧪 View experiment at: http://127.0.0.1:8080/#/experiments/928276634314426691\n"
     ]
    },
    {
     "name": "stderr",
     "output_type": "stream",
     "text": [
      "[I 2025-05-08 19:25:04,543] Trial 13 finished with value: 0.8161458163978155 and parameters: {'positive_class_weight': 97.95418032071406, 'classifier__n_estimators': 58, 'classifier__max_depth': 4, 'classifier__min_samples_split': 6, 'classifier__min_samples_leaf': 8, 'classifier__max_features': 'sqrt', 'classifier__bootstrap': True, 'threshold': 0.39}. Best is trial 0 with value: 0.8161458163978155.\n"
     ]
    },
    {
     "name": "stdout",
     "output_type": "stream",
     "text": [
      "🏃 View run brawny-mole-110 at: http://127.0.0.1:8080/#/experiments/928276634314426691/runs/f269645495d34de7b193b844ae4f710d\n",
      "🧪 View experiment at: http://127.0.0.1:8080/#/experiments/928276634314426691\n"
     ]
    },
    {
     "name": "stderr",
     "output_type": "stream",
     "text": [
      "/Users/jeremy/code/ocr/p7_pret_a_depenser/venv/lib/python3.12/site-packages/sklearn/metrics/_classification.py:1565: UndefinedMetricWarning: Precision is ill-defined and being set to 0.0 due to no predicted samples. Use `zero_division` parameter to control this behavior.\n",
      "  _warn_prf(average, modifier, f\"{metric.capitalize()} is\", len(result))\n",
      "/Users/jeremy/code/ocr/p7_pret_a_depenser/venv/lib/python3.12/site-packages/sklearn/metrics/_classification.py:1565: UndefinedMetricWarning: Precision is ill-defined and being set to 0.0 due to no predicted samples. Use `zero_division` parameter to control this behavior.\n",
      "  _warn_prf(average, modifier, f\"{metric.capitalize()} is\", len(result))\n",
      "/Users/jeremy/code/ocr/p7_pret_a_depenser/venv/lib/python3.12/site-packages/sklearn/metrics/_classification.py:1565: UndefinedMetricWarning: Precision is ill-defined and being set to 0.0 due to no predicted samples. Use `zero_division` parameter to control this behavior.\n",
      "  _warn_prf(average, modifier, f\"{metric.capitalize()} is\", len(result))\n",
      "/Users/jeremy/code/ocr/p7_pret_a_depenser/venv/lib/python3.12/site-packages/sklearn/metrics/_classification.py:1565: UndefinedMetricWarning: Precision is ill-defined and being set to 0.0 due to no predicted samples. Use `zero_division` parameter to control this behavior.\n",
      "  _warn_prf(average, modifier, f\"{metric.capitalize()} is\", len(result))\n",
      "/Users/jeremy/code/ocr/p7_pret_a_depenser/venv/lib/python3.12/site-packages/sklearn/metrics/_classification.py:1565: UndefinedMetricWarning: Precision is ill-defined and being set to 0.0 due to no predicted samples. Use `zero_division` parameter to control this behavior.\n",
      "  _warn_prf(average, modifier, f\"{metric.capitalize()} is\", len(result))\n",
      "[I 2025-05-08 19:25:29,600] Trial 14 finished with value: 0.0 and parameters: {'positive_class_weight': 2.2871352159022855, 'classifier__n_estimators': 39, 'classifier__max_depth': 5, 'classifier__min_samples_split': 6, 'classifier__min_samples_leaf': 2, 'classifier__max_features': 'sqrt', 'classifier__bootstrap': True, 'threshold': 0.45000000000000007}. Best is trial 0 with value: 0.8161458163978155.\n"
     ]
    },
    {
     "name": "stdout",
     "output_type": "stream",
     "text": [
      "🏃 View run masked-sow-168 at: http://127.0.0.1:8080/#/experiments/928276634314426691/runs/a4e6d9588560476c81568a15a72d67b0\n",
      "🧪 View experiment at: http://127.0.0.1:8080/#/experiments/928276634314426691\n"
     ]
    },
    {
     "name": "stderr",
     "output_type": "stream",
     "text": [
      "[I 2025-05-08 19:26:01,079] Trial 15 finished with value: 0.8161458163978155 and parameters: {'positive_class_weight': 38.68379439576977, 'classifier__n_estimators': 100, 'classifier__max_depth': 3, 'classifier__min_samples_split': 8, 'classifier__min_samples_leaf': 10, 'classifier__max_features': 'sqrt', 'classifier__bootstrap': True, 'threshold': 0.17}. Best is trial 0 with value: 0.8161458163978155.\n"
     ]
    },
    {
     "name": "stdout",
     "output_type": "stream",
     "text": [
      "🏃 View run agreeable-owl-625 at: http://127.0.0.1:8080/#/experiments/928276634314426691/runs/0017a93482df45469ef6cade41821e27\n",
      "🧪 View experiment at: http://127.0.0.1:8080/#/experiments/928276634314426691\n"
     ]
    },
    {
     "name": "stderr",
     "output_type": "stream",
     "text": [
      "[I 2025-05-08 19:26:20,591] Trial 16 finished with value: 0.8161458163978155 and parameters: {'positive_class_weight': 62.39541903576869, 'classifier__n_estimators': 20, 'classifier__max_depth': 5, 'classifier__min_samples_split': 7, 'classifier__min_samples_leaf': 7, 'classifier__max_features': 'sqrt', 'classifier__bootstrap': True, 'threshold': 0.33999999999999997}. Best is trial 0 with value: 0.8161458163978155.\n"
     ]
    },
    {
     "name": "stdout",
     "output_type": "stream",
     "text": [
      "🏃 View run luminous-kit-449 at: http://127.0.0.1:8080/#/experiments/928276634314426691/runs/c8165dc0fd75442ba8925955ad48bfba\n",
      "🧪 View experiment at: http://127.0.0.1:8080/#/experiments/928276634314426691\n"
     ]
    },
    {
     "name": "stderr",
     "output_type": "stream",
     "text": [
      "[I 2025-05-08 19:26:50,179] Trial 17 finished with value: 0.8161458163978155 and parameters: {'positive_class_weight': 23.384425768714095, 'classifier__n_estimators': 71, 'classifier__max_depth': 4, 'classifier__min_samples_split': 5, 'classifier__min_samples_leaf': 3, 'classifier__max_features': 'sqrt', 'classifier__bootstrap': True, 'threshold': 0.43000000000000005}. Best is trial 0 with value: 0.8161458163978155.\n"
     ]
    },
    {
     "name": "stdout",
     "output_type": "stream",
     "text": [
      "🏃 View run worried-donkey-987 at: http://127.0.0.1:8080/#/experiments/928276634314426691/runs/bb5d3802941d49bca68dc79e1a66dc9a\n",
      "🧪 View experiment at: http://127.0.0.1:8080/#/experiments/928276634314426691\n"
     ]
    },
    {
     "name": "stderr",
     "output_type": "stream",
     "text": [
      "[I 2025-05-08 19:27:37,428] Trial 18 finished with value: 0.8161458163978155 and parameters: {'positive_class_weight': 50.27033207209973, 'classifier__n_estimators': 90, 'classifier__max_depth': 8, 'classifier__min_samples_split': 10, 'classifier__min_samples_leaf': 9, 'classifier__max_features': 'sqrt', 'classifier__bootstrap': True, 'threshold': 0.14}. Best is trial 0 with value: 0.8161458163978155.\n"
     ]
    },
    {
     "name": "stdout",
     "output_type": "stream",
     "text": [
      "🏃 View run whimsical-turtle-145 at: http://127.0.0.1:8080/#/experiments/928276634314426691/runs/80fc6d7fe7274f1fa5e2518e1a2b3cd6\n",
      "🧪 View experiment at: http://127.0.0.1:8080/#/experiments/928276634314426691\n"
     ]
    },
    {
     "name": "stderr",
     "output_type": "stream",
     "text": [
      "[I 2025-05-08 19:28:02,047] Trial 19 finished with value: 0.8161458163978155 and parameters: {'positive_class_weight': 77.977401589138, 'classifier__n_estimators': 56, 'classifier__max_depth': 3, 'classifier__min_samples_split': 2, 'classifier__min_samples_leaf': 7, 'classifier__max_features': 'sqrt', 'classifier__bootstrap': True, 'threshold': 0.24000000000000002}. Best is trial 0 with value: 0.8161458163978155.\n"
     ]
    },
    {
     "name": "stdout",
     "output_type": "stream",
     "text": [
      "🏃 View run painted-swan-224 at: http://127.0.0.1:8080/#/experiments/928276634314426691/runs/104d46016e6b4ab9a54b587494284db0\n",
      "🧪 View experiment at: http://127.0.0.1:8080/#/experiments/928276634314426691\n"
     ]
    },
    {
     "name": "stderr",
     "output_type": "stream",
     "text": [
      "[I 2025-05-08 19:28:27,979] Trial 20 finished with value: 0.8161458163978155 and parameters: {'positive_class_weight': 62.140510995661415, 'classifier__n_estimators': 44, 'classifier__max_depth': 5, 'classifier__min_samples_split': 4, 'classifier__min_samples_leaf': 2, 'classifier__max_features': 'sqrt', 'classifier__bootstrap': True, 'threshold': 0.33}. Best is trial 0 with value: 0.8161458163978155.\n"
     ]
    },
    {
     "name": "stdout",
     "output_type": "stream",
     "text": [
      "🏃 View run unruly-horse-810 at: http://127.0.0.1:8080/#/experiments/928276634314426691/runs/bb3f58610b7c40cf94a7cf2f9343da52\n",
      "🧪 View experiment at: http://127.0.0.1:8080/#/experiments/928276634314426691\n"
     ]
    },
    {
     "name": "stderr",
     "output_type": "stream",
     "text": [
      "[I 2025-05-08 19:29:12,532] Trial 21 finished with value: 0.8161458163978155 and parameters: {'positive_class_weight': 41.658850601058276, 'classifier__n_estimators': 77, 'classifier__max_depth': 8, 'classifier__min_samples_split': 3, 'classifier__min_samples_leaf': 5, 'classifier__max_features': 'sqrt', 'classifier__bootstrap': True, 'threshold': 0.1}. Best is trial 0 with value: 0.8161458163978155.\n"
     ]
    },
    {
     "name": "stdout",
     "output_type": "stream",
     "text": [
      "🏃 View run marvelous-shoat-70 at: http://127.0.0.1:8080/#/experiments/928276634314426691/runs/b0554ae6b3cb41f6a815847a64245349\n",
      "🧪 View experiment at: http://127.0.0.1:8080/#/experiments/928276634314426691\n"
     ]
    },
    {
     "name": "stderr",
     "output_type": "stream",
     "text": [
      "[I 2025-05-08 19:29:53,725] Trial 22 finished with value: 0.8161458163978155 and parameters: {'positive_class_weight': 55.79277013966652, 'classifier__n_estimators': 80, 'classifier__max_depth': 7, 'classifier__min_samples_split': 3, 'classifier__min_samples_leaf': 5, 'classifier__max_features': 'sqrt', 'classifier__bootstrap': True, 'threshold': 0.15000000000000002}. Best is trial 0 with value: 0.8161458163978155.\n"
     ]
    },
    {
     "name": "stdout",
     "output_type": "stream",
     "text": [
      "🏃 View run adorable-hound-241 at: http://127.0.0.1:8080/#/experiments/928276634314426691/runs/6d904c7daec6486582423bb12bbefc84\n",
      "🧪 View experiment at: http://127.0.0.1:8080/#/experiments/928276634314426691\n"
     ]
    },
    {
     "name": "stderr",
     "output_type": "stream",
     "text": [
      "[I 2025-05-08 19:30:27,865] Trial 23 finished with value: 0.8161458163978155 and parameters: {'positive_class_weight': 54.45594875683711, 'classifier__n_estimators': 92, 'classifier__max_depth': 4, 'classifier__min_samples_split': 6, 'classifier__min_samples_leaf': 3, 'classifier__max_features': 'sqrt', 'classifier__bootstrap': True, 'threshold': 0.13}. Best is trial 0 with value: 0.8161458163978155.\n"
     ]
    },
    {
     "name": "stdout",
     "output_type": "stream",
     "text": [
      "🏃 View run kindly-ram-982 at: http://127.0.0.1:8080/#/experiments/928276634314426691/runs/f8ce77e526314ea796e7b6dcdeb2a5c2\n",
      "🧪 View experiment at: http://127.0.0.1:8080/#/experiments/928276634314426691\n"
     ]
    },
    {
     "name": "stderr",
     "output_type": "stream",
     "text": [
      "[I 2025-05-08 19:30:55,259] Trial 24 finished with value: 0.8161458163978155 and parameters: {'positive_class_weight': 30.67432506819533, 'classifier__n_estimators': 75, 'classifier__max_depth': 3, 'classifier__min_samples_split': 3, 'classifier__min_samples_leaf': 7, 'classifier__max_features': 'sqrt', 'classifier__bootstrap': True, 'threshold': 0.17}. Best is trial 0 with value: 0.8161458163978155.\n"
     ]
    },
    {
     "name": "stdout",
     "output_type": "stream",
     "text": [
      "🏃 View run worried-conch-620 at: http://127.0.0.1:8080/#/experiments/928276634314426691/runs/b54cead6b2734852a5260449a6d525d4\n",
      "🧪 View experiment at: http://127.0.0.1:8080/#/experiments/928276634314426691\n"
     ]
    },
    {
     "name": "stderr",
     "output_type": "stream",
     "text": [
      "[I 2025-05-08 19:31:26,992] Trial 25 finished with value: 0.8161458163978155 and parameters: {'positive_class_weight': 83.82711241369678, 'classifier__n_estimators': 66, 'classifier__max_depth': 5, 'classifier__min_samples_split': 8, 'classifier__min_samples_leaf': 9, 'classifier__max_features': 'sqrt', 'classifier__bootstrap': True, 'threshold': 0.27}. Best is trial 0 with value: 0.8161458163978155.\n"
     ]
    },
    {
     "name": "stdout",
     "output_type": "stream",
     "text": [
      "🏃 View run grandiose-mule-41 at: http://127.0.0.1:8080/#/experiments/928276634314426691/runs/550d1c6789b64b81b37576c80dea0940\n",
      "🧪 View experiment at: http://127.0.0.1:8080/#/experiments/928276634314426691\n"
     ]
    },
    {
     "name": "stderr",
     "output_type": "stream",
     "text": [
      "[I 2025-05-08 19:32:12,642] Trial 26 finished with value: 0.8161102362088646 and parameters: {'positive_class_weight': 19.359172133158506, 'classifier__n_estimators': 94, 'classifier__max_depth': 7, 'classifier__min_samples_split': 5, 'classifier__min_samples_leaf': 2, 'classifier__max_features': 'sqrt', 'classifier__bootstrap': True, 'threshold': 0.32}. Best is trial 0 with value: 0.8161458163978155.\n"
     ]
    },
    {
     "name": "stdout",
     "output_type": "stream",
     "text": [
      "🏃 View run wise-mink-483 at: http://127.0.0.1:8080/#/experiments/928276634314426691/runs/bb59d1da4ed34ccfad24319ab74c2030\n",
      "🧪 View experiment at: http://127.0.0.1:8080/#/experiments/928276634314426691\n"
     ]
    },
    {
     "name": "stderr",
     "output_type": "stream",
     "text": [
      "[I 2025-05-08 19:32:44,879] Trial 27 finished with value: 0.8161458163978155 and parameters: {'positive_class_weight': 67.42514700828647, 'classifier__n_estimators': 83, 'classifier__max_depth': 4, 'classifier__min_samples_split': 4, 'classifier__min_samples_leaf': 6, 'classifier__max_features': 'sqrt', 'classifier__bootstrap': True, 'threshold': 0.12000000000000001}. Best is trial 0 with value: 0.8161458163978155.\n"
     ]
    },
    {
     "name": "stdout",
     "output_type": "stream",
     "text": [
      "🏃 View run dashing-roo-562 at: http://127.0.0.1:8080/#/experiments/928276634314426691/runs/14b36aa18286416c952f977b4f984dbf\n",
      "🧪 View experiment at: http://127.0.0.1:8080/#/experiments/928276634314426691\n"
     ]
    },
    {
     "name": "stderr",
     "output_type": "stream",
     "text": [
      "[I 2025-05-08 19:33:22,935] Trial 28 finished with value: 0.8161458163978155 and parameters: {'positive_class_weight': 45.00637099105667, 'classifier__n_estimators': 63, 'classifier__max_depth': 8, 'classifier__min_samples_split': 2, 'classifier__min_samples_leaf': 3, 'classifier__max_features': 'sqrt', 'classifier__bootstrap': True, 'threshold': 0.19}. Best is trial 0 with value: 0.8161458163978155.\n"
     ]
    },
    {
     "name": "stdout",
     "output_type": "stream",
     "text": [
      "🏃 View run capricious-squid-244 at: http://127.0.0.1:8080/#/experiments/928276634314426691/runs/bec306a22fe9442b809b30d81b05ff1d\n",
      "🧪 View experiment at: http://127.0.0.1:8080/#/experiments/928276634314426691\n"
     ]
    },
    {
     "name": "stderr",
     "output_type": "stream",
     "text": [
      "/Users/jeremy/code/ocr/p7_pret_a_depenser/venv/lib/python3.12/site-packages/sklearn/metrics/_classification.py:1565: UndefinedMetricWarning: Precision is ill-defined and being set to 0.0 due to no predicted samples. Use `zero_division` parameter to control this behavior.\n",
      "  _warn_prf(average, modifier, f\"{metric.capitalize()} is\", len(result))\n",
      "/Users/jeremy/code/ocr/p7_pret_a_depenser/venv/lib/python3.12/site-packages/sklearn/metrics/_classification.py:1565: UndefinedMetricWarning: Precision is ill-defined and being set to 0.0 due to no predicted samples. Use `zero_division` parameter to control this behavior.\n",
      "  _warn_prf(average, modifier, f\"{metric.capitalize()} is\", len(result))\n",
      "/Users/jeremy/code/ocr/p7_pret_a_depenser/venv/lib/python3.12/site-packages/sklearn/metrics/_classification.py:1565: UndefinedMetricWarning: Precision is ill-defined and being set to 0.0 due to no predicted samples. Use `zero_division` parameter to control this behavior.\n",
      "  _warn_prf(average, modifier, f\"{metric.capitalize()} is\", len(result))\n",
      "/Users/jeremy/code/ocr/p7_pret_a_depenser/venv/lib/python3.12/site-packages/sklearn/metrics/_classification.py:1565: UndefinedMetricWarning: Precision is ill-defined and being set to 0.0 due to no predicted samples. Use `zero_division` parameter to control this behavior.\n",
      "  _warn_prf(average, modifier, f\"{metric.capitalize()} is\", len(result))\n",
      "/Users/jeremy/code/ocr/p7_pret_a_depenser/venv/lib/python3.12/site-packages/sklearn/metrics/_classification.py:1565: UndefinedMetricWarning: Precision is ill-defined and being set to 0.0 due to no predicted samples. Use `zero_division` parameter to control this behavior.\n",
      "  _warn_prf(average, modifier, f\"{metric.capitalize()} is\", len(result))\n",
      "[I 2025-05-08 19:33:46,539] Trial 29 finished with value: 0.0 and parameters: {'positive_class_weight': 2.2869881851729588, 'classifier__n_estimators': 49, 'classifier__max_depth': 3, 'classifier__min_samples_split': 7, 'classifier__min_samples_leaf': 6, 'classifier__max_features': 'sqrt', 'classifier__bootstrap': True, 'threshold': 0.29000000000000004}. Best is trial 0 with value: 0.8161458163978155.\n"
     ]
    },
    {
     "name": "stdout",
     "output_type": "stream",
     "text": [
      "🏃 View run fun-gnu-355 at: http://127.0.0.1:8080/#/experiments/928276634314426691/runs/da9046fb24f349c2af1dde73d6bcf251\n",
      "🧪 View experiment at: http://127.0.0.1:8080/#/experiments/928276634314426691\n",
      "🏃 View run RandomForestClassifier_v2__application_train_managed_outliers_mising_cols__study_run at: http://127.0.0.1:8080/#/experiments/928276634314426691/runs/85b718324b97472788ca2033bb6f2a51\n",
      "🧪 View experiment at: http://127.0.0.1:8080/#/experiments/928276634314426691\n"
     ]
    }
   ],
   "source": [
    "X_train, X_test, y_train, y_test, preproc = prepare_data(\n",
    "    data,\n",
    "    target_column=\"TARGET\",\n",
    "    categorical_strategy=\"most_frequent\",\n",
    "    outlier_strategy=\"replace_with_nan\",\n",
    "    outlier_threshold=0.05,\n",
    "    test_size=0.2,\n",
    "    random_state=42,\n",
    "    encode_categoricals=True,\n",
    "    drop_missing_columns=True,\n",
    "    missing_col_threshold=0.5,\n",
    "    polynomial_features=False,\n",
    ")\n",
    "\n",
    "run_experiment(\n",
    "    model_name=\"RandomForestClassifier_v2\",\n",
    "    model_class=RandomForestClassifier,\n",
    "    param_space_fn=rf_param_space,\n",
    "    dataset_name=\"application_train_managed_outliers_mising_cols\",\n",
    "    X_train=X_train,\n",
    "    X_test=X_test,\n",
    "    y_train=y_train,\n",
    "    y_test=y_test,\n",
    "    preprocessor=preproc,\n",
    "    cv=5,\n",
    "    n_trials=30,\n",
    ")\n"
   ]
  },
  {
   "cell_type": "code",
   "execution_count": 27,
   "id": "22dbcc28",
   "metadata": {},
   "outputs": [
    {
     "name": "stdout",
     "output_type": "stream",
     "text": [
      "🧹 Dropping 1 column(s) with missing ratio ≥ 0.5:\n",
      " - EXT_SOURCE_1\n",
      "Found 3 numerical features\n",
      "Found 0 binary features\n",
      "Found 0 categorical features\n"
     ]
    },
    {
     "name": "stderr",
     "output_type": "stream",
     "text": [
      "[I 2025-05-08 19:34:04,911] A new study created in memory with name: no-name-f474e3ce-847f-46d7-96c2-e2c61cb3fa7c\n",
      "[I 2025-05-08 19:34:22,529] Trial 0 finished with value: 0.8161458163978155 and parameters: {'positive_class_weight': 28.563206398980054, 'classifier__n_estimators': 41, 'classifier__max_depth': 3, 'classifier__min_samples_split': 9, 'classifier__min_samples_leaf': 9, 'classifier__max_features': 'sqrt', 'classifier__bootstrap': True, 'threshold': 0.27}. Best is trial 0 with value: 0.8161458163978155.\n"
     ]
    },
    {
     "name": "stdout",
     "output_type": "stream",
     "text": [
      "🏃 View run useful-rat-747 at: http://127.0.0.1:8080/#/experiments/928276634314426691/runs/26aae9f4180149b884aca1dbc35f7056\n",
      "🧪 View experiment at: http://127.0.0.1:8080/#/experiments/928276634314426691\n"
     ]
    },
    {
     "name": "stderr",
     "output_type": "stream",
     "text": [
      "[I 2025-05-08 19:35:02,947] Trial 1 finished with value: 0.8161464727958555 and parameters: {'positive_class_weight': 55.45954596578046, 'classifier__n_estimators': 49, 'classifier__max_depth': 7, 'classifier__min_samples_split': 9, 'classifier__min_samples_leaf': 2, 'classifier__max_features': 'sqrt', 'classifier__bootstrap': True, 'threshold': 0.18}. Best is trial 1 with value: 0.8161464727958555.\n"
     ]
    },
    {
     "name": "stdout",
     "output_type": "stream",
     "text": [
      "🏃 View run judicious-mouse-315 at: http://127.0.0.1:8080/#/experiments/928276634314426691/runs/a9b1a8e006a14b5ab050fb979814c034\n",
      "🧪 View experiment at: http://127.0.0.1:8080/#/experiments/928276634314426691\n"
     ]
    },
    {
     "name": "stderr",
     "output_type": "stream",
     "text": [
      "[I 2025-05-08 19:35:57,496] Trial 2 finished with value: 0.7467184063441803 and parameters: {'positive_class_weight': 11.748333560290652, 'classifier__n_estimators': 75, 'classifier__max_depth': 6, 'classifier__min_samples_split': 4, 'classifier__min_samples_leaf': 6, 'classifier__max_features': 'sqrt', 'classifier__bootstrap': True, 'threshold': 0.33}. Best is trial 1 with value: 0.8161464727958555.\n"
     ]
    },
    {
     "name": "stdout",
     "output_type": "stream",
     "text": [
      "🏃 View run youthful-eel-133 at: http://127.0.0.1:8080/#/experiments/928276634314426691/runs/36bba9957a6a4b78b6b581ba99649c83\n",
      "🧪 View experiment at: http://127.0.0.1:8080/#/experiments/928276634314426691\n"
     ]
    },
    {
     "name": "stderr",
     "output_type": "stream",
     "text": [
      "[I 2025-05-08 19:36:35,961] Trial 3 finished with value: 0.8161458163978155 and parameters: {'positive_class_weight': 72.93483394578463, 'classifier__n_estimators': 97, 'classifier__max_depth': 3, 'classifier__min_samples_split': 5, 'classifier__min_samples_leaf': 1, 'classifier__max_features': 'sqrt', 'classifier__bootstrap': True, 'threshold': 0.21000000000000002}. Best is trial 1 with value: 0.8161464727958555.\n"
     ]
    },
    {
     "name": "stdout",
     "output_type": "stream",
     "text": [
      "🏃 View run selective-lark-872 at: http://127.0.0.1:8080/#/experiments/928276634314426691/runs/3229defccad3462393f394a795c8fb9d\n",
      "🧪 View experiment at: http://127.0.0.1:8080/#/experiments/928276634314426691\n"
     ]
    },
    {
     "name": "stderr",
     "output_type": "stream",
     "text": [
      "[I 2025-05-08 19:37:11,734] Trial 4 finished with value: 0.5562393606890716 and parameters: {'positive_class_weight': 9.926301461812756, 'classifier__n_estimators': 57, 'classifier__max_depth': 5, 'classifier__min_samples_split': 7, 'classifier__min_samples_leaf': 6, 'classifier__max_features': 'sqrt', 'classifier__bootstrap': True, 'threshold': 0.47}. Best is trial 1 with value: 0.8161464727958555.\n"
     ]
    },
    {
     "name": "stdout",
     "output_type": "stream",
     "text": [
      "🏃 View run dapper-crow-932 at: http://127.0.0.1:8080/#/experiments/928276634314426691/runs/9832140230ab4e0ba039d0d6cb282621\n",
      "🧪 View experiment at: http://127.0.0.1:8080/#/experiments/928276634314426691\n"
     ]
    },
    {
     "name": "stderr",
     "output_type": "stream",
     "text": [
      "[I 2025-05-08 19:37:53,375] Trial 5 finished with value: 0.717224327795186 and parameters: {'positive_class_weight': 10.96168886008273, 'classifier__n_estimators': 58, 'classifier__max_depth': 6, 'classifier__min_samples_split': 9, 'classifier__min_samples_leaf': 3, 'classifier__max_features': 'sqrt', 'classifier__bootstrap': True, 'threshold': 0.35}. Best is trial 1 with value: 0.8161464727958555.\n"
     ]
    },
    {
     "name": "stdout",
     "output_type": "stream",
     "text": [
      "🏃 View run zealous-duck-342 at: http://127.0.0.1:8080/#/experiments/928276634314426691/runs/52130792070c4c07a06c4e84089a8167\n",
      "🧪 View experiment at: http://127.0.0.1:8080/#/experiments/928276634314426691\n"
     ]
    },
    {
     "name": "stderr",
     "output_type": "stream",
     "text": [
      "[I 2025-05-08 19:39:00,268] Trial 6 finished with value: 0.800454167076058 and parameters: {'positive_class_weight': 40.98942639256253, 'classifier__n_estimators': 84, 'classifier__max_depth': 7, 'classifier__min_samples_split': 10, 'classifier__min_samples_leaf': 10, 'classifier__max_features': 'sqrt', 'classifier__bootstrap': True, 'threshold': 0.49}. Best is trial 1 with value: 0.8161464727958555.\n"
     ]
    },
    {
     "name": "stdout",
     "output_type": "stream",
     "text": [
      "🏃 View run powerful-newt-32 at: http://127.0.0.1:8080/#/experiments/928276634314426691/runs/83b42acbcd3a47ad83a4a36823369471\n",
      "🧪 View experiment at: http://127.0.0.1:8080/#/experiments/928276634314426691\n"
     ]
    },
    {
     "name": "stderr",
     "output_type": "stream",
     "text": [
      "[I 2025-05-08 19:39:37,376] Trial 7 finished with value: 0.8161462758745751 and parameters: {'positive_class_weight': 78.90149475287258, 'classifier__n_estimators': 72, 'classifier__max_depth': 4, 'classifier__min_samples_split': 6, 'classifier__min_samples_leaf': 2, 'classifier__max_features': 'sqrt', 'classifier__bootstrap': True, 'threshold': 0.49}. Best is trial 1 with value: 0.8161464727958555.\n"
     ]
    },
    {
     "name": "stdout",
     "output_type": "stream",
     "text": [
      "🏃 View run orderly-bat-447 at: http://127.0.0.1:8080/#/experiments/928276634314426691/runs/0f224ff4846a4fa8a478c1dd65e79a31\n",
      "🧪 View experiment at: http://127.0.0.1:8080/#/experiments/928276634314426691\n"
     ]
    },
    {
     "name": "stderr",
     "output_type": "stream",
     "text": [
      "[I 2025-05-08 19:40:40,737] Trial 8 finished with value: 0.8161458820320159 and parameters: {'positive_class_weight': 76.77761092563715, 'classifier__n_estimators': 90, 'classifier__max_depth': 6, 'classifier__min_samples_split': 9, 'classifier__min_samples_leaf': 5, 'classifier__max_features': 'sqrt', 'classifier__bootstrap': True, 'threshold': 0.18}. Best is trial 1 with value: 0.8161464727958555.\n"
     ]
    },
    {
     "name": "stdout",
     "output_type": "stream",
     "text": [
      "🏃 View run stately-roo-534 at: http://127.0.0.1:8080/#/experiments/928276634314426691/runs/73dc3ead30a74617a7aaff670c323d72\n",
      "🧪 View experiment at: http://127.0.0.1:8080/#/experiments/928276634314426691\n"
     ]
    },
    {
     "name": "stderr",
     "output_type": "stream",
     "text": [
      "[I 2025-05-08 19:40:56,681] Trial 9 finished with value: 0.4235686738809406 and parameters: {'positive_class_weight': 7.255430647637531, 'classifier__n_estimators': 35, 'classifier__max_depth': 3, 'classifier__min_samples_split': 8, 'classifier__min_samples_leaf': 9, 'classifier__max_features': 'sqrt', 'classifier__bootstrap': True, 'threshold': 0.45999999999999996}. Best is trial 1 with value: 0.8161464727958555.\n"
     ]
    },
    {
     "name": "stdout",
     "output_type": "stream",
     "text": [
      "🏃 View run intrigued-wasp-911 at: http://127.0.0.1:8080/#/experiments/928276634314426691/runs/2a002d9d7dbf43be8042dee62c728c87\n",
      "🧪 View experiment at: http://127.0.0.1:8080/#/experiments/928276634314426691\n"
     ]
    },
    {
     "name": "stderr",
     "output_type": "stream",
     "text": [
      "[I 2025-05-08 19:41:20,150] Trial 10 finished with value: 0.8161461445821587 and parameters: {'positive_class_weight': 99.82312779588756, 'classifier__n_estimators': 24, 'classifier__max_depth': 8, 'classifier__min_samples_split': 7, 'classifier__min_samples_leaf': 4, 'classifier__max_features': 'sqrt', 'classifier__bootstrap': True, 'threshold': 0.1}. Best is trial 1 with value: 0.8161464727958555.\n"
     ]
    },
    {
     "name": "stdout",
     "output_type": "stream",
     "text": [
      "🏃 View run charming-sheep-932 at: http://127.0.0.1:8080/#/experiments/928276634314426691/runs/5da51c88bb274dd8b08b8540e9c82ea2\n",
      "🧪 View experiment at: http://127.0.0.1:8080/#/experiments/928276634314426691\n"
     ]
    },
    {
     "name": "stderr",
     "output_type": "stream",
     "text": [
      "[I 2025-05-08 19:41:55,913] Trial 11 finished with value: 0.8161458163978155 and parameters: {'positive_class_weight': 64.92489126912585, 'classifier__n_estimators': 70, 'classifier__max_depth': 4, 'classifier__min_samples_split': 2, 'classifier__min_samples_leaf': 1, 'classifier__max_features': 'sqrt', 'classifier__bootstrap': True, 'threshold': 0.39}. Best is trial 1 with value: 0.8161464727958555.\n"
     ]
    },
    {
     "name": "stdout",
     "output_type": "stream",
     "text": [
      "🏃 View run painted-bee-302 at: http://127.0.0.1:8080/#/experiments/928276634314426691/runs/3b669e0f633b47f9beaecfce18ad48e2\n",
      "🧪 View experiment at: http://127.0.0.1:8080/#/experiments/928276634314426691\n"
     ]
    },
    {
     "name": "stderr",
     "output_type": "stream",
     "text": [
      "[I 2025-05-08 19:42:39,844] Trial 12 finished with value: 0.8161461445955002 and parameters: {'positive_class_weight': 53.634861751546424, 'classifier__n_estimators': 48, 'classifier__max_depth': 8, 'classifier__min_samples_split': 5, 'classifier__min_samples_leaf': 3, 'classifier__max_features': 'sqrt', 'classifier__bootstrap': True, 'threshold': 0.1}. Best is trial 1 with value: 0.8161464727958555.\n"
     ]
    },
    {
     "name": "stdout",
     "output_type": "stream",
     "text": [
      "🏃 View run salty-roo-494 at: http://127.0.0.1:8080/#/experiments/928276634314426691/runs/ca689f7e2de6441e9be8a1e7c98ad33d\n",
      "🧪 View experiment at: http://127.0.0.1:8080/#/experiments/928276634314426691\n"
     ]
    },
    {
     "name": "stderr",
     "output_type": "stream",
     "text": [
      "[I 2025-05-08 19:43:22,780] Trial 13 finished with value: 0.8161458163978155 and parameters: {'positive_class_weight': 89.67882142012796, 'classifier__n_estimators': 69, 'classifier__max_depth': 5, 'classifier__min_samples_split': 6, 'classifier__min_samples_leaf': 2, 'classifier__max_features': 'sqrt', 'classifier__bootstrap': True, 'threshold': 0.24000000000000002}. Best is trial 1 with value: 0.8161464727958555.\n"
     ]
    },
    {
     "name": "stdout",
     "output_type": "stream",
     "text": [
      "🏃 View run adventurous-doe-552 at: http://127.0.0.1:8080/#/experiments/928276634314426691/runs/d991ca6737e24e7c82c0c0ac3dd8a03e\n",
      "🧪 View experiment at: http://127.0.0.1:8080/#/experiments/928276634314426691\n"
     ]
    },
    {
     "name": "stderr",
     "output_type": "stream",
     "text": [
      "[I 2025-05-08 19:44:01,933] Trial 14 finished with value: 0.8161057059413586 and parameters: {'positive_class_weight': 52.00157057892222, 'classifier__n_estimators': 47, 'classifier__max_depth': 7, 'classifier__min_samples_split': 3, 'classifier__min_samples_leaf': 3, 'classifier__max_features': 'sqrt', 'classifier__bootstrap': True, 'threshold': 0.16}. Best is trial 1 with value: 0.8161464727958555.\n"
     ]
    },
    {
     "name": "stdout",
     "output_type": "stream",
     "text": [
      "🏃 View run abrasive-donkey-750 at: http://127.0.0.1:8080/#/experiments/928276634314426691/runs/98f489e8f9ce40f2a93b2f3911bbbd1c\n",
      "🧪 View experiment at: http://127.0.0.1:8080/#/experiments/928276634314426691\n"
     ]
    },
    {
     "name": "stderr",
     "output_type": "stream",
     "text": [
      "[I 2025-05-08 19:44:41,357] Trial 15 finished with value: 0.8161458163978155 and parameters: {'positive_class_weight': 83.51890356011712, 'classifier__n_estimators': 77, 'classifier__max_depth': 4, 'classifier__min_samples_split': 7, 'classifier__min_samples_leaf': 7, 'classifier__max_features': 'sqrt', 'classifier__bootstrap': True, 'threshold': 0.41000000000000003}. Best is trial 1 with value: 0.8161464727958555.\n"
     ]
    },
    {
     "name": "stdout",
     "output_type": "stream",
     "text": [
      "🏃 View run chill-frog-106 at: http://127.0.0.1:8080/#/experiments/928276634314426691/runs/876bd87816764d98abd9455e4df09988\n",
      "🧪 View experiment at: http://127.0.0.1:8080/#/experiments/928276634314426691\n"
     ]
    },
    {
     "name": "stderr",
     "output_type": "stream",
     "text": [
      "[I 2025-05-08 19:45:31,971] Trial 16 finished with value: 0.8157589787853048 and parameters: {'positive_class_weight': 38.41469635286866, 'classifier__n_estimators': 62, 'classifier__max_depth': 7, 'classifier__min_samples_split': 6, 'classifier__min_samples_leaf': 1, 'classifier__max_features': 'sqrt', 'classifier__bootstrap': True, 'threshold': 0.27}. Best is trial 1 with value: 0.8161464727958555.\n"
     ]
    },
    {
     "name": "stdout",
     "output_type": "stream",
     "text": [
      "🏃 View run delicate-perch-596 at: http://127.0.0.1:8080/#/experiments/928276634314426691/runs/45dfe8f7558a437badbc78f9eabd830f\n",
      "🧪 View experiment at: http://127.0.0.1:8080/#/experiments/928276634314426691\n"
     ]
    },
    {
     "name": "stderr",
     "output_type": "stream",
     "text": [
      "[I 2025-05-08 19:45:49,097] Trial 17 finished with value: 0.8161458163978155 and parameters: {'positive_class_weight': 63.071205746928804, 'classifier__n_estimators': 30, 'classifier__max_depth': 4, 'classifier__min_samples_split': 10, 'classifier__min_samples_leaf': 4, 'classifier__max_features': 'sqrt', 'classifier__bootstrap': True, 'threshold': 0.15000000000000002}. Best is trial 1 with value: 0.8161464727958555.\n"
     ]
    },
    {
     "name": "stdout",
     "output_type": "stream",
     "text": [
      "🏃 View run likeable-snipe-966 at: http://127.0.0.1:8080/#/experiments/928276634314426691/runs/aabe806992d240648c45b084b8aa5fb7\n",
      "🧪 View experiment at: http://127.0.0.1:8080/#/experiments/928276634314426691\n"
     ]
    },
    {
     "name": "stderr",
     "output_type": "stream",
     "text": [
      "[I 2025-05-08 19:46:23,326] Trial 18 finished with value: 0.8160691420033314 and parameters: {'positive_class_weight': 63.14856182955046, 'classifier__n_estimators': 54, 'classifier__max_depth': 5, 'classifier__min_samples_split': 5, 'classifier__min_samples_leaf': 2, 'classifier__max_features': 'sqrt', 'classifier__bootstrap': True, 'threshold': 0.41000000000000003}. Best is trial 1 with value: 0.8161464727958555.\n"
     ]
    },
    {
     "name": "stdout",
     "output_type": "stream",
     "text": [
      "🏃 View run hilarious-fawn-789 at: http://127.0.0.1:8080/#/experiments/928276634314426691/runs/2a158245fa8c4be0a53af2c96219379d\n",
      "🧪 View experiment at: http://127.0.0.1:8080/#/experiments/928276634314426691\n"
     ]
    },
    {
     "name": "stderr",
     "output_type": "stream",
     "text": [
      "[I 2025-05-08 19:47:17,703] Trial 19 finished with value: 0.8159121835179307 and parameters: {'positive_class_weight': 93.09888095252313, 'classifier__n_estimators': 66, 'classifier__max_depth': 7, 'classifier__min_samples_split': 8, 'classifier__min_samples_leaf': 4, 'classifier__max_features': 'sqrt', 'classifier__bootstrap': True, 'threshold': 0.32}. Best is trial 1 with value: 0.8161464727958555.\n"
     ]
    },
    {
     "name": "stdout",
     "output_type": "stream",
     "text": [
      "🏃 View run sedate-bear-399 at: http://127.0.0.1:8080/#/experiments/928276634314426691/runs/4236063fd9cb4658bb454562c6f9cf13\n",
      "🧪 View experiment at: http://127.0.0.1:8080/#/experiments/928276634314426691\n"
     ]
    },
    {
     "name": "stderr",
     "output_type": "stream",
     "text": [
      "[I 2025-05-08 19:47:58,979] Trial 20 finished with value: 0.8161458163978155 and parameters: {'positive_class_weight': 40.75460067302807, 'classifier__n_estimators': 82, 'classifier__max_depth': 4, 'classifier__min_samples_split': 8, 'classifier__min_samples_leaf': 2, 'classifier__max_features': 'sqrt', 'classifier__bootstrap': True, 'threshold': 0.22}. Best is trial 1 with value: 0.8161464727958555.\n"
     ]
    },
    {
     "name": "stdout",
     "output_type": "stream",
     "text": [
      "🏃 View run intelligent-tern-989 at: http://127.0.0.1:8080/#/experiments/928276634314426691/runs/b80ef3a9d780434ca00a4b180ea4c7cd\n",
      "🧪 View experiment at: http://127.0.0.1:8080/#/experiments/928276634314426691\n"
     ]
    },
    {
     "name": "stderr",
     "output_type": "stream",
     "text": [
      "[I 2025-05-08 19:48:42,690] Trial 21 finished with value: 0.8161466041256366 and parameters: {'positive_class_weight': 53.2224679814509, 'classifier__n_estimators': 47, 'classifier__max_depth': 8, 'classifier__min_samples_split': 5, 'classifier__min_samples_leaf': 3, 'classifier__max_features': 'sqrt', 'classifier__bootstrap': True, 'threshold': 0.1}. Best is trial 21 with value: 0.8161466041256366.\n"
     ]
    },
    {
     "name": "stdout",
     "output_type": "stream",
     "text": [
      "🏃 View run spiffy-conch-189 at: http://127.0.0.1:8080/#/experiments/928276634314426691/runs/ef547592aea647eda236f62cc872c4cf\n",
      "🧪 View experiment at: http://127.0.0.1:8080/#/experiments/928276634314426691\n"
     ]
    },
    {
     "name": "stderr",
     "output_type": "stream",
     "text": [
      "[I 2025-05-08 19:49:28,106] Trial 22 finished with value: 0.8160675652199798 and parameters: {'positive_class_weight': 30.998458799544792, 'classifier__n_estimators': 49, 'classifier__max_depth': 8, 'classifier__min_samples_split': 4, 'classifier__min_samples_leaf': 2, 'classifier__max_features': 'sqrt', 'classifier__bootstrap': True, 'threshold': 0.14}. Best is trial 21 with value: 0.8161466041256366.\n"
     ]
    },
    {
     "name": "stdout",
     "output_type": "stream",
     "text": [
      "🏃 View run upbeat-colt-120 at: http://127.0.0.1:8080/#/experiments/928276634314426691/runs/18390fcb15894fd7a4d58352acc1e23e\n",
      "🧪 View experiment at: http://127.0.0.1:8080/#/experiments/928276634314426691\n"
     ]
    },
    {
     "name": "stderr",
     "output_type": "stream",
     "text": [
      "[I 2025-05-08 19:50:05,149] Trial 23 finished with value: 0.8161465384487361 and parameters: {'positive_class_weight': 72.69215023816022, 'classifier__n_estimators': 39, 'classifier__max_depth': 8, 'classifier__min_samples_split': 4, 'classifier__min_samples_leaf': 3, 'classifier__max_features': 'sqrt', 'classifier__bootstrap': True, 'threshold': 0.13}. Best is trial 21 with value: 0.8161466041256366.\n"
     ]
    },
    {
     "name": "stdout",
     "output_type": "stream",
     "text": [
      "🏃 View run orderly-snipe-812 at: http://127.0.0.1:8080/#/experiments/928276634314426691/runs/124b55ae44554ac4803487cbefca7eae\n",
      "🧪 View experiment at: http://127.0.0.1:8080/#/experiments/928276634314426691\n"
     ]
    },
    {
     "name": "stderr",
     "output_type": "stream",
     "text": [
      "[I 2025-05-08 19:50:41,035] Trial 24 finished with value: 0.8161469323606896 and parameters: {'positive_class_weight': 56.94472624924934, 'classifier__n_estimators': 38, 'classifier__max_depth': 8, 'classifier__min_samples_split': 3, 'classifier__min_samples_leaf': 5, 'classifier__max_features': 'sqrt', 'classifier__bootstrap': True, 'threshold': 0.12000000000000001}. Best is trial 24 with value: 0.8161469323606896.\n"
     ]
    },
    {
     "name": "stdout",
     "output_type": "stream",
     "text": [
      "🏃 View run mercurial-mole-78 at: http://127.0.0.1:8080/#/experiments/928276634314426691/runs/b836be3627e1494dbd191c319bf64b6c\n",
      "🧪 View experiment at: http://127.0.0.1:8080/#/experiments/928276634314426691\n"
     ]
    },
    {
     "name": "stderr",
     "output_type": "stream",
     "text": [
      "[I 2025-05-08 19:51:02,311] Trial 25 finished with value: 0.8161064939332601 and parameters: {'positive_class_weight': 70.29497487928819, 'classifier__n_estimators': 20, 'classifier__max_depth': 8, 'classifier__min_samples_split': 2, 'classifier__min_samples_leaf': 5, 'classifier__max_features': 'sqrt', 'classifier__bootstrap': True, 'threshold': 0.12000000000000001}. Best is trial 24 with value: 0.8161469323606896.\n"
     ]
    },
    {
     "name": "stdout",
     "output_type": "stream",
     "text": [
      "🏃 View run serious-fish-58 at: http://127.0.0.1:8080/#/experiments/928276634314426691/runs/a025cdfd516645d6b9013a1669ecc5f9\n",
      "🧪 View experiment at: http://127.0.0.1:8080/#/experiments/928276634314426691\n"
     ]
    },
    {
     "name": "stderr",
     "output_type": "stream",
     "text": [
      "[I 2025-05-08 19:51:38,468] Trial 26 finished with value: 0.8161474575757581 and parameters: {'positive_class_weight': 46.52154220757578, 'classifier__n_estimators': 38, 'classifier__max_depth': 8, 'classifier__min_samples_split': 4, 'classifier__min_samples_leaf': 7, 'classifier__max_features': 'sqrt', 'classifier__bootstrap': True, 'threshold': 0.13}. Best is trial 26 with value: 0.8161474575757581.\n"
     ]
    },
    {
     "name": "stdout",
     "output_type": "stream",
     "text": [
      "🏃 View run skillful-snake-561 at: http://127.0.0.1:8080/#/experiments/928276634314426691/runs/0719593846d0407b8a8f81d92c217414\n",
      "🧪 View experiment at: http://127.0.0.1:8080/#/experiments/928276634314426691\n"
     ]
    },
    {
     "name": "stderr",
     "output_type": "stream",
     "text": [
      "[I 2025-05-08 19:52:08,557] Trial 27 finished with value: 0.815949533652345 and parameters: {'positive_class_weight': 46.21023208829837, 'classifier__n_estimators': 31, 'classifier__max_depth': 8, 'classifier__min_samples_split': 3, 'classifier__min_samples_leaf': 7, 'classifier__max_features': 'sqrt', 'classifier__bootstrap': True, 'threshold': 0.18}. Best is trial 26 with value: 0.8161474575757581.\n"
     ]
    },
    {
     "name": "stdout",
     "output_type": "stream",
     "text": [
      "🏃 View run smiling-hound-989 at: http://127.0.0.1:8080/#/experiments/928276634314426691/runs/a3623cf7b96e401aa9f1d9e84f4673c2\n",
      "🧪 View experiment at: http://127.0.0.1:8080/#/experiments/928276634314426691\n"
     ]
    },
    {
     "name": "stderr",
     "output_type": "stream",
     "text": [
      "[I 2025-05-08 19:52:42,849] Trial 28 finished with value: 0.8161458163978155 and parameters: {'positive_class_weight': 28.345148479257556, 'classifier__n_estimators': 41, 'classifier__max_depth': 7, 'classifier__min_samples_split': 3, 'classifier__min_samples_leaf': 7, 'classifier__max_features': 'sqrt', 'classifier__bootstrap': True, 'threshold': 0.1}. Best is trial 26 with value: 0.8161474575757581.\n"
     ]
    },
    {
     "name": "stdout",
     "output_type": "stream",
     "text": [
      "🏃 View run fun-sheep-821 at: http://127.0.0.1:8080/#/experiments/928276634314426691/runs/3ca0156f7bb842f8a552cdee9c782746\n",
      "🧪 View experiment at: http://127.0.0.1:8080/#/experiments/928276634314426691\n"
     ]
    },
    {
     "name": "stderr",
     "output_type": "stream",
     "text": [
      "[I 2025-05-08 19:53:23,269] Trial 29 finished with value: 0.813271398072315 and parameters: {'positive_class_weight': 26.413794407089352, 'classifier__n_estimators': 44, 'classifier__max_depth': 8, 'classifier__min_samples_split': 4, 'classifier__min_samples_leaf': 9, 'classifier__max_features': 'sqrt', 'classifier__bootstrap': True, 'threshold': 0.27}. Best is trial 26 with value: 0.8161474575757581.\n"
     ]
    },
    {
     "name": "stdout",
     "output_type": "stream",
     "text": [
      "🏃 View run dapper-mare-39 at: http://127.0.0.1:8080/#/experiments/928276634314426691/runs/89132e1af0ed4a8883e293f76609f012\n",
      "🧪 View experiment at: http://127.0.0.1:8080/#/experiments/928276634314426691\n",
      "🏃 View run RandomForestClassifier_v2__application_train_poly_managed_outliers_mising_cols__study_run at: http://127.0.0.1:8080/#/experiments/928276634314426691/runs/b80e4210d0424a91834e4d3396a55b60\n",
      "🧪 View experiment at: http://127.0.0.1:8080/#/experiments/928276634314426691\n"
     ]
    }
   ],
   "source": [
    "X_train, X_test, y_train, y_test, preproc = prepare_data(\n",
    "    data[\n",
    "        [\"EXT_SOURCE_1\", \"EXT_SOURCE_2\", \"EXT_SOURCE_3\", \"DAYS_BIRTH\", \"TARGET\"]\n",
    "    ],\n",
    "    target_column=\"TARGET\",\n",
    "    categorical_strategy=\"most_frequent\",\n",
    "    outlier_strategy=\"replace_with_nan\",\n",
    "    outlier_threshold=0.05,\n",
    "    test_size=0.2,\n",
    "    random_state=42,\n",
    "    encode_categoricals=True,\n",
    "    drop_missing_columns=True,\n",
    "    missing_col_threshold=0.5,\n",
    "    polynomial_features=True,\n",
    ")\n",
    "\n",
    "\n",
    "run_experiment(\n",
    "    model_name=\"RandomForestClassifier_v2\",\n",
    "    model_class=RandomForestClassifier,\n",
    "    param_space_fn=rf_param_space,\n",
    "    dataset_name=\"application_train_poly_managed_outliers_mising_cols\",\n",
    "    X_train=X_train,\n",
    "    X_test=X_test,\n",
    "    y_train=y_train,\n",
    "    y_test=y_test,\n",
    "    preprocessor=preproc,\n",
    "    cv=5,\n",
    "    n_trials=30,\n",
    ")\n"
   ]
  },
  {
   "cell_type": "code",
   "execution_count": 28,
   "id": "07ab1907",
   "metadata": {},
   "outputs": [
    {
     "name": "stdout",
     "output_type": "stream",
     "text": [
      "🧹 Dropping 41 column(s) with missing ratio ≥ 0.5:\n",
      " - OWN_CAR_AGE\n",
      " - EXT_SOURCE_1\n",
      " - APARTMENTS_AVG\n",
      " - BASEMENTAREA_AVG\n",
      " - YEARS_BUILD_AVG\n",
      " - COMMONAREA_AVG\n",
      " - ELEVATORS_AVG\n",
      " - ENTRANCES_AVG\n",
      " - FLOORSMIN_AVG\n",
      " - LANDAREA_AVG\n",
      " - LIVINGAPARTMENTS_AVG\n",
      " - LIVINGAREA_AVG\n",
      " - NONLIVINGAPARTMENTS_AVG\n",
      " - NONLIVINGAREA_AVG\n",
      " - APARTMENTS_MODE\n",
      " - BASEMENTAREA_MODE\n",
      " - YEARS_BUILD_MODE\n",
      " - COMMONAREA_MODE\n",
      " - ELEVATORS_MODE\n",
      " - ENTRANCES_MODE\n",
      " - FLOORSMIN_MODE\n",
      " - LANDAREA_MODE\n",
      " - LIVINGAPARTMENTS_MODE\n",
      " - LIVINGAREA_MODE\n",
      " - NONLIVINGAPARTMENTS_MODE\n",
      " - NONLIVINGAREA_MODE\n",
      " - APARTMENTS_MEDI\n",
      " - BASEMENTAREA_MEDI\n",
      " - YEARS_BUILD_MEDI\n",
      " - COMMONAREA_MEDI\n",
      " - ELEVATORS_MEDI\n",
      " - ENTRANCES_MEDI\n",
      " - FLOORSMIN_MEDI\n",
      " - LANDAREA_MEDI\n",
      " - LIVINGAPARTMENTS_MEDI\n",
      " - LIVINGAREA_MEDI\n",
      " - NONLIVINGAPARTMENTS_MEDI\n",
      " - NONLIVINGAREA_MEDI\n",
      " - FONDKAPREMONT_MODE\n",
      " - HOUSETYPE_MODE\n",
      " - WALLSMATERIAL_MODE\n",
      "Found 71 numerical features\n",
      "Found 4 binary features\n",
      "Found 9 categorical features\n"
     ]
    },
    {
     "name": "stderr",
     "output_type": "stream",
     "text": [
      "[I 2025-05-08 19:53:41,739] A new study created in memory with name: no-name-11c043b4-b394-4339-a72e-89d84a69c44a\n",
      "/Users/jeremy/code/ocr/p7_pret_a_depenser/venv/lib/python3.12/site-packages/sklearn/metrics/_classification.py:1565: UndefinedMetricWarning: Precision is ill-defined and being set to 0.0 due to no predicted samples. Use `zero_division` parameter to control this behavior.\n",
      "  _warn_prf(average, modifier, f\"{metric.capitalize()} is\", len(result))\n",
      "/Users/jeremy/code/ocr/p7_pret_a_depenser/venv/lib/python3.12/site-packages/sklearn/metrics/_classification.py:1565: UndefinedMetricWarning: Precision is ill-defined and being set to 0.0 due to no predicted samples. Use `zero_division` parameter to control this behavior.\n",
      "  _warn_prf(average, modifier, f\"{metric.capitalize()} is\", len(result))\n",
      "/Users/jeremy/code/ocr/p7_pret_a_depenser/venv/lib/python3.12/site-packages/sklearn/metrics/_classification.py:1565: UndefinedMetricWarning: Precision is ill-defined and being set to 0.0 due to no predicted samples. Use `zero_division` parameter to control this behavior.\n",
      "  _warn_prf(average, modifier, f\"{metric.capitalize()} is\", len(result))\n",
      "/Users/jeremy/code/ocr/p7_pret_a_depenser/venv/lib/python3.12/site-packages/sklearn/metrics/_classification.py:1565: UndefinedMetricWarning: Precision is ill-defined and being set to 0.0 due to no predicted samples. Use `zero_division` parameter to control this behavior.\n",
      "  _warn_prf(average, modifier, f\"{metric.capitalize()} is\", len(result))\n",
      "/Users/jeremy/code/ocr/p7_pret_a_depenser/venv/lib/python3.12/site-packages/sklearn/metrics/_classification.py:1565: UndefinedMetricWarning: Precision is ill-defined and being set to 0.0 due to no predicted samples. Use `zero_division` parameter to control this behavior.\n",
      "  _warn_prf(average, modifier, f\"{metric.capitalize()} is\", len(result))\n",
      "[I 2025-05-08 19:54:06,808] Trial 0 finished with value: 0.0 and parameters: {'positive_class_weight': 1.632215279765353, 'classifier__n_estimators': 28, 'classifier__max_depth': 7, 'classifier__min_samples_split': 8, 'classifier__min_samples_leaf': 1, 'classifier__max_features': 'sqrt', 'classifier__bootstrap': True, 'threshold': 0.33}. Best is trial 0 with value: 0.0.\n"
     ]
    },
    {
     "name": "stdout",
     "output_type": "stream",
     "text": [
      "🏃 View run auspicious-cub-656 at: http://127.0.0.1:8080/#/experiments/928276634314426691/runs/3188849f5ea94abbbdba4b801bcdcd6d\n",
      "🧪 View experiment at: http://127.0.0.1:8080/#/experiments/928276634314426691\n"
     ]
    },
    {
     "name": "stderr",
     "output_type": "stream",
     "text": [
      "[I 2025-05-08 19:54:42,539] Trial 1 finished with value: 0.8161458163978155 and parameters: {'positive_class_weight': 67.25979081658693, 'classifier__n_estimators': 64, 'classifier__max_depth': 6, 'classifier__min_samples_split': 2, 'classifier__min_samples_leaf': 7, 'classifier__max_features': 'sqrt', 'classifier__bootstrap': True, 'threshold': 0.45000000000000007}. Best is trial 1 with value: 0.8161458163978155.\n"
     ]
    },
    {
     "name": "stdout",
     "output_type": "stream",
     "text": [
      "🏃 View run monumental-gull-730 at: http://127.0.0.1:8080/#/experiments/928276634314426691/runs/6f4ce8c82bbe468e80f3b8949dcb6fcf\n",
      "🧪 View experiment at: http://127.0.0.1:8080/#/experiments/928276634314426691\n"
     ]
    },
    {
     "name": "stderr",
     "output_type": "stream",
     "text": [
      "/Users/jeremy/code/ocr/p7_pret_a_depenser/venv/lib/python3.12/site-packages/sklearn/metrics/_classification.py:1565: UndefinedMetricWarning: Precision is ill-defined and being set to 0.0 due to no predicted samples. Use `zero_division` parameter to control this behavior.\n",
      "  _warn_prf(average, modifier, f\"{metric.capitalize()} is\", len(result))\n",
      "/Users/jeremy/code/ocr/p7_pret_a_depenser/venv/lib/python3.12/site-packages/sklearn/metrics/_classification.py:1565: UndefinedMetricWarning: Precision is ill-defined and being set to 0.0 due to no predicted samples. Use `zero_division` parameter to control this behavior.\n",
      "  _warn_prf(average, modifier, f\"{metric.capitalize()} is\", len(result))\n",
      "/Users/jeremy/code/ocr/p7_pret_a_depenser/venv/lib/python3.12/site-packages/sklearn/metrics/_classification.py:1565: UndefinedMetricWarning: Precision is ill-defined and being set to 0.0 due to no predicted samples. Use `zero_division` parameter to control this behavior.\n",
      "  _warn_prf(average, modifier, f\"{metric.capitalize()} is\", len(result))\n",
      "/Users/jeremy/code/ocr/p7_pret_a_depenser/venv/lib/python3.12/site-packages/sklearn/metrics/_classification.py:1565: UndefinedMetricWarning: Precision is ill-defined and being set to 0.0 due to no predicted samples. Use `zero_division` parameter to control this behavior.\n",
      "  _warn_prf(average, modifier, f\"{metric.capitalize()} is\", len(result))\n",
      "/Users/jeremy/code/ocr/p7_pret_a_depenser/venv/lib/python3.12/site-packages/sklearn/metrics/_classification.py:1565: UndefinedMetricWarning: Precision is ill-defined and being set to 0.0 due to no predicted samples. Use `zero_division` parameter to control this behavior.\n",
      "  _warn_prf(average, modifier, f\"{metric.capitalize()} is\", len(result))\n",
      "[I 2025-05-08 19:55:12,359] Trial 2 finished with value: 0.0 and parameters: {'positive_class_weight': 2.3942975841573158, 'classifier__n_estimators': 53, 'classifier__max_depth': 5, 'classifier__min_samples_split': 10, 'classifier__min_samples_leaf': 2, 'classifier__max_features': 'sqrt', 'classifier__bootstrap': True, 'threshold': 0.42000000000000004}. Best is trial 1 with value: 0.8161458163978155.\n"
     ]
    },
    {
     "name": "stdout",
     "output_type": "stream",
     "text": [
      "🏃 View run sedate-grouse-608 at: http://127.0.0.1:8080/#/experiments/928276634314426691/runs/bdfe87ef17434a66a11474d5277ab477\n",
      "🧪 View experiment at: http://127.0.0.1:8080/#/experiments/928276634314426691\n"
     ]
    },
    {
     "name": "stderr",
     "output_type": "stream",
     "text": [
      "[I 2025-05-08 19:55:42,133] Trial 3 finished with value: 0.8161458163978155 and parameters: {'positive_class_weight': 61.03195783322261, 'classifier__n_estimators': 82, 'classifier__max_depth': 3, 'classifier__min_samples_split': 6, 'classifier__min_samples_leaf': 3, 'classifier__max_features': 'sqrt', 'classifier__bootstrap': True, 'threshold': 0.21000000000000002}. Best is trial 1 with value: 0.8161458163978155.\n"
     ]
    },
    {
     "name": "stdout",
     "output_type": "stream",
     "text": [
      "🏃 View run charming-stag-101 at: http://127.0.0.1:8080/#/experiments/928276634314426691/runs/f914065f9cd34ae39ab1415cebd3c404\n",
      "🧪 View experiment at: http://127.0.0.1:8080/#/experiments/928276634314426691\n"
     ]
    },
    {
     "name": "stderr",
     "output_type": "stream",
     "text": [
      "[I 2025-05-08 19:56:06,769] Trial 4 finished with value: 0.07660321404096289 and parameters: {'positive_class_weight': 5.170766842223841, 'classifier__n_estimators': 42, 'classifier__max_depth': 4, 'classifier__min_samples_split': 8, 'classifier__min_samples_leaf': 3, 'classifier__max_features': 'sqrt', 'classifier__bootstrap': True, 'threshold': 0.43000000000000005}. Best is trial 1 with value: 0.8161458163978155.\n"
     ]
    },
    {
     "name": "stdout",
     "output_type": "stream",
     "text": [
      "🏃 View run handsome-bass-501 at: http://127.0.0.1:8080/#/experiments/928276634314426691/runs/a4dd826bd3e44faeaf9b1b5afaf88e85\n",
      "🧪 View experiment at: http://127.0.0.1:8080/#/experiments/928276634314426691\n"
     ]
    },
    {
     "name": "stderr",
     "output_type": "stream",
     "text": [
      "[I 2025-05-08 19:56:29,526] Trial 5 finished with value: 0.8161492956215408 and parameters: {'positive_class_weight': 34.866310417896884, 'classifier__n_estimators': 20, 'classifier__max_depth': 8, 'classifier__min_samples_split': 10, 'classifier__min_samples_leaf': 1, 'classifier__max_features': 'sqrt', 'classifier__bootstrap': True, 'threshold': 0.29000000000000004}. Best is trial 5 with value: 0.8161492956215408.\n"
     ]
    },
    {
     "name": "stdout",
     "output_type": "stream",
     "text": [
      "🏃 View run loud-fox-28 at: http://127.0.0.1:8080/#/experiments/928276634314426691/runs/52697f126e5d46fba51e48cad4c26b08\n",
      "🧪 View experiment at: http://127.0.0.1:8080/#/experiments/928276634314426691\n"
     ]
    },
    {
     "name": "stderr",
     "output_type": "stream",
     "text": [
      "[I 2025-05-08 19:56:52,861] Trial 6 finished with value: 0.8161458163978155 and parameters: {'positive_class_weight': 49.068332026786294, 'classifier__n_estimators': 38, 'classifier__max_depth': 4, 'classifier__min_samples_split': 8, 'classifier__min_samples_leaf': 2, 'classifier__max_features': 'sqrt', 'classifier__bootstrap': True, 'threshold': 0.42000000000000004}. Best is trial 5 with value: 0.8161492956215408.\n"
     ]
    },
    {
     "name": "stdout",
     "output_type": "stream",
     "text": [
      "🏃 View run puzzled-moth-313 at: http://127.0.0.1:8080/#/experiments/928276634314426691/runs/dca82765562847ad8fa052c18e763044\n",
      "🧪 View experiment at: http://127.0.0.1:8080/#/experiments/928276634314426691\n"
     ]
    },
    {
     "name": "stderr",
     "output_type": "stream",
     "text": [
      "[I 2025-05-08 19:57:13,788] Trial 7 finished with value: 0.8161458163978155 and parameters: {'positive_class_weight': 82.10385761064667, 'classifier__n_estimators': 27, 'classifier__max_depth': 4, 'classifier__min_samples_split': 5, 'classifier__min_samples_leaf': 1, 'classifier__max_features': 'sqrt', 'classifier__bootstrap': True, 'threshold': 0.11}. Best is trial 5 with value: 0.8161492956215408.\n"
     ]
    },
    {
     "name": "stdout",
     "output_type": "stream",
     "text": [
      "🏃 View run shivering-crane-467 at: http://127.0.0.1:8080/#/experiments/928276634314426691/runs/a6d02e856616465cb7e25773b5dde3f0\n",
      "🧪 View experiment at: http://127.0.0.1:8080/#/experiments/928276634314426691\n"
     ]
    },
    {
     "name": "stderr",
     "output_type": "stream",
     "text": [
      "[I 2025-05-08 19:57:49,262] Trial 8 finished with value: 0.8161458163978155 and parameters: {'positive_class_weight': 48.99429853759385, 'classifier__n_estimators': 87, 'classifier__max_depth': 4, 'classifier__min_samples_split': 6, 'classifier__min_samples_leaf': 5, 'classifier__max_features': 'sqrt', 'classifier__bootstrap': True, 'threshold': 0.35}. Best is trial 5 with value: 0.8161492956215408.\n"
     ]
    },
    {
     "name": "stdout",
     "output_type": "stream",
     "text": [
      "🏃 View run welcoming-duck-24 at: http://127.0.0.1:8080/#/experiments/928276634314426691/runs/e9872aa17a064e8f935fd36daf037629\n",
      "🧪 View experiment at: http://127.0.0.1:8080/#/experiments/928276634314426691\n"
     ]
    },
    {
     "name": "stderr",
     "output_type": "stream",
     "text": [
      "[I 2025-05-08 19:58:14,653] Trial 9 finished with value: 0.8161458163978155 and parameters: {'positive_class_weight': 60.97804314091279, 'classifier__n_estimators': 36, 'classifier__max_depth': 5, 'classifier__min_samples_split': 10, 'classifier__min_samples_leaf': 2, 'classifier__max_features': 'sqrt', 'classifier__bootstrap': True, 'threshold': 0.18}. Best is trial 5 with value: 0.8161492956215408.\n"
     ]
    },
    {
     "name": "stdout",
     "output_type": "stream",
     "text": [
      "🏃 View run capable-gull-728 at: http://127.0.0.1:8080/#/experiments/928276634314426691/runs/0aaa4f8e5ce2411b914eab435dfe3c9e\n",
      "🧪 View experiment at: http://127.0.0.1:8080/#/experiments/928276634314426691\n"
     ]
    },
    {
     "name": "stderr",
     "output_type": "stream",
     "text": [
      "[I 2025-05-08 19:58:57,488] Trial 10 finished with value: 0.8161458163978155 and parameters: {'positive_class_weight': 28.003264075645333, 'classifier__n_estimators': 68, 'classifier__max_depth': 8, 'classifier__min_samples_split': 3, 'classifier__min_samples_leaf': 10, 'classifier__max_features': 'sqrt', 'classifier__bootstrap': True, 'threshold': 0.25}. Best is trial 5 with value: 0.8161492956215408.\n"
     ]
    },
    {
     "name": "stdout",
     "output_type": "stream",
     "text": [
      "🏃 View run upbeat-bass-95 at: http://127.0.0.1:8080/#/experiments/928276634314426691/runs/6d2e55a36e7441b8923549db4c9c7dfd\n",
      "🧪 View experiment at: http://127.0.0.1:8080/#/experiments/928276634314426691\n"
     ]
    },
    {
     "name": "stderr",
     "output_type": "stream",
     "text": [
      "[I 2025-05-08 19:59:36,650] Trial 11 finished with value: 0.8161461445661496 and parameters: {'positive_class_weight': 96.56686372144982, 'classifier__n_estimators': 65, 'classifier__max_depth': 7, 'classifier__min_samples_split': 2, 'classifier__min_samples_leaf': 8, 'classifier__max_features': 'sqrt', 'classifier__bootstrap': True, 'threshold': 0.49}. Best is trial 5 with value: 0.8161492956215408.\n"
     ]
    },
    {
     "name": "stdout",
     "output_type": "stream",
     "text": [
      "🏃 View run ambitious-eel-501 at: http://127.0.0.1:8080/#/experiments/928276634314426691/runs/2f44f4b224104432bb9c0ca30b9b4ed5\n",
      "🧪 View experiment at: http://127.0.0.1:8080/#/experiments/928276634314426691\n"
     ]
    },
    {
     "name": "stderr",
     "output_type": "stream",
     "text": [
      "[I 2025-05-08 20:00:33,153] Trial 12 finished with value: 0.8161581653718329 and parameters: {'positive_class_weight': 90.45923147432534, 'classifier__n_estimators': 98, 'classifier__max_depth': 8, 'classifier__min_samples_split': 4, 'classifier__min_samples_leaf': 8, 'classifier__max_features': 'sqrt', 'classifier__bootstrap': True, 'threshold': 0.5}. Best is trial 12 with value: 0.8161581653718329.\n"
     ]
    },
    {
     "name": "stdout",
     "output_type": "stream",
     "text": [
      "🏃 View run angry-roo-831 at: http://127.0.0.1:8080/#/experiments/928276634314426691/runs/b18cad891fe44c6f9be1adb5a78a0fb6\n",
      "🧪 View experiment at: http://127.0.0.1:8080/#/experiments/928276634314426691\n"
     ]
    },
    {
     "name": "stderr",
     "output_type": "stream",
     "text": [
      "[I 2025-05-08 20:01:34,107] Trial 13 finished with value: 0.8161463414687509 and parameters: {'positive_class_weight': 31.158802333849025, 'classifier__n_estimators': 99, 'classifier__max_depth': 8, 'classifier__min_samples_split': 4, 'classifier__min_samples_leaf': 6, 'classifier__max_features': 'sqrt', 'classifier__bootstrap': True, 'threshold': 0.29000000000000004}. Best is trial 12 with value: 0.8161581653718329.\n"
     ]
    },
    {
     "name": "stdout",
     "output_type": "stream",
     "text": [
      "🏃 View run bald-mare-214 at: http://127.0.0.1:8080/#/experiments/928276634314426691/runs/a5441bb7411949669a19aa1b0fe32a2b\n",
      "🧪 View experiment at: http://127.0.0.1:8080/#/experiments/928276634314426691\n"
     ]
    },
    {
     "name": "stderr",
     "output_type": "stream",
     "text": [
      "[I 2025-05-08 20:02:08,009] Trial 14 finished with value: 0.8161471291645398 and parameters: {'positive_class_weight': 33.6198299247642, 'classifier__n_estimators': 52, 'classifier__max_depth': 7, 'classifier__min_samples_split': 4, 'classifier__min_samples_leaf': 9, 'classifier__max_features': 'sqrt', 'classifier__bootstrap': True, 'threshold': 0.36}. Best is trial 12 with value: 0.8161581653718329.\n"
     ]
    },
    {
     "name": "stdout",
     "output_type": "stream",
     "text": [
      "🏃 View run inquisitive-gull-492 at: http://127.0.0.1:8080/#/experiments/928276634314426691/runs/0100abcc7fa040d58065c67809ec1e3d\n",
      "🧪 View experiment at: http://127.0.0.1:8080/#/experiments/928276634314426691\n"
     ]
    },
    {
     "name": "stderr",
     "output_type": "stream",
     "text": [
      "[I 2025-05-08 20:02:54,891] Trial 15 finished with value: 0.8161458163978155 and parameters: {'positive_class_weight': 96.71731497369088, 'classifier__n_estimators': 77, 'classifier__max_depth': 8, 'classifier__min_samples_split': 7, 'classifier__min_samples_leaf': 6, 'classifier__max_features': 'sqrt', 'classifier__bootstrap': True, 'threshold': 0.27}. Best is trial 12 with value: 0.8161581653718329.\n"
     ]
    },
    {
     "name": "stdout",
     "output_type": "stream",
     "text": [
      "🏃 View run rare-goat-534 at: http://127.0.0.1:8080/#/experiments/928276634314426691/runs/6c1ad2ceaf4c46c683cd95eddea6ff8d\n",
      "🧪 View experiment at: http://127.0.0.1:8080/#/experiments/928276634314426691\n"
     ]
    },
    {
     "name": "stderr",
     "output_type": "stream",
     "text": [
      "[I 2025-05-08 20:03:16,636] Trial 16 finished with value: 0.7719878603425414 and parameters: {'positive_class_weight': 17.929048319942567, 'classifier__n_estimators': 20, 'classifier__max_depth': 6, 'classifier__min_samples_split': 4, 'classifier__min_samples_leaf': 4, 'classifier__max_features': 'sqrt', 'classifier__bootstrap': True, 'threshold': 0.5}. Best is trial 12 with value: 0.8161581653718329.\n"
     ]
    },
    {
     "name": "stdout",
     "output_type": "stream",
     "text": [
      "🏃 View run wise-newt-873 at: http://127.0.0.1:8080/#/experiments/928276634314426691/runs/a704f0845c854d628d40a797dc59f2c0\n",
      "🧪 View experiment at: http://127.0.0.1:8080/#/experiments/928276634314426691\n"
     ]
    },
    {
     "name": "stderr",
     "output_type": "stream",
     "text": [
      "[I 2025-05-08 20:04:08,585] Trial 17 finished with value: 0.8161458163978155 and parameters: {'positive_class_weight': 78.88155412030787, 'classifier__n_estimators': 99, 'classifier__max_depth': 7, 'classifier__min_samples_split': 9, 'classifier__min_samples_leaf': 8, 'classifier__max_features': 'sqrt', 'classifier__bootstrap': True, 'threshold': 0.38}. Best is trial 12 with value: 0.8161581653718329.\n"
     ]
    },
    {
     "name": "stdout",
     "output_type": "stream",
     "text": [
      "🏃 View run gifted-bat-71 at: http://127.0.0.1:8080/#/experiments/928276634314426691/runs/ed56c78ecf2944f8ac0b019599af397c\n",
      "🧪 View experiment at: http://127.0.0.1:8080/#/experiments/928276634314426691\n"
     ]
    },
    {
     "name": "stderr",
     "output_type": "stream",
     "text": [
      "[I 2025-05-08 20:04:43,135] Trial 18 finished with value: 0.8161458163978155 and parameters: {'positive_class_weight': 41.586591421008684, 'classifier__n_estimators': 49, 'classifier__max_depth': 8, 'classifier__min_samples_split': 5, 'classifier__min_samples_leaf': 10, 'classifier__max_features': 'sqrt', 'classifier__bootstrap': True, 'threshold': 0.22}. Best is trial 12 with value: 0.8161581653718329.\n"
     ]
    },
    {
     "name": "stdout",
     "output_type": "stream",
     "text": [
      "🏃 View run dazzling-cub-699 at: http://127.0.0.1:8080/#/experiments/928276634314426691/runs/dbd143aee4c64ff3a4762839dfd0e301\n",
      "🧪 View experiment at: http://127.0.0.1:8080/#/experiments/928276634314426691\n"
     ]
    },
    {
     "name": "stderr",
     "output_type": "stream",
     "text": [
      "[I 2025-05-08 20:05:28,081] Trial 19 finished with value: 0.8161458163978155 and parameters: {'positive_class_weight': 82.32068131775918, 'classifier__n_estimators': 90, 'classifier__max_depth': 6, 'classifier__min_samples_split': 7, 'classifier__min_samples_leaf': 5, 'classifier__max_features': 'sqrt', 'classifier__bootstrap': True, 'threshold': 0.15000000000000002}. Best is trial 12 with value: 0.8161581653718329.\n"
     ]
    },
    {
     "name": "stdout",
     "output_type": "stream",
     "text": [
      "🏃 View run able-pig-352 at: http://127.0.0.1:8080/#/experiments/928276634314426691/runs/6e3e53e0d72947ba890a6bf2616b38f5\n",
      "🧪 View experiment at: http://127.0.0.1:8080/#/experiments/928276634314426691\n"
     ]
    },
    {
     "name": "stderr",
     "output_type": "stream",
     "text": [
      "[I 2025-05-08 20:06:13,391] Trial 20 finished with value: 0.8159844254006386 and parameters: {'positive_class_weight': 19.932251258564868, 'classifier__n_estimators': 70, 'classifier__max_depth': 8, 'classifier__min_samples_split': 3, 'classifier__min_samples_leaf': 7, 'classifier__max_features': 'sqrt', 'classifier__bootstrap': True, 'threshold': 0.31}. Best is trial 12 with value: 0.8161581653718329.\n"
     ]
    },
    {
     "name": "stdout",
     "output_type": "stream",
     "text": [
      "🏃 View run victorious-calf-747 at: http://127.0.0.1:8080/#/experiments/928276634314426691/runs/781c8474f084413abc895aa771c1b732\n",
      "🧪 View experiment at: http://127.0.0.1:8080/#/experiments/928276634314426691\n"
     ]
    },
    {
     "name": "stderr",
     "output_type": "stream",
     "text": [
      "[I 2025-05-08 20:06:47,775] Trial 21 finished with value: 0.8161480481874421 and parameters: {'positive_class_weight': 34.256851314307994, 'classifier__n_estimators': 53, 'classifier__max_depth': 7, 'classifier__min_samples_split': 4, 'classifier__min_samples_leaf': 9, 'classifier__max_features': 'sqrt', 'classifier__bootstrap': True, 'threshold': 0.37}. Best is trial 12 with value: 0.8161581653718329.\n"
     ]
    },
    {
     "name": "stdout",
     "output_type": "stream",
     "text": [
      "🏃 View run nosy-crane-331 at: http://127.0.0.1:8080/#/experiments/928276634314426691/runs/226fa5f9d5a546959a5336864b695a65\n",
      "🧪 View experiment at: http://127.0.0.1:8080/#/experiments/928276634314426691\n"
     ]
    },
    {
     "name": "stderr",
     "output_type": "stream",
     "text": [
      "[I 2025-05-08 20:07:19,226] Trial 22 finished with value: 0.8161085288173525 and parameters: {'positive_class_weight': 38.23873991512561, 'classifier__n_estimators': 45, 'classifier__max_depth': 7, 'classifier__min_samples_split': 5, 'classifier__min_samples_leaf': 9, 'classifier__max_features': 'sqrt', 'classifier__bootstrap': True, 'threshold': 0.39}. Best is trial 12 with value: 0.8161581653718329.\n"
     ]
    },
    {
     "name": "stdout",
     "output_type": "stream",
     "text": [
      "🏃 View run merciful-crane-926 at: http://127.0.0.1:8080/#/experiments/928276634314426691/runs/b7e7f65679fb41419c2a5b9b7cac73ac\n",
      "🧪 View experiment at: http://127.0.0.1:8080/#/experiments/928276634314426691\n"
     ]
    },
    {
     "name": "stderr",
     "output_type": "stream",
     "text": [
      "[I 2025-05-08 20:07:58,286] Trial 23 finished with value: 0.8156534009285407 and parameters: {'positive_class_weight': 17.692266763592613, 'classifier__n_estimators': 58, 'classifier__max_depth': 8, 'classifier__min_samples_split': 3, 'classifier__min_samples_leaf': 8, 'classifier__max_features': 'sqrt', 'classifier__bootstrap': True, 'threshold': 0.32}. Best is trial 12 with value: 0.8161581653718329.\n"
     ]
    },
    {
     "name": "stdout",
     "output_type": "stream",
     "text": [
      "🏃 View run capricious-pig-998 at: http://127.0.0.1:8080/#/experiments/928276634314426691/runs/ec9f9cccc0f3463d8c30d3e0f4c9a88e\n",
      "🧪 View experiment at: http://127.0.0.1:8080/#/experiments/928276634314426691\n"
     ]
    },
    {
     "name": "stderr",
     "output_type": "stream",
     "text": [
      "[I 2025-05-08 20:08:42,264] Trial 24 finished with value: 0.8161809437082757 and parameters: {'positive_class_weight': 40.87479728395347, 'classifier__n_estimators': 77, 'classifier__max_depth': 7, 'classifier__min_samples_split': 5, 'classifier__min_samples_leaf': 9, 'classifier__max_features': 'sqrt', 'classifier__bootstrap': True, 'threshold': 0.45999999999999996}. Best is trial 24 with value: 0.8161809437082757.\n"
     ]
    },
    {
     "name": "stdout",
     "output_type": "stream",
     "text": [
      "🏃 View run bold-sow-130 at: http://127.0.0.1:8080/#/experiments/928276634314426691/runs/68c41013d19b488595e2cc1629a12ffd\n",
      "🧪 View experiment at: http://127.0.0.1:8080/#/experiments/928276634314426691\n"
     ]
    },
    {
     "name": "stderr",
     "output_type": "stream",
     "text": [
      "[I 2025-05-08 20:09:28,814] Trial 25 finished with value: 0.8159628173025671 and parameters: {'positive_class_weight': 54.34692874414321, 'classifier__n_estimators': 76, 'classifier__max_depth': 8, 'classifier__min_samples_split': 7, 'classifier__min_samples_leaf': 7, 'classifier__max_features': 'sqrt', 'classifier__bootstrap': True, 'threshold': 0.48}. Best is trial 24 with value: 0.8161809437082757.\n"
     ]
    },
    {
     "name": "stdout",
     "output_type": "stream",
     "text": [
      "🏃 View run bold-crab-275 at: http://127.0.0.1:8080/#/experiments/928276634314426691/runs/29cb1222ca40421887616aabcaa2e5ba\n",
      "🧪 View experiment at: http://127.0.0.1:8080/#/experiments/928276634314426691\n"
     ]
    },
    {
     "name": "stderr",
     "output_type": "stream",
     "text": [
      "[I 2025-05-08 20:10:18,250] Trial 26 finished with value: 0.8161682298360159 and parameters: {'positive_class_weight': 42.67633887031423, 'classifier__n_estimators': 92, 'classifier__max_depth': 7, 'classifier__min_samples_split': 5, 'classifier__min_samples_leaf': 10, 'classifier__max_features': 'sqrt', 'classifier__bootstrap': True, 'threshold': 0.45999999999999996}. Best is trial 24 with value: 0.8161809437082757.\n"
     ]
    },
    {
     "name": "stdout",
     "output_type": "stream",
     "text": [
      "🏃 View run capricious-seal-2 at: http://127.0.0.1:8080/#/experiments/928276634314426691/runs/185e3dd9f6ea434e90e045891eeed677\n",
      "🧪 View experiment at: http://127.0.0.1:8080/#/experiments/928276634314426691\n"
     ]
    },
    {
     "name": "stderr",
     "output_type": "stream",
     "text": [
      "[I 2025-05-08 20:11:03,713] Trial 27 finished with value: 0.8161462758372184 and parameters: {'positive_class_weight': 45.85947510997665, 'classifier__n_estimators': 92, 'classifier__max_depth': 6, 'classifier__min_samples_split': 5, 'classifier__min_samples_leaf': 10, 'classifier__max_features': 'sqrt', 'classifier__bootstrap': True, 'threshold': 0.45999999999999996}. Best is trial 24 with value: 0.8161809437082757.\n"
     ]
    },
    {
     "name": "stdout",
     "output_type": "stream",
     "text": [
      "🏃 View run traveling-goose-957 at: http://127.0.0.1:8080/#/experiments/928276634314426691/runs/e0c3b4f651cc4ce6bedb0a761ca4b9ee\n",
      "🧪 View experiment at: http://127.0.0.1:8080/#/experiments/928276634314426691\n"
     ]
    },
    {
     "name": "stderr",
     "output_type": "stream",
     "text": [
      "[I 2025-05-08 20:11:49,611] Trial 28 finished with value: 0.8161466040429092 and parameters: {'positive_class_weight': 74.29760649090755, 'classifier__n_estimators': 82, 'classifier__max_depth': 7, 'classifier__min_samples_split': 6, 'classifier__min_samples_leaf': 9, 'classifier__max_features': 'sqrt', 'classifier__bootstrap': True, 'threshold': 0.45999999999999996}. Best is trial 24 with value: 0.8161809437082757.\n"
     ]
    },
    {
     "name": "stdout",
     "output_type": "stream",
     "text": [
      "🏃 View run upset-mare-466 at: http://127.0.0.1:8080/#/experiments/928276634314426691/runs/054438f47c494f40abfae14f7fad0a86\n",
      "🧪 View experiment at: http://127.0.0.1:8080/#/experiments/928276634314426691\n"
     ]
    },
    {
     "name": "stderr",
     "output_type": "stream",
     "text": [
      "[I 2025-05-08 20:12:40,033] Trial 29 finished with value: 0.8161458163978155 and parameters: {'positive_class_weight': 87.44184469478907, 'classifier__n_estimators': 94, 'classifier__max_depth': 7, 'classifier__min_samples_split': 5, 'classifier__min_samples_leaf': 10, 'classifier__max_features': 'sqrt', 'classifier__bootstrap': True, 'threshold': 0.4}. Best is trial 24 with value: 0.8161809437082757.\n"
     ]
    },
    {
     "name": "stdout",
     "output_type": "stream",
     "text": [
      "🏃 View run funny-ape-717 at: http://127.0.0.1:8080/#/experiments/928276634314426691/runs/8abcf86da94d4b0ea2b0ea96aba1792e\n",
      "🧪 View experiment at: http://127.0.0.1:8080/#/experiments/928276634314426691\n"
     ]
    },
    {
     "name": "stderr",
     "output_type": "stream",
     "text": [
      "/Users/jeremy/code/ocr/p7_pret_a_depenser/venv/lib/python3.12/site-packages/sklearn/metrics/_classification.py:1565: UndefinedMetricWarning: Precision is ill-defined and being set to 0.0 due to no predicted samples. Use `zero_division` parameter to control this behavior.\n",
      "  _warn_prf(average, modifier, f\"{metric.capitalize()} is\", len(result))\n",
      "/Users/jeremy/code/ocr/p7_pret_a_depenser/venv/lib/python3.12/site-packages/sklearn/metrics/_classification.py:1565: UndefinedMetricWarning: Precision is ill-defined and being set to 0.0 due to no predicted samples. Use `zero_division` parameter to control this behavior.\n",
      "  _warn_prf(average, modifier, f\"{metric.capitalize()} is\", len(result))\n",
      "/Users/jeremy/code/ocr/p7_pret_a_depenser/venv/lib/python3.12/site-packages/sklearn/metrics/_classification.py:1565: UndefinedMetricWarning: Precision is ill-defined and being set to 0.0 in labels with no predicted samples. Use `zero_division` parameter to control this behavior.\n",
      "  _warn_prf(average, modifier, f\"{metric.capitalize()} is\", len(result))\n",
      "/Users/jeremy/code/ocr/p7_pret_a_depenser/venv/lib/python3.12/site-packages/sklearn/metrics/_classification.py:1565: UndefinedMetricWarning: Precision is ill-defined and being set to 0.0 in labels with no predicted samples. Use `zero_division` parameter to control this behavior.\n",
      "  _warn_prf(average, modifier, f\"{metric.capitalize()} is\", len(result))\n",
      "/Users/jeremy/code/ocr/p7_pret_a_depenser/venv/lib/python3.12/site-packages/sklearn/metrics/_classification.py:1565: UndefinedMetricWarning: Precision is ill-defined and being set to 0.0 in labels with no predicted samples. Use `zero_division` parameter to control this behavior.\n",
      "  _warn_prf(average, modifier, f\"{metric.capitalize()} is\", len(result))\n"
     ]
    },
    {
     "name": "stdout",
     "output_type": "stream",
     "text": [
      "🏃 View run RandomForestClassifier_v2__application_train_feat_engineer_managed_outliers_mising_cols__study_run at: http://127.0.0.1:8080/#/experiments/928276634314426691/runs/eb40959099a04b92a6e71690f586f362\n",
      "🧪 View experiment at: http://127.0.0.1:8080/#/experiments/928276634314426691\n"
     ]
    }
   ],
   "source": [
    "data_feat_engineer = data.copy()\n",
    "\n",
    "data_feat_engineer[\"CREDIT_INCOME_PERCENT\"] = (\n",
    "    data_feat_engineer[\"AMT_CREDIT\"] / data_feat_engineer[\"AMT_INCOME_TOTAL\"]\n",
    ")\n",
    "data_feat_engineer[\"ANNUITY_INCOME_PERCENT\"] = (\n",
    "    data_feat_engineer[\"AMT_ANNUITY\"] / data_feat_engineer[\"AMT_INCOME_TOTAL\"]\n",
    ")\n",
    "data_feat_engineer[\"CREDIT_TERM\"] = (\n",
    "    data_feat_engineer[\"AMT_ANNUITY\"] / data_feat_engineer[\"AMT_CREDIT\"]\n",
    ")\n",
    "data_feat_engineer[\"DAYS_EMPLOYED_PERCENT\"] = (\n",
    "    data_feat_engineer[\"DAYS_EMPLOYED\"] / data_feat_engineer[\"DAYS_BIRTH\"]\n",
    ")\n",
    "\n",
    "X_train, X_test, y_train, y_test, preproc = prepare_data(\n",
    "    data_feat_engineer,\n",
    "    target_column=\"TARGET\",\n",
    "    categorical_strategy=\"most_frequent\",\n",
    "    outlier_strategy=\"replace_with_nan\",\n",
    "    outlier_threshold=0.05,\n",
    "    test_size=0.2,\n",
    "    random_state=42,\n",
    "    encode_categoricals=True,\n",
    "    drop_missing_columns=True,\n",
    "    missing_col_threshold=0.5,\n",
    "    polynomial_features=False,\n",
    ")\n",
    "\n",
    "\n",
    "run_experiment(\n",
    "    model_name=\"RandomForestClassifier_v2\",\n",
    "    model_class=RandomForestClassifier,\n",
    "    param_space_fn=rf_param_space,\n",
    "    dataset_name=\"application_train_feat_engineer_managed_outliers_mising_cols\",\n",
    "    X_train=X_train,\n",
    "    X_test=X_test,\n",
    "    y_train=y_train,\n",
    "    y_test=y_test,\n",
    "    preprocessor=preproc,\n",
    "    cv=5,\n",
    "    n_trials=30,\n",
    ")\n"
   ]
  },
  {
   "cell_type": "markdown",
   "id": "141d7f26",
   "metadata": {},
   "source": [
    "## LightGBM"
   ]
  },
  {
   "cell_type": "code",
   "execution_count": 32,
   "id": "3e857293",
   "metadata": {},
   "outputs": [],
   "source": [
    "def lightgbm_param_space(\n",
    "    trial: optuna.trial.Trial,\n",
    "    class_weight_range: Tuple[float, float],\n",
    "    n_estimators_range: Tuple[int, int],\n",
    "    learning_rate_range: Tuple[float, float],\n",
    "    num_leaves_range: Tuple[int, int],\n",
    "    max_depth_range: Tuple[int, int],\n",
    "    min_child_samples_range: Tuple[int, int],\n",
    "    subsample_range: Tuple[float, float],\n",
    "    colsample_bytree_range: Tuple[float, float],\n",
    "    reg_alpha_range: Tuple[float, float],\n",
    "    reg_lambda_range: Tuple[float, float],\n",
    ") -> Dict[str, Any]:\n",
    "    \"\"\"\n",
    "    Suggests a hyperparameter configuration for an LGBMClassifier using Optuna.\n",
    "\n",
    "    Args:\n",
    "        trial: Optuna trial object used to sample hyperparameters.\n",
    "        All other arguments define the range of hyperparameters.\n",
    "\n",
    "    Returns:\n",
    "        A dictionary of hyperparameters for a scikit-learn Pipeline.\n",
    "    \"\"\"\n",
    "    pos_weight = trial.suggest_float(\n",
    "        \"positive_class_weight\", *class_weight_range\n",
    "    )\n",
    "    class_weight = {0: 1, 1: pos_weight}\n",
    "\n",
    "    params = {\n",
    "        \"classifier__n_estimators\": trial.suggest_int(\n",
    "            \"classifier__n_estimators\", *n_estimators_range\n",
    "        ),\n",
    "        \"classifier__learning_rate\": trial.suggest_float(\n",
    "            \"classifier__learning_rate\", *learning_rate_range, log=True\n",
    "        ),\n",
    "        \"classifier__num_leaves\": trial.suggest_int(\n",
    "            \"classifier__num_leaves\", *num_leaves_range\n",
    "        ),\n",
    "        \"classifier__max_depth\": trial.suggest_int(\n",
    "            \"classifier__max_depth\", *max_depth_range\n",
    "        ),\n",
    "        \"classifier__min_child_samples\": trial.suggest_int(\n",
    "            \"classifier__min_child_samples\", *min_child_samples_range\n",
    "        ),\n",
    "        \"classifier__subsample\": trial.suggest_float(\n",
    "            \"classifier__subsample\", *subsample_range\n",
    "        ),\n",
    "        \"classifier__colsample_bytree\": trial.suggest_float(\n",
    "            \"classifier__colsample_bytree\", *colsample_bytree_range\n",
    "        ),\n",
    "        \"classifier__reg_alpha\": trial.suggest_float(\n",
    "            \"classifier__reg_alpha\", *reg_alpha_range\n",
    "        ),\n",
    "        \"classifier__reg_lambda\": trial.suggest_float(\n",
    "            \"classifier__reg_lambda\", *reg_lambda_range\n",
    "        ),\n",
    "        \"classifier__class_weight\": class_weight,\n",
    "    }\n",
    "    return params\n",
    "\n",
    "\n",
    "lgb_param_space = partial(\n",
    "    lightgbm_param_space,\n",
    "    class_weight_range=(1, 100),\n",
    "    n_estimators_range=(50, 150),\n",
    "    learning_rate_range=(0.01, 0.2),\n",
    "    num_leaves_range=(20, 50),\n",
    "    max_depth_range=(3, 6),\n",
    "    min_child_samples_range=(10, 50),\n",
    "    subsample_range=(0.6, 1.0),\n",
    "    colsample_bytree_range=(0.6, 1.0),\n",
    "    reg_alpha_range=(0.0, 1.0),\n",
    "    reg_lambda_range=(0.0, 1.0),\n",
    ")\n"
   ]
  },
  {
   "cell_type": "code",
   "execution_count": 36,
   "id": "270f68ff",
   "metadata": {},
   "outputs": [
    {
     "name": "stdout",
     "output_type": "stream",
     "text": [
      "🧹 Dropping 49 column(s) with missing ratio ≥ 0.4:\n",
      " - OWN_CAR_AGE\n",
      " - EXT_SOURCE_1\n",
      " - APARTMENTS_AVG\n",
      " - BASEMENTAREA_AVG\n",
      " - YEARS_BEGINEXPLUATATION_AVG\n",
      " - YEARS_BUILD_AVG\n",
      " - COMMONAREA_AVG\n",
      " - ELEVATORS_AVG\n",
      " - ENTRANCES_AVG\n",
      " - FLOORSMAX_AVG\n",
      " - FLOORSMIN_AVG\n",
      " - LANDAREA_AVG\n",
      " - LIVINGAPARTMENTS_AVG\n",
      " - LIVINGAREA_AVG\n",
      " - NONLIVINGAPARTMENTS_AVG\n",
      " - NONLIVINGAREA_AVG\n",
      " - APARTMENTS_MODE\n",
      " - BASEMENTAREA_MODE\n",
      " - YEARS_BEGINEXPLUATATION_MODE\n",
      " - YEARS_BUILD_MODE\n",
      " - COMMONAREA_MODE\n",
      " - ELEVATORS_MODE\n",
      " - ENTRANCES_MODE\n",
      " - FLOORSMAX_MODE\n",
      " - FLOORSMIN_MODE\n",
      " - LANDAREA_MODE\n",
      " - LIVINGAPARTMENTS_MODE\n",
      " - LIVINGAREA_MODE\n",
      " - NONLIVINGAPARTMENTS_MODE\n",
      " - NONLIVINGAREA_MODE\n",
      " - APARTMENTS_MEDI\n",
      " - BASEMENTAREA_MEDI\n",
      " - YEARS_BEGINEXPLUATATION_MEDI\n",
      " - YEARS_BUILD_MEDI\n",
      " - COMMONAREA_MEDI\n",
      " - ELEVATORS_MEDI\n",
      " - ENTRANCES_MEDI\n",
      " - FLOORSMAX_MEDI\n",
      " - FLOORSMIN_MEDI\n",
      " - LANDAREA_MEDI\n",
      " - LIVINGAPARTMENTS_MEDI\n",
      " - LIVINGAREA_MEDI\n",
      " - NONLIVINGAPARTMENTS_MEDI\n",
      " - NONLIVINGAREA_MEDI\n",
      " - FONDKAPREMONT_MODE\n",
      " - HOUSETYPE_MODE\n",
      " - TOTALAREA_MODE\n",
      " - WALLSMATERIAL_MODE\n",
      " - EMERGENCYSTATE_MODE\n",
      "Found 60 numerical features\n",
      "Found 3 binary features\n",
      "Found 9 categorical features\n"
     ]
    },
    {
     "name": "stderr",
     "output_type": "stream",
     "text": [
      "2025/05/08 23:52:14 INFO mlflow.tracking.fluent: Experiment with name 'LGBMClassifier_v2' does not exist. Creating a new experiment.\n",
      "[I 2025-05-08 23:52:14,208] A new study created in memory with name: no-name-0959e83b-ea37-4f12-9c5d-71b04e02a132\n"
     ]
    },
    {
     "ename": "",
     "evalue": "",
     "output_type": "error",
     "traceback": [
      "\u001b[1;31mThe Kernel crashed while executing code in the current cell or a previous cell. \n",
      "\u001b[1;31mPlease review the code in the cell(s) to identify a possible cause of the failure. \n",
      "\u001b[1;31mClick <a href='https://aka.ms/vscodeJupyterKernelCrash'>here</a> for more info. \n",
      "\u001b[1;31mView Jupyter <a href='command:jupyter.viewOutput'>log</a> for further details."
     ]
    }
   ],
   "source": [
    "X_train, X_test, y_train, y_test, preproc = prepare_data(\n",
    "    data,\n",
    "    target_column=\"TARGET\",\n",
    "    categorical_strategy=\"most_frequent\",\n",
    "    outlier_strategy=\"replace_with_nan\",\n",
    "    outlier_threshold=0.05,\n",
    "    test_size=0.2,\n",
    "    random_state=42,\n",
    "    encode_categoricals=True,\n",
    "    drop_missing_columns=True,\n",
    "    missing_col_threshold=0.4,\n",
    "    polynomial_features=True,\n",
    ")\n",
    "\n",
    "\n",
    "run_experiment(\n",
    "    model_name=\"LGBMClassifier_v2\",\n",
    "    model_class=lgb.LGBMClassifier,\n",
    "    param_space_fn=lgb_param_space,\n",
    "    dataset_name=\"application_train_managed_outliers_mising_cols\",\n",
    "    X_train=X_train,\n",
    "    X_test=X_test,\n",
    "    y_train=y_train,\n",
    "    y_test=y_test,\n",
    "    preprocessor=preproc,\n",
    "    cv=5,\n",
    "    n_trials=10,\n",
    ")\n"
   ]
  },
  {
   "cell_type": "code",
   "execution_count": 31,
   "id": "bf4eb7ee",
   "metadata": {
    "scrolled": true
   },
   "outputs": [],
   "source": [
    "# X_train, X_test, y_train, y_test, preproc = prepare_data(\n",
    "#     data[\n",
    "#         [\"EXT_SOURCE_1\", \"EXT_SOURCE_2\", \"EXT_SOURCE_3\", \"DAYS_BIRTH\", \"TARGET\"]\n",
    "#     ],\n",
    "#     target_column=\"TARGET\",\n",
    "#     categorical_strategy=\"most_frequent\",\n",
    "#     outlier_strategy=\"replace_with_nan\",\n",
    "#     outlier_threshold=0.05,\n",
    "#     test_size=0.2,\n",
    "#     random_state=42,\n",
    "#     encode_categoricals=True,\n",
    "#     drop_missing_columns=True,\n",
    "#     missing_col_threshold=0.4,\n",
    "#     polynomial_features=True,\n",
    "# )\n",
    "\n",
    "\n",
    "# run_experiment(\n",
    "#     model_name=\"LGBMClassifier\",\n",
    "#     model_class=lgb.LGBMClassifier,\n",
    "#     param_space_fn=lgb_param_space,\n",
    "#     dataset_name=\"application_train_poly_managed_outliers_mising_cols\",\n",
    "#     X_train=X_train,\n",
    "#     X_test=X_test,\n",
    "#     y_train=y_train,\n",
    "#     y_test=y_test,\n",
    "#     preprocessor=preproc,\n",
    "#     cv=5,\n",
    "#     n_trials=30,\n",
    "# )\n"
   ]
  }
 ],
 "metadata": {
  "kernelspec": {
   "display_name": "venv",
   "language": "python",
   "name": "python3"
  },
  "language_info": {
   "codemirror_mode": {
    "name": "ipython",
    "version": 3
   },
   "file_extension": ".py",
   "mimetype": "text/x-python",
   "name": "python",
   "nbconvert_exporter": "python",
   "pygments_lexer": "ipython3",
   "version": "3.12.3"
  }
 },
 "nbformat": 4,
 "nbformat_minor": 5
}
